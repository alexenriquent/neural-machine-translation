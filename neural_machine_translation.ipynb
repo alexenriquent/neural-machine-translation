{
  "cells": [
    {
      "cell_type": "markdown",
      "metadata": {
        "id": "AjDfOC1t4JXU"
      },
      "source": [
        "# Machine Translation with a Transformer\n",
        "The Transformer was originally proposed in [\"Attention is all you need\"](https://arxiv.org/abs/1706.03762) by Vaswani et al. (2017). This project focuses on creating and training a Transformer model for translating one language to another. Its sequence-to-sequence encoder-decoder architecture is similar to that of the that encoder-decoder RNN model. The main difference is that the recurrent layers are replaced with self-attention layers, which allows the model to easily transmit information across the input sequences.\n",
        "\n",
        "This notebook mostly follows along with [Neural machine translation with a Transformer and Keras](https://www.tensorflow.org/text/tutorials/transformer)."
      ]
    },
    {
      "cell_type": "markdown",
      "metadata": {
        "id": "a-v7F56c5ySn"
      },
      "source": [
        "## Essential Packages\n",
        "Let's start by installing the most recent version of Tensorflow along with installing TensorFlow Datasets for loading the dataset and TensorFlow Text for text preprocessing."
      ]
    },
    {
      "cell_type": "code",
      "execution_count": 1,
      "metadata": {
        "colab": {
          "base_uri": "https://localhost:8080/"
        },
        "id": "M-E1wjnY5erF",
        "outputId": "76d5df39-068b-4d72-82ca-373f6a2bf6cd"
      },
      "outputs": [
        {
          "output_type": "stream",
          "name": "stdout",
          "text": [
            "Reading package lists... Done\n",
            "Building dependency tree       \n",
            "Reading state information... Done\n",
            "The following package was automatically installed and is no longer required:\n",
            "  libnvidia-common-460\n",
            "Use 'apt autoremove' to remove it.\n",
            "The following packages will be REMOVED:\n",
            "  libcudnn8-dev\n",
            "The following held packages will be changed:\n",
            "  libcudnn8\n",
            "The following packages will be DOWNGRADED:\n",
            "  libcudnn8\n",
            "0 upgraded, 0 newly installed, 1 downgraded, 1 to remove and 3 not upgraded.\n",
            "Need to get 430 MB of archives.\n",
            "After this operation, 1,392 MB disk space will be freed.\n",
            "Get:1 https://developer.download.nvidia.com/compute/cuda/repos/ubuntu1804/x86_64  libcudnn8 8.1.0.77-1+cuda11.2 [430 MB]\n",
            "Fetched 430 MB in 9s (48.6 MB/s)\n",
            "(Reading database ... 123942 files and directories currently installed.)\n",
            "Removing libcudnn8-dev (8.1.1.33-1+cuda11.2) ...\n",
            "update-alternatives: removing manually selected alternative - switching libcudnn to auto mode\n",
            "\u001b[1mdpkg:\u001b[0m \u001b[1;33mwarning:\u001b[0m downgrading libcudnn8 from 8.1.1.33-1+cuda11.2 to 8.1.0.77-1+cuda11.2\n",
            "(Reading database ... 123919 files and directories currently installed.)\n",
            "Preparing to unpack .../libcudnn8_8.1.0.77-1+cuda11.2_amd64.deb ...\n",
            "Unpacking libcudnn8 (8.1.0.77-1+cuda11.2) over (8.1.1.33-1+cuda11.2) ...\n",
            "Setting up libcudnn8 (8.1.0.77-1+cuda11.2) ...\n",
            "\u001b[33mWARNING: Skipping tensorflow-text as it is not installed.\u001b[0m\n",
            "\u001b[K     |████████████████████████████████| 5.9 MB 5.1 MB/s \n",
            "\u001b[K     |████████████████████████████████| 578.0 MB 13 kB/s \n",
            "\u001b[K     |████████████████████████████████| 5.9 MB 44.8 MB/s \n",
            "\u001b[K     |████████████████████████████████| 1.7 MB 39.4 MB/s \n",
            "\u001b[K     |████████████████████████████████| 438 kB 51.2 MB/s \n",
            "\u001b[?25h"
          ]
        }
      ],
      "source": [
        "!apt install --allow-change-held-packages libcudnn8=8.1.0.77-1+cuda11.2\n",
        "!pip uninstall -y -q tensorflow keras tensorflow-estimator tensorflow-text\n",
        "!pip install -q tensorflow_datasets\n",
        "!pip install -q -U tensorflow-text tensorflow"
      ]
    },
    {
      "cell_type": "markdown",
      "metadata": {
        "id": "cceBeG8Z-OsQ"
      },
      "source": [
        "Import essential Python packages."
      ]
    },
    {
      "cell_type": "code",
      "execution_count": 2,
      "metadata": {
        "id": "9dxCdTWO9gcr"
      },
      "outputs": [],
      "source": [
        "import collections\n",
        "import os\n",
        "import pathlib\n",
        "import re\n",
        "import string\n",
        "import sys\n",
        "import tempfile\n",
        "import time\n",
        "import logging\n",
        "\n",
        "import numpy as np\n",
        "import tensorflow as tf\n",
        "import tensorflow_text as text\n",
        "import tensorflow_datasets as tfds\n",
        "import matplotlib.pyplot as plt\n",
        "\n",
        "from tensorflow_text.tools.wordpiece_vocab import bert_vocab_from_dataset as bert_vocab"
      ]
    },
    {
      "cell_type": "markdown",
      "metadata": {
        "id": "HCssQQUN_G3j"
      },
      "source": [
        "## Data Preparation\n",
        "Download the Russian-English translation dataset from the TED Talks Open Translation Project. This particular dataset contains approximately 208,106 training and 4,805 validation examples."
      ]
    },
    {
      "cell_type": "code",
      "execution_count": 3,
      "metadata": {
        "id": "AQYZO11F_FFQ",
        "colab": {
          "base_uri": "https://localhost:8080/",
          "height": 169,
          "referenced_widgets": [
            "94201702c5b64c67a762f1cb8fe5ea26",
            "fc877531f9ac4ea984ad74a694e4fbb4",
            "4d174f0239a942e596e3abfb75d2b34e",
            "415ee98ab6ef4111bff3087b17a318c4",
            "402fbdf4acbf48378e70d9922cf1b973",
            "33fb3cabf4484645ae35788709daee67",
            "7438db0464834292be170b8dc96b5cbc",
            "66584a1417a44500bb507317debae1d0",
            "464a66fb1ab64922a4306a0e10033b3f",
            "67b31044fb96492fa78273dfe0c5ca05",
            "d09d75085537417cbfbab6b4c894e988",
            "41ee35f49d064643b195ab465387804a",
            "40e1c9b13e3a4a0e9dd1481143b9879e",
            "0124d8c3926746b2a5f079892a42010e",
            "05606b77aa5e4c6b8b1c016d8756d7a1",
            "2f2159f66dbb46a1b2d8bac89cc56578",
            "82360c4df3554b768ce4e94e9d214d53",
            "f8b77e5af611426ea9502c671f0a11a4",
            "bf44716f78634dc6bcc4034a7d5a3744",
            "f849dfb80824430abe74f95f34c6d159",
            "351277b94f8541a5bcdcb69abf397d5a",
            "8dfaf89fe1744dd898cca836f6cdf3fb",
            "3449467f4da843a788240bf31bed93e2",
            "0c038971e74b4010b14ed14317a8c769",
            "4d9eae5015d44839a5a3ced175a681ad",
            "3b8d8945d7244f6dbb4b0caf68a60dba",
            "6f1370dc722b4dd981c2736c70473297",
            "8dce58a316a44c1ba6f3c1e5f886f2b7",
            "7ce249ab3401440fa3e4acd4ebac183c",
            "eb6532abdfea41a2ad9fd4fcafec9ecb",
            "517a70afc34549d7a778351e9869cd0c",
            "55ba011433c1475f8c7ba05e0bb3fa6d",
            "90981a83d36c4f7188ab96467abd0ad8",
            "4fc72c2e9b71466d9dc335562106c0bc",
            "c82e9163cc9e42d8b6102d04140ac927",
            "31681ad1454b4d879c8c80b463a94f83",
            "d23c5f8381464aa6af5834260b5e84cb",
            "b30d971e2072400b8c296c6e22c863de",
            "d5efafd7ce6048f089be700bed5d462a",
            "9a3aaf93290440ce8f46365eb4c3ba0e",
            "f7dec92424c5463ea0f913613d7b62d2",
            "66cdc61465aa43d9a9e85cafa9b5338c",
            "c0ab95d3d2ad40d7a76c381fa76b1789",
            "2fca3d367fc94f1b9750a80636eb4b13",
            "d1b07964f66f47a68bd83b41a4ea028a",
            "2cb4701b4b9c492cbcf728bbb5605ee5",
            "2d8c2d5b060e4e38b24ecd061f8a06b9",
            "f9bd28bf3bf048b89b4ef8df75dc76b6",
            "e79e904d5bd447bf827dae4f82d627e2",
            "38c184e2d58f4902ba9f0418622087f5",
            "e8e40bb3c5944af0bb39c2069ea962c5",
            "e3d065b4c8a34a9fa5214641b90d71c8",
            "cc523e38014649e6a1ab87a93b3c117b",
            "c73414cb434548759c0ff9eb31bdd3da",
            "bf60a271cc3e4ded8dc662f739453fb0",
            "a43b17d8903242209cc0a9384130da70",
            "c23963926f4446abaa4a1142d7372eac",
            "f14dad62ee314b669bfbfa4bf461a531",
            "cc0075964e1943b8a7c71c7e74f7fe24",
            "f5f52b66917e49a19bb39291501a5180",
            "7c543b5ed2ff4e4d94a2da6808ade2ea",
            "b3a02893af5247adb74952a8fdde6732",
            "957079bcdd9a43dfbc63a181b7f9d56c",
            "39f6aa857d994628ac0eea711222ece1",
            "8fff7b3ea35a43d392399be6502c85e3",
            "cde1320e13514dbfaf782d97a5ce6ee5",
            "80e6429b3f5345fdacda3475ee2d3fc3",
            "b1d7e87707304ef5806659e677cd13d5",
            "b90ba0e33cdc4cb88e36931460ae44e4",
            "5b289664a52f4b04b280e0e383c40476",
            "21f5f390310e4af49e9dcaf8312c234b",
            "021b048d5e2349f9bdc0e55d58efe6f3",
            "0c0ab81919be42f98b2bc5e7fe3fa2c9",
            "c9ad6d2bd4f14e768536f27d5f9b5bc6",
            "421a37ab04964b49846425b94c1508d4",
            "2c43f80e8bac472887a32b4ecb78e629",
            "4f2fbb02d455427c8265445f068488dc",
            "b7602561774d4ba6ac6a1390bf9253f8",
            "5df331542c484a7b94ffce4f128493bb",
            "b08035d3878d46a1904e159a603cbdcc",
            "5bce383a3a444f6db6c0120f3b272698",
            "f5b04208598240dd8fa23334ebee66a6",
            "a89d4139239b45ee8f4734f4cd473b1b",
            "91bd886c1b4541048d0b7bd6c4f299a3",
            "b85ae563bf7840b1aa97f374964f4afd",
            "df400421a88047e385dd7efd06564fcf",
            "4ffa3405bcc040d3949455576bd9bcbb",
            "70504ca654cc44bdacc4f8e2cd0b3fea",
            "cbbab0a4373a49acaa355291911b7620",
            "492a127b83454d7f89ce1cf487d552b4",
            "e5ccefa41da0404f8cb75a003a27c1b8",
            "d65cc5d845024da59f435377f7973aac",
            "b0b88d924e8847f7833a6dd09df6ac83",
            "f0d6808c52b948a990020e72b243fb4e",
            "481e9df5dd944c1f85c7cf04b9adc2a5",
            "850b6a85053b4e879e70b4351af8195b",
            "db1f6fb4ace5422bb54048c6b10f15f2",
            "9491a51116d64233a1ebde22caa28b99",
            "aeabe3f4c55e4b9ea547251015aafbbd",
            "9e16ec9722224e66b30ab847f5ded6d4",
            "dc2c266b84d245f9beb2aec802c542e0",
            "b402aa89067b44a5b888eb845c68296c",
            "fc5ddab233294a369c3b12e5b18c267f",
            "e56a88b3434f4beba4370f3792bccf39",
            "cf34e8fa7e29406d840abc6fe13b70e9",
            "cd8f874a553443829cdf42217dc6935d",
            "60b7e1a6ba074f3bb98abb181a92ff18",
            "db0eb77d857f46c3b8d1fcc7871deedd",
            "6b83e1f93929435695ac0044ece77bbb",
            "320cbbcd99724bd48a3b82bbb3d681b0"
          ]
        },
        "outputId": "fd72fd55-de17-4cb6-87b3-c07074e80c84"
      },
      "outputs": [
        {
          "output_type": "stream",
          "name": "stdout",
          "text": [
            "Downloading and preparing dataset 124.94 MiB (download: 124.94 MiB, generated: Unknown size, total: 124.94 MiB) to ~/tensorflow_datasets/ted_hrlr_translate/ru_to_en/1.0.0...\n"
          ]
        },
        {
          "output_type": "display_data",
          "data": {
            "text/plain": [
              "Dl Completed...: 0 url [00:00, ? url/s]"
            ],
            "application/vnd.jupyter.widget-view+json": {
              "version_major": 2,
              "version_minor": 0,
              "model_id": "94201702c5b64c67a762f1cb8fe5ea26"
            }
          },
          "metadata": {}
        },
        {
          "output_type": "display_data",
          "data": {
            "text/plain": [
              "Dl Size...: 0 MiB [00:00, ? MiB/s]"
            ],
            "application/vnd.jupyter.widget-view+json": {
              "version_major": 2,
              "version_minor": 0,
              "model_id": "41ee35f49d064643b195ab465387804a"
            }
          },
          "metadata": {}
        },
        {
          "output_type": "display_data",
          "data": {
            "text/plain": [
              "Extraction completed...: 0 file [00:00, ? file/s]"
            ],
            "application/vnd.jupyter.widget-view+json": {
              "version_major": 2,
              "version_minor": 0,
              "model_id": "3449467f4da843a788240bf31bed93e2"
            }
          },
          "metadata": {}
        },
        {
          "output_type": "display_data",
          "data": {
            "text/plain": [
              "Generating splits...:   0%|          | 0/3 [00:00<?, ? splits/s]"
            ],
            "application/vnd.jupyter.widget-view+json": {
              "version_major": 2,
              "version_minor": 0,
              "model_id": "4fc72c2e9b71466d9dc335562106c0bc"
            }
          },
          "metadata": {}
        },
        {
          "output_type": "display_data",
          "data": {
            "text/plain": [
              "Generating train examples...:   0%|          | 0/208106 [00:00<?, ? examples/s]"
            ],
            "application/vnd.jupyter.widget-view+json": {
              "version_major": 2,
              "version_minor": 0,
              "model_id": "d1b07964f66f47a68bd83b41a4ea028a"
            }
          },
          "metadata": {}
        },
        {
          "output_type": "display_data",
          "data": {
            "text/plain": [
              "Shuffling ~/tensorflow_datasets/ted_hrlr_translate/ru_to_en/1.0.0.incompletePH5Q7J/ted_hrlr_translate-train.tf…"
            ],
            "application/vnd.jupyter.widget-view+json": {
              "version_major": 2,
              "version_minor": 0,
              "model_id": "a43b17d8903242209cc0a9384130da70"
            }
          },
          "metadata": {}
        },
        {
          "output_type": "display_data",
          "data": {
            "text/plain": [
              "Generating validation examples...:   0%|          | 0/4805 [00:00<?, ? examples/s]"
            ],
            "application/vnd.jupyter.widget-view+json": {
              "version_major": 2,
              "version_minor": 0,
              "model_id": "80e6429b3f5345fdacda3475ee2d3fc3"
            }
          },
          "metadata": {}
        },
        {
          "output_type": "display_data",
          "data": {
            "text/plain": [
              "Shuffling ~/tensorflow_datasets/ted_hrlr_translate/ru_to_en/1.0.0.incompletePH5Q7J/ted_hrlr_translate-validati…"
            ],
            "application/vnd.jupyter.widget-view+json": {
              "version_major": 2,
              "version_minor": 0,
              "model_id": "b7602561774d4ba6ac6a1390bf9253f8"
            }
          },
          "metadata": {}
        },
        {
          "output_type": "display_data",
          "data": {
            "text/plain": [
              "Generating test examples...:   0%|          | 0/5476 [00:00<?, ? examples/s]"
            ],
            "application/vnd.jupyter.widget-view+json": {
              "version_major": 2,
              "version_minor": 0,
              "model_id": "cbbab0a4373a49acaa355291911b7620"
            }
          },
          "metadata": {}
        },
        {
          "output_type": "display_data",
          "data": {
            "text/plain": [
              "Shuffling ~/tensorflow_datasets/ted_hrlr_translate/ru_to_en/1.0.0.incompletePH5Q7J/ted_hrlr_translate-test.tfr…"
            ],
            "application/vnd.jupyter.widget-view+json": {
              "version_major": 2,
              "version_minor": 0,
              "model_id": "9e16ec9722224e66b30ab847f5ded6d4"
            }
          },
          "metadata": {}
        },
        {
          "output_type": "stream",
          "name": "stdout",
          "text": [
            "Dataset ted_hrlr_translate downloaded and prepared to ~/tensorflow_datasets/ted_hrlr_translate/ru_to_en/1.0.0. Subsequent calls will reuse this data.\n"
          ]
        }
      ],
      "source": [
        "examples, metadata = tfds.load('ted_hrlr_translate/ru_to_en', with_info=True, as_supervised=True)\n",
        "train_examples, val_examples = examples['train'], examples['validation']"
      ]
    },
    {
      "cell_type": "markdown",
      "metadata": {
        "id": "8mcXGo8CICtT"
      },
      "source": [
        "Have a look at an example pair."
      ]
    },
    {
      "cell_type": "code",
      "execution_count": 4,
      "metadata": {
        "id": "9jQ-IDFKH0rT",
        "colab": {
          "base_uri": "https://localhost:8080/"
        },
        "outputId": "a5066e74-6a33-4908-f111-7951bd668681"
      },
      "outputs": [
        {
          "output_type": "stream",
          "name": "stdout",
          "text": [
            "Example in Russian:\n",
            "к : успех , перемены возможны только с оружием в руках .\n",
            "документация и методика практического обучения также доступна и выпущена creative commons .\n",
            "( видео ) диди пиклз : сейчас четыре часа утра .\n",
            "\n",
            "Example in English:\n",
            "c : success , the change is only coming through the barrel of the gun .\n",
            "the documentation and the hands-on teaching methodology is also open-source and released as the creative commons .\n",
            "( video ) didi pickles : it 's four o'clock in the morning .\n"
          ]
        }
      ],
      "source": [
        "for ru_examples, en_examples in train_examples.batch(3).take(1):\n",
        "  print('Example in Russian:')\n",
        "  for ru_example in ru_examples.numpy():\n",
        "    print(ru_example.decode('utf-8'))\n",
        "  print()\n",
        "\n",
        "  print('Example in English:')\n",
        "  for en_example in en_examples.numpy():\n",
        "    print(en_example.decode('utf-8'))"
      ]
    },
    {
      "cell_type": "markdown",
      "metadata": {
        "id": "x-ITNHSzPgmN"
      },
      "source": [
        "### Tokeniser\n",
        "To build a subword tokeniser, begin with generating the vocabulary from the dataset."
      ]
    },
    {
      "cell_type": "code",
      "execution_count": 5,
      "metadata": {
        "id": "hhHT61UJI6jJ"
      },
      "outputs": [],
      "source": [
        "train_en = train_examples.map(lambda ru, en: en)\n",
        "train_ru = train_examples.map(lambda ru, en: ru)"
      ]
    },
    {
      "cell_type": "code",
      "execution_count": 6,
      "metadata": {
        "id": "0swnNIRNL3dG"
      },
      "outputs": [],
      "source": [
        "bert_tokenizer_params=dict(lower_case=True)\n",
        "reserved_tokens=[\"[PAD]\", \"[UNK]\", \"[START]\", \"[END]\"]\n",
        "\n",
        "bert_vocab_args = dict(\n",
        "    vocab_size = 8000,\n",
        "    reserved_tokens=reserved_tokens,\n",
        "    bert_tokenizer_params=bert_tokenizer_params,\n",
        "    learn_params={},\n",
        ")"
      ]
    },
    {
      "cell_type": "code",
      "execution_count": 7,
      "metadata": {
        "id": "g_SG7cvQRK2I"
      },
      "outputs": [],
      "source": [
        "ru_vocab = bert_vocab.bert_vocab_from_dataset(train_ru.batch(1000).prefetch(2), **bert_vocab_args)"
      ]
    },
    {
      "cell_type": "code",
      "execution_count": 8,
      "metadata": {
        "id": "CHAleHgoR268"
      },
      "outputs": [],
      "source": [
        "en_vocab = bert_vocab.bert_vocab_from_dataset(train_en.batch(1000).prefetch(2), **bert_vocab_args)"
      ]
    },
    {
      "cell_type": "markdown",
      "metadata": {
        "id": "C01Fot59RaVk"
      },
      "source": [
        "Look at some slices of the resulting vocabulary."
      ]
    },
    {
      "cell_type": "code",
      "execution_count": 9,
      "metadata": {
        "id": "ae_noJRqRTHG",
        "colab": {
          "base_uri": "https://localhost:8080/"
        },
        "outputId": "4194853d-8688-4433-f56a-421b3ccaa391"
      },
      "outputs": [
        {
          "output_type": "stream",
          "name": "stdout",
          "text": [
            "['[PAD]', '[UNK]', '[START]', '[END]', '!', '#', '$', '%', '&', \"'\"]\n",
            "['ш', 'щ', 'ъ', 'ы', 'ь', 'э', 'ю', 'я', 'і', '՛']\n"
          ]
        }
      ],
      "source": [
        "print(ru_vocab[:10])\n",
        "print(ru_vocab[100:110])"
      ]
    },
    {
      "cell_type": "code",
      "execution_count": 10,
      "metadata": {
        "id": "0YmnsF3nSCAQ",
        "colab": {
          "base_uri": "https://localhost:8080/"
        },
        "outputId": "be5e3d7f-cb4e-41a5-f51d-fc26d075e61a"
      },
      "outputs": [
        {
          "output_type": "stream",
          "name": "stdout",
          "text": [
            "['[PAD]', '[UNK]', '[START]', '[END]', '!', '#', '$', '%', '&', \"'\"]\n",
            "['##s', 'have', 'but', 'what', 'on', 'do', 'with', 'can', 'there', 'about']\n"
          ]
        }
      ],
      "source": [
        "print(en_vocab[:10])\n",
        "print(en_vocab[100:110])"
      ]
    },
    {
      "cell_type": "markdown",
      "metadata": {
        "id": "227DjtkYSIxM"
      },
      "source": [
        "Write a vocabulary file."
      ]
    },
    {
      "cell_type": "code",
      "execution_count": 11,
      "metadata": {
        "id": "oavFRriySL_7"
      },
      "outputs": [],
      "source": [
        "def write_vocab_file(filepath, vocab):\n",
        "  with open(filepath, 'w') as f:\n",
        "    for token in vocab:\n",
        "      print(token, file=f)"
      ]
    },
    {
      "cell_type": "code",
      "execution_count": 12,
      "metadata": {
        "id": "cCvY3pKQSQRN",
        "colab": {
          "base_uri": "https://localhost:8080/"
        },
        "outputId": "e2b97b26-b065-4098-c69d-990a43330da7"
      },
      "outputs": [
        {
          "output_type": "stream",
          "name": "stdout",
          "text": [
            "en_vocab.txt  ru_vocab.txt\n"
          ]
        }
      ],
      "source": [
        "write_vocab_file('ru_vocab.txt', ru_vocab)\n",
        "write_vocab_file('en_vocab.txt', en_vocab)\n",
        "\n",
        "!ls *.txt"
      ]
    },
    {
      "cell_type": "markdown",
      "metadata": {
        "id": "z7qGWjPXSsZg"
      },
      "source": [
        "Initialise Bert Tokenisers by passing the generated vocabulary file's path as the first argument. "
      ]
    },
    {
      "cell_type": "code",
      "execution_count": 13,
      "metadata": {
        "id": "_Gd-Fc_lS3Sa"
      },
      "outputs": [],
      "source": [
        "ru_tokenizer = text.BertTokenizer('ru_vocab.txt', **bert_tokenizer_params)\n",
        "en_tokenizer = text.BertTokenizer('en_vocab.txt', **bert_tokenizer_params)"
      ]
    },
    {
      "cell_type": "markdown",
      "metadata": {
        "id": "zpj6vqL4Tk4l"
      },
      "source": [
        "Now try to encode some text with it."
      ]
    },
    {
      "cell_type": "code",
      "execution_count": 14,
      "metadata": {
        "id": "_R9-Q6SxTeJT",
        "colab": {
          "base_uri": "https://localhost:8080/"
        },
        "outputId": "039a249e-1a88-4595-f993-d934e1e722a5"
      },
      "outputs": [
        {
          "output_type": "stream",
          "name": "stdout",
          "text": [
            "b'c : success , the change is only coming through the barrel of the gun .'\n",
            "b'the documentation and the hands-on teaching methodology is also open-source and released as the creative commons .'\n",
            "b\"( video ) didi pickles : it 's four o'clock in the morning .\"\n"
          ]
        }
      ],
      "source": [
        "for ru_examples, en_examples in train_examples.batch(3).take(1):\n",
        "  for example in en_examples:\n",
        "    print(example.numpy())"
      ]
    },
    {
      "cell_type": "code",
      "execution_count": 15,
      "metadata": {
        "id": "pPXPCt8PT8wt",
        "colab": {
          "base_uri": "https://localhost:8080/"
        },
        "outputId": "7b4bc346-34c5-4e88-c84c-af846693035e"
      },
      "outputs": [
        {
          "output_type": "stream",
          "name": "stdout",
          "text": [
            "[41, 28, 1103, 14, 84, 243, 93, 200, 389, 218, 84, 6405, 87, 84, 2473, 16]\n",
            "[84, 3914, 464, 85, 84, 702, 15, 104, 1495, 2346, 2024, 93, 187, 435, 15, 942, 85, 2533, 111, 84, 1068, 5725, 16]\n",
            "[10, 400, 11, 168, 379, 1026, 1125, 28, 90, 9, 57, 316, 53, 9, 2501, 89, 84, 813, 16]\n"
          ]
        }
      ],
      "source": [
        "token_batch = en_tokenizer.tokenize(en_examples)\n",
        "token_batch = token_batch.merge_dims(-2,-1)\n",
        "\n",
        "for example in token_batch.to_list():\n",
        "  print(example)"
      ]
    },
    {
      "cell_type": "markdown",
      "metadata": {
        "id": "MLlTKZPvXgW8"
      },
      "source": [
        "Add the `[START]` and `[END]` tags."
      ]
    },
    {
      "cell_type": "code",
      "execution_count": 16,
      "metadata": {
        "id": "2mrkXd69UMBk"
      },
      "outputs": [],
      "source": [
        "START = tf.argmax(tf.constant(reserved_tokens) == \"[START]\")\n",
        "END = tf.argmax(tf.constant(reserved_tokens) == \"[END]\")"
      ]
    },
    {
      "cell_type": "code",
      "execution_count": 17,
      "metadata": {
        "id": "LvAEv3CBW0OW"
      },
      "outputs": [],
      "source": [
        "def add_start_end(ragged):\n",
        "  count = ragged.bounding_shape()[0]\n",
        "  starts = tf.fill([count,1], START)\n",
        "  ends = tf.fill([count,1], END)\n",
        "  return tf.concat([starts, ragged, ends], axis=1)"
      ]
    },
    {
      "cell_type": "code",
      "execution_count": 18,
      "metadata": {
        "id": "7pMnu159W6M_",
        "colab": {
          "base_uri": "https://localhost:8080/"
        },
        "outputId": "fbc8841f-2311-42a5-c581-7adabe7e55d8"
      },
      "outputs": [
        {
          "output_type": "execute_result",
          "data": {
            "text/plain": [
              "<tf.Tensor: shape=(3,), dtype=string, numpy=\n",
              "array([b'[START] c : success , the change is only coming through the barrel of the gun . [END]',\n",
              "       b'[START] the documentation and the hands - on teaching methodology is also open - source and released as the creative commons . [END]',\n",
              "       b\"[START] ( video ) didi pickles : it ' s four o ' clock in the morning . [END]\"],\n",
              "      dtype=object)>"
            ]
          },
          "metadata": {},
          "execution_count": 18
        }
      ],
      "source": [
        "words = en_tokenizer.detokenize(add_start_end(token_batch))\n",
        "tf.strings.reduce_join(words, separator=' ', axis=-1)"
      ]
    },
    {
      "cell_type": "markdown",
      "metadata": {
        "id": "apw3lx0GYB86"
      },
      "source": [
        "Add a function for cleaning up text by removing reserved tokens."
      ]
    },
    {
      "cell_type": "code",
      "execution_count": 19,
      "metadata": {
        "id": "Nt13HS6GXrDE"
      },
      "outputs": [],
      "source": [
        "def cleanup_text(reserved_tokens, token_txt):\n",
        "  bad_tokens = [re.escape(tok) for tok in reserved_tokens if tok != \"[UNK]\"]\n",
        "  bad_token_re = \"|\".join(bad_tokens)\n",
        "\n",
        "  bad_cells = tf.strings.regex_full_match(token_txt, bad_token_re)\n",
        "  result = tf.ragged.boolean_mask(token_txt, ~bad_cells)\n",
        "\n",
        "  result = tf.strings.reduce_join(result, separator=' ', axis=-1)\n",
        "\n",
        "  return result"
      ]
    },
    {
      "cell_type": "code",
      "execution_count": 20,
      "metadata": {
        "id": "2qQ46SuUYLeV",
        "colab": {
          "base_uri": "https://localhost:8080/"
        },
        "outputId": "7abafad8-e597-4af4-becf-7a0a5a94e1f1"
      },
      "outputs": [
        {
          "output_type": "execute_result",
          "data": {
            "text/plain": [
              "<tf.RaggedTensor [[b'c', b':', b'success', b',', b'the', b'change', b'is', b'only',\n",
              "  b'coming', b'through', b'the', b'barrel', b'of', b'the', b'gun', b'.'],\n",
              " [b'the', b'documentation', b'and', b'the', b'hands', b'-', b'on',\n",
              "  b'teaching', b'methodology', b'is', b'also', b'open', b'-', b'source',\n",
              "  b'and', b'released', b'as', b'the', b'creative', b'commons', b'.']    ,\n",
              " [b'(', b'video', b')', b'didi', b'pickles', b':', b'it', b\"'\", b's',\n",
              "  b'four', b'o', b\"'\", b'clock', b'in', b'the', b'morning', b'.']    ]>"
            ]
          },
          "metadata": {},
          "execution_count": 20
        }
      ],
      "source": [
        "token_batch = en_tokenizer.tokenize(en_examples).merge_dims(-2,-1)\n",
        "words = en_tokenizer.detokenize(token_batch)\n",
        "words"
      ]
    },
    {
      "cell_type": "code",
      "execution_count": 21,
      "metadata": {
        "id": "MbeIQxT2YRcR",
        "colab": {
          "base_uri": "https://localhost:8080/"
        },
        "outputId": "848166fe-1a08-4a3e-b60b-43f017df2e99"
      },
      "outputs": [
        {
          "output_type": "execute_result",
          "data": {
            "text/plain": [
              "array([b'c : success , the change is only coming through the barrel of the gun .',\n",
              "       b'the documentation and the hands - on teaching methodology is also open - source and released as the creative commons .',\n",
              "       b\"( video ) didi pickles : it ' s four o ' clock in the morning .\"],\n",
              "      dtype=object)"
            ]
          },
          "metadata": {},
          "execution_count": 21
        }
      ],
      "source": [
        "cleanup_text(reserved_tokens, words).numpy()"
      ]
    },
    {
      "cell_type": "markdown",
      "metadata": {
        "id": "CUNzZpAPYhK0"
      },
      "source": [
        "Build a `CustomTokeniser` class to contain the `text.BertTokenizer` instances, the custom logic, and the `@tf.function` wrappers required for export."
      ]
    },
    {
      "cell_type": "code",
      "execution_count": 22,
      "metadata": {
        "id": "igF469vkYX_4"
      },
      "outputs": [],
      "source": [
        "class CustomTokenizer(tf.Module):\n",
        "  def __init__(self, reserved_tokens, vocab_path):\n",
        "    self.tokenizer = text.BertTokenizer(vocab_path, lower_case=True)\n",
        "    self._reserved_tokens = reserved_tokens\n",
        "    self._vocab_path = tf.saved_model.Asset(vocab_path)\n",
        "\n",
        "    vocab = pathlib.Path(vocab_path).read_text().splitlines()\n",
        "    self.vocab = tf.Variable(vocab)\n",
        "\n",
        "    self.tokenize.get_concrete_function(\n",
        "        tf.TensorSpec(shape=[None], dtype=tf.string))\n",
        "\n",
        "    self.detokenize.get_concrete_function(\n",
        "        tf.TensorSpec(shape=[None, None], dtype=tf.int64))\n",
        "    self.detokenize.get_concrete_function(\n",
        "          tf.RaggedTensorSpec(shape=[None, None], dtype=tf.int64))\n",
        "\n",
        "    self.lookup.get_concrete_function(\n",
        "        tf.TensorSpec(shape=[None, None], dtype=tf.int64))\n",
        "    self.lookup.get_concrete_function(\n",
        "          tf.RaggedTensorSpec(shape=[None, None], dtype=tf.int64))\n",
        "\n",
        "    self.get_vocab_size.get_concrete_function()\n",
        "    self.get_vocab_path.get_concrete_function()\n",
        "    self.get_reserved_tokens.get_concrete_function()\n",
        "\n",
        "  @tf.function\n",
        "  def tokenize(self, strings):\n",
        "    enc = self.tokenizer.tokenize(strings)\n",
        "    enc = enc.merge_dims(-2,-1)\n",
        "    enc = add_start_end(enc)\n",
        "    return enc\n",
        "\n",
        "  @tf.function\n",
        "  def detokenize(self, tokenized):\n",
        "    words = self.tokenizer.detokenize(tokenized)\n",
        "    return cleanup_text(self._reserved_tokens, words)\n",
        "\n",
        "  @tf.function\n",
        "  def lookup(self, token_ids):\n",
        "    return tf.gather(self.vocab, token_ids)\n",
        "\n",
        "  @tf.function\n",
        "  def get_vocab_size(self):\n",
        "    return tf.shape(self.vocab)[0]\n",
        "\n",
        "  @tf.function\n",
        "  def get_vocab_path(self):\n",
        "    return self._vocab_path\n",
        "\n",
        "  @tf.function\n",
        "  def get_reserved_tokens(self):\n",
        "    return tf.constant(self._reserved_tokens)"
      ]
    },
    {
      "cell_type": "markdown",
      "metadata": {
        "id": "Tr-jEBpkZdK0"
      },
      "source": [
        "Build a CustomTokenizer for each language."
      ]
    },
    {
      "cell_type": "code",
      "execution_count": 23,
      "metadata": {
        "id": "jGZpxFXwZZIn"
      },
      "outputs": [],
      "source": [
        "tokenizers = tf.Module()\n",
        "tokenizers.ru = CustomTokenizer(reserved_tokens, 'ru_vocab.txt')\n",
        "tokenizers.en = CustomTokenizer(reserved_tokens, 'en_vocab.txt')"
      ]
    },
    {
      "cell_type": "markdown",
      "metadata": {
        "id": "rKwu5L6WZmk9"
      },
      "source": [
        "Export the tokenizers as a saved_model."
      ]
    },
    {
      "cell_type": "code",
      "source": [
        "model_name = 'drive/MyDrive/Transformer/ted_hrlr_translate_ru_en_converter'"
      ],
      "metadata": {
        "id": "Lk9weNQYDilr"
      },
      "execution_count": 5,
      "outputs": []
    },
    {
      "cell_type": "code",
      "execution_count": 24,
      "metadata": {
        "id": "ZZog90dWZixM"
      },
      "outputs": [],
      "source": [
        "tf.saved_model.save(tokenizers, model_name)"
      ]
    },
    {
      "cell_type": "markdown",
      "metadata": {
        "id": "CTySAdTUZ08c"
      },
      "source": [
        "Reload the saved_model and test the methods."
      ]
    },
    {
      "cell_type": "code",
      "execution_count": 6,
      "metadata": {
        "id": "z8xMa3NQZ0b2",
        "colab": {
          "base_uri": "https://localhost:8080/"
        },
        "outputId": "c9097768-e138-49b8-ba92-be63fffd910e"
      },
      "outputs": [
        {
          "output_type": "execute_result",
          "data": {
            "text/plain": [
              "7796"
            ]
          },
          "metadata": {},
          "execution_count": 6
        }
      ],
      "source": [
        "reloaded_tokenizers = tf.saved_model.load(model_name)\n",
        "reloaded_tokenizers.en.get_vocab_size().numpy()"
      ]
    },
    {
      "cell_type": "code",
      "execution_count": 7,
      "metadata": {
        "id": "nfjM-L7WZsNC",
        "colab": {
          "base_uri": "https://localhost:8080/"
        },
        "outputId": "b7e0e825-58f5-4e54-be59-9f9e73ca1a6f"
      },
      "outputs": [
        {
          "output_type": "execute_result",
          "data": {
            "text/plain": [
              "array([[   2, 3372,    4,    3]])"
            ]
          },
          "metadata": {},
          "execution_count": 7
        }
      ],
      "source": [
        "tokens = reloaded_tokenizers.en.tokenize(['Hello !'])\n",
        "tokens.numpy()"
      ]
    },
    {
      "cell_type": "code",
      "execution_count": 8,
      "metadata": {
        "id": "WhBjo2ALaABz",
        "colab": {
          "base_uri": "https://localhost:8080/"
        },
        "outputId": "783bb03a-50be-46da-977b-1b3137d42db1"
      },
      "outputs": [
        {
          "output_type": "execute_result",
          "data": {
            "text/plain": [
              "<tf.RaggedTensor [[b'[START]', b'hello', b'!', b'[END]']]>"
            ]
          },
          "metadata": {},
          "execution_count": 8
        }
      ],
      "source": [
        "text_tokens = reloaded_tokenizers.en.lookup(tokens)\n",
        "text_tokens"
      ]
    },
    {
      "cell_type": "code",
      "execution_count": 9,
      "metadata": {
        "id": "ueWj4tRQaCUF",
        "colab": {
          "base_uri": "https://localhost:8080/"
        },
        "outputId": "4f8e6d11-da90-43ca-d4fc-fed2b4b459d0"
      },
      "outputs": [
        {
          "output_type": "stream",
          "name": "stdout",
          "text": [
            "hello !\n"
          ]
        }
      ],
      "source": [
        "round_trip = reloaded_tokenizers.en.detokenize(tokens)\n",
        "\n",
        "print(round_trip.numpy()[0].decode('utf-8'))"
      ]
    },
    {
      "cell_type": "markdown",
      "metadata": {
        "id": "s_WHnHfTaqpX"
      },
      "source": [
        "The `tf.saved_model` contains two text tokenisers, one for English and one for Russian. Both have the same methods."
      ]
    },
    {
      "cell_type": "code",
      "execution_count": 10,
      "metadata": {
        "id": "2Tq1up7NamFX",
        "colab": {
          "base_uri": "https://localhost:8080/"
        },
        "outputId": "0f905e95-ab60-480f-a08f-fc94ec946f86"
      },
      "outputs": [
        {
          "output_type": "execute_result",
          "data": {
            "text/plain": [
              "['detokenize',\n",
              " 'get_reserved_tokens',\n",
              " 'get_vocab_path',\n",
              " 'get_vocab_size',\n",
              " 'lookup',\n",
              " 'tokenize',\n",
              " 'tokenizer',\n",
              " 'vocab']"
            ]
          },
          "metadata": {},
          "execution_count": 10
        }
      ],
      "source": [
        "[item for item in dir(reloaded_tokenizers.en) if not item.startswith('_')]"
      ]
    },
    {
      "cell_type": "markdown",
      "metadata": {
        "id": "4IW5y4oecSSS"
      },
      "source": [
        "Add a function that takes batches of text as input, and converts them to a format suitable for training."
      ]
    },
    {
      "cell_type": "code",
      "execution_count": 11,
      "metadata": {
        "id": "8rUBagX6ayyt"
      },
      "outputs": [],
      "source": [
        "MAX_TOKENS = 128\n",
        "\n",
        "def prepare_batch(ru, en):\n",
        "  ru = reloaded_tokenizers.ru.tokenize(ru) \n",
        "  ru = ru[:, :MAX_TOKENS]  \n",
        "  ru = ru.to_tensor() \n",
        "\n",
        "  en = reloaded_tokenizers.en.tokenize(en)\n",
        "  en = en[:, :(MAX_TOKENS+1)]\n",
        "  en_inputs = en[:, :-1].to_tensor() \n",
        "  en_labels = en[:, 1:].to_tensor() \n",
        "\n",
        "  return (ru, en_inputs), en_labels"
      ]
    },
    {
      "cell_type": "code",
      "execution_count": 12,
      "metadata": {
        "id": "5S4jXp9jdvWs"
      },
      "outputs": [],
      "source": [
        "BUFFER_SIZE = 20000\n",
        "BATCH_SIZE = 64"
      ]
    },
    {
      "cell_type": "code",
      "execution_count": 13,
      "metadata": {
        "id": "8VCYEiZDd0Ip"
      },
      "outputs": [],
      "source": [
        "def make_batches(ds):\n",
        "  return (\n",
        "      ds\n",
        "      .shuffle(BUFFER_SIZE)\n",
        "      .batch(BATCH_SIZE)\n",
        "      .map(prepare_batch, tf.data.AUTOTUNE)\n",
        "      .prefetch(buffer_size=tf.data.AUTOTUNE))"
      ]
    },
    {
      "cell_type": "markdown",
      "metadata": {
        "id": "3IlKTjIAg8w-"
      },
      "source": [
        "Create the training and validation batches."
      ]
    },
    {
      "cell_type": "code",
      "execution_count": 14,
      "metadata": {
        "id": "Nib_ev08d3rC"
      },
      "outputs": [],
      "source": [
        "train_batches = make_batches(train_examples)\n",
        "val_batches = make_batches(val_examples)"
      ]
    },
    {
      "cell_type": "code",
      "execution_count": 15,
      "metadata": {
        "id": "GkKqvNWXd9VJ",
        "colab": {
          "base_uri": "https://localhost:8080/"
        },
        "outputId": "ec6aea6d-be4b-4bf8-bcaf-9a106b3b81ec"
      },
      "outputs": [
        {
          "output_type": "stream",
          "name": "stdout",
          "text": [
            "(64, 107)\n",
            "(64, 112)\n",
            "(64, 112)\n"
          ]
        }
      ],
      "source": [
        "for (ru, en), en_labels in train_batches.take(1):\n",
        "  break\n",
        "\n",
        "print(ru.shape)\n",
        "print(en.shape)\n",
        "print(en_labels.shape)"
      ]
    },
    {
      "cell_type": "markdown",
      "metadata": {
        "id": "xa_VBkg-e39N"
      },
      "source": [
        "The `en` and `en_labels` are the same, just shifted by 1."
      ]
    },
    {
      "cell_type": "code",
      "execution_count": 16,
      "metadata": {
        "id": "0mgFk3nOesMY",
        "colab": {
          "base_uri": "https://localhost:8080/"
        },
        "outputId": "a465c8e2-8fc7-4496-a649-992039b0ac8c"
      },
      "outputs": [
        {
          "output_type": "stream",
          "name": "stdout",
          "text": [
            "tf.Tensor([  2 149   9  57 125 303 167 170 105  52], shape=(10,), dtype=int64)\n",
            "tf.Tensor([149   9  57 125 303 167 170 105  52   9], shape=(10,), dtype=int64)\n"
          ]
        }
      ],
      "source": [
        "print(en[0][:10])\n",
        "print(en_labels[0][:10])"
      ]
    },
    {
      "cell_type": "markdown",
      "metadata": {
        "id": "dSXiTi59h9fr"
      },
      "source": [
        "## Transformer Model\n",
        "### Embedding and Positional Encoding Layer\n",
        "The inputs to both the encoder and decoder use the same embedding and positional encoding logic.\n",
        "\n",
        "Given a sequence of tokens, both the input tokens (Russian) and target tokens (English) have to be converted to vectors using a `tf.keras.layers.Embedding` layer.\n",
        "\n",
        "A Transformer adds a \"Positional Encoding\" to the embedding vectors. It uses a set of sines and cosines at different frequencies (across the sequence). By definition nearby elements will have similar position encodings."
      ]
    },
    {
      "cell_type": "code",
      "execution_count": 17,
      "metadata": {
        "id": "-Xnr8aHse8lt"
      },
      "outputs": [],
      "source": [
        "def positional_encoding(length, depth):\n",
        "  depth = depth/2\n",
        "\n",
        "  positions = np.arange(length)[:, np.newaxis]    \n",
        "  depths = np.arange(depth)[np.newaxis, :]/depth  \n",
        "\n",
        "  angle_rates = 1 / (10000**depths)         \n",
        "  angle_rads = positions * angle_rates      \n",
        "\n",
        "  pos_encoding = np.concatenate([np.sin(angle_rads), np.cos(angle_rads)], axis=-1) \n",
        "\n",
        "  return tf.cast(pos_encoding, dtype=tf.float32)"
      ]
    },
    {
      "cell_type": "markdown",
      "metadata": {
        "id": "cYnWBVpNk56o"
      },
      "source": [
        "Use the `positional_encoding` function to create a PositionEmbedding layer that looks-up a token's embedding vector and adds the position vector."
      ]
    },
    {
      "cell_type": "code",
      "execution_count": 18,
      "metadata": {
        "id": "dbLWl1AzhcWe"
      },
      "outputs": [],
      "source": [
        "class PositionalEmbedding(tf.keras.layers.Layer):\n",
        "  def __init__(self, vocab_size, d_model):\n",
        "    super().__init__()\n",
        "    self.d_model = d_model\n",
        "    self.embedding = tf.keras.layers.Embedding(vocab_size, d_model, mask_zero=True) \n",
        "    self.pos_encoding = positional_encoding(length=2048, depth=d_model)\n",
        "\n",
        "  def compute_mask(self, *args, **kwargs):\n",
        "    return self.embedding.compute_mask(*args, **kwargs)\n",
        "\n",
        "  def call(self, x):\n",
        "    length = tf.shape(x)[1]\n",
        "    x = self.embedding(x)\n",
        "    x *= tf.math.sqrt(tf.cast(self.d_model, tf.float32))\n",
        "    x = x + self.pos_encoding[tf.newaxis, :length, :]\n",
        "    return x"
      ]
    },
    {
      "cell_type": "code",
      "execution_count": 19,
      "metadata": {
        "id": "gtDPLOtKlPPt"
      },
      "outputs": [],
      "source": [
        "embed_ru = PositionalEmbedding(vocab_size=reloaded_tokenizers.ru.get_vocab_size(), d_model=512)\n",
        "embed_en = PositionalEmbedding(vocab_size=reloaded_tokenizers.en.get_vocab_size(), d_model=512)\n",
        "\n",
        "ru_emb = embed_ru(ru)\n",
        "en_emb = embed_en(en)"
      ]
    },
    {
      "cell_type": "code",
      "execution_count": 20,
      "metadata": {
        "id": "B5MnaqD1lcK_",
        "colab": {
          "base_uri": "https://localhost:8080/"
        },
        "outputId": "a685b816-ee05-4352-f729-d7bfc04cc0f1"
      },
      "outputs": [
        {
          "output_type": "execute_result",
          "data": {
            "text/plain": [
              "<tf.Tensor: shape=(64, 112), dtype=bool, numpy=\n",
              "array([[ True,  True,  True, ..., False, False, False],\n",
              "       [ True,  True,  True, ..., False, False, False],\n",
              "       [ True,  True,  True, ..., False, False, False],\n",
              "       ...,\n",
              "       [ True,  True,  True, ..., False, False, False],\n",
              "       [ True,  True,  True, ..., False, False, False],\n",
              "       [ True,  True,  True, ..., False, False, False]])>"
            ]
          },
          "metadata": {},
          "execution_count": 20
        }
      ],
      "source": [
        "en_emb._keras_mask"
      ]
    },
    {
      "cell_type": "markdown",
      "metadata": {
        "id": "X88WOkm6XWak"
      },
      "source": [
        "### Base Attention Layer\n",
        "Each of the base attention layers will contain a `layers.MultiHeadAttention`, a `layers.LayerNormalization` and a `layers.Add`.\n",
        "\n",
        "Note that the attention layer combines the query and key vectors to determine how well they match, the \"attention score\". The layer returns the average across all the values, weighted by the \"attention scores\"."
      ]
    },
    {
      "cell_type": "code",
      "execution_count": 21,
      "metadata": {
        "id": "4rnbAQ8dloKm"
      },
      "outputs": [],
      "source": [
        "class BaseAttention(tf.keras.layers.Layer):\n",
        "  def __init__(self, **kwargs):\n",
        "    super().__init__()\n",
        "    self.mha = tf.keras.layers.MultiHeadAttention(**kwargs)\n",
        "    self.layernorm = tf.keras.layers.LayerNormalization()\n",
        "    self.add = tf.keras.layers.Add()"
      ]
    },
    {
      "cell_type": "markdown",
      "metadata": {
        "id": "KrqvFkVQZh_U"
      },
      "source": [
        "### Cross Attention Layer\n",
        "This attention layer connects the encoder and decoder. To implement this, we pass the target sequence `x` as the `query` and the `context` sequence as the `key/value` when calling the `mha` layer."
      ]
    },
    {
      "cell_type": "code",
      "execution_count": 22,
      "metadata": {
        "id": "sOIOIe5Un6Pf"
      },
      "outputs": [],
      "source": [
        "class CrossAttention(BaseAttention):\n",
        "  def call(self, x, context):\n",
        "    attn_output, attn_scores = self.mha(query=x, key=context, value=context, return_attention_scores=True)\n",
        "    self.last_attn_scores = attn_scores\n",
        "\n",
        "    x = self.add([x, attn_output])\n",
        "    x = self.layernorm(x)\n",
        "\n",
        "    return x"
      ]
    },
    {
      "cell_type": "markdown",
      "metadata": {
        "id": "AbQ4vgxJcZSR"
      },
      "source": [
        "Test the `CrossAttention` layer."
      ]
    },
    {
      "cell_type": "code",
      "execution_count": 23,
      "metadata": {
        "id": "rfmRLypocTDS",
        "colab": {
          "base_uri": "https://localhost:8080/"
        },
        "outputId": "502ab416-316f-4f2d-acc5-cf60fa03b744"
      },
      "outputs": [
        {
          "output_type": "stream",
          "name": "stdout",
          "text": [
            "(64, 107, 512)\n",
            "(64, 112, 512)\n",
            "(64, 112, 512)\n"
          ]
        }
      ],
      "source": [
        "cross_attn = CrossAttention(num_heads=2, key_dim=512)\n",
        "\n",
        "print(ru_emb.shape)\n",
        "print(en_emb.shape)\n",
        "print(cross_attn(en_emb, ru_emb).shape)"
      ]
    },
    {
      "cell_type": "markdown",
      "metadata": {
        "id": "xQ2VtyFtdG8N"
      },
      "source": [
        "### Global Self Attention Layer\n",
        "This layer is responsible for processing the context sequence, and propagating information along its length. To implement this layer, we just need to pass the target sequence, `x`, as both the `query`, and `value` arguments to the `mha` layer."
      ]
    },
    {
      "cell_type": "code",
      "execution_count": 24,
      "metadata": {
        "id": "MdbUvJMrcu4o"
      },
      "outputs": [],
      "source": [
        "class GlobalSelfAttention(BaseAttention):\n",
        "  def call(self, x):\n",
        "    attn_output = self.mha(query=x, key=x, value=x)\n",
        "    x = self.add([x, attn_output])\n",
        "    x = self.layernorm(x)\n",
        "\n",
        "    return x"
      ]
    },
    {
      "cell_type": "markdown",
      "metadata": {
        "id": "jtuKE1IqeCme"
      },
      "source": [
        "Test the `GlobalSelfAttention` layer.\n"
      ]
    },
    {
      "cell_type": "code",
      "execution_count": 25,
      "metadata": {
        "id": "Psenmlemd9Du",
        "colab": {
          "base_uri": "https://localhost:8080/"
        },
        "outputId": "c8af64a9-eca4-4e52-da78-a82f5bcce8f6"
      },
      "outputs": [
        {
          "output_type": "stream",
          "name": "stdout",
          "text": [
            "(64, 107, 512)\n",
            "(64, 107, 512)\n"
          ]
        }
      ],
      "source": [
        "global_self_attn = GlobalSelfAttention(num_heads=2, key_dim=512)\n",
        "\n",
        "print(ru_emb.shape)\n",
        "print(global_self_attn(ru_emb).shape)"
      ]
    },
    {
      "cell_type": "markdown",
      "metadata": {
        "id": "DFQRL8Ioe2Kz"
      },
      "source": [
        "### Casual Self Attention Layer\n",
        "This layer functions similarly to the global attention layer but just for the output sequence.\n",
        "\n",
        "Note that Transformers are an \"autoregressive\" model: They generate the text one token at a time and feed that output back to the input. To make this efficient, these models ensure that the output for each sequence element only depends on the previous sequence elements; the models are \"causal\".\n",
        "\n",
        "To build a causal self attention layer, you need to use an appropriate mask when computing the attention scores and summing the attention `value`s."
      ]
    },
    {
      "cell_type": "code",
      "execution_count": 26,
      "metadata": {
        "id": "ukGRYelJePjf"
      },
      "outputs": [],
      "source": [
        "class CausalSelfAttention(BaseAttention):\n",
        "  def call(self, x):\n",
        "    attn_output = self.mha(query=x, key=x, value=x, use_causal_mask=True)\n",
        "    x = self.add([x, attn_output])\n",
        "    x = self.layernorm(x)\n",
        "\n",
        "    return x"
      ]
    },
    {
      "cell_type": "markdown",
      "metadata": {
        "id": "6THnuI2YgBbI"
      },
      "source": [
        "Test the `CausalSelfAttention` layer."
      ]
    },
    {
      "cell_type": "code",
      "execution_count": 27,
      "metadata": {
        "id": "oBVFyqnVfvtq",
        "colab": {
          "base_uri": "https://localhost:8080/"
        },
        "outputId": "3b2fdae0-6a19-4a49-d7fb-340d63408cb8"
      },
      "outputs": [
        {
          "output_type": "stream",
          "name": "stdout",
          "text": [
            "(64, 112, 512)\n",
            "(64, 112, 512)\n"
          ]
        }
      ],
      "source": [
        "causal_self_attn = CausalSelfAttention(num_heads=2, key_dim=512)\n",
        "\n",
        "print(en_emb.shape)\n",
        "print(causal_self_attn(en_emb).shape)"
      ]
    },
    {
      "cell_type": "markdown",
      "metadata": {
        "id": "znmmzTXigtVt"
      },
      "source": [
        "### Feed Forward Layer\n",
        "This network includes two `Dense` layers with ReLU activation and a dropout layer. Note that it also contains the residual connection and normalisation."
      ]
    },
    {
      "cell_type": "code",
      "execution_count": 28,
      "metadata": {
        "id": "yKT3-DP2gSIl"
      },
      "outputs": [],
      "source": [
        "class FeedForward(tf.keras.layers.Layer):\n",
        "  def __init__(self, d_model, dff, dropout_rate=0.1):\n",
        "    super().__init__()\n",
        "    self.seq = tf.keras.Sequential([\n",
        "        tf.keras.layers.Dense(dff, activation='relu'),\n",
        "        tf.keras.layers.Dense(d_model),\n",
        "        tf.keras.layers.Dropout(dropout_rate)\n",
        "    ])\n",
        "    self.add = tf.keras.layers.Add()\n",
        "    self.layer_norm = tf.keras.layers.LayerNormalization()\n",
        "\n",
        "  def call(self, x):\n",
        "    x = self.add([x, self.seq(x)])\n",
        "    x = self.layer_norm(x)\n",
        "    \n",
        "    return x"
      ]
    },
    {
      "cell_type": "markdown",
      "metadata": {
        "id": "on057LfbjGhy"
      },
      "source": [
        "Test out the `FeedForward` layer."
      ]
    },
    {
      "cell_type": "code",
      "execution_count": 29,
      "metadata": {
        "id": "zEpN_6PxjFro",
        "colab": {
          "base_uri": "https://localhost:8080/"
        },
        "outputId": "dd7edd7b-9ff2-435b-9e89-d6bfefcc918c"
      },
      "outputs": [
        {
          "output_type": "stream",
          "name": "stdout",
          "text": [
            "(64, 112, 512)\n",
            "(64, 112, 512)\n"
          ]
        }
      ],
      "source": [
        "feed_forward = FeedForward(d_model=512, dff=2048)\n",
        "\n",
        "print(en_emb.shape)\n",
        "print(feed_forward(en_emb).shape)"
      ]
    },
    {
      "cell_type": "markdown",
      "metadata": {
        "id": "wr2AN4VMjl6L"
      },
      "source": [
        "### Encoder Layer\n",
        "A Transformer contains `N` encoder layers. Construct each encoder layer by stacking up the `GlobalSelfAttention` and `FeedForward` layers."
      ]
    },
    {
      "cell_type": "code",
      "execution_count": 30,
      "metadata": {
        "id": "eXQkUEvejcZ9"
      },
      "outputs": [],
      "source": [
        "class EncoderLayer(tf.keras.layers.Layer):\n",
        "  def __init__(self, *, d_model, dff, num_heads, dropout_rate=0.1):\n",
        "    super().__init__()\n",
        "    self.self_attention = GlobalSelfAttention(num_heads=num_heads, key_dim=d_model, dropout=dropout_rate)\n",
        "    self.feed_forward = FeedForward(d_model=d_model, dff=dff)\n",
        "\n",
        "  def call(self, x):\n",
        "    x = self.self_attention(x)\n",
        "    x = self.feed_forward(x)\n",
        "\n",
        "    return x\n"
      ]
    },
    {
      "cell_type": "markdown",
      "metadata": {
        "id": "NcUCjZkolNgP"
      },
      "source": [
        "Test out the `EncoderLayer` layer."
      ]
    },
    {
      "cell_type": "code",
      "execution_count": 31,
      "metadata": {
        "id": "mVw1xj3JlMj4",
        "colab": {
          "base_uri": "https://localhost:8080/"
        },
        "outputId": "bf6fae5e-27b8-4620-9e26-88346a39991e"
      },
      "outputs": [
        {
          "output_type": "stream",
          "name": "stdout",
          "text": [
            "(64, 107, 512)\n",
            "(64, 107, 512)\n"
          ]
        }
      ],
      "source": [
        "encoder_layer = EncoderLayer(d_model=512, num_heads=8, dff=2048)\n",
        "\n",
        "print(ru_emb.shape)\n",
        "print(encoder_layer(ru_emb).shape)"
      ]
    },
    {
      "cell_type": "markdown",
      "metadata": {
        "id": "hTnU7yN_lq7a"
      },
      "source": [
        "### The Encoder\n",
        "Now we can construct the encoder which consists of a `PositionalEmbedding` layer and multiple `EncoderLayer` layers."
      ]
    },
    {
      "cell_type": "code",
      "execution_count": 32,
      "metadata": {
        "id": "BEXk8Cd1licd"
      },
      "outputs": [],
      "source": [
        "class Encoder(tf.keras.layers.Layer):\n",
        "  def __init__(self, *, num_layers, d_model, num_heads, dff, vocab_size, dropout_rate=0.1):\n",
        "    super().__init__()\n",
        "    self.d_model = d_model\n",
        "    self.num_layers = num_layers\n",
        "\n",
        "    self.pos_embedding = PositionalEmbedding(vocab_size=vocab_size, d_model=d_model)\n",
        "    self.enc_layers = [\n",
        "        EncoderLayer(d_model=d_model, num_heads=num_heads, dff=dff, dropout_rate=dropout_rate)\n",
        "        for _ in range(num_layers)\n",
        "        ]\n",
        "    self.dropout = tf.keras.layers.Dropout(dropout_rate)\n",
        "\n",
        "  def call(self, x):\n",
        "    x = self.pos_embedding(x)\n",
        "    x = self.dropout(x)\n",
        "\n",
        "    for i in range(self.num_layers):\n",
        "      x = self.enc_layers[i](x)\n",
        "\n",
        "    return x"
      ]
    },
    {
      "cell_type": "markdown",
      "metadata": {
        "id": "E9UY6Tpgoaeh"
      },
      "source": [
        "Test the `Encoder`."
      ]
    },
    {
      "cell_type": "code",
      "execution_count": 33,
      "metadata": {
        "id": "xD_4vc29oec5",
        "colab": {
          "base_uri": "https://localhost:8080/"
        },
        "outputId": "fa59e4d9-192c-4377-832f-41281aea03ca"
      },
      "outputs": [
        {
          "output_type": "stream",
          "name": "stdout",
          "text": [
            "(64, 107)\n",
            "(64, 107, 512)\n"
          ]
        }
      ],
      "source": [
        "encoder = Encoder(num_layers=4, d_model=512, num_heads=8, dff=2048, vocab_size=8500)\n",
        "encoder_output = encoder(ru, training=False)\n",
        "\n",
        "print(ru.shape)\n",
        "print(encoder_output.shape)"
      ]
    },
    {
      "cell_type": "markdown",
      "metadata": {
        "id": "KBNbro6ZpGv1"
      },
      "source": [
        "### Decoder Layer\n",
        "Each decoder layer contains a `CausalSelfAttention`, a `CrossAttention`, and a `FeedForward` layer."
      ]
    },
    {
      "cell_type": "code",
      "execution_count": 34,
      "metadata": {
        "id": "J8SaMUSbpBiH"
      },
      "outputs": [],
      "source": [
        "class DecoderLayer(tf.keras.layers.Layer):\n",
        "  def __init__(self, *, d_model, num_heads, dff, dropout_rate=0.1):\n",
        "    super(DecoderLayer, self).__init__()\n",
        "    self.causal_self_attention = CausalSelfAttention(num_heads=num_heads, key_dim=d_model, dropout=dropout_rate)\n",
        "    self.cross_attention = CrossAttention(num_heads=num_heads, key_dim=d_model, dropout=dropout_rate)\n",
        "    self.ffn = FeedForward(d_model=d_model, dff=dff)\n",
        "\n",
        "  def call(self, x, context):\n",
        "    x = self.causal_self_attention(x)\n",
        "    x = self.cross_attention(x, context)\n",
        "    self.last_attn_scores = self.cross_attention.last_attn_scores\n",
        "    x = self.ffn(x)\n",
        "\n",
        "    return x\n"
      ]
    },
    {
      "cell_type": "markdown",
      "metadata": {
        "id": "_9X6nH-PwlAb"
      },
      "source": [
        "Test the `DecoderLayer` layer."
      ]
    },
    {
      "cell_type": "code",
      "execution_count": 35,
      "metadata": {
        "id": "36a3bJrqwkbX",
        "colab": {
          "base_uri": "https://localhost:8080/"
        },
        "outputId": "f924cffe-add2-4e9e-a22d-a226876c09f3"
      },
      "outputs": [
        {
          "output_type": "stream",
          "name": "stdout",
          "text": [
            "(64, 112, 512)\n",
            "(64, 107, 512)\n",
            "(64, 112, 512)\n"
          ]
        }
      ],
      "source": [
        "decoder_layer = DecoderLayer(d_model=512, num_heads=8, dff=2048)\n",
        "decoder_layer_output = decoder_layer(x=en_emb, context=ru_emb)\n",
        "\n",
        "print(en_emb.shape)\n",
        "print(ru_emb.shape)\n",
        "print(decoder_layer_output.shape)"
      ]
    },
    {
      "cell_type": "markdown",
      "metadata": {
        "id": "DSDIDEaWxgLp"
      },
      "source": [
        "### The Decoder\n",
        "The Decoder consists of a `PositionalEmbedding`, and a stack of `DecoderLayer`s."
      ]
    },
    {
      "cell_type": "code",
      "execution_count": 36,
      "metadata": {
        "id": "rSyOXp7mxX0Q"
      },
      "outputs": [],
      "source": [
        "class Decoder(tf.keras.layers.Layer):\n",
        "  def __init__(self, *, num_layers, d_model, num_heads, dff, vocab_size, dropout_rate=0.1):\n",
        "    super().__init__()\n",
        "    self.d_model = d_model\n",
        "    self.num_layers = num_layers\n",
        "\n",
        "    self.pos_embedding = PositionalEmbedding(vocab_size=vocab_size, d_model=d_model)\n",
        "    self.dec_layers = [\n",
        "        DecoderLayer(d_model=d_model, num_heads=num_heads, dff=dff, dropout_rate=dropout_rate)\n",
        "        for _ in range(num_layers)\n",
        "        ]\n",
        "    self.dropout = tf.keras.layers.Dropout(dropout_rate)\n",
        "    self.last_attn_scores = None\n",
        "\n",
        "  def call(self, x, context):\n",
        "    x = self.pos_embedding(x)\n",
        "    x = self.dropout(x)\n",
        "\n",
        "    for i in range(self.num_layers):\n",
        "      x = self.dec_layers[i](x, context)\n",
        "\n",
        "    self.last_attn_scores = self.dec_layers[-1].last_attn_scores\n",
        "\n",
        "    return x"
      ]
    },
    {
      "cell_type": "markdown",
      "metadata": {
        "id": "Rzg-1m-9ziTe"
      },
      "source": [
        "Test the `Decoder`."
      ]
    },
    {
      "cell_type": "code",
      "execution_count": 37,
      "metadata": {
        "id": "wlxESiLTzhtc",
        "colab": {
          "base_uri": "https://localhost:8080/"
        },
        "outputId": "f779628b-283e-4222-9e73-b9c3b28c682c"
      },
      "outputs": [
        {
          "output_type": "stream",
          "name": "stdout",
          "text": [
            "(64, 112)\n",
            "(64, 107, 512)\n",
            "(64, 112, 512)\n"
          ]
        }
      ],
      "source": [
        "decoder = Decoder(num_layers=4, d_model=512, num_heads=8, dff=2048, vocab_size=8000)\n",
        "decoder_output = decoder(en, ru_emb)\n",
        "\n",
        "print(en.shape)\n",
        "print(ru_emb.shape)\n",
        "print(decoder_output.shape)"
      ]
    },
    {
      "cell_type": "code",
      "execution_count": 38,
      "metadata": {
        "id": "0S2xi2tg0Ljm",
        "colab": {
          "base_uri": "https://localhost:8080/"
        },
        "outputId": "5f16cb7e-0960-48e1-e8ed-aa30c7437f4d"
      },
      "outputs": [
        {
          "output_type": "execute_result",
          "data": {
            "text/plain": [
              "TensorShape([64, 8, 112, 107])"
            ]
          },
          "metadata": {},
          "execution_count": 38
        }
      ],
      "source": [
        "decoder.last_attn_scores.shape"
      ]
    },
    {
      "cell_type": "markdown",
      "metadata": {
        "id": "C8eJZ2gM0pUA"
      },
      "source": [
        "### The Transformer\n",
        "Having defined the `Encoder` and `Decoder`, it is time to build the Transformer model. Here we need to put them together and add a final linear (Dense) layer which converts the resulting vector at each location into output token probabilities."
      ]
    },
    {
      "cell_type": "code",
      "execution_count": 39,
      "metadata": {
        "id": "B9-YVa5l0e4p"
      },
      "outputs": [],
      "source": [
        "class Transformer(tf.keras.Model):\n",
        "  def __init__(self, *, num_layers, d_model, num_heads, dff, input_vocab_size, \n",
        "               target_vocab_size, dropout_rate=0.1):\n",
        "    super().__init__()\n",
        "    self.encoder = Encoder(num_layers=num_layers, d_model=d_model, num_heads=num_heads,\n",
        "                           dff=dff, vocab_size=input_vocab_size, dropout_rate=dropout_rate)\n",
        "    self.decoder = Decoder(num_layers=num_layers, d_model=d_model, num_heads=num_heads,\n",
        "                           dff=dff, vocab_size=target_vocab_size, dropout_rate=dropout_rate)\n",
        "    self.final_layer = tf.keras.layers.Dense(target_vocab_size)\n",
        "  \n",
        "  def call(self, inputs):\n",
        "    context, x = inputs\n",
        "    context = self.encoder(context) # (batch_size, context_len, d_model)\n",
        "    x = self.decoder(x, context) # (batch_size, target_len, d_model)\n",
        "    logits = self.final_layer(x) # (batch_size, target_len, target_vocab_size)\n",
        "\n",
        "    try:\n",
        "      # Drop the keras mask, so it doesn't scale the losses/metrics.\n",
        "      del logits._keras_mask\n",
        "    except AttributeError:\n",
        "      pass\n",
        "\n",
        "    return logits"
      ]
    },
    {
      "cell_type": "markdown",
      "metadata": {
        "id": "ANPFP1bE4Keo"
      },
      "source": [
        "## Model Training\n",
        "It is time to prepare the model and start training it. \n",
        "\n",
        "Start by defining hyperparameters."
      ]
    },
    {
      "cell_type": "code",
      "execution_count": 40,
      "metadata": {
        "id": "V6eiKsRY3_uN"
      },
      "outputs": [],
      "source": [
        "num_layers = 4\n",
        "d_model = 128\n",
        "dff = 512\n",
        "num_heads = 8\n",
        "dropout_rate = 0.1\n",
        "input_vocab_size = reloaded_tokenizers.ru.get_vocab_size().numpy()\n",
        "target_vocab_size = reloaded_tokenizers.en.get_vocab_size().numpy()"
      ]
    },
    {
      "cell_type": "markdown",
      "metadata": {
        "id": "O0MYYOrk4Z2g"
      },
      "source": [
        "Initialise the Transformer model."
      ]
    },
    {
      "cell_type": "code",
      "execution_count": 41,
      "metadata": {
        "id": "sEcw9QPU4ZSs"
      },
      "outputs": [],
      "source": [
        "transformer = Transformer(\n",
        "    num_layers=num_layers,\n",
        "    d_model=d_model,\n",
        "    num_heads=num_heads,\n",
        "    dff=dff,\n",
        "    input_vocab_size=input_vocab_size,\n",
        "    target_vocab_size=target_vocab_size,\n",
        "    dropout_rate=dropout_rate\n",
        ")"
      ]
    },
    {
      "cell_type": "markdown",
      "metadata": {
        "id": "XFpRLZaS5fiP"
      },
      "source": [
        "Test the Transformer model."
      ]
    },
    {
      "cell_type": "code",
      "execution_count": 42,
      "metadata": {
        "id": "_00vglJf5XtV",
        "colab": {
          "base_uri": "https://localhost:8080/"
        },
        "outputId": "275a8a08-940c-474f-ac2d-e6595f5dd8a8"
      },
      "outputs": [
        {
          "output_type": "stream",
          "name": "stdout",
          "text": [
            "(64, 107)\n",
            "(64, 112)\n",
            "(64, 112, 7796)\n"
          ]
        }
      ],
      "source": [
        "output = transformer((ru, en))\n",
        "\n",
        "print(ru.shape)\n",
        "print(en.shape)\n",
        "print(output.shape)"
      ]
    },
    {
      "cell_type": "code",
      "execution_count": 43,
      "metadata": {
        "id": "fDsKwMor50VD",
        "colab": {
          "base_uri": "https://localhost:8080/"
        },
        "outputId": "4722474f-5882-4953-cde9-40c4e942a043"
      },
      "outputs": [
        {
          "output_type": "stream",
          "name": "stdout",
          "text": [
            "(64, 8, 112, 107)\n"
          ]
        }
      ],
      "source": [
        "attn_scores = transformer.decoder.dec_layers[-1].last_attn_scores\n",
        "\n",
        "print(attn_scores.shape)"
      ]
    },
    {
      "cell_type": "markdown",
      "metadata": {
        "id": "5W452d7e6mVp"
      },
      "source": [
        "Print the model summary."
      ]
    },
    {
      "cell_type": "code",
      "execution_count": 44,
      "metadata": {
        "id": "wuxj-mo26B-V",
        "colab": {
          "base_uri": "https://localhost:8080/"
        },
        "outputId": "e6f6beca-0d8c-4905-9f78-5a499979dba9"
      },
      "outputs": [
        {
          "output_type": "stream",
          "name": "stdout",
          "text": [
            "Model: \"transformer\"\n",
            "_________________________________________________________________\n",
            " Layer (type)                Output Shape              Param #   \n",
            "=================================================================\n",
            " encoder_1 (Encoder)         multiple                  3641344   \n",
            "                                                                 \n",
            " decoder_1 (Decoder)         multiple                  5747712   \n",
            "                                                                 \n",
            " dense_38 (Dense)            multiple                  1005684   \n",
            "                                                                 \n",
            "=================================================================\n",
            "Total params: 10,394,740\n",
            "Trainable params: 10,394,740\n",
            "Non-trainable params: 0\n",
            "_________________________________________________________________\n"
          ]
        }
      ],
      "source": [
        "transformer.summary()"
      ]
    },
    {
      "cell_type": "markdown",
      "metadata": {
        "id": "FuPpDdZt7bfh"
      },
      "source": [
        "For training, we will use the Adam optimizer with a custom learning rate scheduler according to the formula in the original Transformer paper."
      ]
    },
    {
      "cell_type": "code",
      "execution_count": 45,
      "metadata": {
        "id": "OSPI-9mi6qQw"
      },
      "outputs": [],
      "source": [
        "class CustomSchedule(tf.keras.optimizers.schedules.LearningRateSchedule):\n",
        "  def __init__(self, d_model, warmup_steps=4000):\n",
        "    super().__init__()\n",
        "    self.d_model = d_model\n",
        "    self.d_model = tf.cast(self.d_model, tf.float32)\n",
        "    self.warmup_steps = warmup_steps\n",
        "\n",
        "  def __call__(self, step):\n",
        "    step = tf.cast(step, tf.float32)\n",
        "    arg1 = tf.math.rsqrt(step)\n",
        "    arg2 = step * (self.warmup_steps ** -1.5)\n",
        "\n",
        "    return tf.math.rsqrt(self.d_model) * tf.math.minimum(arg1, arg2)"
      ]
    },
    {
      "cell_type": "markdown",
      "metadata": {
        "id": "1y5mW5jQ9EZb"
      },
      "source": [
        "Initialise the optimiser to be used for training."
      ]
    },
    {
      "cell_type": "code",
      "execution_count": 46,
      "metadata": {
        "id": "zqyL-TtA9AtZ"
      },
      "outputs": [],
      "source": [
        "learning_rate = CustomSchedule(d_model)\n",
        "optimizer  = tf.keras.optimizers.Adam(learning_rate=learning_rate, beta_1=0.9, beta_2=0.98, epsilon=1e-9)"
      ]
    },
    {
      "cell_type": "markdown",
      "metadata": {
        "id": "PF_kWxy99r9N"
      },
      "source": [
        "Test the custom learning rate scheduler."
      ]
    },
    {
      "cell_type": "code",
      "execution_count": 47,
      "metadata": {
        "id": "TP1PV1qJ9g-2",
        "colab": {
          "base_uri": "https://localhost:8080/",
          "height": 297
        },
        "outputId": "39515e09-b6e3-4bdd-b72a-bda810e047fc"
      },
      "outputs": [
        {
          "output_type": "execute_result",
          "data": {
            "text/plain": [
              "Text(0, 0.5, 'Learning Rate')"
            ]
          },
          "metadata": {},
          "execution_count": 47
        },
        {
          "output_type": "display_data",
          "data": {
            "text/plain": [
              "<Figure size 432x288 with 1 Axes>"
            ],
            "image/png": "[encoded data removed]"
          },
          "metadata": {
            "needs_background": "light"
          }
        }
      ],
      "source": [
        "plt.plot(learning_rate(tf.range(40000, dtype=tf.float32)))\n",
        "plt.xlabel('Train Step')\n",
        "plt.ylabel('Learning Rate')"
      ]
    },
    {
      "cell_type": "markdown",
      "metadata": {
        "id": "HAAWpL8E-tjW"
      },
      "source": [
        "When calculating loss and accuracy, it is important to apply a padding mask since the target sequences are padded."
      ]
    },
    {
      "cell_type": "code",
      "execution_count": 48,
      "metadata": {
        "id": "BK1VVzRe-AfB"
      },
      "outputs": [],
      "source": [
        "def masked_loss(label, pred):\n",
        "  mask = label != 0\n",
        "  loss_object = tf.keras.losses.SparseCategoricalCrossentropy(from_logits=True, reduction='none')\n",
        "  loss = loss_object(label, pred)\n",
        "  mask = tf.cast(mask, dtype=loss.dtype)\n",
        "  loss *= mask\n",
        "  loss = tf.reduce_sum(loss)/tf.reduce_sum(mask)\n",
        "\n",
        "  return loss\n",
        "\n",
        "def masked_accuracy(label, pred):\n",
        "  pred = tf.argmax(pred, axis=2)\n",
        "  label = tf.cast(label, dtype=pred.dtype)\n",
        "  match = label == pred\n",
        "  mask = label != 0\n",
        "  match = match & mask\n",
        "  match = tf.cast(match, dtype=tf.float32)\n",
        "  mask = tf.cast(mask, dtype=tf.float32)\n",
        "\n",
        "  return tf.reduce_sum(match)/tf.reduce_sum(mask)"
      ]
    },
    {
      "cell_type": "markdown",
      "metadata": {
        "id": "HQD76PiRCG01"
      },
      "source": [
        "Configure the training procedure using `model.compile`."
      ]
    },
    {
      "cell_type": "code",
      "execution_count": 49,
      "metadata": {
        "id": "01JnlC0kCDkN"
      },
      "outputs": [],
      "source": [
        "transformer.compile(loss=masked_loss, optimizer=optimizer, metrics=[masked_accuracy])"
      ]
    },
    {
      "cell_type": "markdown",
      "metadata": {
        "id": "vnMl5ON9jj2Y"
      },
      "source": [
        "Define a callback for saving checkpoints during training."
      ]
    },
    {
      "cell_type": "code",
      "execution_count": 50,
      "metadata": {
        "id": "dLmqnNk4jmoE"
      },
      "outputs": [],
      "source": [
        "checkpoint_dir = 'drive/MyDrive/Transformer/training/training_01'\n",
        "checkpoint_path = os.path.join(checkpoint_dir, 'cp-{epoch:04d}.ckpt')\n",
        "\n",
        "cp_callback = tf.keras.callbacks.ModelCheckpoint(\n",
        "    filepath=checkpoint_path, \n",
        "    verbose=1, \n",
        "    save_weights_only=True,\n",
        "    save_freq=5*BATCH_SIZE)"
      ]
    },
    {
      "cell_type": "markdown",
      "metadata": {
        "id": "_YKOinDYnusc"
      },
      "source": [
        "If applicable, load the previously saved weights."
      ]
    },
    {
      "cell_type": "code",
      "execution_count": 51,
      "metadata": {
        "id": "ouEgRuWMofFw"
      },
      "outputs": [],
      "source": [
        "if os.path.exists(checkpoint_dir) and len(os.listdir(checkpoint_dir)) > 0:\n",
        "  latest = tf.train.latest_checkpoint(checkpoint_dir)\n",
        "  transformer.load_weights(latest)"
      ]
    },
    {
      "cell_type": "markdown",
      "metadata": {
        "id": "Bz2CDzNhnZUA"
      },
      "source": [
        "Train the model with `model.fit`."
      ]
    },
    {
      "cell_type": "code",
      "execution_count": 71,
      "metadata": {
        "id": "NBG7AmKqCfJ_",
        "colab": {
          "base_uri": "https://localhost:8080/"
        },
        "outputId": "93a27f6e-9784-4022-f058-954164685cf8"
      },
      "outputs": [
        {
          "output_type": "stream",
          "name": "stdout",
          "text": [
            "Epoch 1/20\n",
            "  63/3252 [..............................] - ETA: 15:02 - loss: 6.5432 - masked_accuracy: 0.1289\n",
            "Epoch 1: saving model to drive/MyDrive/Transformer/training/training_01/cp-0001.ckpt\n",
            " 127/3252 [>.............................] - ETA: 14:54 - loss: 6.3874 - masked_accuracy: 0.1374\n",
            "Epoch 1: saving model to drive/MyDrive/Transformer/training/training_01/cp-0001.ckpt\n",
            " 191/3252 [>.............................] - ETA: 14:34 - loss: 6.2462 - masked_accuracy: 0.1496\n",
            "Epoch 1: saving model to drive/MyDrive/Transformer/training/training_01/cp-0001.ckpt\n",
            " 255/3252 [=>............................] - ETA: 14:09 - loss: 6.1227 - masked_accuracy: 0.1577\n",
            "Epoch 1: saving model to drive/MyDrive/Transformer/training/training_01/cp-0001.ckpt\n",
            " 319/3252 [=>............................] - ETA: 13:46 - loss: 6.0112 - masked_accuracy: 0.1644\n",
            "Epoch 1: saving model to drive/MyDrive/Transformer/training/training_01/cp-0001.ckpt\n",
            " 383/3252 [==>...........................] - ETA: 13:32 - loss: 5.9094 - masked_accuracy: 0.1710\n",
            "Epoch 1: saving model to drive/MyDrive/Transformer/training/training_01/cp-0001.ckpt\n",
            " 447/3252 [===>..........................] - ETA: 13:14 - loss: 5.8180 - masked_accuracy: 0.1782\n",
            "Epoch 1: saving model to drive/MyDrive/Transformer/training/training_01/cp-0001.ckpt\n",
            " 511/3252 [===>..........................] - ETA: 12:56 - loss: 5.7338 - masked_accuracy: 0.1846\n",
            "Epoch 1: saving model to drive/MyDrive/Transformer/training/training_01/cp-0001.ckpt\n",
            " 575/3252 [====>.........................] - ETA: 12:37 - loss: 5.6578 - masked_accuracy: 0.1906\n",
            "Epoch 1: saving model to drive/MyDrive/Transformer/training/training_01/cp-0001.ckpt\n",
            " 639/3252 [====>.........................] - ETA: 12:19 - loss: 5.5901 - masked_accuracy: 0.1961\n",
            "Epoch 1: saving model to drive/MyDrive/Transformer/training/training_01/cp-0001.ckpt\n",
            " 703/3252 [=====>........................] - ETA: 12:01 - loss: 5.5272 - masked_accuracy: 0.2013\n",
            "Epoch 1: saving model to drive/MyDrive/Transformer/training/training_01/cp-0001.ckpt\n",
            " 767/3252 [======>.......................] - ETA: 11:44 - loss: 5.4705 - masked_accuracy: 0.2061\n",
            "Epoch 1: saving model to drive/MyDrive/Transformer/training/training_01/cp-0001.ckpt\n",
            " 831/3252 [======>.......................] - ETA: 11:28 - loss: 5.4186 - masked_accuracy: 0.2104\n",
            "Epoch 1: saving model to drive/MyDrive/Transformer/training/training_01/cp-0001.ckpt\n",
            " 895/3252 [=======>......................] - ETA: 11:12 - loss: 5.3699 - masked_accuracy: 0.2142\n",
            "Epoch 1: saving model to drive/MyDrive/Transformer/training/training_01/cp-0001.ckpt\n",
            " 959/3252 [=======>......................] - ETA: 10:53 - loss: 5.3239 - masked_accuracy: 0.2181\n",
            "Epoch 1: saving model to drive/MyDrive/Transformer/training/training_01/cp-0001.ckpt\n",
            "1023/3252 [========>.....................] - ETA: 10:35 - loss: 5.2826 - masked_accuracy: 0.2214\n",
            "Epoch 1: saving model to drive/MyDrive/Transformer/training/training_01/cp-0001.ckpt\n",
            "1087/3252 [=========>....................] - ETA: 10:16 - loss: 5.2434 - masked_accuracy: 0.2247\n",
            "Epoch 1: saving model to drive/MyDrive/Transformer/training/training_01/cp-0001.ckpt\n",
            "1151/3252 [=========>....................] - ETA: 9:58 - loss: 5.2043 - masked_accuracy: 0.2279\n",
            "Epoch 1: saving model to drive/MyDrive/Transformer/training/training_01/cp-0001.ckpt\n",
            "1215/3252 [==========>...................] - ETA: 9:40 - loss: 5.1692 - masked_accuracy: 0.2309\n",
            "Epoch 1: saving model to drive/MyDrive/Transformer/training/training_01/cp-0001.ckpt\n",
            "1279/3252 [==========>...................] - ETA: 9:20 - loss: 5.1354 - masked_accuracy: 0.2339\n",
            "Epoch 1: saving model to drive/MyDrive/Transformer/training/training_01/cp-0001.ckpt\n",
            "1343/3252 [===========>..................] - ETA: 9:01 - loss: 5.1019 - masked_accuracy: 0.2367\n",
            "Epoch 1: saving model to drive/MyDrive/Transformer/training/training_01/cp-0001.ckpt\n",
            "1407/3252 [===========>..................] - ETA: 8:42 - loss: 5.0699 - masked_accuracy: 0.2394\n",
            "Epoch 1: saving model to drive/MyDrive/Transformer/training/training_01/cp-0001.ckpt\n",
            "1471/3252 [============>.................] - ETA: 8:25 - loss: 5.0407 - masked_accuracy: 0.2419\n",
            "Epoch 1: saving model to drive/MyDrive/Transformer/training/training_01/cp-0001.ckpt\n",
            "1535/3252 [=============>................] - ETA: 8:07 - loss: 5.0121 - masked_accuracy: 0.2443\n",
            "Epoch 1: saving model to drive/MyDrive/Transformer/training/training_01/cp-0001.ckpt\n",
            "1599/3252 [=============>................] - ETA: 7:50 - loss: 4.9847 - masked_accuracy: 0.2465\n",
            "Epoch 1: saving model to drive/MyDrive/Transformer/training/training_01/cp-0001.ckpt\n",
            "1663/3252 [==============>...............] - ETA: 7:31 - loss: 4.9587 - masked_accuracy: 0.2487\n",
            "Epoch 1: saving model to drive/MyDrive/Transformer/training/training_01/cp-0001.ckpt\n",
            "1727/3252 [==============>...............] - ETA: 7:13 - loss: 4.9338 - masked_accuracy: 0.2507\n",
            "Epoch 1: saving model to drive/MyDrive/Transformer/training/training_01/cp-0001.ckpt\n",
            "1791/3252 [===============>..............] - ETA: 6:55 - loss: 4.9090 - masked_accuracy: 0.2528\n",
            "Epoch 1: saving model to drive/MyDrive/Transformer/training/training_01/cp-0001.ckpt\n",
            "1855/3252 [================>.............] - ETA: 6:37 - loss: 4.8847 - masked_accuracy: 0.2549\n",
            "Epoch 1: saving model to drive/MyDrive/Transformer/training/training_01/cp-0001.ckpt\n",
            "1919/3252 [================>.............] - ETA: 6:18 - loss: 4.8602 - masked_accuracy: 0.2570\n",
            "Epoch 1: saving model to drive/MyDrive/Transformer/training/training_01/cp-0001.ckpt\n",
            "1983/3252 [=================>............] - ETA: 6:01 - loss: 4.8371 - masked_accuracy: 0.2590\n",
            "Epoch 1: saving model to drive/MyDrive/Transformer/training/training_01/cp-0001.ckpt\n",
            "2047/3252 [=================>............] - ETA: 5:42 - loss: 4.8145 - masked_accuracy: 0.2609\n",
            "Epoch 1: saving model to drive/MyDrive/Transformer/training/training_01/cp-0001.ckpt\n",
            "2111/3252 [==================>...........] - ETA: 5:24 - loss: 4.7931 - masked_accuracy: 0.2628\n",
            "Epoch 1: saving model to drive/MyDrive/Transformer/training/training_01/cp-0001.ckpt\n",
            "2175/3252 [===================>..........] - ETA: 5:06 - loss: 4.7713 - masked_accuracy: 0.2646\n",
            "Epoch 1: saving model to drive/MyDrive/Transformer/training/training_01/cp-0001.ckpt\n",
            "2239/3252 [===================>..........] - ETA: 4:48 - loss: 4.7502 - masked_accuracy: 0.2665\n",
            "Epoch 1: saving model to drive/MyDrive/Transformer/training/training_01/cp-0001.ckpt\n",
            "2303/3252 [====================>.........] - ETA: 4:30 - loss: 4.7301 - masked_accuracy: 0.2683\n",
            "Epoch 1: saving model to drive/MyDrive/Transformer/training/training_01/cp-0001.ckpt\n",
            "2367/3252 [====================>.........] - ETA: 4:12 - loss: 4.7106 - masked_accuracy: 0.2700\n",
            "Epoch 1: saving model to drive/MyDrive/Transformer/training/training_01/cp-0001.ckpt\n",
            "2431/3252 [=====================>........] - ETA: 3:54 - loss: 4.6919 - masked_accuracy: 0.2716\n",
            "Epoch 1: saving model to drive/MyDrive/Transformer/training/training_01/cp-0001.ckpt\n",
            "2495/3252 [======================>.......] - ETA: 3:35 - loss: 4.6734 - masked_accuracy: 0.2732\n",
            "Epoch 1: saving model to drive/MyDrive/Transformer/training/training_01/cp-0001.ckpt\n",
            "2559/3252 [======================>.......] - ETA: 3:17 - loss: 4.6549 - masked_accuracy: 0.2749\n",
            "Epoch 1: saving model to drive/MyDrive/Transformer/training/training_01/cp-0001.ckpt\n",
            "2623/3252 [=======================>......] - ETA: 2:59 - loss: 4.6367 - masked_accuracy: 0.2765\n",
            "Epoch 1: saving model to drive/MyDrive/Transformer/training/training_01/cp-0001.ckpt\n",
            "2687/3252 [=======================>......] - ETA: 2:40 - loss: 4.6195 - masked_accuracy: 0.2780\n",
            "Epoch 1: saving model to drive/MyDrive/Transformer/training/training_01/cp-0001.ckpt\n",
            "2751/3252 [========================>.....] - ETA: 2:22 - loss: 4.6022 - masked_accuracy: 0.2795\n",
            "Epoch 1: saving model to drive/MyDrive/Transformer/training/training_01/cp-0001.ckpt\n",
            "2815/3252 [========================>.....] - ETA: 2:04 - loss: 4.5861 - masked_accuracy: 0.2809\n",
            "Epoch 1: saving model to drive/MyDrive/Transformer/training/training_01/cp-0001.ckpt\n",
            "2879/3252 [=========================>....] - ETA: 1:46 - loss: 4.5694 - masked_accuracy: 0.2824\n",
            "Epoch 1: saving model to drive/MyDrive/Transformer/training/training_01/cp-0001.ckpt\n",
            "2943/3252 [==========================>...] - ETA: 1:27 - loss: 4.5528 - masked_accuracy: 0.2840\n",
            "Epoch 1: saving model to drive/MyDrive/Transformer/training/training_01/cp-0001.ckpt\n",
            "3007/3252 [==========================>...] - ETA: 1:09 - loss: 4.5375 - masked_accuracy: 0.2853\n",
            "Epoch 1: saving model to drive/MyDrive/Transformer/training/training_01/cp-0001.ckpt\n",
            "3071/3252 [===========================>..] - ETA: 51s - loss: 4.5218 - masked_accuracy: 0.2868\n",
            "Epoch 1: saving model to drive/MyDrive/Transformer/training/training_01/cp-0001.ckpt\n",
            "3135/3252 [===========================>..] - ETA: 33s - loss: 4.5067 - masked_accuracy: 0.2881\n",
            "Epoch 1: saving model to drive/MyDrive/Transformer/training/training_01/cp-0001.ckpt\n",
            "3199/3252 [============================>.] - ETA: 15s - loss: 4.4924 - masked_accuracy: 0.2894\n",
            "Epoch 1: saving model to drive/MyDrive/Transformer/training/training_01/cp-0001.ckpt\n",
            "3252/3252 [==============================] - 949s 289ms/step - loss: 4.4800 - masked_accuracy: 0.2906 - val_loss: 3.5608 - val_masked_accuracy: 0.3836\n",
            "Epoch 2/20\n",
            "  11/3252 [..............................] - ETA: 14:05 - loss: 3.8361 - masked_accuracy: 0.3474\n",
            "Epoch 2: saving model to drive/MyDrive/Transformer/training/training_01/cp-0002.ckpt\n",
            "  75/3252 [..............................] - ETA: 15:15 - loss: 3.7539 - masked_accuracy: 0.3562\n",
            "Epoch 2: saving model to drive/MyDrive/Transformer/training/training_01/cp-0002.ckpt\n",
            " 139/3252 [>.............................] - ETA: 15:03 - loss: 3.7332 - masked_accuracy: 0.3584\n",
            "Epoch 2: saving model to drive/MyDrive/Transformer/training/training_01/cp-0002.ckpt\n",
            " 203/3252 [>.............................] - ETA: 14:47 - loss: 3.7204 - masked_accuracy: 0.3598\n",
            "Epoch 2: saving model to drive/MyDrive/Transformer/training/training_01/cp-0002.ckpt\n",
            " 267/3252 [=>............................] - ETA: 14:14 - loss: 3.7135 - masked_accuracy: 0.3605\n",
            "Epoch 2: saving model to drive/MyDrive/Transformer/training/training_01/cp-0002.ckpt\n",
            " 331/3252 [==>...........................] - ETA: 13:53 - loss: 3.6984 - masked_accuracy: 0.3622\n",
            "Epoch 2: saving model to drive/MyDrive/Transformer/training/training_01/cp-0002.ckpt\n",
            " 395/3252 [==>...........................] - ETA: 13:35 - loss: 3.6911 - masked_accuracy: 0.3630\n",
            "Epoch 2: saving model to drive/MyDrive/Transformer/training/training_01/cp-0002.ckpt\n",
            " 459/3252 [===>..........................] - ETA: 13:16 - loss: 3.6868 - masked_accuracy: 0.3638\n",
            "Epoch 2: saving model to drive/MyDrive/Transformer/training/training_01/cp-0002.ckpt\n",
            " 523/3252 [===>..........................] - ETA: 12:59 - loss: 3.6793 - masked_accuracy: 0.3646\n",
            "Epoch 2: saving model to drive/MyDrive/Transformer/training/training_01/cp-0002.ckpt\n",
            " 587/3252 [====>.........................] - ETA: 12:39 - loss: 3.6732 - masked_accuracy: 0.3652\n",
            "Epoch 2: saving model to drive/MyDrive/Transformer/training/training_01/cp-0002.ckpt\n",
            " 651/3252 [=====>........................] - ETA: 12:18 - loss: 3.6648 - masked_accuracy: 0.3662\n",
            "Epoch 2: saving model to drive/MyDrive/Transformer/training/training_01/cp-0002.ckpt\n",
            " 715/3252 [=====>........................] - ETA: 11:59 - loss: 3.6557 - masked_accuracy: 0.3671\n",
            "Epoch 2: saving model to drive/MyDrive/Transformer/training/training_01/cp-0002.ckpt\n",
            " 779/3252 [======>.......................] - ETA: 11:39 - loss: 3.6444 - masked_accuracy: 0.3684\n",
            "Epoch 2: saving model to drive/MyDrive/Transformer/training/training_01/cp-0002.ckpt\n",
            " 843/3252 [======>.......................] - ETA: 11:19 - loss: 3.6334 - masked_accuracy: 0.3697\n",
            "Epoch 2: saving model to drive/MyDrive/Transformer/training/training_01/cp-0002.ckpt\n",
            " 907/3252 [=======>......................] - ETA: 11:02 - loss: 3.6247 - masked_accuracy: 0.3709\n",
            "Epoch 2: saving model to drive/MyDrive/Transformer/training/training_01/cp-0002.ckpt\n",
            " 971/3252 [=======>......................] - ETA: 10:43 - loss: 3.6165 - masked_accuracy: 0.3717\n",
            "Epoch 2: saving model to drive/MyDrive/Transformer/training/training_01/cp-0002.ckpt\n",
            "1035/3252 [========>.....................] - ETA: 10:25 - loss: 3.6074 - masked_accuracy: 0.3727\n",
            "Epoch 2: saving model to drive/MyDrive/Transformer/training/training_01/cp-0002.ckpt\n",
            "1099/3252 [=========>....................] - ETA: 10:06 - loss: 3.5990 - masked_accuracy: 0.3736\n",
            "Epoch 2: saving model to drive/MyDrive/Transformer/training/training_01/cp-0002.ckpt\n",
            "1163/3252 [=========>....................] - ETA: 9:49 - loss: 3.5917 - masked_accuracy: 0.3745\n",
            "Epoch 2: saving model to drive/MyDrive/Transformer/training/training_01/cp-0002.ckpt\n",
            "1227/3252 [==========>...................] - ETA: 9:30 - loss: 3.5825 - masked_accuracy: 0.3755\n",
            "Epoch 2: saving model to drive/MyDrive/Transformer/training/training_01/cp-0002.ckpt\n",
            "1291/3252 [==========>...................] - ETA: 9:12 - loss: 3.5734 - masked_accuracy: 0.3765\n",
            "Epoch 2: saving model to drive/MyDrive/Transformer/training/training_01/cp-0002.ckpt\n",
            "1355/3252 [===========>..................] - ETA: 8:55 - loss: 3.5659 - masked_accuracy: 0.3773\n",
            "Epoch 2: saving model to drive/MyDrive/Transformer/training/training_01/cp-0002.ckpt\n",
            "1419/3252 [============>.................] - ETA: 8:37 - loss: 3.5571 - masked_accuracy: 0.3782\n",
            "Epoch 2: saving model to drive/MyDrive/Transformer/training/training_01/cp-0002.ckpt\n",
            "1483/3252 [============>.................] - ETA: 8:20 - loss: 3.5496 - masked_accuracy: 0.3790\n",
            "Epoch 2: saving model to drive/MyDrive/Transformer/training/training_01/cp-0002.ckpt\n",
            "1547/3252 [=============>................] - ETA: 8:02 - loss: 3.5430 - masked_accuracy: 0.3799\n",
            "Epoch 2: saving model to drive/MyDrive/Transformer/training/training_01/cp-0002.ckpt\n",
            "1611/3252 [=============>................] - ETA: 7:44 - loss: 3.5348 - masked_accuracy: 0.3808\n",
            "Epoch 2: saving model to drive/MyDrive/Transformer/training/training_01/cp-0002.ckpt\n",
            "1675/3252 [==============>...............] - ETA: 7:27 - loss: 3.5269 - masked_accuracy: 0.3817\n",
            "Epoch 2: saving model to drive/MyDrive/Transformer/training/training_01/cp-0002.ckpt\n",
            "1739/3252 [===============>..............] - ETA: 7:08 - loss: 3.5193 - masked_accuracy: 0.3826\n",
            "Epoch 2: saving model to drive/MyDrive/Transformer/training/training_01/cp-0002.ckpt\n",
            "1803/3252 [===============>..............] - ETA: 6:50 - loss: 3.5126 - masked_accuracy: 0.3834\n",
            "Epoch 2: saving model to drive/MyDrive/Transformer/training/training_01/cp-0002.ckpt\n",
            "1867/3252 [================>.............] - ETA: 6:32 - loss: 3.5054 - masked_accuracy: 0.3841\n",
            "Epoch 2: saving model to drive/MyDrive/Transformer/training/training_01/cp-0002.ckpt\n",
            "1931/3252 [================>.............] - ETA: 6:14 - loss: 3.4979 - masked_accuracy: 0.3849\n",
            "Epoch 2: saving model to drive/MyDrive/Transformer/training/training_01/cp-0002.ckpt\n",
            "1995/3252 [=================>............] - ETA: 5:57 - loss: 3.4907 - masked_accuracy: 0.3857\n",
            "Epoch 2: saving model to drive/MyDrive/Transformer/training/training_01/cp-0002.ckpt\n",
            "2059/3252 [=================>............] - ETA: 5:39 - loss: 3.4837 - masked_accuracy: 0.3865\n",
            "Epoch 2: saving model to drive/MyDrive/Transformer/training/training_01/cp-0002.ckpt\n",
            "2123/3252 [==================>...........] - ETA: 5:21 - loss: 3.4765 - masked_accuracy: 0.3874\n",
            "Epoch 2: saving model to drive/MyDrive/Transformer/training/training_01/cp-0002.ckpt\n",
            "2187/3252 [===================>..........] - ETA: 5:02 - loss: 3.4699 - masked_accuracy: 0.3881\n",
            "Epoch 2: saving model to drive/MyDrive/Transformer/training/training_01/cp-0002.ckpt\n",
            "2251/3252 [===================>..........] - ETA: 4:44 - loss: 3.4626 - masked_accuracy: 0.3890\n",
            "Epoch 2: saving model to drive/MyDrive/Transformer/training/training_01/cp-0002.ckpt\n",
            "2315/3252 [====================>.........] - ETA: 4:26 - loss: 3.4557 - masked_accuracy: 0.3898\n",
            "Epoch 2: saving model to drive/MyDrive/Transformer/training/training_01/cp-0002.ckpt\n",
            "2379/3252 [====================>.........] - ETA: 4:07 - loss: 3.4483 - masked_accuracy: 0.3906\n",
            "Epoch 2: saving model to drive/MyDrive/Transformer/training/training_01/cp-0002.ckpt\n",
            "2443/3252 [=====================>........] - ETA: 3:49 - loss: 3.4418 - masked_accuracy: 0.3913\n",
            "Epoch 2: saving model to drive/MyDrive/Transformer/training/training_01/cp-0002.ckpt\n",
            "2507/3252 [======================>.......] - ETA: 3:31 - loss: 3.4350 - masked_accuracy: 0.3920\n",
            "Epoch 2: saving model to drive/MyDrive/Transformer/training/training_01/cp-0002.ckpt\n",
            "2571/3252 [======================>.......] - ETA: 3:13 - loss: 3.4291 - masked_accuracy: 0.3927\n",
            "Epoch 2: saving model to drive/MyDrive/Transformer/training/training_01/cp-0002.ckpt\n",
            "2635/3252 [=======================>......] - ETA: 2:55 - loss: 3.4227 - masked_accuracy: 0.3934\n",
            "Epoch 2: saving model to drive/MyDrive/Transformer/training/training_01/cp-0002.ckpt\n",
            "2699/3252 [=======================>......] - ETA: 2:36 - loss: 3.4163 - masked_accuracy: 0.3941\n",
            "Epoch 2: saving model to drive/MyDrive/Transformer/training/training_01/cp-0002.ckpt\n",
            "2763/3252 [========================>.....] - ETA: 2:18 - loss: 3.4094 - masked_accuracy: 0.3949\n",
            "Epoch 2: saving model to drive/MyDrive/Transformer/training/training_01/cp-0002.ckpt\n",
            "2827/3252 [=========================>....] - ETA: 2:00 - loss: 3.4041 - masked_accuracy: 0.3955\n",
            "Epoch 2: saving model to drive/MyDrive/Transformer/training/training_01/cp-0002.ckpt\n",
            "2891/3252 [=========================>....] - ETA: 1:42 - loss: 3.3984 - masked_accuracy: 0.3961\n",
            "Epoch 2: saving model to drive/MyDrive/Transformer/training/training_01/cp-0002.ckpt\n",
            "2955/3252 [==========================>...] - ETA: 1:24 - loss: 3.3923 - masked_accuracy: 0.3968\n",
            "Epoch 2: saving model to drive/MyDrive/Transformer/training/training_01/cp-0002.ckpt\n",
            "3019/3252 [==========================>...] - ETA: 1:06 - loss: 3.3861 - masked_accuracy: 0.3976\n",
            "Epoch 2: saving model to drive/MyDrive/Transformer/training/training_01/cp-0002.ckpt\n",
            "3083/3252 [===========================>..] - ETA: 48s - loss: 3.3807 - masked_accuracy: 0.3981\n",
            "Epoch 2: saving model to drive/MyDrive/Transformer/training/training_01/cp-0002.ckpt\n",
            "3147/3252 [============================>.] - ETA: 29s - loss: 3.3749 - masked_accuracy: 0.3988\n",
            "Epoch 2: saving model to drive/MyDrive/Transformer/training/training_01/cp-0002.ckpt\n",
            "3211/3252 [============================>.] - ETA: 11s - loss: 3.3692 - masked_accuracy: 0.3994\n",
            "Epoch 2: saving model to drive/MyDrive/Transformer/training/training_01/cp-0002.ckpt\n",
            "3252/3252 [==============================] - 934s 287ms/step - loss: 3.3654 - masked_accuracy: 0.3999 - val_loss: 2.9257 - val_masked_accuracy: 0.4608\n",
            "Epoch 3/20\n",
            "  23/3252 [..............................] - ETA: 14:15 - loss: 3.1069 - masked_accuracy: 0.4244\n",
            "Epoch 3: saving model to drive/MyDrive/Transformer/training/training_01/cp-0003.ckpt\n",
            "  87/3252 [..............................] - ETA: 14:43 - loss: 3.0755 - masked_accuracy: 0.4306\n",
            "Epoch 3: saving model to drive/MyDrive/Transformer/training/training_01/cp-0003.ckpt\n",
            " 151/3252 [>.............................] - ETA: 14:33 - loss: 3.0606 - masked_accuracy: 0.4331\n",
            "Epoch 3: saving model to drive/MyDrive/Transformer/training/training_01/cp-0003.ckpt\n",
            " 215/3252 [>.............................] - ETA: 14:13 - loss: 3.0506 - masked_accuracy: 0.4344\n",
            "Epoch 3: saving model to drive/MyDrive/Transformer/training/training_01/cp-0003.ckpt\n",
            " 279/3252 [=>............................] - ETA: 13:56 - loss: 3.0486 - masked_accuracy: 0.4348\n",
            "Epoch 3: saving model to drive/MyDrive/Transformer/training/training_01/cp-0003.ckpt\n",
            " 343/3252 [==>...........................] - ETA: 13:43 - loss: 3.0484 - masked_accuracy: 0.4349\n",
            "Epoch 3: saving model to drive/MyDrive/Transformer/training/training_01/cp-0003.ckpt\n",
            " 407/3252 [==>...........................] - ETA: 13:26 - loss: 3.0493 - masked_accuracy: 0.4345\n",
            "Epoch 3: saving model to drive/MyDrive/Transformer/training/training_01/cp-0003.ckpt\n",
            " 471/3252 [===>..........................] - ETA: 13:15 - loss: 3.0475 - masked_accuracy: 0.4349\n",
            "Epoch 3: saving model to drive/MyDrive/Transformer/training/training_01/cp-0003.ckpt\n",
            " 535/3252 [===>..........................] - ETA: 12:52 - loss: 3.0439 - masked_accuracy: 0.4355\n",
            "Epoch 3: saving model to drive/MyDrive/Transformer/training/training_01/cp-0003.ckpt\n",
            " 599/3252 [====>.........................] - ETA: 12:33 - loss: 3.0378 - masked_accuracy: 0.4363\n",
            "Epoch 3: saving model to drive/MyDrive/Transformer/training/training_01/cp-0003.ckpt\n",
            " 663/3252 [=====>........................] - ETA: 12:15 - loss: 3.0337 - masked_accuracy: 0.4369\n",
            "Epoch 3: saving model to drive/MyDrive/Transformer/training/training_01/cp-0003.ckpt\n",
            " 727/3252 [=====>........................] - ETA: 11:55 - loss: 3.0297 - masked_accuracy: 0.4373\n",
            "Epoch 3: saving model to drive/MyDrive/Transformer/training/training_01/cp-0003.ckpt\n",
            " 791/3252 [======>.......................] - ETA: 11:38 - loss: 3.0269 - masked_accuracy: 0.4378\n",
            "Epoch 3: saving model to drive/MyDrive/Transformer/training/training_01/cp-0003.ckpt\n",
            " 855/3252 [======>.......................] - ETA: 11:20 - loss: 3.0214 - masked_accuracy: 0.4387\n",
            "Epoch 3: saving model to drive/MyDrive/Transformer/training/training_01/cp-0003.ckpt\n",
            " 919/3252 [=======>......................] - ETA: 11:02 - loss: 3.0186 - masked_accuracy: 0.4389\n",
            "Epoch 3: saving model to drive/MyDrive/Transformer/training/training_01/cp-0003.ckpt\n",
            " 983/3252 [========>.....................] - ETA: 10:43 - loss: 3.0155 - masked_accuracy: 0.4393\n",
            "Epoch 3: saving model to drive/MyDrive/Transformer/training/training_01/cp-0003.ckpt\n",
            "1047/3252 [========>.....................] - ETA: 10:24 - loss: 3.0086 - masked_accuracy: 0.4403\n",
            "Epoch 3: saving model to drive/MyDrive/Transformer/training/training_01/cp-0003.ckpt\n",
            "1111/3252 [=========>....................] - ETA: 10:04 - loss: 3.0049 - masked_accuracy: 0.4407\n",
            "Epoch 3: saving model to drive/MyDrive/Transformer/training/training_01/cp-0003.ckpt\n",
            "1175/3252 [=========>....................] - ETA: 9:47 - loss: 3.0020 - masked_accuracy: 0.4411\n",
            "Epoch 3: saving model to drive/MyDrive/Transformer/training/training_01/cp-0003.ckpt\n",
            "1239/3252 [==========>...................] - ETA: 9:29 - loss: 2.9980 - masked_accuracy: 0.4416\n",
            "Epoch 3: saving model to drive/MyDrive/Transformer/training/training_01/cp-0003.ckpt\n",
            "1303/3252 [===========>..................] - ETA: 9:10 - loss: 2.9942 - masked_accuracy: 0.4420\n",
            "Epoch 3: saving model to drive/MyDrive/Transformer/training/training_01/cp-0003.ckpt\n",
            "1367/3252 [===========>..................] - ETA: 8:53 - loss: 2.9906 - masked_accuracy: 0.4424\n",
            "Epoch 3: saving model to drive/MyDrive/Transformer/training/training_01/cp-0003.ckpt\n",
            "1431/3252 [============>.................] - ETA: 8:35 - loss: 2.9882 - masked_accuracy: 0.4426\n",
            "Epoch 3: saving model to drive/MyDrive/Transformer/training/training_01/cp-0003.ckpt\n",
            "1495/3252 [============>.................] - ETA: 8:17 - loss: 2.9854 - masked_accuracy: 0.4430\n",
            "Epoch 3: saving model to drive/MyDrive/Transformer/training/training_01/cp-0003.ckpt\n",
            "1559/3252 [=============>................] - ETA: 7:59 - loss: 2.9819 - masked_accuracy: 0.4435\n",
            "Epoch 3: saving model to drive/MyDrive/Transformer/training/training_01/cp-0003.ckpt\n",
            "1623/3252 [=============>................] - ETA: 7:41 - loss: 2.9786 - masked_accuracy: 0.4439\n",
            "Epoch 3: saving model to drive/MyDrive/Transformer/training/training_01/cp-0003.ckpt\n",
            "1687/3252 [==============>...............] - ETA: 7:23 - loss: 2.9755 - masked_accuracy: 0.4443\n",
            "Epoch 3: saving model to drive/MyDrive/Transformer/training/training_01/cp-0003.ckpt\n",
            "1751/3252 [===============>..............] - ETA: 7:05 - loss: 2.9728 - masked_accuracy: 0.4446\n",
            "Epoch 3: saving model to drive/MyDrive/Transformer/training/training_01/cp-0003.ckpt\n",
            "1815/3252 [===============>..............] - ETA: 6:47 - loss: 2.9698 - masked_accuracy: 0.4449\n",
            "Epoch 3: saving model to drive/MyDrive/Transformer/training/training_01/cp-0003.ckpt\n",
            "1879/3252 [================>.............] - ETA: 6:29 - loss: 2.9668 - masked_accuracy: 0.4453\n",
            "Epoch 3: saving model to drive/MyDrive/Transformer/training/training_01/cp-0003.ckpt\n",
            "1943/3252 [================>.............] - ETA: 6:11 - loss: 2.9635 - masked_accuracy: 0.4457\n",
            "Epoch 3: saving model to drive/MyDrive/Transformer/training/training_01/cp-0003.ckpt\n",
            "2007/3252 [=================>............] - ETA: 5:53 - loss: 2.9606 - masked_accuracy: 0.4461\n",
            "Epoch 3: saving model to drive/MyDrive/Transformer/training/training_01/cp-0003.ckpt\n",
            "2071/3252 [==================>...........] - ETA: 5:35 - loss: 2.9572 - masked_accuracy: 0.4465\n",
            "Epoch 3: saving model to drive/MyDrive/Transformer/training/training_01/cp-0003.ckpt\n",
            "2135/3252 [==================>...........] - ETA: 5:17 - loss: 2.9550 - masked_accuracy: 0.4468\n",
            "Epoch 3: saving model to drive/MyDrive/Transformer/training/training_01/cp-0003.ckpt\n",
            "2199/3252 [===================>..........] - ETA: 4:59 - loss: 2.9532 - masked_accuracy: 0.4470\n",
            "Epoch 3: saving model to drive/MyDrive/Transformer/training/training_01/cp-0003.ckpt\n",
            "2263/3252 [===================>..........] - ETA: 4:41 - loss: 2.9505 - masked_accuracy: 0.4473\n",
            "Epoch 3: saving model to drive/MyDrive/Transformer/training/training_01/cp-0003.ckpt\n",
            "2327/3252 [====================>.........] - ETA: 4:23 - loss: 2.9475 - masked_accuracy: 0.4476\n",
            "Epoch 3: saving model to drive/MyDrive/Transformer/training/training_01/cp-0003.ckpt\n",
            "2391/3252 [=====================>........] - ETA: 4:05 - loss: 2.9447 - masked_accuracy: 0.4479\n",
            "Epoch 3: saving model to drive/MyDrive/Transformer/training/training_01/cp-0003.ckpt\n",
            "2455/3252 [=====================>........] - ETA: 3:46 - loss: 2.9422 - masked_accuracy: 0.4482\n",
            "Epoch 3: saving model to drive/MyDrive/Transformer/training/training_01/cp-0003.ckpt\n",
            "2519/3252 [======================>.......] - ETA: 3:28 - loss: 2.9392 - masked_accuracy: 0.4486\n",
            "Epoch 3: saving model to drive/MyDrive/Transformer/training/training_01/cp-0003.ckpt\n",
            "2583/3252 [======================>.......] - ETA: 3:10 - loss: 2.9364 - masked_accuracy: 0.4490\n",
            "Epoch 3: saving model to drive/MyDrive/Transformer/training/training_01/cp-0003.ckpt\n",
            "2647/3252 [=======================>......] - ETA: 2:52 - loss: 2.9335 - masked_accuracy: 0.4493\n",
            "Epoch 3: saving model to drive/MyDrive/Transformer/training/training_01/cp-0003.ckpt\n",
            "2711/3252 [========================>.....] - ETA: 2:33 - loss: 2.9312 - masked_accuracy: 0.4496\n",
            "Epoch 3: saving model to drive/MyDrive/Transformer/training/training_01/cp-0003.ckpt\n",
            "2775/3252 [========================>.....] - ETA: 2:15 - loss: 2.9286 - masked_accuracy: 0.4500\n",
            "Epoch 3: saving model to drive/MyDrive/Transformer/training/training_01/cp-0003.ckpt\n",
            "2839/3252 [=========================>....] - ETA: 1:57 - loss: 2.9262 - masked_accuracy: 0.4502\n",
            "Epoch 3: saving model to drive/MyDrive/Transformer/training/training_01/cp-0003.ckpt\n",
            "2903/3252 [=========================>....] - ETA: 1:39 - loss: 2.9241 - masked_accuracy: 0.4505\n",
            "Epoch 3: saving model to drive/MyDrive/Transformer/training/training_01/cp-0003.ckpt\n",
            "2967/3252 [==========================>...] - ETA: 1:20 - loss: 2.9219 - masked_accuracy: 0.4508\n",
            "Epoch 3: saving model to drive/MyDrive/Transformer/training/training_01/cp-0003.ckpt\n",
            "3031/3252 [==========================>...] - ETA: 1:02 - loss: 2.9189 - masked_accuracy: 0.4512\n",
            "Epoch 3: saving model to drive/MyDrive/Transformer/training/training_01/cp-0003.ckpt\n",
            "3095/3252 [===========================>..] - ETA: 44s - loss: 2.9164 - masked_accuracy: 0.4515\n",
            "Epoch 3: saving model to drive/MyDrive/Transformer/training/training_01/cp-0003.ckpt\n",
            "3159/3252 [============================>.] - ETA: 26s - loss: 2.9138 - masked_accuracy: 0.4518\n",
            "Epoch 3: saving model to drive/MyDrive/Transformer/training/training_01/cp-0003.ckpt\n",
            "3223/3252 [============================>.] - ETA: 8s - loss: 2.9113 - masked_accuracy: 0.4522\n",
            "Epoch 3: saving model to drive/MyDrive/Transformer/training/training_01/cp-0003.ckpt\n",
            "3252/3252 [==============================] - 934s 287ms/step - loss: 2.9105 - masked_accuracy: 0.4523 - val_loss: 2.6751 - val_masked_accuracy: 0.4931\n",
            "Epoch 4/20\n",
            "  35/3252 [..............................] - ETA: 14:40 - loss: 2.7706 - masked_accuracy: 0.4704\n",
            "Epoch 4: saving model to drive/MyDrive/Transformer/training/training_01/cp-0004.ckpt\n",
            "  99/3252 [..............................] - ETA: 14:36 - loss: 2.7667 - masked_accuracy: 0.4681\n",
            "Epoch 4: saving model to drive/MyDrive/Transformer/training/training_01/cp-0004.ckpt\n",
            " 163/3252 [>.............................] - ETA: 14:22 - loss: 2.7613 - masked_accuracy: 0.4694\n",
            "Epoch 4: saving model to drive/MyDrive/Transformer/training/training_01/cp-0004.ckpt\n",
            " 227/3252 [=>............................] - ETA: 14:12 - loss: 2.7596 - masked_accuracy: 0.4700\n",
            "Epoch 4: saving model to drive/MyDrive/Transformer/training/training_01/cp-0004.ckpt\n",
            " 291/3252 [=>............................] - ETA: 14:05 - loss: 2.7703 - masked_accuracy: 0.4688\n",
            "Epoch 4: saving model to drive/MyDrive/Transformer/training/training_01/cp-0004.ckpt\n",
            " 355/3252 [==>...........................] - ETA: 13:48 - loss: 2.7689 - masked_accuracy: 0.4691\n",
            "Epoch 4: saving model to drive/MyDrive/Transformer/training/training_01/cp-0004.ckpt\n",
            " 419/3252 [==>...........................] - ETA: 13:33 - loss: 2.7663 - masked_accuracy: 0.4693\n",
            "Epoch 4: saving model to drive/MyDrive/Transformer/training/training_01/cp-0004.ckpt\n",
            " 483/3252 [===>..........................] - ETA: 13:14 - loss: 2.7634 - masked_accuracy: 0.4698\n",
            "Epoch 4: saving model to drive/MyDrive/Transformer/training/training_01/cp-0004.ckpt\n",
            " 547/3252 [====>.........................] - ETA: 12:53 - loss: 2.7613 - masked_accuracy: 0.4702\n",
            "Epoch 4: saving model to drive/MyDrive/Transformer/training/training_01/cp-0004.ckpt\n",
            " 611/3252 [====>.........................] - ETA: 12:38 - loss: 2.7617 - masked_accuracy: 0.4703\n",
            "Epoch 4: saving model to drive/MyDrive/Transformer/training/training_01/cp-0004.ckpt\n",
            " 675/3252 [=====>........................] - ETA: 12:16 - loss: 2.7586 - masked_accuracy: 0.4709\n",
            "Epoch 4: saving model to drive/MyDrive/Transformer/training/training_01/cp-0004.ckpt\n",
            " 739/3252 [=====>........................] - ETA: 11:58 - loss: 2.7557 - masked_accuracy: 0.4713\n",
            "Epoch 4: saving model to drive/MyDrive/Transformer/training/training_01/cp-0004.ckpt\n",
            " 803/3252 [======>.......................] - ETA: 11:39 - loss: 2.7550 - masked_accuracy: 0.4714\n",
            "Epoch 4: saving model to drive/MyDrive/Transformer/training/training_01/cp-0004.ckpt\n",
            " 867/3252 [======>.......................] - ETA: 11:22 - loss: 2.7528 - masked_accuracy: 0.4717\n",
            "Epoch 4: saving model to drive/MyDrive/Transformer/training/training_01/cp-0004.ckpt\n",
            " 931/3252 [=======>......................] - ETA: 11:04 - loss: 2.7496 - masked_accuracy: 0.4723\n",
            "Epoch 4: saving model to drive/MyDrive/Transformer/training/training_01/cp-0004.ckpt\n",
            " 995/3252 [========>.....................] - ETA: 10:44 - loss: 2.7463 - masked_accuracy: 0.4728\n",
            "Epoch 4: saving model to drive/MyDrive/Transformer/training/training_01/cp-0004.ckpt\n",
            "1059/3252 [========>.....................] - ETA: 10:28 - loss: 2.7442 - masked_accuracy: 0.4730\n",
            "Epoch 4: saving model to drive/MyDrive/Transformer/training/training_01/cp-0004.ckpt\n",
            "1123/3252 [=========>....................] - ETA: 10:07 - loss: 2.7418 - masked_accuracy: 0.4733\n",
            "Epoch 4: saving model to drive/MyDrive/Transformer/training/training_01/cp-0004.ckpt\n",
            "1187/3252 [=========>....................] - ETA: 9:49 - loss: 2.7402 - masked_accuracy: 0.4736\n",
            "Epoch 4: saving model to drive/MyDrive/Transformer/training/training_01/cp-0004.ckpt\n",
            "1251/3252 [==========>...................] - ETA: 9:30 - loss: 2.7385 - masked_accuracy: 0.4739\n",
            "Epoch 4: saving model to drive/MyDrive/Transformer/training/training_01/cp-0004.ckpt\n",
            "1315/3252 [===========>..................] - ETA: 9:11 - loss: 2.7372 - masked_accuracy: 0.4742\n",
            "Epoch 4: saving model to drive/MyDrive/Transformer/training/training_01/cp-0004.ckpt\n",
            "1379/3252 [===========>..................] - ETA: 8:53 - loss: 2.7360 - masked_accuracy: 0.4744\n",
            "Epoch 4: saving model to drive/MyDrive/Transformer/training/training_01/cp-0004.ckpt\n",
            "1443/3252 [============>.................] - ETA: 8:34 - loss: 2.7344 - masked_accuracy: 0.4746\n",
            "Epoch 4: saving model to drive/MyDrive/Transformer/training/training_01/cp-0004.ckpt\n",
            "1507/3252 [============>.................] - ETA: 8:17 - loss: 2.7328 - masked_accuracy: 0.4749\n",
            "Epoch 4: saving model to drive/MyDrive/Transformer/training/training_01/cp-0004.ckpt\n",
            "1571/3252 [=============>................] - ETA: 7:58 - loss: 2.7306 - masked_accuracy: 0.4752\n",
            "Epoch 4: saving model to drive/MyDrive/Transformer/training/training_01/cp-0004.ckpt\n",
            "1635/3252 [==============>...............] - ETA: 7:40 - loss: 2.7290 - masked_accuracy: 0.4754\n",
            "Epoch 4: saving model to drive/MyDrive/Transformer/training/training_01/cp-0004.ckpt\n",
            "1699/3252 [==============>...............] - ETA: 7:22 - loss: 2.7277 - masked_accuracy: 0.4755\n",
            "Epoch 4: saving model to drive/MyDrive/Transformer/training/training_01/cp-0004.ckpt\n",
            "1763/3252 [===============>..............] - ETA: 7:04 - loss: 2.7257 - masked_accuracy: 0.4758\n",
            "Epoch 4: saving model to drive/MyDrive/Transformer/training/training_01/cp-0004.ckpt\n",
            "1827/3252 [===============>..............] - ETA: 6:45 - loss: 2.7238 - masked_accuracy: 0.4762\n",
            "Epoch 4: saving model to drive/MyDrive/Transformer/training/training_01/cp-0004.ckpt\n",
            "1891/3252 [================>.............] - ETA: 6:27 - loss: 2.7214 - masked_accuracy: 0.4765\n",
            "Epoch 4: saving model to drive/MyDrive/Transformer/training/training_01/cp-0004.ckpt\n",
            "1955/3252 [=================>............] - ETA: 6:09 - loss: 2.7204 - masked_accuracy: 0.4766\n",
            "Epoch 4: saving model to drive/MyDrive/Transformer/training/training_01/cp-0004.ckpt\n",
            "2019/3252 [=================>............] - ETA: 5:51 - loss: 2.7187 - masked_accuracy: 0.4769\n",
            "Epoch 4: saving model to drive/MyDrive/Transformer/training/training_01/cp-0004.ckpt\n",
            "2083/3252 [==================>...........] - ETA: 5:33 - loss: 2.7174 - masked_accuracy: 0.4770\n",
            "Epoch 4: saving model to drive/MyDrive/Transformer/training/training_01/cp-0004.ckpt\n",
            "2147/3252 [==================>...........] - ETA: 5:14 - loss: 2.7167 - masked_accuracy: 0.4771\n",
            "Epoch 4: saving model to drive/MyDrive/Transformer/training/training_01/cp-0004.ckpt\n",
            "2211/3252 [===================>..........] - ETA: 4:56 - loss: 2.7153 - masked_accuracy: 0.4773\n",
            "Epoch 4: saving model to drive/MyDrive/Transformer/training/training_01/cp-0004.ckpt\n",
            "2275/3252 [===================>..........] - ETA: 4:38 - loss: 2.7143 - masked_accuracy: 0.4774\n",
            "Epoch 4: saving model to drive/MyDrive/Transformer/training/training_01/cp-0004.ckpt\n",
            "2339/3252 [====================>.........] - ETA: 4:20 - loss: 2.7137 - masked_accuracy: 0.4775\n",
            "Epoch 4: saving model to drive/MyDrive/Transformer/training/training_01/cp-0004.ckpt\n",
            "2403/3252 [=====================>........] - ETA: 4:02 - loss: 2.7120 - masked_accuracy: 0.4777\n",
            "Epoch 4: saving model to drive/MyDrive/Transformer/training/training_01/cp-0004.ckpt\n",
            "2467/3252 [=====================>........] - ETA: 3:44 - loss: 2.7103 - masked_accuracy: 0.4780\n",
            "Epoch 4: saving model to drive/MyDrive/Transformer/training/training_01/cp-0004.ckpt\n",
            "2531/3252 [======================>.......] - ETA: 3:25 - loss: 2.7088 - masked_accuracy: 0.4782\n",
            "Epoch 4: saving model to drive/MyDrive/Transformer/training/training_01/cp-0004.ckpt\n",
            "2595/3252 [======================>.......] - ETA: 3:07 - loss: 2.7070 - masked_accuracy: 0.4785\n",
            "Epoch 4: saving model to drive/MyDrive/Transformer/training/training_01/cp-0004.ckpt\n",
            "2659/3252 [=======================>......] - ETA: 2:49 - loss: 2.7049 - masked_accuracy: 0.4787\n",
            "Epoch 4: saving model to drive/MyDrive/Transformer/training/training_01/cp-0004.ckpt\n",
            "2723/3252 [========================>.....] - ETA: 2:30 - loss: 2.7031 - masked_accuracy: 0.4790\n",
            "Epoch 4: saving model to drive/MyDrive/Transformer/training/training_01/cp-0004.ckpt\n",
            "2787/3252 [========================>.....] - ETA: 2:12 - loss: 2.7015 - masked_accuracy: 0.4792\n",
            "Epoch 4: saving model to drive/MyDrive/Transformer/training/training_01/cp-0004.ckpt\n",
            "2851/3252 [=========================>....] - ETA: 1:54 - loss: 2.7006 - masked_accuracy: 0.4794\n",
            "Epoch 4: saving model to drive/MyDrive/Transformer/training/training_01/cp-0004.ckpt\n",
            "2915/3252 [=========================>....] - ETA: 1:36 - loss: 2.6986 - masked_accuracy: 0.4796\n",
            "Epoch 4: saving model to drive/MyDrive/Transformer/training/training_01/cp-0004.ckpt\n",
            "2979/3252 [==========================>...] - ETA: 1:17 - loss: 2.6979 - masked_accuracy: 0.4797\n",
            "Epoch 4: saving model to drive/MyDrive/Transformer/training/training_01/cp-0004.ckpt\n",
            "3043/3252 [===========================>..] - ETA: 59s - loss: 2.6968 - masked_accuracy: 0.4799\n",
            "Epoch 4: saving model to drive/MyDrive/Transformer/training/training_01/cp-0004.ckpt\n",
            "3107/3252 [===========================>..] - ETA: 41s - loss: 2.6952 - masked_accuracy: 0.4801\n",
            "Epoch 4: saving model to drive/MyDrive/Transformer/training/training_01/cp-0004.ckpt\n",
            "3171/3252 [============================>.] - ETA: 23s - loss: 2.6941 - masked_accuracy: 0.4803\n",
            "Epoch 4: saving model to drive/MyDrive/Transformer/training/training_01/cp-0004.ckpt\n",
            "3235/3252 [============================>.] - ETA: 4s - loss: 2.6925 - masked_accuracy: 0.4805\n",
            "Epoch 4: saving model to drive/MyDrive/Transformer/training/training_01/cp-0004.ckpt\n",
            "3252/3252 [==============================] - 939s 289ms/step - loss: 2.6924 - masked_accuracy: 0.4805 - val_loss: 2.5535 - val_masked_accuracy: 0.5108\n",
            "Epoch 5/20\n",
            "  47/3252 [..............................] - ETA: 14:30 - loss: 2.6261 - masked_accuracy: 0.4864\n",
            "Epoch 5: saving model to drive/MyDrive/Transformer/training/training_01/cp-0005.ckpt\n",
            " 111/3252 [>.............................] - ETA: 14:36 - loss: 2.6113 - masked_accuracy: 0.4907\n",
            "Epoch 5: saving model to drive/MyDrive/Transformer/training/training_01/cp-0005.ckpt\n",
            " 175/3252 [>.............................] - ETA: 14:25 - loss: 2.6060 - masked_accuracy: 0.4913\n",
            "Epoch 5: saving model to drive/MyDrive/Transformer/training/training_01/cp-0005.ckpt\n",
            " 239/3252 [=>............................] - ETA: 14:06 - loss: 2.6012 - masked_accuracy: 0.4920\n",
            "Epoch 5: saving model to drive/MyDrive/Transformer/training/training_01/cp-0005.ckpt\n",
            " 303/3252 [=>............................] - ETA: 13:52 - loss: 2.6010 - masked_accuracy: 0.4916\n",
            "Epoch 5: saving model to drive/MyDrive/Transformer/training/training_01/cp-0005.ckpt\n",
            " 367/3252 [==>...........................] - ETA: 13:29 - loss: 2.6004 - masked_accuracy: 0.4923\n",
            "Epoch 5: saving model to drive/MyDrive/Transformer/training/training_01/cp-0005.ckpt\n",
            " 431/3252 [==>...........................] - ETA: 13:16 - loss: 2.6005 - masked_accuracy: 0.4925\n",
            "Epoch 5: saving model to drive/MyDrive/Transformer/training/training_01/cp-0005.ckpt\n",
            " 495/3252 [===>..........................] - ETA: 13:04 - loss: 2.6041 - masked_accuracy: 0.4918\n",
            "Epoch 5: saving model to drive/MyDrive/Transformer/training/training_01/cp-0005.ckpt\n",
            " 559/3252 [====>.........................] - ETA: 12:48 - loss: 2.6031 - masked_accuracy: 0.4920\n",
            "Epoch 5: saving model to drive/MyDrive/Transformer/training/training_01/cp-0005.ckpt\n",
            " 623/3252 [====>.........................] - ETA: 12:29 - loss: 2.5993 - masked_accuracy: 0.4926\n",
            "Epoch 5: saving model to drive/MyDrive/Transformer/training/training_01/cp-0005.ckpt\n",
            " 687/3252 [=====>........................] - ETA: 12:10 - loss: 2.5986 - masked_accuracy: 0.4926\n",
            "Epoch 5: saving model to drive/MyDrive/Transformer/training/training_01/cp-0005.ckpt\n",
            " 751/3252 [=====>........................] - ETA: 11:51 - loss: 2.5970 - masked_accuracy: 0.4929\n",
            "Epoch 5: saving model to drive/MyDrive/Transformer/training/training_01/cp-0005.ckpt\n",
            " 815/3252 [======>.......................] - ETA: 11:33 - loss: 2.5957 - masked_accuracy: 0.4932\n",
            "Epoch 5: saving model to drive/MyDrive/Transformer/training/training_01/cp-0005.ckpt\n",
            " 879/3252 [=======>......................] - ETA: 11:16 - loss: 2.5952 - masked_accuracy: 0.4933\n",
            "Epoch 5: saving model to drive/MyDrive/Transformer/training/training_01/cp-0005.ckpt\n",
            " 943/3252 [=======>......................] - ETA: 10:56 - loss: 2.5936 - masked_accuracy: 0.4936\n",
            "Epoch 5: saving model to drive/MyDrive/Transformer/training/training_01/cp-0005.ckpt\n",
            "1007/3252 [========>.....................] - ETA: 10:36 - loss: 2.5921 - masked_accuracy: 0.4938\n",
            "Epoch 5: saving model to drive/MyDrive/Transformer/training/training_01/cp-0005.ckpt\n",
            "1071/3252 [========>.....................] - ETA: 10:19 - loss: 2.5905 - masked_accuracy: 0.4940\n",
            "Epoch 5: saving model to drive/MyDrive/Transformer/training/training_01/cp-0005.ckpt\n",
            "1135/3252 [=========>....................] - ETA: 10:02 - loss: 2.5888 - masked_accuracy: 0.4942\n",
            "Epoch 5: saving model to drive/MyDrive/Transformer/training/training_01/cp-0005.ckpt\n",
            "1199/3252 [==========>...................] - ETA: 9:41 - loss: 2.5879 - masked_accuracy: 0.4943\n",
            "Epoch 5: saving model to drive/MyDrive/Transformer/training/training_01/cp-0005.ckpt\n",
            "1263/3252 [==========>...................] - ETA: 9:24 - loss: 2.5872 - masked_accuracy: 0.4944\n",
            "Epoch 5: saving model to drive/MyDrive/Transformer/training/training_01/cp-0005.ckpt\n",
            "1327/3252 [===========>..................] - ETA: 9:06 - loss: 2.5869 - masked_accuracy: 0.4945\n",
            "Epoch 5: saving model to drive/MyDrive/Transformer/training/training_01/cp-0005.ckpt\n",
            "1391/3252 [===========>..................] - ETA: 8:47 - loss: 2.5855 - masked_accuracy: 0.4948\n",
            "Epoch 5: saving model to drive/MyDrive/Transformer/training/training_01/cp-0005.ckpt\n",
            "1455/3252 [============>.................] - ETA: 8:29 - loss: 2.5855 - masked_accuracy: 0.4948\n",
            "Epoch 5: saving model to drive/MyDrive/Transformer/training/training_01/cp-0005.ckpt\n",
            "1519/3252 [=============>................] - ETA: 8:10 - loss: 2.5840 - masked_accuracy: 0.4950\n",
            "Epoch 5: saving model to drive/MyDrive/Transformer/training/training_01/cp-0005.ckpt\n",
            "1583/3252 [=============>................] - ETA: 7:52 - loss: 2.5838 - masked_accuracy: 0.4950\n",
            "Epoch 5: saving model to drive/MyDrive/Transformer/training/training_01/cp-0005.ckpt\n",
            "1647/3252 [==============>...............] - ETA: 7:34 - loss: 2.5827 - masked_accuracy: 0.4951\n",
            "Epoch 5: saving model to drive/MyDrive/Transformer/training/training_01/cp-0005.ckpt\n",
            "1711/3252 [==============>...............] - ETA: 7:16 - loss: 2.5822 - masked_accuracy: 0.4953\n",
            "Epoch 5: saving model to drive/MyDrive/Transformer/training/training_01/cp-0005.ckpt\n",
            "1775/3252 [===============>..............] - ETA: 6:58 - loss: 2.5814 - masked_accuracy: 0.4954\n",
            "Epoch 5: saving model to drive/MyDrive/Transformer/training/training_01/cp-0005.ckpt\n",
            "1839/3252 [===============>..............] - ETA: 6:39 - loss: 2.5798 - masked_accuracy: 0.4956\n",
            "Epoch 5: saving model to drive/MyDrive/Transformer/training/training_01/cp-0005.ckpt\n",
            "1903/3252 [================>.............] - ETA: 6:21 - loss: 2.5792 - masked_accuracy: 0.4958\n",
            "Epoch 5: saving model to drive/MyDrive/Transformer/training/training_01/cp-0005.ckpt\n",
            "1967/3252 [=================>............] - ETA: 6:04 - loss: 2.5787 - masked_accuracy: 0.4959\n",
            "Epoch 5: saving model to drive/MyDrive/Transformer/training/training_01/cp-0005.ckpt\n",
            "2031/3252 [=================>............] - ETA: 5:46 - loss: 2.5782 - masked_accuracy: 0.4960\n",
            "Epoch 5: saving model to drive/MyDrive/Transformer/training/training_01/cp-0005.ckpt\n",
            "2095/3252 [==================>...........] - ETA: 5:28 - loss: 2.5773 - masked_accuracy: 0.4960\n",
            "Epoch 5: saving model to drive/MyDrive/Transformer/training/training_01/cp-0005.ckpt\n",
            "2159/3252 [==================>...........] - ETA: 5:10 - loss: 2.5762 - masked_accuracy: 0.4962\n",
            "Epoch 5: saving model to drive/MyDrive/Transformer/training/training_01/cp-0005.ckpt\n",
            "2223/3252 [===================>..........] - ETA: 4:52 - loss: 2.5755 - masked_accuracy: 0.4963\n",
            "Epoch 5: saving model to drive/MyDrive/Transformer/training/training_01/cp-0005.ckpt\n",
            "2287/3252 [====================>.........] - ETA: 4:33 - loss: 2.5739 - masked_accuracy: 0.4965\n",
            "Epoch 5: saving model to drive/MyDrive/Transformer/training/training_01/cp-0005.ckpt\n",
            "2351/3252 [====================>.........] - ETA: 4:15 - loss: 2.5721 - masked_accuracy: 0.4968\n",
            "Epoch 5: saving model to drive/MyDrive/Transformer/training/training_01/cp-0005.ckpt\n",
            "2415/3252 [=====================>........] - ETA: 3:57 - loss: 2.5707 - masked_accuracy: 0.4970\n",
            "Epoch 5: saving model to drive/MyDrive/Transformer/training/training_01/cp-0005.ckpt\n",
            "2479/3252 [=====================>........] - ETA: 3:39 - loss: 2.5698 - masked_accuracy: 0.4971\n",
            "Epoch 5: saving model to drive/MyDrive/Transformer/training/training_01/cp-0005.ckpt\n",
            "2543/3252 [======================>.......] - ETA: 3:21 - loss: 2.5687 - masked_accuracy: 0.4973\n",
            "Epoch 5: saving model to drive/MyDrive/Transformer/training/training_01/cp-0005.ckpt\n",
            "2607/3252 [=======================>......] - ETA: 3:03 - loss: 2.5679 - masked_accuracy: 0.4974\n",
            "Epoch 5: saving model to drive/MyDrive/Transformer/training/training_01/cp-0005.ckpt\n",
            "2671/3252 [=======================>......] - ETA: 2:44 - loss: 2.5665 - masked_accuracy: 0.4976\n",
            "Epoch 5: saving model to drive/MyDrive/Transformer/training/training_01/cp-0005.ckpt\n",
            "2735/3252 [========================>.....] - ETA: 2:26 - loss: 2.5657 - masked_accuracy: 0.4977\n",
            "Epoch 5: saving model to drive/MyDrive/Transformer/training/training_01/cp-0005.ckpt\n",
            "2799/3252 [========================>.....] - ETA: 2:08 - loss: 2.5644 - masked_accuracy: 0.4979\n",
            "Epoch 5: saving model to drive/MyDrive/Transformer/training/training_01/cp-0005.ckpt\n",
            "2863/3252 [=========================>....] - ETA: 1:50 - loss: 2.5637 - masked_accuracy: 0.4980\n",
            "Epoch 5: saving model to drive/MyDrive/Transformer/training/training_01/cp-0005.ckpt\n",
            "2927/3252 [==========================>...] - ETA: 1:32 - loss: 2.5623 - masked_accuracy: 0.4982\n",
            "Epoch 5: saving model to drive/MyDrive/Transformer/training/training_01/cp-0005.ckpt\n",
            "2991/3252 [==========================>...] - ETA: 1:14 - loss: 2.5615 - masked_accuracy: 0.4983\n",
            "Epoch 5: saving model to drive/MyDrive/Transformer/training/training_01/cp-0005.ckpt\n",
            "3055/3252 [===========================>..] - ETA: 55s - loss: 2.5606 - masked_accuracy: 0.4985\n",
            "Epoch 5: saving model to drive/MyDrive/Transformer/training/training_01/cp-0005.ckpt\n",
            "3119/3252 [===========================>..] - ETA: 37s - loss: 2.5596 - masked_accuracy: 0.4986\n",
            "Epoch 5: saving model to drive/MyDrive/Transformer/training/training_01/cp-0005.ckpt\n",
            "3183/3252 [============================>.] - ETA: 19s - loss: 2.5587 - masked_accuracy: 0.4987\n",
            "Epoch 5: saving model to drive/MyDrive/Transformer/training/training_01/cp-0005.ckpt\n",
            "3247/3252 [============================>.] - ETA: 1s - loss: 2.5581 - masked_accuracy: 0.4988\n",
            "Epoch 5: saving model to drive/MyDrive/Transformer/training/training_01/cp-0005.ckpt\n",
            "3252/3252 [==============================] - 934s 287ms/step - loss: 2.5581 - masked_accuracy: 0.4988 - val_loss: 2.4765 - val_masked_accuracy: 0.5234\n",
            "Epoch 6/20\n",
            "  59/3252 [..............................] - ETA: 14:40 - loss: 2.4949 - masked_accuracy: 0.5070\n",
            "Epoch 6: saving model to drive/MyDrive/Transformer/training/training_01/cp-0006.ckpt\n",
            " 123/3252 [>.............................] - ETA: 14:42 - loss: 2.5014 - masked_accuracy: 0.5064\n",
            "Epoch 6: saving model to drive/MyDrive/Transformer/training/training_01/cp-0006.ckpt\n",
            " 187/3252 [>.............................] - ETA: 14:22 - loss: 2.4941 - masked_accuracy: 0.5067\n",
            "Epoch 6: saving model to drive/MyDrive/Transformer/training/training_01/cp-0006.ckpt\n",
            " 251/3252 [=>............................] - ETA: 13:57 - loss: 2.4947 - masked_accuracy: 0.5073\n",
            "Epoch 6: saving model to drive/MyDrive/Transformer/training/training_01/cp-0006.ckpt\n",
            " 315/3252 [=>............................] - ETA: 13:43 - loss: 2.4980 - masked_accuracy: 0.5070\n",
            "Epoch 6: saving model to drive/MyDrive/Transformer/training/training_01/cp-0006.ckpt\n",
            " 379/3252 [==>...........................] - ETA: 13:27 - loss: 2.4938 - masked_accuracy: 0.5077\n",
            "Epoch 6: saving model to drive/MyDrive/Transformer/training/training_01/cp-0006.ckpt\n",
            " 443/3252 [===>..........................] - ETA: 13:12 - loss: 2.4923 - masked_accuracy: 0.5080\n",
            "Epoch 6: saving model to drive/MyDrive/Transformer/training/training_01/cp-0006.ckpt\n",
            " 507/3252 [===>..........................] - ETA: 12:57 - loss: 2.4946 - masked_accuracy: 0.5076\n",
            "Epoch 6: saving model to drive/MyDrive/Transformer/training/training_01/cp-0006.ckpt\n",
            " 571/3252 [====>.........................] - ETA: 12:39 - loss: 2.4947 - masked_accuracy: 0.5075\n",
            "Epoch 6: saving model to drive/MyDrive/Transformer/training/training_01/cp-0006.ckpt\n",
            " 635/3252 [====>.........................] - ETA: 12:21 - loss: 2.4958 - masked_accuracy: 0.5075\n",
            "Epoch 6: saving model to drive/MyDrive/Transformer/training/training_01/cp-0006.ckpt\n",
            " 699/3252 [=====>........................] - ETA: 12:02 - loss: 2.4937 - masked_accuracy: 0.5078\n",
            "Epoch 6: saving model to drive/MyDrive/Transformer/training/training_01/cp-0006.ckpt\n",
            " 763/3252 [======>.......................] - ETA: 11:44 - loss: 2.4932 - masked_accuracy: 0.5080\n",
            "Epoch 6: saving model to drive/MyDrive/Transformer/training/training_01/cp-0006.ckpt\n",
            " 827/3252 [======>.......................] - ETA: 11:24 - loss: 2.4896 - masked_accuracy: 0.5086\n",
            "Epoch 6: saving model to drive/MyDrive/Transformer/training/training_01/cp-0006.ckpt\n",
            " 891/3252 [=======>......................] - ETA: 11:08 - loss: 2.4895 - masked_accuracy: 0.5085\n",
            "Epoch 6: saving model to drive/MyDrive/Transformer/training/training_01/cp-0006.ckpt\n",
            " 955/3252 [=======>......................] - ETA: 10:48 - loss: 2.4891 - masked_accuracy: 0.5085\n",
            "Epoch 6: saving model to drive/MyDrive/Transformer/training/training_01/cp-0006.ckpt\n",
            "1019/3252 [========>.....................] - ETA: 10:29 - loss: 2.4895 - masked_accuracy: 0.5083\n",
            "Epoch 6: saving model to drive/MyDrive/Transformer/training/training_01/cp-0006.ckpt\n",
            "1083/3252 [========>.....................] - ETA: 10:10 - loss: 2.4892 - masked_accuracy: 0.5084\n",
            "Epoch 6: saving model to drive/MyDrive/Transformer/training/training_01/cp-0006.ckpt\n",
            "1147/3252 [=========>....................] - ETA: 9:52 - loss: 2.4883 - masked_accuracy: 0.5086\n",
            "Epoch 6: saving model to drive/MyDrive/Transformer/training/training_01/cp-0006.ckpt\n",
            "1211/3252 [==========>...................] - ETA: 9:34 - loss: 2.4876 - masked_accuracy: 0.5086\n",
            "Epoch 6: saving model to drive/MyDrive/Transformer/training/training_01/cp-0006.ckpt\n",
            "1275/3252 [==========>...................] - ETA: 9:17 - loss: 2.4880 - masked_accuracy: 0.5086\n",
            "Epoch 6: saving model to drive/MyDrive/Transformer/training/training_01/cp-0006.ckpt\n",
            "1339/3252 [===========>..................] - ETA: 8:59 - loss: 2.4861 - masked_accuracy: 0.5088\n",
            "Epoch 6: saving model to drive/MyDrive/Transformer/training/training_01/cp-0006.ckpt\n",
            "1403/3252 [===========>..................] - ETA: 8:41 - loss: 2.4845 - masked_accuracy: 0.5091\n",
            "Epoch 6: saving model to drive/MyDrive/Transformer/training/training_01/cp-0006.ckpt\n",
            "1467/3252 [============>.................] - ETA: 8:23 - loss: 2.4838 - masked_accuracy: 0.5092\n",
            "Epoch 6: saving model to drive/MyDrive/Transformer/training/training_01/cp-0006.ckpt\n",
            "1531/3252 [=============>................] - ETA: 8:05 - loss: 2.4819 - masked_accuracy: 0.5095\n",
            "Epoch 6: saving model to drive/MyDrive/Transformer/training/training_01/cp-0006.ckpt\n",
            "1595/3252 [=============>................] - ETA: 7:46 - loss: 2.4813 - masked_accuracy: 0.5096\n",
            "Epoch 6: saving model to drive/MyDrive/Transformer/training/training_01/cp-0006.ckpt\n",
            "1659/3252 [==============>...............] - ETA: 7:29 - loss: 2.4811 - masked_accuracy: 0.5096\n",
            "Epoch 6: saving model to drive/MyDrive/Transformer/training/training_01/cp-0006.ckpt\n",
            "1723/3252 [==============>...............] - ETA: 7:11 - loss: 2.4809 - masked_accuracy: 0.5096\n",
            "Epoch 6: saving model to drive/MyDrive/Transformer/training/training_01/cp-0006.ckpt\n",
            "1787/3252 [===============>..............] - ETA: 6:53 - loss: 2.4803 - masked_accuracy: 0.5098\n",
            "Epoch 6: saving model to drive/MyDrive/Transformer/training/training_01/cp-0006.ckpt\n",
            "1851/3252 [================>.............] - ETA: 6:35 - loss: 2.4795 - masked_accuracy: 0.5099\n",
            "Epoch 6: saving model to drive/MyDrive/Transformer/training/training_01/cp-0006.ckpt\n",
            "1915/3252 [================>.............] - ETA: 6:17 - loss: 2.4784 - masked_accuracy: 0.5101\n",
            "Epoch 6: saving model to drive/MyDrive/Transformer/training/training_01/cp-0006.ckpt\n",
            "1979/3252 [=================>............] - ETA: 5:59 - loss: 2.4780 - masked_accuracy: 0.5101\n",
            "Epoch 6: saving model to drive/MyDrive/Transformer/training/training_01/cp-0006.ckpt\n",
            "2043/3252 [=================>............] - ETA: 5:41 - loss: 2.4766 - masked_accuracy: 0.5103\n",
            "Epoch 6: saving model to drive/MyDrive/Transformer/training/training_01/cp-0006.ckpt\n",
            "2107/3252 [==================>...........] - ETA: 5:23 - loss: 2.4755 - masked_accuracy: 0.5104\n",
            "Epoch 6: saving model to drive/MyDrive/Transformer/training/training_01/cp-0006.ckpt\n",
            "2171/3252 [===================>..........] - ETA: 5:05 - loss: 2.4751 - masked_accuracy: 0.5105\n",
            "Epoch 6: saving model to drive/MyDrive/Transformer/training/training_01/cp-0006.ckpt\n",
            "2235/3252 [===================>..........] - ETA: 4:47 - loss: 2.4745 - masked_accuracy: 0.5106\n",
            "Epoch 6: saving model to drive/MyDrive/Transformer/training/training_01/cp-0006.ckpt\n",
            "2299/3252 [====================>.........] - ETA: 4:29 - loss: 2.4743 - masked_accuracy: 0.5106\n",
            "Epoch 6: saving model to drive/MyDrive/Transformer/training/training_01/cp-0006.ckpt\n",
            "2363/3252 [====================>.........] - ETA: 4:11 - loss: 2.4737 - masked_accuracy: 0.5107\n",
            "Epoch 6: saving model to drive/MyDrive/Transformer/training/training_01/cp-0006.ckpt\n",
            "2427/3252 [=====================>........] - ETA: 3:53 - loss: 2.4731 - masked_accuracy: 0.5108\n",
            "Epoch 6: saving model to drive/MyDrive/Transformer/training/training_01/cp-0006.ckpt\n",
            "2491/3252 [=====================>........] - ETA: 3:35 - loss: 2.4724 - masked_accuracy: 0.5109\n",
            "Epoch 6: saving model to drive/MyDrive/Transformer/training/training_01/cp-0006.ckpt\n",
            "2555/3252 [======================>.......] - ETA: 3:17 - loss: 2.4715 - masked_accuracy: 0.5111\n",
            "Epoch 6: saving model to drive/MyDrive/Transformer/training/training_01/cp-0006.ckpt\n",
            "2619/3252 [=======================>......] - ETA: 2:59 - loss: 2.4709 - masked_accuracy: 0.5112\n",
            "Epoch 6: saving model to drive/MyDrive/Transformer/training/training_01/cp-0006.ckpt\n",
            "2683/3252 [=======================>......] - ETA: 2:41 - loss: 2.4706 - masked_accuracy: 0.5112\n",
            "Epoch 6: saving model to drive/MyDrive/Transformer/training/training_01/cp-0006.ckpt\n",
            "2747/3252 [========================>.....] - ETA: 2:23 - loss: 2.4696 - masked_accuracy: 0.5114\n",
            "Epoch 6: saving model to drive/MyDrive/Transformer/training/training_01/cp-0006.ckpt\n",
            "2811/3252 [========================>.....] - ETA: 2:04 - loss: 2.4690 - masked_accuracy: 0.5115\n",
            "Epoch 6: saving model to drive/MyDrive/Transformer/training/training_01/cp-0006.ckpt\n",
            "2875/3252 [=========================>....] - ETA: 1:46 - loss: 2.4686 - masked_accuracy: 0.5115\n",
            "Epoch 6: saving model to drive/MyDrive/Transformer/training/training_01/cp-0006.ckpt\n",
            "2939/3252 [==========================>...] - ETA: 1:28 - loss: 2.4680 - masked_accuracy: 0.5116\n",
            "Epoch 6: saving model to drive/MyDrive/Transformer/training/training_01/cp-0006.ckpt\n",
            "3003/3252 [==========================>...] - ETA: 1:10 - loss: 2.4672 - masked_accuracy: 0.5117\n",
            "Epoch 6: saving model to drive/MyDrive/Transformer/training/training_01/cp-0006.ckpt\n",
            "3067/3252 [===========================>..] - ETA: 52s - loss: 2.4666 - masked_accuracy: 0.5118\n",
            "Epoch 6: saving model to drive/MyDrive/Transformer/training/training_01/cp-0006.ckpt\n",
            "3131/3252 [===========================>..] - ETA: 34s - loss: 2.4661 - masked_accuracy: 0.5119\n",
            "Epoch 6: saving model to drive/MyDrive/Transformer/training/training_01/cp-0006.ckpt\n",
            "3195/3252 [============================>.] - ETA: 16s - loss: 2.4654 - masked_accuracy: 0.5119\n",
            "Epoch 6: saving model to drive/MyDrive/Transformer/training/training_01/cp-0006.ckpt\n",
            "3252/3252 [==============================] - 933s 287ms/step - loss: 2.4652 - masked_accuracy: 0.5119 - val_loss: 2.4183 - val_masked_accuracy: 0.5297\n",
            "Epoch 7/20\n",
            "   7/3252 [..............................] - ETA: 15:23 - loss: 2.4807 - masked_accuracy: 0.5116\n",
            "Epoch 7: saving model to drive/MyDrive/Transformer/training/training_01/cp-0007.ckpt\n",
            "  71/3252 [..............................] - ETA: 15:06 - loss: 2.4179 - masked_accuracy: 0.5176\n",
            "Epoch 7: saving model to drive/MyDrive/Transformer/training/training_01/cp-0007.ckpt\n",
            " 135/3252 [>.............................] - ETA: 14:55 - loss: 2.4106 - masked_accuracy: 0.5199\n",
            "Epoch 7: saving model to drive/MyDrive/Transformer/training/training_01/cp-0007.ckpt\n",
            " 199/3252 [>.............................] - ETA: 14:32 - loss: 2.4090 - masked_accuracy: 0.5196\n",
            "Epoch 7: saving model to drive/MyDrive/Transformer/training/training_01/cp-0007.ckpt\n",
            " 263/3252 [=>............................] - ETA: 14:13 - loss: 2.4108 - masked_accuracy: 0.5193\n",
            "Epoch 7: saving model to drive/MyDrive/Transformer/training/training_01/cp-0007.ckpt\n",
            " 327/3252 [==>...........................] - ETA: 13:50 - loss: 2.4113 - masked_accuracy: 0.5191\n",
            "Epoch 7: saving model to drive/MyDrive/Transformer/training/training_01/cp-0007.ckpt\n",
            " 391/3252 [==>...........................] - ETA: 13:28 - loss: 2.4146 - masked_accuracy: 0.5186\n",
            "Epoch 7: saving model to drive/MyDrive/Transformer/training/training_01/cp-0007.ckpt\n",
            " 455/3252 [===>..........................] - ETA: 13:12 - loss: 2.4134 - masked_accuracy: 0.5189\n",
            "Epoch 7: saving model to drive/MyDrive/Transformer/training/training_01/cp-0007.ckpt\n",
            " 519/3252 [===>..........................] - ETA: 12:54 - loss: 2.4173 - masked_accuracy: 0.5183\n",
            "Epoch 7: saving model to drive/MyDrive/Transformer/training/training_01/cp-0007.ckpt\n",
            " 583/3252 [====>.........................] - ETA: 12:39 - loss: 2.4151 - masked_accuracy: 0.5185\n",
            "Epoch 7: saving model to drive/MyDrive/Transformer/training/training_01/cp-0007.ckpt\n",
            " 647/3252 [====>.........................] - ETA: 12:21 - loss: 2.4142 - masked_accuracy: 0.5187\n",
            "Epoch 7: saving model to drive/MyDrive/Transformer/training/training_01/cp-0007.ckpt\n",
            " 711/3252 [=====>........................] - ETA: 12:04 - loss: 2.4154 - masked_accuracy: 0.5186\n",
            "Epoch 7: saving model to drive/MyDrive/Transformer/training/training_01/cp-0007.ckpt\n",
            " 775/3252 [======>.......................] - ETA: 11:45 - loss: 2.4137 - masked_accuracy: 0.5188\n",
            "Epoch 7: saving model to drive/MyDrive/Transformer/training/training_01/cp-0007.ckpt\n",
            " 839/3252 [======>.......................] - ETA: 11:26 - loss: 2.4136 - masked_accuracy: 0.5188\n",
            "Epoch 7: saving model to drive/MyDrive/Transformer/training/training_01/cp-0007.ckpt\n",
            " 903/3252 [=======>......................] - ETA: 11:08 - loss: 2.4154 - masked_accuracy: 0.5186\n",
            "Epoch 7: saving model to drive/MyDrive/Transformer/training/training_01/cp-0007.ckpt\n",
            " 967/3252 [=======>......................] - ETA: 10:49 - loss: 2.4151 - masked_accuracy: 0.5187\n",
            "Epoch 7: saving model to drive/MyDrive/Transformer/training/training_01/cp-0007.ckpt\n",
            "1031/3252 [========>.....................] - ETA: 10:31 - loss: 2.4132 - masked_accuracy: 0.5190\n",
            "Epoch 7: saving model to drive/MyDrive/Transformer/training/training_01/cp-0007.ckpt\n",
            "1095/3252 [=========>....................] - ETA: 10:13 - loss: 2.4140 - masked_accuracy: 0.5189\n",
            "Epoch 7: saving model to drive/MyDrive/Transformer/training/training_01/cp-0007.ckpt\n",
            "1159/3252 [=========>....................] - ETA: 9:56 - loss: 2.4127 - masked_accuracy: 0.5190\n",
            "Epoch 7: saving model to drive/MyDrive/Transformer/training/training_01/cp-0007.ckpt\n",
            "1223/3252 [==========>...................] - ETA: 9:38 - loss: 2.4126 - masked_accuracy: 0.5191\n",
            "Epoch 7: saving model to drive/MyDrive/Transformer/training/training_01/cp-0007.ckpt\n",
            "1287/3252 [==========>...................] - ETA: 9:20 - loss: 2.4112 - masked_accuracy: 0.5193\n",
            "Epoch 7: saving model to drive/MyDrive/Transformer/training/training_01/cp-0007.ckpt\n",
            "1351/3252 [===========>..................] - ETA: 9:02 - loss: 2.4107 - masked_accuracy: 0.5194\n",
            "Epoch 7: saving model to drive/MyDrive/Transformer/training/training_01/cp-0007.ckpt\n",
            "1415/3252 [============>.................] - ETA: 8:44 - loss: 2.4109 - masked_accuracy: 0.5194\n",
            "Epoch 7: saving model to drive/MyDrive/Transformer/training/training_01/cp-0007.ckpt\n",
            "1479/3252 [============>.................] - ETA: 8:25 - loss: 2.4096 - masked_accuracy: 0.5196\n",
            "Epoch 7: saving model to drive/MyDrive/Transformer/training/training_01/cp-0007.ckpt\n",
            "1543/3252 [=============>................] - ETA: 8:06 - loss: 2.4088 - masked_accuracy: 0.5197\n",
            "Epoch 7: saving model to drive/MyDrive/Transformer/training/training_01/cp-0007.ckpt\n",
            "1607/3252 [=============>................] - ETA: 7:47 - loss: 2.4085 - masked_accuracy: 0.5196\n",
            "Epoch 7: saving model to drive/MyDrive/Transformer/training/training_01/cp-0007.ckpt\n",
            "1671/3252 [==============>...............] - ETA: 7:29 - loss: 2.4077 - masked_accuracy: 0.5198\n",
            "Epoch 7: saving model to drive/MyDrive/Transformer/training/training_01/cp-0007.ckpt\n",
            "1735/3252 [===============>..............] - ETA: 7:10 - loss: 2.4078 - masked_accuracy: 0.5198\n",
            "Epoch 7: saving model to drive/MyDrive/Transformer/training/training_01/cp-0007.ckpt\n",
            "1799/3252 [===============>..............] - ETA: 6:52 - loss: 2.4071 - masked_accuracy: 0.5199\n",
            "Epoch 7: saving model to drive/MyDrive/Transformer/training/training_01/cp-0007.ckpt\n",
            "1863/3252 [================>.............] - ETA: 6:34 - loss: 2.4064 - masked_accuracy: 0.5201\n",
            "Epoch 7: saving model to drive/MyDrive/Transformer/training/training_01/cp-0007.ckpt\n",
            "1927/3252 [================>.............] - ETA: 6:16 - loss: 2.4052 - masked_accuracy: 0.5202\n",
            "Epoch 7: saving model to drive/MyDrive/Transformer/training/training_01/cp-0007.ckpt\n",
            "1991/3252 [=================>............] - ETA: 5:58 - loss: 2.4058 - masked_accuracy: 0.5202\n",
            "Epoch 7: saving model to drive/MyDrive/Transformer/training/training_01/cp-0007.ckpt\n",
            "2055/3252 [=================>............] - ETA: 5:39 - loss: 2.4055 - masked_accuracy: 0.5203\n",
            "Epoch 7: saving model to drive/MyDrive/Transformer/training/training_01/cp-0007.ckpt\n",
            "2119/3252 [==================>...........] - ETA: 5:21 - loss: 2.4053 - masked_accuracy: 0.5203\n",
            "Epoch 7: saving model to drive/MyDrive/Transformer/training/training_01/cp-0007.ckpt\n",
            "2183/3252 [===================>..........] - ETA: 5:03 - loss: 2.4049 - masked_accuracy: 0.5204\n",
            "Epoch 7: saving model to drive/MyDrive/Transformer/training/training_01/cp-0007.ckpt\n",
            "2247/3252 [===================>..........] - ETA: 4:45 - loss: 2.4044 - masked_accuracy: 0.5204\n",
            "Epoch 7: saving model to drive/MyDrive/Transformer/training/training_01/cp-0007.ckpt\n",
            "2311/3252 [====================>.........] - ETA: 4:27 - loss: 2.4040 - masked_accuracy: 0.5205\n",
            "Epoch 7: saving model to drive/MyDrive/Transformer/training/training_01/cp-0007.ckpt\n",
            "2375/3252 [====================>.........] - ETA: 4:09 - loss: 2.4035 - masked_accuracy: 0.5205\n",
            "Epoch 7: saving model to drive/MyDrive/Transformer/training/training_01/cp-0007.ckpt\n",
            "2439/3252 [=====================>........] - ETA: 3:50 - loss: 2.4022 - masked_accuracy: 0.5207\n",
            "Epoch 7: saving model to drive/MyDrive/Transformer/training/training_01/cp-0007.ckpt\n",
            "2503/3252 [======================>.......] - ETA: 3:32 - loss: 2.4022 - masked_accuracy: 0.5208\n",
            "Epoch 7: saving model to drive/MyDrive/Transformer/training/training_01/cp-0007.ckpt\n",
            "2567/3252 [======================>.......] - ETA: 3:14 - loss: 2.4017 - masked_accuracy: 0.5208\n",
            "Epoch 7: saving model to drive/MyDrive/Transformer/training/training_01/cp-0007.ckpt\n",
            "2631/3252 [=======================>......] - ETA: 2:55 - loss: 2.4009 - masked_accuracy: 0.5209\n",
            "Epoch 7: saving model to drive/MyDrive/Transformer/training/training_01/cp-0007.ckpt\n",
            "2695/3252 [=======================>......] - ETA: 2:37 - loss: 2.4002 - masked_accuracy: 0.5210\n",
            "Epoch 7: saving model to drive/MyDrive/Transformer/training/training_01/cp-0007.ckpt\n",
            "2759/3252 [========================>.....] - ETA: 2:19 - loss: 2.3994 - masked_accuracy: 0.5212\n",
            "Epoch 7: saving model to drive/MyDrive/Transformer/training/training_01/cp-0007.ckpt\n",
            "2823/3252 [=========================>....] - ETA: 2:01 - loss: 2.3994 - masked_accuracy: 0.5212\n",
            "Epoch 7: saving model to drive/MyDrive/Transformer/training/training_01/cp-0007.ckpt\n",
            "2887/3252 [=========================>....] - ETA: 1:43 - loss: 2.3990 - masked_accuracy: 0.5212\n",
            "Epoch 7: saving model to drive/MyDrive/Transformer/training/training_01/cp-0007.ckpt\n",
            "2951/3252 [==========================>...] - ETA: 1:25 - loss: 2.3983 - masked_accuracy: 0.5214\n",
            "Epoch 7: saving model to drive/MyDrive/Transformer/training/training_01/cp-0007.ckpt\n",
            "3015/3252 [==========================>...] - ETA: 1:06 - loss: 2.3981 - masked_accuracy: 0.5213\n",
            "Epoch 7: saving model to drive/MyDrive/Transformer/training/training_01/cp-0007.ckpt\n",
            "3079/3252 [===========================>..] - ETA: 48s - loss: 2.3977 - masked_accuracy: 0.5214\n",
            "Epoch 7: saving model to drive/MyDrive/Transformer/training/training_01/cp-0007.ckpt\n",
            "3143/3252 [===========================>..] - ETA: 30s - loss: 2.3973 - masked_accuracy: 0.5215\n",
            "Epoch 7: saving model to drive/MyDrive/Transformer/training/training_01/cp-0007.ckpt\n",
            "3207/3252 [============================>.] - ETA: 12s - loss: 2.3968 - masked_accuracy: 0.5216\n",
            "Epoch 7: saving model to drive/MyDrive/Transformer/training/training_01/cp-0007.ckpt\n",
            "3252/3252 [==============================] - 928s 285ms/step - loss: 2.3961 - masked_accuracy: 0.5217 - val_loss: 2.3773 - val_masked_accuracy: 0.5389\n",
            "Epoch 8/20\n",
            "  19/3252 [..............................] - ETA: 13:27 - loss: 2.3718 - masked_accuracy: 0.5241\n",
            "Epoch 8: saving model to drive/MyDrive/Transformer/training/training_01/cp-0008.ckpt\n",
            "  83/3252 [..............................] - ETA: 14:37 - loss: 2.3570 - masked_accuracy: 0.5254\n",
            "Epoch 8: saving model to drive/MyDrive/Transformer/training/training_01/cp-0008.ckpt\n",
            " 147/3252 [>.............................] - ETA: 14:19 - loss: 2.3555 - masked_accuracy: 0.5267\n",
            "Epoch 8: saving model to drive/MyDrive/Transformer/training/training_01/cp-0008.ckpt\n",
            " 211/3252 [>.............................] - ETA: 14:23 - loss: 2.3608 - masked_accuracy: 0.5263\n",
            "Epoch 8: saving model to drive/MyDrive/Transformer/training/training_01/cp-0008.ckpt\n",
            " 275/3252 [=>............................] - ETA: 14:08 - loss: 2.3638 - masked_accuracy: 0.5260\n",
            "Epoch 8: saving model to drive/MyDrive/Transformer/training/training_01/cp-0008.ckpt\n",
            " 339/3252 [==>...........................] - ETA: 13:45 - loss: 2.3616 - masked_accuracy: 0.5260\n",
            "Epoch 8: saving model to drive/MyDrive/Transformer/training/training_01/cp-0008.ckpt\n",
            " 403/3252 [==>...........................] - ETA: 13:28 - loss: 2.3632 - masked_accuracy: 0.5259\n",
            "Epoch 8: saving model to drive/MyDrive/Transformer/training/training_01/cp-0008.ckpt\n",
            " 467/3252 [===>..........................] - ETA: 13:11 - loss: 2.3637 - masked_accuracy: 0.5256\n",
            "Epoch 8: saving model to drive/MyDrive/Transformer/training/training_01/cp-0008.ckpt\n",
            " 531/3252 [===>..........................] - ETA: 12:53 - loss: 2.3605 - masked_accuracy: 0.5262\n",
            "Epoch 8: saving model to drive/MyDrive/Transformer/training/training_01/cp-0008.ckpt\n",
            " 595/3252 [====>.........................] - ETA: 12:36 - loss: 2.3604 - masked_accuracy: 0.5264\n",
            "Epoch 8: saving model to drive/MyDrive/Transformer/training/training_01/cp-0008.ckpt\n",
            " 659/3252 [=====>........................] - ETA: 12:16 - loss: 2.3586 - masked_accuracy: 0.5269\n",
            "Epoch 8: saving model to drive/MyDrive/Transformer/training/training_01/cp-0008.ckpt\n",
            " 723/3252 [=====>........................] - ETA: 11:57 - loss: 2.3560 - masked_accuracy: 0.5273\n",
            "Epoch 8: saving model to drive/MyDrive/Transformer/training/training_01/cp-0008.ckpt\n",
            " 787/3252 [======>.......................] - ETA: 11:38 - loss: 2.3562 - masked_accuracy: 0.5272\n",
            "Epoch 8: saving model to drive/MyDrive/Transformer/training/training_01/cp-0008.ckpt\n",
            " 851/3252 [======>.......................] - ETA: 11:19 - loss: 2.3557 - masked_accuracy: 0.5274\n",
            "Epoch 8: saving model to drive/MyDrive/Transformer/training/training_01/cp-0008.ckpt\n",
            " 915/3252 [=======>......................] - ETA: 11:00 - loss: 2.3543 - masked_accuracy: 0.5277\n",
            "Epoch 8: saving model to drive/MyDrive/Transformer/training/training_01/cp-0008.ckpt\n",
            " 979/3252 [========>.....................] - ETA: 10:41 - loss: 2.3536 - masked_accuracy: 0.5279\n",
            "Epoch 8: saving model to drive/MyDrive/Transformer/training/training_01/cp-0008.ckpt\n",
            "1043/3252 [========>.....................] - ETA: 10:21 - loss: 2.3516 - masked_accuracy: 0.5282\n",
            "Epoch 8: saving model to drive/MyDrive/Transformer/training/training_01/cp-0008.ckpt\n",
            "1107/3252 [=========>....................] - ETA: 10:03 - loss: 2.3519 - masked_accuracy: 0.5282\n",
            "Epoch 8: saving model to drive/MyDrive/Transformer/training/training_01/cp-0008.ckpt\n",
            "1171/3252 [=========>....................] - ETA: 9:45 - loss: 2.3516 - masked_accuracy: 0.5283\n",
            "Epoch 8: saving model to drive/MyDrive/Transformer/training/training_01/cp-0008.ckpt\n",
            "1235/3252 [==========>...................] - ETA: 9:27 - loss: 2.3518 - masked_accuracy: 0.5283\n",
            "Epoch 8: saving model to drive/MyDrive/Transformer/training/training_01/cp-0008.ckpt\n",
            "1299/3252 [==========>...................] - ETA: 9:09 - loss: 2.3522 - masked_accuracy: 0.5283\n",
            "Epoch 8: saving model to drive/MyDrive/Transformer/training/training_01/cp-0008.ckpt\n",
            "1363/3252 [===========>..................] - ETA: 8:50 - loss: 2.3508 - masked_accuracy: 0.5285\n",
            "Epoch 8: saving model to drive/MyDrive/Transformer/training/training_01/cp-0008.ckpt\n",
            "1427/3252 [============>.................] - ETA: 8:33 - loss: 2.3512 - masked_accuracy: 0.5284\n",
            "Epoch 8: saving model to drive/MyDrive/Transformer/training/training_01/cp-0008.ckpt\n",
            "1491/3252 [============>.................] - ETA: 8:15 - loss: 2.3512 - masked_accuracy: 0.5284\n",
            "Epoch 8: saving model to drive/MyDrive/Transformer/training/training_01/cp-0008.ckpt\n",
            "1555/3252 [=============>................] - ETA: 7:57 - loss: 2.3512 - masked_accuracy: 0.5284\n",
            "Epoch 8: saving model to drive/MyDrive/Transformer/training/training_01/cp-0008.ckpt\n",
            "1619/3252 [=============>................] - ETA: 7:38 - loss: 2.3502 - masked_accuracy: 0.5286\n",
            "Epoch 8: saving model to drive/MyDrive/Transformer/training/training_01/cp-0008.ckpt\n",
            "1683/3252 [==============>...............] - ETA: 7:21 - loss: 2.3498 - masked_accuracy: 0.5287\n",
            "Epoch 8: saving model to drive/MyDrive/Transformer/training/training_01/cp-0008.ckpt\n",
            "1747/3252 [===============>..............] - ETA: 7:02 - loss: 2.3498 - masked_accuracy: 0.5287\n",
            "Epoch 8: saving model to drive/MyDrive/Transformer/training/training_01/cp-0008.ckpt\n",
            "1811/3252 [===============>..............] - ETA: 6:43 - loss: 2.3490 - masked_accuracy: 0.5288\n",
            "Epoch 8: saving model to drive/MyDrive/Transformer/training/training_01/cp-0008.ckpt\n",
            "1875/3252 [================>.............] - ETA: 6:25 - loss: 2.3483 - masked_accuracy: 0.5288\n",
            "Epoch 8: saving model to drive/MyDrive/Transformer/training/training_01/cp-0008.ckpt\n",
            "1939/3252 [================>.............] - ETA: 6:07 - loss: 2.3476 - masked_accuracy: 0.5289\n",
            "Epoch 8: saving model to drive/MyDrive/Transformer/training/training_01/cp-0008.ckpt\n",
            "2003/3252 [=================>............] - ETA: 5:49 - loss: 2.3478 - masked_accuracy: 0.5289\n",
            "Epoch 8: saving model to drive/MyDrive/Transformer/training/training_01/cp-0008.ckpt\n",
            "2067/3252 [==================>...........] - ETA: 5:32 - loss: 2.3473 - masked_accuracy: 0.5290\n",
            "Epoch 8: saving model to drive/MyDrive/Transformer/training/training_01/cp-0008.ckpt\n",
            "2131/3252 [==================>...........] - ETA: 5:14 - loss: 2.3478 - masked_accuracy: 0.5289\n",
            "Epoch 8: saving model to drive/MyDrive/Transformer/training/training_01/cp-0008.ckpt\n",
            "2195/3252 [===================>..........] - ETA: 4:56 - loss: 2.3478 - masked_accuracy: 0.5289\n",
            "Epoch 8: saving model to drive/MyDrive/Transformer/training/training_01/cp-0008.ckpt\n",
            "2259/3252 [===================>..........] - ETA: 4:38 - loss: 2.3472 - masked_accuracy: 0.5290\n",
            "Epoch 8: saving model to drive/MyDrive/Transformer/training/training_01/cp-0008.ckpt\n",
            "2323/3252 [====================>.........] - ETA: 4:20 - loss: 2.3463 - masked_accuracy: 0.5291\n",
            "Epoch 8: saving model to drive/MyDrive/Transformer/training/training_01/cp-0008.ckpt\n",
            "2387/3252 [=====================>........] - ETA: 4:02 - loss: 2.3459 - masked_accuracy: 0.5291\n",
            "Epoch 8: saving model to drive/MyDrive/Transformer/training/training_01/cp-0008.ckpt\n",
            "2451/3252 [=====================>........] - ETA: 3:44 - loss: 2.3457 - masked_accuracy: 0.5291\n",
            "Epoch 8: saving model to drive/MyDrive/Transformer/training/training_01/cp-0008.ckpt\n",
            "2515/3252 [======================>.......] - ETA: 3:26 - loss: 2.3457 - masked_accuracy: 0.5292\n",
            "Epoch 8: saving model to drive/MyDrive/Transformer/training/training_01/cp-0008.ckpt\n",
            "2579/3252 [======================>.......] - ETA: 3:08 - loss: 2.3448 - masked_accuracy: 0.5293\n",
            "Epoch 8: saving model to drive/MyDrive/Transformer/training/training_01/cp-0008.ckpt\n",
            "2643/3252 [=======================>......] - ETA: 2:50 - loss: 2.3454 - masked_accuracy: 0.5291\n",
            "Epoch 8: saving model to drive/MyDrive/Transformer/training/training_01/cp-0008.ckpt\n",
            "2707/3252 [=======================>......] - ETA: 2:32 - loss: 2.3446 - masked_accuracy: 0.5293\n",
            "Epoch 8: saving model to drive/MyDrive/Transformer/training/training_01/cp-0008.ckpt\n",
            "2771/3252 [========================>.....] - ETA: 2:14 - loss: 2.3441 - masked_accuracy: 0.5294\n",
            "Epoch 8: saving model to drive/MyDrive/Transformer/training/training_01/cp-0008.ckpt\n",
            "2835/3252 [=========================>....] - ETA: 1:56 - loss: 2.3435 - masked_accuracy: 0.5295\n",
            "Epoch 8: saving model to drive/MyDrive/Transformer/training/training_01/cp-0008.ckpt\n",
            "2899/3252 [=========================>....] - ETA: 1:38 - loss: 2.3429 - masked_accuracy: 0.5295\n",
            "Epoch 8: saving model to drive/MyDrive/Transformer/training/training_01/cp-0008.ckpt\n",
            "2963/3252 [==========================>...] - ETA: 1:20 - loss: 2.3422 - masked_accuracy: 0.5297\n",
            "Epoch 8: saving model to drive/MyDrive/Transformer/training/training_01/cp-0008.ckpt\n",
            "3027/3252 [==========================>...] - ETA: 1:02 - loss: 2.3418 - masked_accuracy: 0.5298\n",
            "Epoch 8: saving model to drive/MyDrive/Transformer/training/training_01/cp-0008.ckpt\n",
            "3091/3252 [===========================>..] - ETA: 45s - loss: 2.3420 - masked_accuracy: 0.5298\n",
            "Epoch 8: saving model to drive/MyDrive/Transformer/training/training_01/cp-0008.ckpt\n",
            "3155/3252 [============================>.] - ETA: 27s - loss: 2.3414 - masked_accuracy: 0.5298\n",
            "Epoch 8: saving model to drive/MyDrive/Transformer/training/training_01/cp-0008.ckpt\n",
            "3219/3252 [============================>.] - ETA: 9s - loss: 2.3407 - masked_accuracy: 0.5300\n",
            "Epoch 8: saving model to drive/MyDrive/Transformer/training/training_01/cp-0008.ckpt\n",
            "3252/3252 [==============================] - 920s 283ms/step - loss: 2.3404 - masked_accuracy: 0.5300 - val_loss: 2.3489 - val_masked_accuracy: 0.5399\n",
            "Epoch 9/20\n",
            "  31/3252 [..............................] - ETA: 14:12 - loss: 2.2997 - masked_accuracy: 0.5349\n",
            "Epoch 9: saving model to drive/MyDrive/Transformer/training/training_01/cp-0009.ckpt\n",
            "  95/3252 [..............................] - ETA: 14:33 - loss: 2.3157 - masked_accuracy: 0.5321\n",
            "Epoch 9: saving model to drive/MyDrive/Transformer/training/training_01/cp-0009.ckpt\n",
            " 159/3252 [>.............................] - ETA: 14:09 - loss: 2.3155 - masked_accuracy: 0.5326\n",
            "Epoch 9: saving model to drive/MyDrive/Transformer/training/training_01/cp-0009.ckpt\n",
            " 223/3252 [=>............................] - ETA: 13:59 - loss: 2.3175 - masked_accuracy: 0.5322\n",
            "Epoch 9: saving model to drive/MyDrive/Transformer/training/training_01/cp-0009.ckpt\n",
            " 287/3252 [=>............................] - ETA: 13:40 - loss: 2.3086 - masked_accuracy: 0.5339\n",
            "Epoch 9: saving model to drive/MyDrive/Transformer/training/training_01/cp-0009.ckpt\n",
            " 351/3252 [==>...........................] - ETA: 13:18 - loss: 2.3096 - masked_accuracy: 0.5341\n",
            "Epoch 9: saving model to drive/MyDrive/Transformer/training/training_01/cp-0009.ckpt\n",
            " 415/3252 [==>...........................] - ETA: 13:02 - loss: 2.3108 - masked_accuracy: 0.5342\n",
            "Epoch 9: saving model to drive/MyDrive/Transformer/training/training_01/cp-0009.ckpt\n",
            " 479/3252 [===>..........................] - ETA: 12:49 - loss: 2.3113 - masked_accuracy: 0.5340\n",
            "Epoch 9: saving model to drive/MyDrive/Transformer/training/training_01/cp-0009.ckpt\n",
            " 543/3252 [====>.........................] - ETA: 12:33 - loss: 2.3114 - masked_accuracy: 0.5340\n",
            "Epoch 9: saving model to drive/MyDrive/Transformer/training/training_01/cp-0009.ckpt\n",
            " 607/3252 [====>.........................] - ETA: 12:17 - loss: 2.3101 - masked_accuracy: 0.5344\n",
            "Epoch 9: saving model to drive/MyDrive/Transformer/training/training_01/cp-0009.ckpt\n",
            " 671/3252 [=====>........................] - ETA: 11:59 - loss: 2.3101 - masked_accuracy: 0.5344\n",
            "Epoch 9: saving model to drive/MyDrive/Transformer/training/training_01/cp-0009.ckpt\n",
            " 735/3252 [=====>........................] - ETA: 11:39 - loss: 2.3088 - masked_accuracy: 0.5348\n",
            "Epoch 9: saving model to drive/MyDrive/Transformer/training/training_01/cp-0009.ckpt\n",
            " 799/3252 [======>.......................] - ETA: 11:23 - loss: 2.3096 - masked_accuracy: 0.5347\n",
            "Epoch 9: saving model to drive/MyDrive/Transformer/training/training_01/cp-0009.ckpt\n",
            " 863/3252 [======>.......................] - ETA: 11:04 - loss: 2.3083 - masked_accuracy: 0.5349\n",
            "Epoch 9: saving model to drive/MyDrive/Transformer/training/training_01/cp-0009.ckpt\n",
            " 927/3252 [=======>......................] - ETA: 10:45 - loss: 2.3090 - masked_accuracy: 0.5348\n",
            "Epoch 9: saving model to drive/MyDrive/Transformer/training/training_01/cp-0009.ckpt\n",
            " 991/3252 [========>.....................] - ETA: 10:28 - loss: 2.3083 - masked_accuracy: 0.5349\n",
            "Epoch 9: saving model to drive/MyDrive/Transformer/training/training_01/cp-0009.ckpt\n",
            "1055/3252 [========>.....................] - ETA: 10:10 - loss: 2.3080 - masked_accuracy: 0.5350\n",
            "Epoch 9: saving model to drive/MyDrive/Transformer/training/training_01/cp-0009.ckpt\n",
            "1119/3252 [=========>....................] - ETA: 9:52 - loss: 2.3075 - masked_accuracy: 0.5351\n",
            "Epoch 9: saving model to drive/MyDrive/Transformer/training/training_01/cp-0009.ckpt\n",
            "1183/3252 [=========>....................] - ETA: 9:34 - loss: 2.3079 - masked_accuracy: 0.5350\n",
            "Epoch 9: saving model to drive/MyDrive/Transformer/training/training_01/cp-0009.ckpt\n",
            "1247/3252 [==========>...................] - ETA: 9:16 - loss: 2.3072 - masked_accuracy: 0.5351\n",
            "Epoch 9: saving model to drive/MyDrive/Transformer/training/training_01/cp-0009.ckpt\n",
            "1311/3252 [===========>..................] - ETA: 8:58 - loss: 2.3077 - masked_accuracy: 0.5350\n",
            "Epoch 9: saving model to drive/MyDrive/Transformer/training/training_01/cp-0009.ckpt\n",
            "1375/3252 [===========>..................] - ETA: 8:40 - loss: 2.3060 - masked_accuracy: 0.5352\n",
            "Epoch 9: saving model to drive/MyDrive/Transformer/training/training_01/cp-0009.ckpt\n",
            "1439/3252 [============>.................] - ETA: 8:22 - loss: 2.3053 - masked_accuracy: 0.5353\n",
            "Epoch 9: saving model to drive/MyDrive/Transformer/training/training_01/cp-0009.ckpt\n",
            "1503/3252 [============>.................] - ETA: 8:04 - loss: 2.3038 - masked_accuracy: 0.5355\n",
            "Epoch 9: saving model to drive/MyDrive/Transformer/training/training_01/cp-0009.ckpt\n",
            "1567/3252 [=============>................] - ETA: 7:46 - loss: 2.3041 - masked_accuracy: 0.5354\n",
            "Epoch 9: saving model to drive/MyDrive/Transformer/training/training_01/cp-0009.ckpt\n",
            "1631/3252 [==============>...............] - ETA: 7:28 - loss: 2.3046 - masked_accuracy: 0.5353\n",
            "Epoch 9: saving model to drive/MyDrive/Transformer/training/training_01/cp-0009.ckpt\n",
            "1695/3252 [==============>...............] - ETA: 7:10 - loss: 2.3047 - masked_accuracy: 0.5353\n",
            "Epoch 9: saving model to drive/MyDrive/Transformer/training/training_01/cp-0009.ckpt\n",
            "1759/3252 [===============>..............] - ETA: 6:52 - loss: 2.3044 - masked_accuracy: 0.5353\n",
            "Epoch 9: saving model to drive/MyDrive/Transformer/training/training_01/cp-0009.ckpt\n",
            "1823/3252 [===============>..............] - ETA: 6:35 - loss: 2.3051 - masked_accuracy: 0.5352\n",
            "Epoch 9: saving model to drive/MyDrive/Transformer/training/training_01/cp-0009.ckpt\n",
            "1887/3252 [================>.............] - ETA: 6:18 - loss: 2.3042 - masked_accuracy: 0.5354\n",
            "Epoch 9: saving model to drive/MyDrive/Transformer/training/training_01/cp-0009.ckpt\n",
            "1951/3252 [================>.............] - ETA: 6:00 - loss: 2.3029 - masked_accuracy: 0.5356\n",
            "Epoch 9: saving model to drive/MyDrive/Transformer/training/training_01/cp-0009.ckpt\n",
            "2015/3252 [=================>............] - ETA: 5:43 - loss: 2.3028 - masked_accuracy: 0.5356\n",
            "Epoch 9: saving model to drive/MyDrive/Transformer/training/training_01/cp-0009.ckpt\n",
            "2079/3252 [==================>...........] - ETA: 5:25 - loss: 2.3019 - masked_accuracy: 0.5358\n",
            "Epoch 9: saving model to drive/MyDrive/Transformer/training/training_01/cp-0009.ckpt\n",
            "2143/3252 [==================>...........] - ETA: 5:08 - loss: 2.3017 - masked_accuracy: 0.5358\n",
            "Epoch 9: saving model to drive/MyDrive/Transformer/training/training_01/cp-0009.ckpt\n",
            "2207/3252 [===================>..........] - ETA: 4:50 - loss: 2.3010 - masked_accuracy: 0.5360\n",
            "Epoch 9: saving model to drive/MyDrive/Transformer/training/training_01/cp-0009.ckpt\n",
            "2271/3252 [===================>..........] - ETA: 4:32 - loss: 2.3008 - masked_accuracy: 0.5360\n",
            "Epoch 9: saving model to drive/MyDrive/Transformer/training/training_01/cp-0009.ckpt\n",
            "2335/3252 [====================>.........] - ETA: 4:14 - loss: 2.3002 - masked_accuracy: 0.5360\n",
            "Epoch 9: saving model to drive/MyDrive/Transformer/training/training_01/cp-0009.ckpt\n",
            "2399/3252 [=====================>........] - ETA: 3:57 - loss: 2.2997 - masked_accuracy: 0.5362\n",
            "Epoch 9: saving model to drive/MyDrive/Transformer/training/training_01/cp-0009.ckpt\n",
            "2463/3252 [=====================>........] - ETA: 3:39 - loss: 2.2996 - masked_accuracy: 0.5362\n",
            "Epoch 9: saving model to drive/MyDrive/Transformer/training/training_01/cp-0009.ckpt\n",
            "2527/3252 [======================>.......] - ETA: 3:21 - loss: 2.2997 - masked_accuracy: 0.5362\n",
            "Epoch 9: saving model to drive/MyDrive/Transformer/training/training_01/cp-0009.ckpt\n",
            "2591/3252 [======================>.......] - ETA: 3:03 - loss: 2.2990 - masked_accuracy: 0.5363\n",
            "Epoch 9: saving model to drive/MyDrive/Transformer/training/training_01/cp-0009.ckpt\n",
            "2655/3252 [=======================>......] - ETA: 2:45 - loss: 2.2985 - masked_accuracy: 0.5364\n",
            "Epoch 9: saving model to drive/MyDrive/Transformer/training/training_01/cp-0009.ckpt\n",
            "2719/3252 [========================>.....] - ETA: 2:27 - loss: 2.2983 - masked_accuracy: 0.5364\n",
            "Epoch 9: saving model to drive/MyDrive/Transformer/training/training_01/cp-0009.ckpt\n",
            "2783/3252 [========================>.....] - ETA: 2:10 - loss: 2.2982 - masked_accuracy: 0.5365\n",
            "Epoch 9: saving model to drive/MyDrive/Transformer/training/training_01/cp-0009.ckpt\n",
            "2847/3252 [=========================>....] - ETA: 1:52 - loss: 2.2979 - masked_accuracy: 0.5365\n",
            "Epoch 9: saving model to drive/MyDrive/Transformer/training/training_01/cp-0009.ckpt\n",
            "2911/3252 [=========================>....] - ETA: 1:34 - loss: 2.2974 - masked_accuracy: 0.5365\n",
            "Epoch 9: saving model to drive/MyDrive/Transformer/training/training_01/cp-0009.ckpt\n",
            "2975/3252 [==========================>...] - ETA: 1:17 - loss: 2.2973 - masked_accuracy: 0.5366\n",
            "Epoch 9: saving model to drive/MyDrive/Transformer/training/training_01/cp-0009.ckpt\n",
            "3039/3252 [===========================>..] - ETA: 59s - loss: 2.2969 - masked_accuracy: 0.5366\n",
            "Epoch 9: saving model to drive/MyDrive/Transformer/training/training_01/cp-0009.ckpt\n",
            "3103/3252 [===========================>..] - ETA: 41s - loss: 2.2964 - masked_accuracy: 0.5366\n",
            "Epoch 9: saving model to drive/MyDrive/Transformer/training/training_01/cp-0009.ckpt\n",
            "3167/3252 [============================>.] - ETA: 23s - loss: 2.2962 - masked_accuracy: 0.5367\n",
            "Epoch 9: saving model to drive/MyDrive/Transformer/training/training_01/cp-0009.ckpt\n",
            "3231/3252 [============================>.] - ETA: 5s - loss: 2.2960 - masked_accuracy: 0.5367\n",
            "Epoch 9: saving model to drive/MyDrive/Transformer/training/training_01/cp-0009.ckpt\n",
            "3252/3252 [==============================] - 915s 281ms/step - loss: 2.2959 - masked_accuracy: 0.5367 - val_loss: 2.3203 - val_masked_accuracy: 0.5472\n",
            "Epoch 10/20\n",
            "  43/3252 [..............................] - ETA: 14:21 - loss: 2.2880 - masked_accuracy: 0.5360\n",
            "Epoch 10: saving model to drive/MyDrive/Transformer/training/training_01/cp-0010.ckpt\n",
            " 107/3252 [..............................] - ETA: 14:21 - loss: 2.2681 - masked_accuracy: 0.5395\n",
            "Epoch 10: saving model to drive/MyDrive/Transformer/training/training_01/cp-0010.ckpt\n",
            " 171/3252 [>.............................] - ETA: 14:01 - loss: 2.2710 - masked_accuracy: 0.5395\n",
            "Epoch 10: saving model to drive/MyDrive/Transformer/training/training_01/cp-0010.ckpt\n",
            " 235/3252 [=>............................] - ETA: 13:48 - loss: 2.2668 - masked_accuracy: 0.5403\n",
            "Epoch 10: saving model to drive/MyDrive/Transformer/training/training_01/cp-0010.ckpt\n",
            " 299/3252 [=>............................] - ETA: 13:26 - loss: 2.2639 - masked_accuracy: 0.5409\n",
            "Epoch 10: saving model to drive/MyDrive/Transformer/training/training_01/cp-0010.ckpt\n",
            " 363/3252 [==>...........................] - ETA: 13:13 - loss: 2.2662 - masked_accuracy: 0.5407\n",
            "Epoch 10: saving model to drive/MyDrive/Transformer/training/training_01/cp-0010.ckpt\n",
            " 427/3252 [==>...........................] - ETA: 12:58 - loss: 2.2691 - masked_accuracy: 0.5405\n",
            "Epoch 10: saving model to drive/MyDrive/Transformer/training/training_01/cp-0010.ckpt\n",
            " 491/3252 [===>..........................] - ETA: 12:40 - loss: 2.2714 - masked_accuracy: 0.5401\n",
            "Epoch 10: saving model to drive/MyDrive/Transformer/training/training_01/cp-0010.ckpt\n",
            " 555/3252 [====>.........................] - ETA: 12:27 - loss: 2.2722 - masked_accuracy: 0.5399\n",
            "Epoch 10: saving model to drive/MyDrive/Transformer/training/training_01/cp-0010.ckpt\n",
            " 619/3252 [====>.........................] - ETA: 12:11 - loss: 2.2737 - masked_accuracy: 0.5399\n",
            "Epoch 10: saving model to drive/MyDrive/Transformer/training/training_01/cp-0010.ckpt\n",
            " 683/3252 [=====>........................] - ETA: 11:55 - loss: 2.2734 - masked_accuracy: 0.5401\n",
            "Epoch 10: saving model to drive/MyDrive/Transformer/training/training_01/cp-0010.ckpt\n",
            " 747/3252 [=====>........................] - ETA: 11:36 - loss: 2.2725 - masked_accuracy: 0.5403\n",
            "Epoch 10: saving model to drive/MyDrive/Transformer/training/training_01/cp-0010.ckpt\n",
            " 811/3252 [======>.......................] - ETA: 11:19 - loss: 2.2721 - masked_accuracy: 0.5403\n",
            "Epoch 10: saving model to drive/MyDrive/Transformer/training/training_01/cp-0010.ckpt\n",
            " 875/3252 [=======>......................] - ETA: 11:03 - loss: 2.2717 - masked_accuracy: 0.5403\n",
            "Epoch 10: saving model to drive/MyDrive/Transformer/training/training_01/cp-0010.ckpt\n",
            " 939/3252 [=======>......................] - ETA: 10:45 - loss: 2.2697 - masked_accuracy: 0.5407\n",
            "Epoch 10: saving model to drive/MyDrive/Transformer/training/training_01/cp-0010.ckpt\n",
            "1003/3252 [========>.....................] - ETA: 10:30 - loss: 2.2692 - masked_accuracy: 0.5406\n",
            "Epoch 10: saving model to drive/MyDrive/Transformer/training/training_01/cp-0010.ckpt\n",
            "1067/3252 [========>.....................] - ETA: 10:13 - loss: 2.2693 - masked_accuracy: 0.5406\n",
            "Epoch 10: saving model to drive/MyDrive/Transformer/training/training_01/cp-0010.ckpt\n",
            "1131/3252 [=========>....................] - ETA: 9:55 - loss: 2.2683 - masked_accuracy: 0.5408\n",
            "Epoch 10: saving model to drive/MyDrive/Transformer/training/training_01/cp-0010.ckpt\n",
            "1195/3252 [==========>...................] - ETA: 9:38 - loss: 2.2682 - masked_accuracy: 0.5408\n",
            "Epoch 10: saving model to drive/MyDrive/Transformer/training/training_01/cp-0010.ckpt\n",
            "1259/3252 [==========>...................] - ETA: 9:20 - loss: 2.2668 - masked_accuracy: 0.5410\n",
            "Epoch 10: saving model to drive/MyDrive/Transformer/training/training_01/cp-0010.ckpt\n",
            "1323/3252 [===========>..................] - ETA: 9:02 - loss: 2.2668 - masked_accuracy: 0.5410\n",
            "Epoch 10: saving model to drive/MyDrive/Transformer/training/training_01/cp-0010.ckpt\n",
            "1387/3252 [===========>..................] - ETA: 8:44 - loss: 2.2662 - masked_accuracy: 0.5412\n",
            "Epoch 10: saving model to drive/MyDrive/Transformer/training/training_01/cp-0010.ckpt\n",
            "1451/3252 [============>.................] - ETA: 8:26 - loss: 2.2658 - masked_accuracy: 0.5412\n",
            "Epoch 10: saving model to drive/MyDrive/Transformer/training/training_01/cp-0010.ckpt\n",
            "1515/3252 [============>.................] - ETA: 8:09 - loss: 2.2651 - masked_accuracy: 0.5412\n",
            "Epoch 10: saving model to drive/MyDrive/Transformer/training/training_01/cp-0010.ckpt\n",
            "1579/3252 [=============>................] - ETA: 7:51 - loss: 2.2646 - masked_accuracy: 0.5413\n",
            "Epoch 10: saving model to drive/MyDrive/Transformer/training/training_01/cp-0010.ckpt\n",
            "1643/3252 [==============>...............] - ETA: 7:33 - loss: 2.2655 - masked_accuracy: 0.5411\n",
            "Epoch 10: saving model to drive/MyDrive/Transformer/training/training_01/cp-0010.ckpt\n",
            "1707/3252 [==============>...............] - ETA: 7:16 - loss: 2.2651 - masked_accuracy: 0.5411\n",
            "Epoch 10: saving model to drive/MyDrive/Transformer/training/training_01/cp-0010.ckpt\n",
            "1771/3252 [===============>..............] - ETA: 6:58 - loss: 2.2647 - masked_accuracy: 0.5412\n",
            "Epoch 10: saving model to drive/MyDrive/Transformer/training/training_01/cp-0010.ckpt\n",
            "1835/3252 [===============>..............] - ETA: 6:40 - loss: 2.2646 - masked_accuracy: 0.5412\n",
            "Epoch 10: saving model to drive/MyDrive/Transformer/training/training_01/cp-0010.ckpt\n",
            "1899/3252 [================>.............] - ETA: 6:22 - loss: 2.2648 - masked_accuracy: 0.5411\n",
            "Epoch 10: saving model to drive/MyDrive/Transformer/training/training_01/cp-0010.ckpt\n",
            "1963/3252 [=================>............] - ETA: 6:04 - loss: 2.2642 - masked_accuracy: 0.5413\n",
            "Epoch 10: saving model to drive/MyDrive/Transformer/training/training_01/cp-0010.ckpt\n",
            "2027/3252 [=================>............] - ETA: 5:46 - loss: 2.2636 - masked_accuracy: 0.5414\n",
            "Epoch 10: saving model to drive/MyDrive/Transformer/training/training_01/cp-0010.ckpt\n",
            "2091/3252 [==================>...........] - ETA: 5:28 - loss: 2.2637 - masked_accuracy: 0.5415\n",
            "Epoch 10: saving model to drive/MyDrive/Transformer/training/training_01/cp-0010.ckpt\n",
            "2155/3252 [==================>...........] - ETA: 5:10 - loss: 2.2631 - masked_accuracy: 0.5415\n",
            "Epoch 10: saving model to drive/MyDrive/Transformer/training/training_01/cp-0010.ckpt\n",
            "2219/3252 [===================>..........] - ETA: 4:52 - loss: 2.2625 - masked_accuracy: 0.5416\n",
            "Epoch 10: saving model to drive/MyDrive/Transformer/training/training_01/cp-0010.ckpt\n",
            "2283/3252 [====================>.........] - ETA: 4:34 - loss: 2.2627 - masked_accuracy: 0.5416\n",
            "Epoch 10: saving model to drive/MyDrive/Transformer/training/training_01/cp-0010.ckpt\n",
            "2347/3252 [====================>.........] - ETA: 4:16 - loss: 2.2620 - masked_accuracy: 0.5417\n",
            "Epoch 10: saving model to drive/MyDrive/Transformer/training/training_01/cp-0010.ckpt\n",
            "2411/3252 [=====================>........] - ETA: 3:58 - loss: 2.2612 - masked_accuracy: 0.5418\n",
            "Epoch 10: saving model to drive/MyDrive/Transformer/training/training_01/cp-0010.ckpt\n",
            "2475/3252 [=====================>........] - ETA: 3:40 - loss: 2.2608 - masked_accuracy: 0.5419\n",
            "Epoch 10: saving model to drive/MyDrive/Transformer/training/training_01/cp-0010.ckpt\n",
            "2539/3252 [======================>.......] - ETA: 3:22 - loss: 2.2605 - masked_accuracy: 0.5420\n",
            "Epoch 10: saving model to drive/MyDrive/Transformer/training/training_01/cp-0010.ckpt\n",
            "2603/3252 [=======================>......] - ETA: 3:04 - loss: 2.2605 - masked_accuracy: 0.5420\n",
            "Epoch 10: saving model to drive/MyDrive/Transformer/training/training_01/cp-0010.ckpt\n",
            "2667/3252 [=======================>......] - ETA: 2:45 - loss: 2.2603 - masked_accuracy: 0.5421\n",
            "Epoch 10: saving model to drive/MyDrive/Transformer/training/training_01/cp-0010.ckpt\n",
            "2731/3252 [========================>.....] - ETA: 2:27 - loss: 2.2601 - masked_accuracy: 0.5421\n",
            "Epoch 10: saving model to drive/MyDrive/Transformer/training/training_01/cp-0010.ckpt\n",
            "2795/3252 [========================>.....] - ETA: 2:09 - loss: 2.2600 - masked_accuracy: 0.5421\n",
            "Epoch 10: saving model to drive/MyDrive/Transformer/training/training_01/cp-0010.ckpt\n",
            "2859/3252 [=========================>....] - ETA: 1:51 - loss: 2.2600 - masked_accuracy: 0.5421\n",
            "Epoch 10: saving model to drive/MyDrive/Transformer/training/training_01/cp-0010.ckpt\n",
            "2923/3252 [=========================>....] - ETA: 1:33 - loss: 2.2598 - masked_accuracy: 0.5421\n",
            "Epoch 10: saving model to drive/MyDrive/Transformer/training/training_01/cp-0010.ckpt\n",
            "2987/3252 [==========================>...] - ETA: 1:15 - loss: 2.2599 - masked_accuracy: 0.5421\n",
            "Epoch 10: saving model to drive/MyDrive/Transformer/training/training_01/cp-0010.ckpt\n",
            "3051/3252 [===========================>..] - ETA: 57s - loss: 2.2593 - masked_accuracy: 0.5422\n",
            "Epoch 10: saving model to drive/MyDrive/Transformer/training/training_01/cp-0010.ckpt\n",
            "3115/3252 [===========================>..] - ETA: 38s - loss: 2.2591 - masked_accuracy: 0.5423\n",
            "Epoch 10: saving model to drive/MyDrive/Transformer/training/training_01/cp-0010.ckpt\n",
            "3179/3252 [============================>.] - ETA: 20s - loss: 2.2590 - masked_accuracy: 0.5423\n",
            "Epoch 10: saving model to drive/MyDrive/Transformer/training/training_01/cp-0010.ckpt\n",
            "3243/3252 [============================>.] - ETA: 2s - loss: 2.2588 - masked_accuracy: 0.5423\n",
            "Epoch 10: saving model to drive/MyDrive/Transformer/training/training_01/cp-0010.ckpt\n",
            "3252/3252 [==============================] - 935s 287ms/step - loss: 2.2587 - masked_accuracy: 0.5423 - val_loss: 2.3030 - val_masked_accuracy: 0.5479\n",
            "Epoch 11/20\n",
            "  55/3252 [..............................] - ETA: 14:11 - loss: 2.2517 - masked_accuracy: 0.5419\n",
            "Epoch 11: saving model to drive/MyDrive/Transformer/training/training_01/cp-0011.ckpt\n",
            " 119/3252 [>.............................] - ETA: 14:56 - loss: 2.2456 - masked_accuracy: 0.5442\n",
            "Epoch 11: saving model to drive/MyDrive/Transformer/training/training_01/cp-0011.ckpt\n",
            " 183/3252 [>.............................] - ETA: 14:37 - loss: 2.2409 - masked_accuracy: 0.5450\n",
            "Epoch 11: saving model to drive/MyDrive/Transformer/training/training_01/cp-0011.ckpt\n",
            " 247/3252 [=>............................] - ETA: 14:16 - loss: 2.2351 - masked_accuracy: 0.5453\n",
            "Epoch 11: saving model to drive/MyDrive/Transformer/training/training_01/cp-0011.ckpt\n",
            " 311/3252 [=>............................] - ETA: 13:57 - loss: 2.2321 - masked_accuracy: 0.5459\n",
            "Epoch 11: saving model to drive/MyDrive/Transformer/training/training_01/cp-0011.ckpt\n",
            " 375/3252 [==>...........................] - ETA: 13:38 - loss: 2.2361 - masked_accuracy: 0.5450\n",
            "Epoch 11: saving model to drive/MyDrive/Transformer/training/training_01/cp-0011.ckpt\n",
            " 439/3252 [===>..........................] - ETA: 13:20 - loss: 2.2345 - masked_accuracy: 0.5453\n",
            "Epoch 11: saving model to drive/MyDrive/Transformer/training/training_01/cp-0011.ckpt\n",
            " 503/3252 [===>..........................] - ETA: 13:06 - loss: 2.2348 - masked_accuracy: 0.5452\n",
            "Epoch 11: saving model to drive/MyDrive/Transformer/training/training_01/cp-0011.ckpt\n",
            " 567/3252 [====>.........................] - ETA: 12:47 - loss: 2.2371 - masked_accuracy: 0.5449\n",
            "Epoch 11: saving model to drive/MyDrive/Transformer/training/training_01/cp-0011.ckpt\n",
            " 631/3252 [====>.........................] - ETA: 12:29 - loss: 2.2371 - masked_accuracy: 0.5447\n",
            "Epoch 11: saving model to drive/MyDrive/Transformer/training/training_01/cp-0011.ckpt\n",
            " 695/3252 [=====>........................] - ETA: 12:10 - loss: 2.2380 - masked_accuracy: 0.5445\n",
            "Epoch 11: saving model to drive/MyDrive/Transformer/training/training_01/cp-0011.ckpt\n",
            " 759/3252 [======>.......................] - ETA: 11:52 - loss: 2.2362 - masked_accuracy: 0.5450\n",
            "Epoch 11: saving model to drive/MyDrive/Transformer/training/training_01/cp-0011.ckpt\n",
            " 823/3252 [======>.......................] - ETA: 11:34 - loss: 2.2360 - masked_accuracy: 0.5449\n",
            "Epoch 11: saving model to drive/MyDrive/Transformer/training/training_01/cp-0011.ckpt\n",
            " 887/3252 [=======>......................] - ETA: 11:15 - loss: 2.2346 - masked_accuracy: 0.5455\n",
            "Epoch 11: saving model to drive/MyDrive/Transformer/training/training_01/cp-0011.ckpt\n",
            " 951/3252 [=======>......................] - ETA: 10:56 - loss: 2.2341 - masked_accuracy: 0.5456\n",
            "Epoch 11: saving model to drive/MyDrive/Transformer/training/training_01/cp-0011.ckpt\n",
            "1015/3252 [========>.....................] - ETA: 10:38 - loss: 2.2336 - masked_accuracy: 0.5458\n",
            "Epoch 11: saving model to drive/MyDrive/Transformer/training/training_01/cp-0011.ckpt\n",
            "1079/3252 [========>.....................] - ETA: 10:20 - loss: 2.2337 - masked_accuracy: 0.5456\n",
            "Epoch 11: saving model to drive/MyDrive/Transformer/training/training_01/cp-0011.ckpt\n",
            "1143/3252 [=========>....................] - ETA: 10:01 - loss: 2.2328 - masked_accuracy: 0.5458\n",
            "Epoch 11: saving model to drive/MyDrive/Transformer/training/training_01/cp-0011.ckpt\n",
            "1207/3252 [==========>...................] - ETA: 9:41 - loss: 2.2330 - masked_accuracy: 0.5457\n",
            "Epoch 11: saving model to drive/MyDrive/Transformer/training/training_01/cp-0011.ckpt\n",
            "1271/3252 [==========>...................] - ETA: 9:25 - loss: 2.2327 - masked_accuracy: 0.5457\n",
            "Epoch 11: saving model to drive/MyDrive/Transformer/training/training_01/cp-0011.ckpt\n",
            "1335/3252 [===========>..................] - ETA: 9:05 - loss: 2.2328 - masked_accuracy: 0.5457\n",
            "Epoch 11: saving model to drive/MyDrive/Transformer/training/training_01/cp-0011.ckpt\n",
            "1399/3252 [===========>..................] - ETA: 8:47 - loss: 2.2325 - masked_accuracy: 0.5458\n",
            "Epoch 11: saving model to drive/MyDrive/Transformer/training/training_01/cp-0011.ckpt\n",
            "1463/3252 [============>.................] - ETA: 8:28 - loss: 2.2319 - masked_accuracy: 0.5459\n",
            "Epoch 11: saving model to drive/MyDrive/Transformer/training/training_01/cp-0011.ckpt\n",
            "1527/3252 [=============>................] - ETA: 8:09 - loss: 2.2318 - masked_accuracy: 0.5459\n",
            "Epoch 11: saving model to drive/MyDrive/Transformer/training/training_01/cp-0011.ckpt\n",
            "1591/3252 [=============>................] - ETA: 7:52 - loss: 2.2318 - masked_accuracy: 0.5460\n",
            "Epoch 11: saving model to drive/MyDrive/Transformer/training/training_01/cp-0011.ckpt\n",
            "1655/3252 [==============>...............] - ETA: 7:34 - loss: 2.2309 - masked_accuracy: 0.5462\n",
            "Epoch 11: saving model to drive/MyDrive/Transformer/training/training_01/cp-0011.ckpt\n",
            "1719/3252 [==============>...............] - ETA: 7:17 - loss: 2.2314 - masked_accuracy: 0.5461\n",
            "Epoch 11: saving model to drive/MyDrive/Transformer/training/training_01/cp-0011.ckpt\n",
            "1783/3252 [===============>..............] - ETA: 6:58 - loss: 2.2314 - masked_accuracy: 0.5461\n",
            "Epoch 11: saving model to drive/MyDrive/Transformer/training/training_01/cp-0011.ckpt\n",
            "1847/3252 [================>.............] - ETA: 6:40 - loss: 2.2307 - masked_accuracy: 0.5462\n",
            "Epoch 11: saving model to drive/MyDrive/Transformer/training/training_01/cp-0011.ckpt\n",
            "1911/3252 [================>.............] - ETA: 6:22 - loss: 2.2304 - masked_accuracy: 0.5462\n",
            "Epoch 11: saving model to drive/MyDrive/Transformer/training/training_01/cp-0011.ckpt\n",
            "1975/3252 [=================>............] - ETA: 6:03 - loss: 2.2311 - masked_accuracy: 0.5461\n",
            "Epoch 11: saving model to drive/MyDrive/Transformer/training/training_01/cp-0011.ckpt\n",
            "2039/3252 [=================>............] - ETA: 5:44 - loss: 2.2304 - masked_accuracy: 0.5462\n",
            "Epoch 11: saving model to drive/MyDrive/Transformer/training/training_01/cp-0011.ckpt\n",
            "2103/3252 [==================>...........] - ETA: 5:26 - loss: 2.2300 - masked_accuracy: 0.5462\n",
            "Epoch 11: saving model to drive/MyDrive/Transformer/training/training_01/cp-0011.ckpt\n",
            "2167/3252 [==================>...........] - ETA: 5:08 - loss: 2.2301 - masked_accuracy: 0.5462\n",
            "Epoch 11: saving model to drive/MyDrive/Transformer/training/training_01/cp-0011.ckpt\n",
            "2231/3252 [===================>..........] - ETA: 4:50 - loss: 2.2300 - masked_accuracy: 0.5462\n",
            "Epoch 11: saving model to drive/MyDrive/Transformer/training/training_01/cp-0011.ckpt\n",
            "2295/3252 [====================>.........] - ETA: 4:32 - loss: 2.2298 - masked_accuracy: 0.5463\n",
            "Epoch 11: saving model to drive/MyDrive/Transformer/training/training_01/cp-0011.ckpt\n",
            "2359/3252 [====================>.........] - ETA: 4:14 - loss: 2.2298 - masked_accuracy: 0.5462\n",
            "Epoch 11: saving model to drive/MyDrive/Transformer/training/training_01/cp-0011.ckpt\n",
            "2423/3252 [=====================>........] - ETA: 3:56 - loss: 2.2291 - masked_accuracy: 0.5463\n",
            "Epoch 11: saving model to drive/MyDrive/Transformer/training/training_01/cp-0011.ckpt\n",
            "2487/3252 [=====================>........] - ETA: 3:38 - loss: 2.2283 - masked_accuracy: 0.5465\n",
            "Epoch 11: saving model to drive/MyDrive/Transformer/training/training_01/cp-0011.ckpt\n",
            "2551/3252 [======================>.......] - ETA: 3:19 - loss: 2.2281 - masked_accuracy: 0.5466\n",
            "Epoch 11: saving model to drive/MyDrive/Transformer/training/training_01/cp-0011.ckpt\n",
            "2615/3252 [=======================>......] - ETA: 3:01 - loss: 2.2282 - masked_accuracy: 0.5465\n",
            "Epoch 11: saving model to drive/MyDrive/Transformer/training/training_01/cp-0011.ckpt\n",
            "2679/3252 [=======================>......] - ETA: 2:43 - loss: 2.2278 - masked_accuracy: 0.5466\n",
            "Epoch 11: saving model to drive/MyDrive/Transformer/training/training_01/cp-0011.ckpt\n",
            "2743/3252 [========================>.....] - ETA: 2:24 - loss: 2.2271 - masked_accuracy: 0.5467\n",
            "Epoch 11: saving model to drive/MyDrive/Transformer/training/training_01/cp-0011.ckpt\n",
            "2807/3252 [========================>.....] - ETA: 2:06 - loss: 2.2267 - masked_accuracy: 0.5468\n",
            "Epoch 11: saving model to drive/MyDrive/Transformer/training/training_01/cp-0011.ckpt\n",
            "2871/3252 [=========================>....] - ETA: 1:48 - loss: 2.2267 - masked_accuracy: 0.5467\n",
            "Epoch 11: saving model to drive/MyDrive/Transformer/training/training_01/cp-0011.ckpt\n",
            "2935/3252 [==========================>...] - ETA: 1:30 - loss: 2.2266 - masked_accuracy: 0.5468\n",
            "Epoch 11: saving model to drive/MyDrive/Transformer/training/training_01/cp-0011.ckpt\n",
            "2999/3252 [==========================>...] - ETA: 1:12 - loss: 2.2260 - masked_accuracy: 0.5469\n",
            "Epoch 11: saving model to drive/MyDrive/Transformer/training/training_01/cp-0011.ckpt\n",
            "3063/3252 [===========================>..] - ETA: 53s - loss: 2.2257 - masked_accuracy: 0.5469\n",
            "Epoch 11: saving model to drive/MyDrive/Transformer/training/training_01/cp-0011.ckpt\n",
            "3127/3252 [===========================>..] - ETA: 35s - loss: 2.2261 - masked_accuracy: 0.5469\n",
            "Epoch 11: saving model to drive/MyDrive/Transformer/training/training_01/cp-0011.ckpt\n",
            "3191/3252 [============================>.] - ETA: 17s - loss: 2.2259 - masked_accuracy: 0.5469\n",
            "Epoch 11: saving model to drive/MyDrive/Transformer/training/training_01/cp-0011.ckpt\n",
            "3252/3252 [==============================] - 937s 288ms/step - loss: 2.2262 - masked_accuracy: 0.5469 - val_loss: 2.2830 - val_masked_accuracy: 0.5524\n",
            "Epoch 12/20\n",
            "   3/3252 [..............................] - ETA: 13:07 - loss: 2.2261 - masked_accuracy: 0.5466\n",
            "Epoch 12: saving model to drive/MyDrive/Transformer/training/training_01/cp-0012.ckpt\n",
            "  67/3252 [..............................] - ETA: 15:15 - loss: 2.1953 - masked_accuracy: 0.5527\n",
            "Epoch 12: saving model to drive/MyDrive/Transformer/training/training_01/cp-0012.ckpt\n",
            " 131/3252 [>.............................] - ETA: 15:16 - loss: 2.2091 - masked_accuracy: 0.5500\n",
            "Epoch 12: saving model to drive/MyDrive/Transformer/training/training_01/cp-0012.ckpt\n",
            " 195/3252 [>.............................] - ETA: 14:46 - loss: 2.2065 - masked_accuracy: 0.5505\n",
            "Epoch 12: saving model to drive/MyDrive/Transformer/training/training_01/cp-0012.ckpt\n",
            " 259/3252 [=>............................] - ETA: 14:29 - loss: 2.2079 - masked_accuracy: 0.5504\n",
            "Epoch 12: saving model to drive/MyDrive/Transformer/training/training_01/cp-0012.ckpt\n",
            " 323/3252 [=>............................] - ETA: 14:12 - loss: 2.2069 - masked_accuracy: 0.5504\n",
            "Epoch 12: saving model to drive/MyDrive/Transformer/training/training_01/cp-0012.ckpt\n",
            " 387/3252 [==>...........................] - ETA: 13:52 - loss: 2.2059 - masked_accuracy: 0.5502\n",
            "Epoch 12: saving model to drive/MyDrive/Transformer/training/training_01/cp-0012.ckpt\n",
            " 451/3252 [===>..........................] - ETA: 13:31 - loss: 2.2075 - masked_accuracy: 0.5498\n",
            "Epoch 12: saving model to drive/MyDrive/Transformer/training/training_01/cp-0012.ckpt\n",
            " 515/3252 [===>..........................] - ETA: 13:13 - loss: 2.2085 - masked_accuracy: 0.5493\n",
            "Epoch 12: saving model to drive/MyDrive/Transformer/training/training_01/cp-0012.ckpt\n",
            " 579/3252 [====>.........................] - ETA: 12:52 - loss: 2.2108 - masked_accuracy: 0.5489\n",
            "Epoch 12: saving model to drive/MyDrive/Transformer/training/training_01/cp-0012.ckpt\n",
            " 643/3252 [====>.........................] - ETA: 12:34 - loss: 2.2078 - masked_accuracy: 0.5494\n",
            "Epoch 12: saving model to drive/MyDrive/Transformer/training/training_01/cp-0012.ckpt\n",
            " 707/3252 [=====>........................] - ETA: 12:14 - loss: 2.2059 - masked_accuracy: 0.5498\n",
            "Epoch 12: saving model to drive/MyDrive/Transformer/training/training_01/cp-0012.ckpt\n",
            " 771/3252 [======>.......................] - ETA: 11:51 - loss: 2.2032 - masked_accuracy: 0.5502\n",
            "Epoch 12: saving model to drive/MyDrive/Transformer/training/training_01/cp-0012.ckpt\n",
            " 835/3252 [======>.......................] - ETA: 11:32 - loss: 2.2019 - masked_accuracy: 0.5504\n",
            "Epoch 12: saving model to drive/MyDrive/Transformer/training/training_01/cp-0012.ckpt\n",
            " 899/3252 [=======>......................] - ETA: 11:15 - loss: 2.2038 - masked_accuracy: 0.5502\n",
            "Epoch 12: saving model to drive/MyDrive/Transformer/training/training_01/cp-0012.ckpt\n",
            " 963/3252 [=======>......................] - ETA: 10:55 - loss: 2.2041 - masked_accuracy: 0.5501\n",
            "Epoch 12: saving model to drive/MyDrive/Transformer/training/training_01/cp-0012.ckpt\n",
            "1027/3252 [========>.....................] - ETA: 10:36 - loss: 2.2042 - masked_accuracy: 0.5500\n",
            "Epoch 12: saving model to drive/MyDrive/Transformer/training/training_01/cp-0012.ckpt\n",
            "1091/3252 [=========>....................] - ETA: 10:18 - loss: 2.2042 - masked_accuracy: 0.5500\n",
            "Epoch 12: saving model to drive/MyDrive/Transformer/training/training_01/cp-0012.ckpt\n",
            "1155/3252 [=========>....................] - ETA: 9:58 - loss: 2.2032 - masked_accuracy: 0.5502\n",
            "Epoch 12: saving model to drive/MyDrive/Transformer/training/training_01/cp-0012.ckpt\n",
            "1219/3252 [==========>...................] - ETA: 9:40 - loss: 2.2028 - masked_accuracy: 0.5503\n",
            "Epoch 12: saving model to drive/MyDrive/Transformer/training/training_01/cp-0012.ckpt\n",
            "1283/3252 [==========>...................] - ETA: 9:23 - loss: 2.2031 - masked_accuracy: 0.5503\n",
            "Epoch 12: saving model to drive/MyDrive/Transformer/training/training_01/cp-0012.ckpt\n",
            "1347/3252 [===========>..................] - ETA: 9:03 - loss: 2.2033 - masked_accuracy: 0.5502\n",
            "Epoch 12: saving model to drive/MyDrive/Transformer/training/training_01/cp-0012.ckpt\n",
            "1411/3252 [============>.................] - ETA: 8:45 - loss: 2.2027 - masked_accuracy: 0.5504\n",
            "Epoch 12: saving model to drive/MyDrive/Transformer/training/training_01/cp-0012.ckpt\n",
            "1475/3252 [============>.................] - ETA: 8:26 - loss: 2.2022 - masked_accuracy: 0.5505\n",
            "Epoch 12: saving model to drive/MyDrive/Transformer/training/training_01/cp-0012.ckpt\n",
            "1539/3252 [=============>................] - ETA: 8:08 - loss: 2.2024 - masked_accuracy: 0.5505\n",
            "Epoch 12: saving model to drive/MyDrive/Transformer/training/training_01/cp-0012.ckpt\n",
            "1603/3252 [=============>................] - ETA: 7:50 - loss: 2.2018 - masked_accuracy: 0.5505\n",
            "Epoch 12: saving model to drive/MyDrive/Transformer/training/training_01/cp-0012.ckpt\n",
            "1667/3252 [==============>...............] - ETA: 7:31 - loss: 2.2018 - masked_accuracy: 0.5505\n",
            "Epoch 12: saving model to drive/MyDrive/Transformer/training/training_01/cp-0012.ckpt\n",
            "1731/3252 [==============>...............] - ETA: 7:13 - loss: 2.2024 - masked_accuracy: 0.5505\n",
            "Epoch 12: saving model to drive/MyDrive/Transformer/training/training_01/cp-0012.ckpt\n",
            "1795/3252 [===============>..............] - ETA: 6:55 - loss: 2.2033 - masked_accuracy: 0.5503\n",
            "Epoch 12: saving model to drive/MyDrive/Transformer/training/training_01/cp-0012.ckpt\n",
            "1859/3252 [================>.............] - ETA: 6:37 - loss: 2.2030 - masked_accuracy: 0.5504\n",
            "Epoch 12: saving model to drive/MyDrive/Transformer/training/training_01/cp-0012.ckpt\n",
            "1923/3252 [================>.............] - ETA: 6:19 - loss: 2.2018 - masked_accuracy: 0.5506\n",
            "Epoch 12: saving model to drive/MyDrive/Transformer/training/training_01/cp-0012.ckpt\n",
            "1987/3252 [=================>............] - ETA: 6:01 - loss: 2.2017 - masked_accuracy: 0.5506\n",
            "Epoch 12: saving model to drive/MyDrive/Transformer/training/training_01/cp-0012.ckpt\n",
            "2051/3252 [=================>............] - ETA: 5:42 - loss: 2.2020 - masked_accuracy: 0.5506\n",
            "Epoch 12: saving model to drive/MyDrive/Transformer/training/training_01/cp-0012.ckpt\n",
            "2115/3252 [==================>...........] - ETA: 5:24 - loss: 2.2014 - masked_accuracy: 0.5507\n",
            "Epoch 12: saving model to drive/MyDrive/Transformer/training/training_01/cp-0012.ckpt\n",
            "2179/3252 [===================>..........] - ETA: 5:06 - loss: 2.2011 - masked_accuracy: 0.5507\n",
            "Epoch 12: saving model to drive/MyDrive/Transformer/training/training_01/cp-0012.ckpt\n",
            "2243/3252 [===================>..........] - ETA: 4:48 - loss: 2.2011 - masked_accuracy: 0.5507\n",
            "Epoch 12: saving model to drive/MyDrive/Transformer/training/training_01/cp-0012.ckpt\n",
            "2307/3252 [====================>.........] - ETA: 4:29 - loss: 2.2009 - masked_accuracy: 0.5508\n",
            "Epoch 12: saving model to drive/MyDrive/Transformer/training/training_01/cp-0012.ckpt\n",
            "2371/3252 [====================>.........] - ETA: 4:11 - loss: 2.2010 - masked_accuracy: 0.5507\n",
            "Epoch 12: saving model to drive/MyDrive/Transformer/training/training_01/cp-0012.ckpt\n",
            "2435/3252 [=====================>........] - ETA: 3:53 - loss: 2.2009 - masked_accuracy: 0.5507\n",
            "Epoch 12: saving model to drive/MyDrive/Transformer/training/training_01/cp-0012.ckpt\n",
            "2499/3252 [======================>.......] - ETA: 3:35 - loss: 2.2004 - masked_accuracy: 0.5508\n",
            "Epoch 12: saving model to drive/MyDrive/Transformer/training/training_01/cp-0012.ckpt\n",
            "2563/3252 [======================>.......] - ETA: 3:16 - loss: 2.2003 - masked_accuracy: 0.5508\n",
            "Epoch 12: saving model to drive/MyDrive/Transformer/training/training_01/cp-0012.ckpt\n",
            "2627/3252 [=======================>......] - ETA: 2:58 - loss: 2.2001 - masked_accuracy: 0.5509\n",
            "Epoch 12: saving model to drive/MyDrive/Transformer/training/training_01/cp-0012.ckpt\n",
            "2691/3252 [=======================>......] - ETA: 2:40 - loss: 2.1992 - masked_accuracy: 0.5510\n",
            "Epoch 12: saving model to drive/MyDrive/Transformer/training/training_01/cp-0012.ckpt\n",
            "2755/3252 [========================>.....] - ETA: 2:22 - loss: 2.1987 - masked_accuracy: 0.5511\n",
            "Epoch 12: saving model to drive/MyDrive/Transformer/training/training_01/cp-0012.ckpt\n",
            "2819/3252 [=========================>....] - ETA: 2:03 - loss: 2.1986 - masked_accuracy: 0.5511\n",
            "Epoch 12: saving model to drive/MyDrive/Transformer/training/training_01/cp-0012.ckpt\n",
            "2883/3252 [=========================>....] - ETA: 1:45 - loss: 2.1987 - masked_accuracy: 0.5511\n",
            "Epoch 12: saving model to drive/MyDrive/Transformer/training/training_01/cp-0012.ckpt\n",
            "2947/3252 [==========================>...] - ETA: 1:27 - loss: 2.1983 - masked_accuracy: 0.5511\n",
            "Epoch 12: saving model to drive/MyDrive/Transformer/training/training_01/cp-0012.ckpt\n",
            "3011/3252 [==========================>...] - ETA: 1:08 - loss: 2.1983 - masked_accuracy: 0.5511\n",
            "Epoch 12: saving model to drive/MyDrive/Transformer/training/training_01/cp-0012.ckpt\n",
            "3075/3252 [===========================>..] - ETA: 50s - loss: 2.1983 - masked_accuracy: 0.5511\n",
            "Epoch 12: saving model to drive/MyDrive/Transformer/training/training_01/cp-0012.ckpt\n",
            "3139/3252 [===========================>..] - ETA: 32s - loss: 2.1981 - masked_accuracy: 0.5512\n",
            "Epoch 12: saving model to drive/MyDrive/Transformer/training/training_01/cp-0012.ckpt\n",
            "3203/3252 [============================>.] - ETA: 13s - loss: 2.1980 - masked_accuracy: 0.5512\n",
            "Epoch 12: saving model to drive/MyDrive/Transformer/training/training_01/cp-0012.ckpt\n",
            "3252/3252 [==============================] - 939s 289ms/step - loss: 2.1983 - masked_accuracy: 0.5512 - val_loss: 2.2664 - val_masked_accuracy: 0.5544\n",
            "Epoch 13/20\n",
            "  15/3252 [..............................] - ETA: 14:27 - loss: 2.1957 - masked_accuracy: 0.5551\n",
            "Epoch 13: saving model to drive/MyDrive/Transformer/training/training_01/cp-0013.ckpt\n",
            "  79/3252 [..............................] - ETA: 14:53 - loss: 2.1751 - masked_accuracy: 0.5552\n",
            "Epoch 13: saving model to drive/MyDrive/Transformer/training/training_01/cp-0013.ckpt\n",
            " 143/3252 [>.............................] - ETA: 14:51 - loss: 2.1739 - masked_accuracy: 0.5553\n",
            "Epoch 13: saving model to drive/MyDrive/Transformer/training/training_01/cp-0013.ckpt\n",
            " 207/3252 [>.............................] - ETA: 14:39 - loss: 2.1707 - masked_accuracy: 0.5554\n",
            "Epoch 13: saving model to drive/MyDrive/Transformer/training/training_01/cp-0013.ckpt\n",
            " 271/3252 [=>............................] - ETA: 14:09 - loss: 2.1736 - masked_accuracy: 0.5550\n",
            "Epoch 13: saving model to drive/MyDrive/Transformer/training/training_01/cp-0013.ckpt\n",
            " 335/3252 [==>...........................] - ETA: 13:48 - loss: 2.1762 - masked_accuracy: 0.5545\n",
            "Epoch 13: saving model to drive/MyDrive/Transformer/training/training_01/cp-0013.ckpt\n",
            " 399/3252 [==>...........................] - ETA: 13:28 - loss: 2.1743 - masked_accuracy: 0.5547\n",
            "Epoch 13: saving model to drive/MyDrive/Transformer/training/training_01/cp-0013.ckpt\n",
            " 463/3252 [===>..........................] - ETA: 13:09 - loss: 2.1764 - masked_accuracy: 0.5547\n",
            "Epoch 13: saving model to drive/MyDrive/Transformer/training/training_01/cp-0013.ckpt\n",
            " 527/3252 [===>..........................] - ETA: 12:54 - loss: 2.1762 - masked_accuracy: 0.5545\n",
            "Epoch 13: saving model to drive/MyDrive/Transformer/training/training_01/cp-0013.ckpt\n",
            " 591/3252 [====>.........................] - ETA: 12:33 - loss: 2.1775 - masked_accuracy: 0.5541\n",
            "Epoch 13: saving model to drive/MyDrive/Transformer/training/training_01/cp-0013.ckpt\n",
            " 655/3252 [=====>........................] - ETA: 12:17 - loss: 2.1787 - masked_accuracy: 0.5541\n",
            "Epoch 13: saving model to drive/MyDrive/Transformer/training/training_01/cp-0013.ckpt\n",
            " 719/3252 [=====>........................] - ETA: 12:00 - loss: 2.1798 - masked_accuracy: 0.5538\n",
            "Epoch 13: saving model to drive/MyDrive/Transformer/training/training_01/cp-0013.ckpt\n",
            " 783/3252 [======>.......................] - ETA: 11:44 - loss: 2.1789 - masked_accuracy: 0.5540\n",
            "Epoch 13: saving model to drive/MyDrive/Transformer/training/training_01/cp-0013.ckpt\n",
            " 847/3252 [======>.......................] - ETA: 11:25 - loss: 2.1770 - masked_accuracy: 0.5542\n",
            "Epoch 13: saving model to drive/MyDrive/Transformer/training/training_01/cp-0013.ckpt\n",
            " 911/3252 [=======>......................] - ETA: 11:06 - loss: 2.1793 - masked_accuracy: 0.5539\n",
            "Epoch 13: saving model to drive/MyDrive/Transformer/training/training_01/cp-0013.ckpt\n",
            " 975/3252 [=======>......................] - ETA: 10:48 - loss: 2.1777 - masked_accuracy: 0.5541\n",
            "Epoch 13: saving model to drive/MyDrive/Transformer/training/training_01/cp-0013.ckpt\n",
            "1039/3252 [========>.....................] - ETA: 10:31 - loss: 2.1763 - masked_accuracy: 0.5542\n",
            "Epoch 13: saving model to drive/MyDrive/Transformer/training/training_01/cp-0013.ckpt\n",
            "1103/3252 [=========>....................] - ETA: 10:11 - loss: 2.1775 - masked_accuracy: 0.5542\n",
            "Epoch 13: saving model to drive/MyDrive/Transformer/training/training_01/cp-0013.ckpt\n",
            "1167/3252 [=========>....................] - ETA: 9:53 - loss: 2.1772 - masked_accuracy: 0.5542\n",
            "Epoch 13: saving model to drive/MyDrive/Transformer/training/training_01/cp-0013.ckpt\n",
            "1231/3252 [==========>...................] - ETA: 9:33 - loss: 2.1760 - masked_accuracy: 0.5544\n",
            "Epoch 13: saving model to drive/MyDrive/Transformer/training/training_01/cp-0013.ckpt\n",
            "1295/3252 [==========>...................] - ETA: 9:16 - loss: 2.1761 - masked_accuracy: 0.5545\n",
            "Epoch 13: saving model to drive/MyDrive/Transformer/training/training_01/cp-0013.ckpt\n",
            "1359/3252 [===========>..................] - ETA: 8:57 - loss: 2.1767 - masked_accuracy: 0.5544\n",
            "Epoch 13: saving model to drive/MyDrive/Transformer/training/training_01/cp-0013.ckpt\n",
            "1423/3252 [============>.................] - ETA: 8:40 - loss: 2.1770 - masked_accuracy: 0.5543\n",
            "Epoch 13: saving model to drive/MyDrive/Transformer/training/training_01/cp-0013.ckpt\n",
            "1487/3252 [============>.................] - ETA: 8:21 - loss: 2.1765 - masked_accuracy: 0.5544\n",
            "Epoch 13: saving model to drive/MyDrive/Transformer/training/training_01/cp-0013.ckpt\n",
            "1551/3252 [=============>................] - ETA: 8:03 - loss: 2.1762 - masked_accuracy: 0.5545\n",
            "Epoch 13: saving model to drive/MyDrive/Transformer/training/training_01/cp-0013.ckpt\n",
            "1615/3252 [=============>................] - ETA: 7:45 - loss: 2.1761 - masked_accuracy: 0.5545\n",
            "Epoch 13: saving model to drive/MyDrive/Transformer/training/training_01/cp-0013.ckpt\n",
            "1679/3252 [==============>...............] - ETA: 7:27 - loss: 2.1763 - masked_accuracy: 0.5544\n",
            "Epoch 13: saving model to drive/MyDrive/Transformer/training/training_01/cp-0013.ckpt\n",
            "1743/3252 [===============>..............] - ETA: 7:09 - loss: 2.1766 - masked_accuracy: 0.5544\n",
            "Epoch 13: saving model to drive/MyDrive/Transformer/training/training_01/cp-0013.ckpt\n",
            "1807/3252 [===============>..............] - ETA: 6:51 - loss: 2.1774 - masked_accuracy: 0.5543\n",
            "Epoch 13: saving model to drive/MyDrive/Transformer/training/training_01/cp-0013.ckpt\n",
            "1871/3252 [================>.............] - ETA: 6:33 - loss: 2.1771 - masked_accuracy: 0.5544\n",
            "Epoch 13: saving model to drive/MyDrive/Transformer/training/training_01/cp-0013.ckpt\n",
            "1935/3252 [================>.............] - ETA: 6:14 - loss: 2.1765 - masked_accuracy: 0.5545\n",
            "Epoch 13: saving model to drive/MyDrive/Transformer/training/training_01/cp-0013.ckpt\n",
            "1999/3252 [=================>............] - ETA: 5:56 - loss: 2.1762 - masked_accuracy: 0.5546\n",
            "Epoch 13: saving model to drive/MyDrive/Transformer/training/training_01/cp-0013.ckpt\n",
            "2063/3252 [==================>...........] - ETA: 5:38 - loss: 2.1757 - masked_accuracy: 0.5547\n",
            "Epoch 13: saving model to drive/MyDrive/Transformer/training/training_01/cp-0013.ckpt\n",
            "2127/3252 [==================>...........] - ETA: 5:20 - loss: 2.1759 - masked_accuracy: 0.5547\n",
            "Epoch 13: saving model to drive/MyDrive/Transformer/training/training_01/cp-0013.ckpt\n",
            "2191/3252 [===================>..........] - ETA: 5:02 - loss: 2.1760 - masked_accuracy: 0.5547\n",
            "Epoch 13: saving model to drive/MyDrive/Transformer/training/training_01/cp-0013.ckpt\n",
            "2255/3252 [===================>..........] - ETA: 4:44 - loss: 2.1760 - masked_accuracy: 0.5546\n",
            "Epoch 13: saving model to drive/MyDrive/Transformer/training/training_01/cp-0013.ckpt\n",
            "2319/3252 [====================>.........] - ETA: 4:26 - loss: 2.1759 - masked_accuracy: 0.5547\n",
            "Epoch 13: saving model to drive/MyDrive/Transformer/training/training_01/cp-0013.ckpt\n",
            "2383/3252 [====================>.........] - ETA: 4:07 - loss: 2.1759 - masked_accuracy: 0.5547\n",
            "Epoch 13: saving model to drive/MyDrive/Transformer/training/training_01/cp-0013.ckpt\n",
            "2447/3252 [=====================>........] - ETA: 3:49 - loss: 2.1754 - masked_accuracy: 0.5548\n",
            "Epoch 13: saving model to drive/MyDrive/Transformer/training/training_01/cp-0013.ckpt\n",
            "2511/3252 [======================>.......] - ETA: 3:31 - loss: 2.1752 - masked_accuracy: 0.5549\n",
            "Epoch 13: saving model to drive/MyDrive/Transformer/training/training_01/cp-0013.ckpt\n",
            "2575/3252 [======================>.......] - ETA: 3:12 - loss: 2.1751 - masked_accuracy: 0.5548\n",
            "Epoch 13: saving model to drive/MyDrive/Transformer/training/training_01/cp-0013.ckpt\n",
            "2639/3252 [=======================>......] - ETA: 2:54 - loss: 2.1750 - masked_accuracy: 0.5549\n",
            "Epoch 13: saving model to drive/MyDrive/Transformer/training/training_01/cp-0013.ckpt\n",
            "2703/3252 [=======================>......] - ETA: 2:36 - loss: 2.1743 - masked_accuracy: 0.5550\n",
            "Epoch 13: saving model to drive/MyDrive/Transformer/training/training_01/cp-0013.ckpt\n",
            "2767/3252 [========================>.....] - ETA: 2:18 - loss: 2.1739 - masked_accuracy: 0.5550\n",
            "Epoch 13: saving model to drive/MyDrive/Transformer/training/training_01/cp-0013.ckpt\n",
            "2831/3252 [=========================>....] - ETA: 1:59 - loss: 2.1739 - masked_accuracy: 0.5550\n",
            "Epoch 13: saving model to drive/MyDrive/Transformer/training/training_01/cp-0013.ckpt\n",
            "2895/3252 [=========================>....] - ETA: 1:41 - loss: 2.1736 - masked_accuracy: 0.5550\n",
            "Epoch 13: saving model to drive/MyDrive/Transformer/training/training_01/cp-0013.ckpt\n",
            "2959/3252 [==========================>...] - ETA: 1:23 - loss: 2.1732 - masked_accuracy: 0.5551\n",
            "Epoch 13: saving model to drive/MyDrive/Transformer/training/training_01/cp-0013.ckpt\n",
            "3023/3252 [==========================>...] - ETA: 1:05 - loss: 2.1737 - masked_accuracy: 0.5550\n",
            "Epoch 13: saving model to drive/MyDrive/Transformer/training/training_01/cp-0013.ckpt\n",
            "3087/3252 [===========================>..] - ETA: 47s - loss: 2.1733 - masked_accuracy: 0.5551\n",
            "Epoch 13: saving model to drive/MyDrive/Transformer/training/training_01/cp-0013.ckpt\n",
            "3151/3252 [============================>.] - ETA: 28s - loss: 2.1731 - masked_accuracy: 0.5551\n",
            "Epoch 13: saving model to drive/MyDrive/Transformer/training/training_01/cp-0013.ckpt\n",
            "3215/3252 [============================>.] - ETA: 10s - loss: 2.1733 - masked_accuracy: 0.5551\n",
            "Epoch 13: saving model to drive/MyDrive/Transformer/training/training_01/cp-0013.ckpt\n",
            "3252/3252 [==============================] - 940s 289ms/step - loss: 2.1734 - masked_accuracy: 0.5550 - val_loss: 2.2536 - val_masked_accuracy: 0.5574\n",
            "Epoch 14/20\n",
            "  27/3252 [..............................] - ETA: 14:36 - loss: 2.1795 - masked_accuracy: 0.5542\n",
            "Epoch 14: saving model to drive/MyDrive/Transformer/training/training_01/cp-0014.ckpt\n",
            "  91/3252 [..............................] - ETA: 15:09 - loss: 2.1516 - masked_accuracy: 0.5591\n",
            "Epoch 14: saving model to drive/MyDrive/Transformer/training/training_01/cp-0014.ckpt\n",
            " 155/3252 [>.............................] - ETA: 14:56 - loss: 2.1595 - masked_accuracy: 0.5578\n",
            "Epoch 14: saving model to drive/MyDrive/Transformer/training/training_01/cp-0014.ckpt\n",
            " 219/3252 [=>............................] - ETA: 14:34 - loss: 2.1564 - masked_accuracy: 0.5579\n",
            "Epoch 14: saving model to drive/MyDrive/Transformer/training/training_01/cp-0014.ckpt\n",
            " 283/3252 [=>............................] - ETA: 14:07 - loss: 2.1570 - masked_accuracy: 0.5576\n",
            "Epoch 14: saving model to drive/MyDrive/Transformer/training/training_01/cp-0014.ckpt\n",
            " 347/3252 [==>...........................] - ETA: 13:48 - loss: 2.1598 - masked_accuracy: 0.5571\n",
            "Epoch 14: saving model to drive/MyDrive/Transformer/training/training_01/cp-0014.ckpt\n",
            " 411/3252 [==>...........................] - ETA: 13:30 - loss: 2.1584 - masked_accuracy: 0.5574\n",
            "Epoch 14: saving model to drive/MyDrive/Transformer/training/training_01/cp-0014.ckpt\n",
            " 475/3252 [===>..........................] - ETA: 13:11 - loss: 2.1568 - masked_accuracy: 0.5576\n",
            "Epoch 14: saving model to drive/MyDrive/Transformer/training/training_01/cp-0014.ckpt\n",
            " 539/3252 [===>..........................] - ETA: 12:53 - loss: 2.1591 - masked_accuracy: 0.5572\n",
            "Epoch 14: saving model to drive/MyDrive/Transformer/training/training_01/cp-0014.ckpt\n",
            " 603/3252 [====>.........................] - ETA: 12:33 - loss: 2.1605 - masked_accuracy: 0.5571\n",
            "Epoch 14: saving model to drive/MyDrive/Transformer/training/training_01/cp-0014.ckpt\n",
            " 667/3252 [=====>........................] - ETA: 12:18 - loss: 2.1588 - masked_accuracy: 0.5572\n",
            "Epoch 14: saving model to drive/MyDrive/Transformer/training/training_01/cp-0014.ckpt\n",
            " 731/3252 [=====>........................] - ETA: 12:00 - loss: 2.1574 - masked_accuracy: 0.5575\n",
            "Epoch 14: saving model to drive/MyDrive/Transformer/training/training_01/cp-0014.ckpt\n",
            " 795/3252 [======>.......................] - ETA: 11:41 - loss: 2.1576 - masked_accuracy: 0.5574\n",
            "Epoch 14: saving model to drive/MyDrive/Transformer/training/training_01/cp-0014.ckpt\n",
            " 859/3252 [======>.......................] - ETA: 11:22 - loss: 2.1548 - masked_accuracy: 0.5579\n",
            "Epoch 14: saving model to drive/MyDrive/Transformer/training/training_01/cp-0014.ckpt\n",
            " 923/3252 [=======>......................] - ETA: 11:04 - loss: 2.1548 - masked_accuracy: 0.5578\n",
            "Epoch 14: saving model to drive/MyDrive/Transformer/training/training_01/cp-0014.ckpt\n",
            " 987/3252 [========>.....................] - ETA: 10:45 - loss: 2.1540 - masked_accuracy: 0.5579\n",
            "Epoch 14: saving model to drive/MyDrive/Transformer/training/training_01/cp-0014.ckpt\n",
            "1051/3252 [========>.....................] - ETA: 10:26 - loss: 2.1551 - masked_accuracy: 0.5578\n",
            "Epoch 14: saving model to drive/MyDrive/Transformer/training/training_01/cp-0014.ckpt\n",
            "1115/3252 [=========>....................] - ETA: 10:09 - loss: 2.1541 - masked_accuracy: 0.5579\n",
            "Epoch 14: saving model to drive/MyDrive/Transformer/training/training_01/cp-0014.ckpt\n",
            "1179/3252 [=========>....................] - ETA: 9:51 - loss: 2.1553 - masked_accuracy: 0.5577\n",
            "Epoch 14: saving model to drive/MyDrive/Transformer/training/training_01/cp-0014.ckpt\n",
            "1243/3252 [==========>...................] - ETA: 9:32 - loss: 2.1556 - masked_accuracy: 0.5577\n",
            "Epoch 14: saving model to drive/MyDrive/Transformer/training/training_01/cp-0014.ckpt\n",
            "1307/3252 [===========>..................] - ETA: 9:13 - loss: 2.1541 - masked_accuracy: 0.5579\n",
            "Epoch 14: saving model to drive/MyDrive/Transformer/training/training_01/cp-0014.ckpt\n",
            "1371/3252 [===========>..................] - ETA: 8:54 - loss: 2.1543 - masked_accuracy: 0.5579\n",
            "Epoch 14: saving model to drive/MyDrive/Transformer/training/training_01/cp-0014.ckpt\n",
            "1435/3252 [============>.................] - ETA: 8:36 - loss: 2.1540 - masked_accuracy: 0.5581\n",
            "Epoch 14: saving model to drive/MyDrive/Transformer/training/training_01/cp-0014.ckpt\n",
            "1499/3252 [============>.................] - ETA: 8:18 - loss: 2.1550 - masked_accuracy: 0.5579\n",
            "Epoch 14: saving model to drive/MyDrive/Transformer/training/training_01/cp-0014.ckpt\n",
            "1563/3252 [=============>................] - ETA: 8:00 - loss: 2.1551 - masked_accuracy: 0.5578\n",
            "Epoch 14: saving model to drive/MyDrive/Transformer/training/training_01/cp-0014.ckpt\n",
            "1627/3252 [==============>...............] - ETA: 7:42 - loss: 2.1547 - masked_accuracy: 0.5579\n",
            "Epoch 14: saving model to drive/MyDrive/Transformer/training/training_01/cp-0014.ckpt\n",
            "1691/3252 [==============>...............] - ETA: 7:25 - loss: 2.1549 - masked_accuracy: 0.5579\n",
            "Epoch 14: saving model to drive/MyDrive/Transformer/training/training_01/cp-0014.ckpt\n",
            "1755/3252 [===============>..............] - ETA: 7:06 - loss: 2.1546 - masked_accuracy: 0.5580\n",
            "Epoch 14: saving model to drive/MyDrive/Transformer/training/training_01/cp-0014.ckpt\n",
            "1819/3252 [===============>..............] - ETA: 6:48 - loss: 2.1542 - masked_accuracy: 0.5581\n",
            "Epoch 14: saving model to drive/MyDrive/Transformer/training/training_01/cp-0014.ckpt\n",
            "1883/3252 [================>.............] - ETA: 6:29 - loss: 2.1539 - masked_accuracy: 0.5581\n",
            "Epoch 14: saving model to drive/MyDrive/Transformer/training/training_01/cp-0014.ckpt\n",
            "1947/3252 [================>.............] - ETA: 6:11 - loss: 2.1541 - masked_accuracy: 0.5581\n",
            "Epoch 14: saving model to drive/MyDrive/Transformer/training/training_01/cp-0014.ckpt\n",
            "2011/3252 [=================>............] - ETA: 5:54 - loss: 2.1537 - masked_accuracy: 0.5581\n",
            "Epoch 14: saving model to drive/MyDrive/Transformer/training/training_01/cp-0014.ckpt\n",
            "2075/3252 [==================>...........] - ETA: 5:36 - loss: 2.1535 - masked_accuracy: 0.5582\n",
            "Epoch 14: saving model to drive/MyDrive/Transformer/training/training_01/cp-0014.ckpt\n",
            "2139/3252 [==================>...........] - ETA: 5:17 - loss: 2.1539 - masked_accuracy: 0.5582\n",
            "Epoch 14: saving model to drive/MyDrive/Transformer/training/training_01/cp-0014.ckpt\n",
            "2203/3252 [===================>..........] - ETA: 4:59 - loss: 2.1533 - masked_accuracy: 0.5583\n",
            "Epoch 14: saving model to drive/MyDrive/Transformer/training/training_01/cp-0014.ckpt\n",
            "2267/3252 [===================>..........] - ETA: 4:41 - loss: 2.1527 - masked_accuracy: 0.5584\n",
            "Epoch 14: saving model to drive/MyDrive/Transformer/training/training_01/cp-0014.ckpt\n",
            "2331/3252 [====================>.........] - ETA: 4:23 - loss: 2.1526 - masked_accuracy: 0.5584\n",
            "Epoch 14: saving model to drive/MyDrive/Transformer/training/training_01/cp-0014.ckpt\n",
            "2395/3252 [=====================>........] - ETA: 4:04 - loss: 2.1527 - masked_accuracy: 0.5584\n",
            "Epoch 14: saving model to drive/MyDrive/Transformer/training/training_01/cp-0014.ckpt\n",
            "2459/3252 [=====================>........] - ETA: 3:46 - loss: 2.1524 - masked_accuracy: 0.5584\n",
            "Epoch 14: saving model to drive/MyDrive/Transformer/training/training_01/cp-0014.ckpt\n",
            "2523/3252 [======================>.......] - ETA: 3:28 - loss: 2.1526 - masked_accuracy: 0.5583\n",
            "Epoch 14: saving model to drive/MyDrive/Transformer/training/training_01/cp-0014.ckpt\n",
            "2587/3252 [======================>.......] - ETA: 3:09 - loss: 2.1528 - masked_accuracy: 0.5583\n",
            "Epoch 14: saving model to drive/MyDrive/Transformer/training/training_01/cp-0014.ckpt\n",
            "2651/3252 [=======================>......] - ETA: 2:51 - loss: 2.1533 - masked_accuracy: 0.5582\n",
            "Epoch 14: saving model to drive/MyDrive/Transformer/training/training_01/cp-0014.ckpt\n",
            "2715/3252 [========================>.....] - ETA: 2:33 - loss: 2.1527 - masked_accuracy: 0.5583\n",
            "Epoch 14: saving model to drive/MyDrive/Transformer/training/training_01/cp-0014.ckpt\n",
            "2779/3252 [========================>.....] - ETA: 2:15 - loss: 2.1522 - masked_accuracy: 0.5585\n",
            "Epoch 14: saving model to drive/MyDrive/Transformer/training/training_01/cp-0014.ckpt\n",
            "2843/3252 [=========================>....] - ETA: 1:56 - loss: 2.1521 - masked_accuracy: 0.5585\n",
            "Epoch 14: saving model to drive/MyDrive/Transformer/training/training_01/cp-0014.ckpt\n",
            "2907/3252 [=========================>....] - ETA: 1:38 - loss: 2.1526 - masked_accuracy: 0.5584\n",
            "Epoch 14: saving model to drive/MyDrive/Transformer/training/training_01/cp-0014.ckpt\n",
            "2971/3252 [==========================>...] - ETA: 1:20 - loss: 2.1522 - masked_accuracy: 0.5585\n",
            "Epoch 14: saving model to drive/MyDrive/Transformer/training/training_01/cp-0014.ckpt\n",
            "3035/3252 [==========================>...] - ETA: 1:01 - loss: 2.1518 - masked_accuracy: 0.5585\n",
            "Epoch 14: saving model to drive/MyDrive/Transformer/training/training_01/cp-0014.ckpt\n",
            "3099/3252 [===========================>..] - ETA: 43s - loss: 2.1517 - masked_accuracy: 0.5586\n",
            "Epoch 14: saving model to drive/MyDrive/Transformer/training/training_01/cp-0014.ckpt\n",
            "3163/3252 [============================>.] - ETA: 25s - loss: 2.1514 - masked_accuracy: 0.5586\n",
            "Epoch 14: saving model to drive/MyDrive/Transformer/training/training_01/cp-0014.ckpt\n",
            "3227/3252 [============================>.] - ETA: 7s - loss: 2.1515 - masked_accuracy: 0.5586\n",
            "Epoch 14: saving model to drive/MyDrive/Transformer/training/training_01/cp-0014.ckpt\n",
            "3252/3252 [==============================] - 939s 289ms/step - loss: 2.1513 - masked_accuracy: 0.5586 - val_loss: 2.2435 - val_masked_accuracy: 0.5601\n",
            "Epoch 15/20\n",
            "  39/3252 [..............................] - ETA: 14:33 - loss: 2.1320 - masked_accuracy: 0.5620\n",
            "Epoch 15: saving model to drive/MyDrive/Transformer/training/training_01/cp-0015.ckpt\n",
            " 103/3252 [..............................] - ETA: 14:29 - loss: 2.1227 - masked_accuracy: 0.5629\n",
            "Epoch 15: saving model to drive/MyDrive/Transformer/training/training_01/cp-0015.ckpt\n",
            " 167/3252 [>.............................] - ETA: 14:23 - loss: 2.1282 - masked_accuracy: 0.5626\n",
            "Epoch 15: saving model to drive/MyDrive/Transformer/training/training_01/cp-0015.ckpt\n",
            " 231/3252 [=>............................] - ETA: 14:04 - loss: 2.1291 - masked_accuracy: 0.5620\n",
            "Epoch 15: saving model to drive/MyDrive/Transformer/training/training_01/cp-0015.ckpt\n",
            " 295/3252 [=>............................] - ETA: 13:49 - loss: 2.1257 - masked_accuracy: 0.5623\n",
            "Epoch 15: saving model to drive/MyDrive/Transformer/training/training_01/cp-0015.ckpt\n",
            " 359/3252 [==>...........................] - ETA: 13:37 - loss: 2.1289 - masked_accuracy: 0.5618\n",
            "Epoch 15: saving model to drive/MyDrive/Transformer/training/training_01/cp-0015.ckpt\n",
            " 423/3252 [==>...........................] - ETA: 13:19 - loss: 2.1318 - masked_accuracy: 0.5614\n",
            "Epoch 15: saving model to drive/MyDrive/Transformer/training/training_01/cp-0015.ckpt\n",
            " 487/3252 [===>..........................] - ETA: 13:00 - loss: 2.1306 - masked_accuracy: 0.5617\n",
            "Epoch 15: saving model to drive/MyDrive/Transformer/training/training_01/cp-0015.ckpt\n",
            " 551/3252 [====>.........................] - ETA: 12:44 - loss: 2.1313 - masked_accuracy: 0.5615\n",
            "Epoch 15: saving model to drive/MyDrive/Transformer/training/training_01/cp-0015.ckpt\n",
            " 615/3252 [====>.........................] - ETA: 12:29 - loss: 2.1323 - masked_accuracy: 0.5612\n",
            "Epoch 15: saving model to drive/MyDrive/Transformer/training/training_01/cp-0015.ckpt\n",
            " 679/3252 [=====>........................] - ETA: 12:11 - loss: 2.1346 - masked_accuracy: 0.5608\n",
            "Epoch 15: saving model to drive/MyDrive/Transformer/training/training_01/cp-0015.ckpt\n",
            " 743/3252 [=====>........................] - ETA: 11:51 - loss: 2.1334 - masked_accuracy: 0.5610\n",
            "Epoch 15: saving model to drive/MyDrive/Transformer/training/training_01/cp-0015.ckpt\n",
            " 807/3252 [======>.......................] - ETA: 11:35 - loss: 2.1322 - masked_accuracy: 0.5613\n",
            "Epoch 15: saving model to drive/MyDrive/Transformer/training/training_01/cp-0015.ckpt\n",
            " 871/3252 [=======>......................] - ETA: 11:17 - loss: 2.1331 - masked_accuracy: 0.5611\n",
            "Epoch 15: saving model to drive/MyDrive/Transformer/training/training_01/cp-0015.ckpt\n",
            " 935/3252 [=======>......................] - ETA: 11:00 - loss: 2.1343 - masked_accuracy: 0.5610\n",
            "Epoch 15: saving model to drive/MyDrive/Transformer/training/training_01/cp-0015.ckpt\n",
            " 999/3252 [========>.....................] - ETA: 10:41 - loss: 2.1340 - masked_accuracy: 0.5611\n",
            "Epoch 15: saving model to drive/MyDrive/Transformer/training/training_01/cp-0015.ckpt\n",
            "1063/3252 [========>.....................] - ETA: 10:22 - loss: 2.1337 - masked_accuracy: 0.5612\n",
            "Epoch 15: saving model to drive/MyDrive/Transformer/training/training_01/cp-0015.ckpt\n",
            "1127/3252 [=========>....................] - ETA: 10:04 - loss: 2.1327 - masked_accuracy: 0.5612\n",
            "Epoch 15: saving model to drive/MyDrive/Transformer/training/training_01/cp-0015.ckpt\n",
            "1191/3252 [=========>....................] - ETA: 9:45 - loss: 2.1330 - masked_accuracy: 0.5612\n",
            "Epoch 15: saving model to drive/MyDrive/Transformer/training/training_01/cp-0015.ckpt\n",
            "1255/3252 [==========>...................] - ETA: 9:27 - loss: 2.1331 - masked_accuracy: 0.5612\n",
            "Epoch 15: saving model to drive/MyDrive/Transformer/training/training_01/cp-0015.ckpt\n",
            "1319/3252 [===========>..................] - ETA: 9:09 - loss: 2.1339 - masked_accuracy: 0.5611\n",
            "Epoch 15: saving model to drive/MyDrive/Transformer/training/training_01/cp-0015.ckpt\n",
            "1383/3252 [===========>..................] - ETA: 8:50 - loss: 2.1339 - masked_accuracy: 0.5611\n",
            "Epoch 15: saving model to drive/MyDrive/Transformer/training/training_01/cp-0015.ckpt\n",
            "1447/3252 [============>.................] - ETA: 8:32 - loss: 2.1323 - masked_accuracy: 0.5613\n",
            "Epoch 15: saving model to drive/MyDrive/Transformer/training/training_01/cp-0015.ckpt\n",
            "1511/3252 [============>.................] - ETA: 8:13 - loss: 2.1324 - masked_accuracy: 0.5613\n",
            "Epoch 15: saving model to drive/MyDrive/Transformer/training/training_01/cp-0015.ckpt\n",
            "1575/3252 [=============>................] - ETA: 7:56 - loss: 2.1323 - masked_accuracy: 0.5613\n",
            "Epoch 15: saving model to drive/MyDrive/Transformer/training/training_01/cp-0015.ckpt\n",
            "1639/3252 [==============>...............] - ETA: 7:38 - loss: 2.1332 - masked_accuracy: 0.5611\n",
            "Epoch 15: saving model to drive/MyDrive/Transformer/training/training_01/cp-0015.ckpt\n",
            "1703/3252 [==============>...............] - ETA: 7:20 - loss: 2.1332 - masked_accuracy: 0.5611\n",
            "Epoch 15: saving model to drive/MyDrive/Transformer/training/training_01/cp-0015.ckpt\n",
            "1767/3252 [===============>..............] - ETA: 7:02 - loss: 2.1333 - masked_accuracy: 0.5611\n",
            "Epoch 15: saving model to drive/MyDrive/Transformer/training/training_01/cp-0015.ckpt\n",
            "1831/3252 [===============>..............] - ETA: 6:44 - loss: 2.1328 - masked_accuracy: 0.5612\n",
            "Epoch 15: saving model to drive/MyDrive/Transformer/training/training_01/cp-0015.ckpt\n",
            "1895/3252 [================>.............] - ETA: 6:26 - loss: 2.1334 - masked_accuracy: 0.5612\n",
            "Epoch 15: saving model to drive/MyDrive/Transformer/training/training_01/cp-0015.ckpt\n",
            "1959/3252 [=================>............] - ETA: 6:08 - loss: 2.1325 - masked_accuracy: 0.5613\n",
            "Epoch 15: saving model to drive/MyDrive/Transformer/training/training_01/cp-0015.ckpt\n",
            "2023/3252 [=================>............] - ETA: 5:49 - loss: 2.1319 - masked_accuracy: 0.5614\n",
            "Epoch 15: saving model to drive/MyDrive/Transformer/training/training_01/cp-0015.ckpt\n",
            "2087/3252 [==================>...........] - ETA: 5:31 - loss: 2.1320 - masked_accuracy: 0.5615\n",
            "Epoch 15: saving model to drive/MyDrive/Transformer/training/training_01/cp-0015.ckpt\n",
            "2151/3252 [==================>...........] - ETA: 5:13 - loss: 2.1323 - masked_accuracy: 0.5615\n",
            "Epoch 15: saving model to drive/MyDrive/Transformer/training/training_01/cp-0015.ckpt\n",
            "2215/3252 [===================>..........] - ETA: 4:55 - loss: 2.1322 - masked_accuracy: 0.5615\n",
            "Epoch 15: saving model to drive/MyDrive/Transformer/training/training_01/cp-0015.ckpt\n",
            "2279/3252 [====================>.........] - ETA: 4:37 - loss: 2.1322 - masked_accuracy: 0.5615\n",
            "Epoch 15: saving model to drive/MyDrive/Transformer/training/training_01/cp-0015.ckpt\n",
            "2343/3252 [====================>.........] - ETA: 4:19 - loss: 2.1321 - masked_accuracy: 0.5614\n",
            "Epoch 15: saving model to drive/MyDrive/Transformer/training/training_01/cp-0015.ckpt\n",
            "2407/3252 [=====================>........] - ETA: 4:00 - loss: 2.1321 - masked_accuracy: 0.5614\n",
            "Epoch 15: saving model to drive/MyDrive/Transformer/training/training_01/cp-0015.ckpt\n",
            "2471/3252 [=====================>........] - ETA: 3:42 - loss: 2.1317 - masked_accuracy: 0.5615\n",
            "Epoch 15: saving model to drive/MyDrive/Transformer/training/training_01/cp-0015.ckpt\n",
            "2535/3252 [======================>.......] - ETA: 3:24 - loss: 2.1318 - masked_accuracy: 0.5615\n",
            "Epoch 15: saving model to drive/MyDrive/Transformer/training/training_01/cp-0015.ckpt\n",
            "2599/3252 [======================>.......] - ETA: 3:06 - loss: 2.1320 - masked_accuracy: 0.5615\n",
            "Epoch 15: saving model to drive/MyDrive/Transformer/training/training_01/cp-0015.ckpt\n",
            "2663/3252 [=======================>......] - ETA: 2:47 - loss: 2.1317 - masked_accuracy: 0.5616\n",
            "Epoch 15: saving model to drive/MyDrive/Transformer/training/training_01/cp-0015.ckpt\n",
            "2727/3252 [========================>.....] - ETA: 2:29 - loss: 2.1319 - masked_accuracy: 0.5615\n",
            "Epoch 15: saving model to drive/MyDrive/Transformer/training/training_01/cp-0015.ckpt\n",
            "2791/3252 [========================>.....] - ETA: 2:11 - loss: 2.1317 - masked_accuracy: 0.5616\n",
            "Epoch 15: saving model to drive/MyDrive/Transformer/training/training_01/cp-0015.ckpt\n",
            "2855/3252 [=========================>....] - ETA: 1:53 - loss: 2.1317 - masked_accuracy: 0.5615\n",
            "Epoch 15: saving model to drive/MyDrive/Transformer/training/training_01/cp-0015.ckpt\n",
            "2919/3252 [=========================>....] - ETA: 1:34 - loss: 2.1318 - masked_accuracy: 0.5615\n",
            "Epoch 15: saving model to drive/MyDrive/Transformer/training/training_01/cp-0015.ckpt\n",
            "2983/3252 [==========================>...] - ETA: 1:16 - loss: 2.1316 - masked_accuracy: 0.5615\n",
            "Epoch 15: saving model to drive/MyDrive/Transformer/training/training_01/cp-0015.ckpt\n",
            "3047/3252 [===========================>..] - ETA: 58s - loss: 2.1318 - masked_accuracy: 0.5615\n",
            "Epoch 15: saving model to drive/MyDrive/Transformer/training/training_01/cp-0015.ckpt\n",
            "3111/3252 [===========================>..] - ETA: 40s - loss: 2.1313 - masked_accuracy: 0.5616\n",
            "Epoch 15: saving model to drive/MyDrive/Transformer/training/training_01/cp-0015.ckpt\n",
            "3175/3252 [============================>.] - ETA: 21s - loss: 2.1309 - masked_accuracy: 0.5616\n",
            "Epoch 15: saving model to drive/MyDrive/Transformer/training/training_01/cp-0015.ckpt\n",
            "3239/3252 [============================>.] - ETA: 3s - loss: 2.1307 - masked_accuracy: 0.5617\n",
            "Epoch 15: saving model to drive/MyDrive/Transformer/training/training_01/cp-0015.ckpt\n",
            "3252/3252 [==============================] - 938s 288ms/step - loss: 2.1307 - masked_accuracy: 0.5617 - val_loss: 2.2332 - val_masked_accuracy: 0.5606\n",
            "Epoch 16/20\n",
            "  51/3252 [..............................] - ETA: 14:03 - loss: 2.1176 - masked_accuracy: 0.5630\n",
            "Epoch 16: saving model to drive/MyDrive/Transformer/training/training_01/cp-0016.ckpt\n",
            " 115/3252 [>.............................] - ETA: 14:18 - loss: 2.1150 - masked_accuracy: 0.5638\n",
            "Epoch 16: saving model to drive/MyDrive/Transformer/training/training_01/cp-0016.ckpt\n",
            " 179/3252 [>.............................] - ETA: 14:14 - loss: 2.1169 - masked_accuracy: 0.5634\n",
            "Epoch 16: saving model to drive/MyDrive/Transformer/training/training_01/cp-0016.ckpt\n",
            " 243/3252 [=>............................] - ETA: 14:04 - loss: 2.1152 - masked_accuracy: 0.5639\n",
            "Epoch 16: saving model to drive/MyDrive/Transformer/training/training_01/cp-0016.ckpt\n",
            " 307/3252 [=>............................] - ETA: 13:44 - loss: 2.1151 - masked_accuracy: 0.5639\n",
            "Epoch 16: saving model to drive/MyDrive/Transformer/training/training_01/cp-0016.ckpt\n",
            " 371/3252 [==>...........................] - ETA: 13:27 - loss: 2.1162 - masked_accuracy: 0.5635\n",
            "Epoch 16: saving model to drive/MyDrive/Transformer/training/training_01/cp-0016.ckpt\n",
            " 435/3252 [===>..........................] - ETA: 13:11 - loss: 2.1155 - masked_accuracy: 0.5639\n",
            "Epoch 16: saving model to drive/MyDrive/Transformer/training/training_01/cp-0016.ckpt\n",
            " 499/3252 [===>..........................] - ETA: 12:55 - loss: 2.1137 - masked_accuracy: 0.5642\n",
            "Epoch 16: saving model to drive/MyDrive/Transformer/training/training_01/cp-0016.ckpt\n",
            " 563/3252 [====>.........................] - ETA: 12:40 - loss: 2.1150 - masked_accuracy: 0.5641\n",
            "Epoch 16: saving model to drive/MyDrive/Transformer/training/training_01/cp-0016.ckpt\n",
            " 627/3252 [====>.........................] - ETA: 12:24 - loss: 2.1140 - masked_accuracy: 0.5642\n",
            "Epoch 16: saving model to drive/MyDrive/Transformer/training/training_01/cp-0016.ckpt\n",
            " 691/3252 [=====>........................] - ETA: 12:07 - loss: 2.1150 - masked_accuracy: 0.5640\n",
            "Epoch 16: saving model to drive/MyDrive/Transformer/training/training_01/cp-0016.ckpt\n",
            " 755/3252 [=====>........................] - ETA: 11:47 - loss: 2.1145 - masked_accuracy: 0.5640\n",
            "Epoch 16: saving model to drive/MyDrive/Transformer/training/training_01/cp-0016.ckpt\n",
            " 819/3252 [======>.......................] - ETA: 11:30 - loss: 2.1140 - masked_accuracy: 0.5640\n",
            "Epoch 16: saving model to drive/MyDrive/Transformer/training/training_01/cp-0016.ckpt\n",
            " 883/3252 [=======>......................] - ETA: 11:12 - loss: 2.1148 - masked_accuracy: 0.5639\n",
            "Epoch 16: saving model to drive/MyDrive/Transformer/training/training_01/cp-0016.ckpt\n",
            " 947/3252 [=======>......................] - ETA: 10:53 - loss: 2.1155 - masked_accuracy: 0.5637\n",
            "Epoch 16: saving model to drive/MyDrive/Transformer/training/training_01/cp-0016.ckpt\n",
            "1011/3252 [========>.....................] - ETA: 10:34 - loss: 2.1170 - masked_accuracy: 0.5634\n",
            "Epoch 16: saving model to drive/MyDrive/Transformer/training/training_01/cp-0016.ckpt\n",
            "1075/3252 [========>.....................] - ETA: 10:15 - loss: 2.1156 - masked_accuracy: 0.5636\n",
            "Epoch 16: saving model to drive/MyDrive/Transformer/training/training_01/cp-0016.ckpt\n",
            "1139/3252 [=========>....................] - ETA: 9:57 - loss: 2.1159 - masked_accuracy: 0.5636\n",
            "Epoch 16: saving model to drive/MyDrive/Transformer/training/training_01/cp-0016.ckpt\n",
            "1203/3252 [==========>...................] - ETA: 9:38 - loss: 2.1156 - masked_accuracy: 0.5636\n",
            "Epoch 16: saving model to drive/MyDrive/Transformer/training/training_01/cp-0016.ckpt\n",
            "1267/3252 [==========>...................] - ETA: 9:21 - loss: 2.1160 - masked_accuracy: 0.5636\n",
            "Epoch 16: saving model to drive/MyDrive/Transformer/training/training_01/cp-0016.ckpt\n",
            "1331/3252 [===========>..................] - ETA: 9:03 - loss: 2.1153 - masked_accuracy: 0.5638\n",
            "Epoch 16: saving model to drive/MyDrive/Transformer/training/training_01/cp-0016.ckpt\n",
            "1395/3252 [===========>..................] - ETA: 8:45 - loss: 2.1155 - masked_accuracy: 0.5638\n",
            "Epoch 16: saving model to drive/MyDrive/Transformer/training/training_01/cp-0016.ckpt\n",
            "1459/3252 [============>.................] - ETA: 8:27 - loss: 2.1159 - masked_accuracy: 0.5637\n",
            "Epoch 16: saving model to drive/MyDrive/Transformer/training/training_01/cp-0016.ckpt\n",
            "1523/3252 [=============>................] - ETA: 8:08 - loss: 2.1157 - masked_accuracy: 0.5637\n",
            "Epoch 16: saving model to drive/MyDrive/Transformer/training/training_01/cp-0016.ckpt\n",
            "1587/3252 [=============>................] - ETA: 7:51 - loss: 2.1150 - masked_accuracy: 0.5638\n",
            "Epoch 16: saving model to drive/MyDrive/Transformer/training/training_01/cp-0016.ckpt\n",
            "1651/3252 [==============>...............] - ETA: 7:33 - loss: 2.1144 - masked_accuracy: 0.5639\n",
            "Epoch 16: saving model to drive/MyDrive/Transformer/training/training_01/cp-0016.ckpt\n",
            "1715/3252 [==============>...............] - ETA: 7:15 - loss: 2.1147 - masked_accuracy: 0.5638\n",
            "Epoch 16: saving model to drive/MyDrive/Transformer/training/training_01/cp-0016.ckpt\n",
            "1779/3252 [===============>..............] - ETA: 6:56 - loss: 2.1150 - masked_accuracy: 0.5638\n",
            "Epoch 16: saving model to drive/MyDrive/Transformer/training/training_01/cp-0016.ckpt\n",
            "1843/3252 [================>.............] - ETA: 6:38 - loss: 2.1150 - masked_accuracy: 0.5638\n",
            "Epoch 16: saving model to drive/MyDrive/Transformer/training/training_01/cp-0016.ckpt\n",
            "1907/3252 [================>.............] - ETA: 6:20 - loss: 2.1145 - masked_accuracy: 0.5639\n",
            "Epoch 16: saving model to drive/MyDrive/Transformer/training/training_01/cp-0016.ckpt\n",
            "1971/3252 [=================>............] - ETA: 6:02 - loss: 2.1149 - masked_accuracy: 0.5638\n",
            "Epoch 16: saving model to drive/MyDrive/Transformer/training/training_01/cp-0016.ckpt\n",
            "2035/3252 [=================>............] - ETA: 5:44 - loss: 2.1143 - masked_accuracy: 0.5640\n",
            "Epoch 16: saving model to drive/MyDrive/Transformer/training/training_01/cp-0016.ckpt\n",
            "2099/3252 [==================>...........] - ETA: 5:25 - loss: 2.1135 - masked_accuracy: 0.5641\n",
            "Epoch 16: saving model to drive/MyDrive/Transformer/training/training_01/cp-0016.ckpt\n",
            "2163/3252 [==================>...........] - ETA: 5:08 - loss: 2.1129 - masked_accuracy: 0.5642\n",
            "Epoch 16: saving model to drive/MyDrive/Transformer/training/training_01/cp-0016.ckpt\n",
            "2227/3252 [===================>..........] - ETA: 4:50 - loss: 2.1129 - masked_accuracy: 0.5642\n",
            "Epoch 16: saving model to drive/MyDrive/Transformer/training/training_01/cp-0016.ckpt\n",
            "2291/3252 [====================>.........] - ETA: 4:32 - loss: 2.1129 - masked_accuracy: 0.5641\n",
            "Epoch 16: saving model to drive/MyDrive/Transformer/training/training_01/cp-0016.ckpt\n",
            "2355/3252 [====================>.........] - ETA: 4:14 - loss: 2.1128 - masked_accuracy: 0.5641\n",
            "Epoch 16: saving model to drive/MyDrive/Transformer/training/training_01/cp-0016.ckpt\n",
            "2419/3252 [=====================>........] - ETA: 3:56 - loss: 2.1132 - masked_accuracy: 0.5641\n",
            "Epoch 16: saving model to drive/MyDrive/Transformer/training/training_01/cp-0016.ckpt\n",
            "2483/3252 [=====================>........] - ETA: 3:38 - loss: 2.1135 - masked_accuracy: 0.5641\n",
            "Epoch 16: saving model to drive/MyDrive/Transformer/training/training_01/cp-0016.ckpt\n",
            "2547/3252 [======================>.......] - ETA: 3:19 - loss: 2.1133 - masked_accuracy: 0.5641\n",
            "Epoch 16: saving model to drive/MyDrive/Transformer/training/training_01/cp-0016.ckpt\n",
            "2611/3252 [=======================>......] - ETA: 3:01 - loss: 2.1132 - masked_accuracy: 0.5641\n",
            "Epoch 16: saving model to drive/MyDrive/Transformer/training/training_01/cp-0016.ckpt\n",
            "2675/3252 [=======================>......] - ETA: 2:43 - loss: 2.1132 - masked_accuracy: 0.5641\n",
            "Epoch 16: saving model to drive/MyDrive/Transformer/training/training_01/cp-0016.ckpt\n",
            "2739/3252 [========================>.....] - ETA: 2:25 - loss: 2.1127 - masked_accuracy: 0.5642\n",
            "Epoch 16: saving model to drive/MyDrive/Transformer/training/training_01/cp-0016.ckpt\n",
            "2803/3252 [========================>.....] - ETA: 2:07 - loss: 2.1127 - masked_accuracy: 0.5642\n",
            "Epoch 16: saving model to drive/MyDrive/Transformer/training/training_01/cp-0016.ckpt\n",
            "2867/3252 [=========================>....] - ETA: 1:49 - loss: 2.1133 - masked_accuracy: 0.5641\n",
            "Epoch 16: saving model to drive/MyDrive/Transformer/training/training_01/cp-0016.ckpt\n",
            "2931/3252 [==========================>...] - ETA: 1:31 - loss: 2.1132 - masked_accuracy: 0.5642\n",
            "Epoch 16: saving model to drive/MyDrive/Transformer/training/training_01/cp-0016.ckpt\n",
            "2995/3252 [==========================>...] - ETA: 1:13 - loss: 2.1129 - masked_accuracy: 0.5642\n",
            "Epoch 16: saving model to drive/MyDrive/Transformer/training/training_01/cp-0016.ckpt\n",
            "3059/3252 [===========================>..] - ETA: 54s - loss: 2.1133 - masked_accuracy: 0.5642\n",
            "Epoch 16: saving model to drive/MyDrive/Transformer/training/training_01/cp-0016.ckpt\n",
            "3123/3252 [===========================>..] - ETA: 36s - loss: 2.1129 - masked_accuracy: 0.5642\n",
            "Epoch 16: saving model to drive/MyDrive/Transformer/training/training_01/cp-0016.ckpt\n",
            "3187/3252 [============================>.] - ETA: 18s - loss: 2.1130 - masked_accuracy: 0.5642\n",
            "Epoch 16: saving model to drive/MyDrive/Transformer/training/training_01/cp-0016.ckpt\n",
            "3251/3252 [============================>.] - ETA: 0s - loss: 2.1128 - masked_accuracy: 0.5642\n",
            "Epoch 16: saving model to drive/MyDrive/Transformer/training/training_01/cp-0016.ckpt\n",
            "3252/3252 [==============================] - 937s 288ms/step - loss: 2.1128 - masked_accuracy: 0.5642 - val_loss: 2.2252 - val_masked_accuracy: 0.5621\n",
            "Epoch 17/20\n",
            "  63/3252 [..............................] - ETA: 14:41 - loss: 2.0923 - masked_accuracy: 0.5671\n",
            "Epoch 17: saving model to drive/MyDrive/Transformer/training/training_01/cp-0017.ckpt\n",
            " 127/3252 [>.............................] - ETA: 14:47 - loss: 2.1065 - masked_accuracy: 0.5655\n",
            "Epoch 17: saving model to drive/MyDrive/Transformer/training/training_01/cp-0017.ckpt\n",
            " 191/3252 [>.............................] - ETA: 14:12 - loss: 2.0960 - masked_accuracy: 0.5676\n",
            "Epoch 17: saving model to drive/MyDrive/Transformer/training/training_01/cp-0017.ckpt\n",
            " 255/3252 [=>............................] - ETA: 14:03 - loss: 2.0964 - masked_accuracy: 0.5675\n",
            "Epoch 17: saving model to drive/MyDrive/Transformer/training/training_01/cp-0017.ckpt\n",
            " 319/3252 [=>............................] - ETA: 13:46 - loss: 2.0995 - masked_accuracy: 0.5666\n",
            "Epoch 17: saving model to drive/MyDrive/Transformer/training/training_01/cp-0017.ckpt\n",
            " 383/3252 [==>...........................] - ETA: 13:24 - loss: 2.1004 - masked_accuracy: 0.5662\n",
            "Epoch 17: saving model to drive/MyDrive/Transformer/training/training_01/cp-0017.ckpt\n",
            " 447/3252 [===>..........................] - ETA: 13:11 - loss: 2.1005 - masked_accuracy: 0.5662\n",
            "Epoch 17: saving model to drive/MyDrive/Transformer/training/training_01/cp-0017.ckpt\n",
            " 511/3252 [===>..........................] - ETA: 12:58 - loss: 2.0982 - masked_accuracy: 0.5666\n",
            "Epoch 17: saving model to drive/MyDrive/Transformer/training/training_01/cp-0017.ckpt\n",
            " 575/3252 [====>.........................] - ETA: 12:40 - loss: 2.0985 - masked_accuracy: 0.5665\n",
            "Epoch 17: saving model to drive/MyDrive/Transformer/training/training_01/cp-0017.ckpt\n",
            " 639/3252 [====>.........................] - ETA: 12:22 - loss: 2.1005 - masked_accuracy: 0.5660\n",
            "Epoch 17: saving model to drive/MyDrive/Transformer/training/training_01/cp-0017.ckpt\n",
            " 703/3252 [=====>........................] - ETA: 12:03 - loss: 2.1006 - masked_accuracy: 0.5661\n",
            "Epoch 17: saving model to drive/MyDrive/Transformer/training/training_01/cp-0017.ckpt\n",
            " 767/3252 [======>.......................] - ETA: 11:44 - loss: 2.1013 - masked_accuracy: 0.5661\n",
            "Epoch 17: saving model to drive/MyDrive/Transformer/training/training_01/cp-0017.ckpt\n",
            " 831/3252 [======>.......................] - ETA: 11:26 - loss: 2.1018 - masked_accuracy: 0.5659\n",
            "Epoch 17: saving model to drive/MyDrive/Transformer/training/training_01/cp-0017.ckpt\n",
            " 895/3252 [=======>......................] - ETA: 11:09 - loss: 2.1028 - masked_accuracy: 0.5657\n",
            "Epoch 17: saving model to drive/MyDrive/Transformer/training/training_01/cp-0017.ckpt\n",
            " 959/3252 [=======>......................] - ETA: 10:51 - loss: 2.1030 - masked_accuracy: 0.5657\n",
            "Epoch 17: saving model to drive/MyDrive/Transformer/training/training_01/cp-0017.ckpt\n",
            "1023/3252 [========>.....................] - ETA: 10:32 - loss: 2.1019 - masked_accuracy: 0.5659\n",
            "Epoch 17: saving model to drive/MyDrive/Transformer/training/training_01/cp-0017.ckpt\n",
            "1087/3252 [=========>....................] - ETA: 10:15 - loss: 2.1010 - masked_accuracy: 0.5661\n",
            "Epoch 17: saving model to drive/MyDrive/Transformer/training/training_01/cp-0017.ckpt\n",
            "1151/3252 [=========>....................] - ETA: 9:55 - loss: 2.1011 - masked_accuracy: 0.5660\n",
            "Epoch 17: saving model to drive/MyDrive/Transformer/training/training_01/cp-0017.ckpt\n",
            "1215/3252 [==========>...................] - ETA: 9:37 - loss: 2.0996 - masked_accuracy: 0.5661\n",
            "Epoch 17: saving model to drive/MyDrive/Transformer/training/training_01/cp-0017.ckpt\n",
            "1279/3252 [==========>...................] - ETA: 9:18 - loss: 2.0989 - masked_accuracy: 0.5663\n",
            "Epoch 17: saving model to drive/MyDrive/Transformer/training/training_01/cp-0017.ckpt\n",
            "1343/3252 [===========>..................] - ETA: 9:01 - loss: 2.0994 - masked_accuracy: 0.5663\n",
            "Epoch 17: saving model to drive/MyDrive/Transformer/training/training_01/cp-0017.ckpt\n",
            "1407/3252 [===========>..................] - ETA: 8:42 - loss: 2.0991 - masked_accuracy: 0.5662\n",
            "Epoch 17: saving model to drive/MyDrive/Transformer/training/training_01/cp-0017.ckpt\n",
            "1471/3252 [============>.................] - ETA: 8:24 - loss: 2.0983 - masked_accuracy: 0.5664\n",
            "Epoch 17: saving model to drive/MyDrive/Transformer/training/training_01/cp-0017.ckpt\n",
            "1535/3252 [=============>................] - ETA: 8:05 - loss: 2.0993 - masked_accuracy: 0.5664\n",
            "Epoch 17: saving model to drive/MyDrive/Transformer/training/training_01/cp-0017.ckpt\n",
            "1599/3252 [=============>................] - ETA: 7:47 - loss: 2.0991 - masked_accuracy: 0.5663\n",
            "Epoch 17: saving model to drive/MyDrive/Transformer/training/training_01/cp-0017.ckpt\n",
            "1663/3252 [==============>...............] - ETA: 7:29 - loss: 2.0992 - masked_accuracy: 0.5664\n",
            "Epoch 17: saving model to drive/MyDrive/Transformer/training/training_01/cp-0017.ckpt\n",
            "1727/3252 [==============>...............] - ETA: 7:11 - loss: 2.0991 - masked_accuracy: 0.5663\n",
            "Epoch 17: saving model to drive/MyDrive/Transformer/training/training_01/cp-0017.ckpt\n",
            "1791/3252 [===============>..............] - ETA: 6:53 - loss: 2.0989 - masked_accuracy: 0.5664\n",
            "Epoch 17: saving model to drive/MyDrive/Transformer/training/training_01/cp-0017.ckpt\n",
            "1855/3252 [================>.............] - ETA: 6:35 - loss: 2.0995 - masked_accuracy: 0.5663\n",
            "Epoch 17: saving model to drive/MyDrive/Transformer/training/training_01/cp-0017.ckpt\n",
            "1919/3252 [================>.............] - ETA: 6:17 - loss: 2.0987 - masked_accuracy: 0.5664\n",
            "Epoch 17: saving model to drive/MyDrive/Transformer/training/training_01/cp-0017.ckpt\n",
            "1983/3252 [=================>............] - ETA: 5:59 - loss: 2.0981 - masked_accuracy: 0.5665\n",
            "Epoch 17: saving model to drive/MyDrive/Transformer/training/training_01/cp-0017.ckpt\n",
            "2047/3252 [=================>............] - ETA: 5:41 - loss: 2.0981 - masked_accuracy: 0.5666\n",
            "Epoch 17: saving model to drive/MyDrive/Transformer/training/training_01/cp-0017.ckpt\n",
            "2111/3252 [==================>...........] - ETA: 5:23 - loss: 2.0976 - masked_accuracy: 0.5667\n",
            "Epoch 17: saving model to drive/MyDrive/Transformer/training/training_01/cp-0017.ckpt\n",
            "2175/3252 [===================>..........] - ETA: 5:05 - loss: 2.0981 - masked_accuracy: 0.5666\n",
            "Epoch 17: saving model to drive/MyDrive/Transformer/training/training_01/cp-0017.ckpt\n",
            "2239/3252 [===================>..........] - ETA: 4:47 - loss: 2.0983 - masked_accuracy: 0.5665\n",
            "Epoch 17: saving model to drive/MyDrive/Transformer/training/training_01/cp-0017.ckpt\n",
            "2303/3252 [====================>.........] - ETA: 4:29 - loss: 2.0979 - masked_accuracy: 0.5666\n",
            "Epoch 17: saving model to drive/MyDrive/Transformer/training/training_01/cp-0017.ckpt\n",
            "2367/3252 [====================>.........] - ETA: 4:11 - loss: 2.0982 - masked_accuracy: 0.5665\n",
            "Epoch 17: saving model to drive/MyDrive/Transformer/training/training_01/cp-0017.ckpt\n",
            "2431/3252 [=====================>........] - ETA: 3:53 - loss: 2.0982 - masked_accuracy: 0.5666\n",
            "Epoch 17: saving model to drive/MyDrive/Transformer/training/training_01/cp-0017.ckpt\n",
            "2495/3252 [======================>.......] - ETA: 3:35 - loss: 2.0979 - masked_accuracy: 0.5666\n",
            "Epoch 17: saving model to drive/MyDrive/Transformer/training/training_01/cp-0017.ckpt\n",
            "2559/3252 [======================>.......] - ETA: 3:16 - loss: 2.0976 - masked_accuracy: 0.5666\n",
            "Epoch 17: saving model to drive/MyDrive/Transformer/training/training_01/cp-0017.ckpt\n",
            "2623/3252 [=======================>......] - ETA: 2:58 - loss: 2.0973 - masked_accuracy: 0.5667\n",
            "Epoch 17: saving model to drive/MyDrive/Transformer/training/training_01/cp-0017.ckpt\n",
            "2687/3252 [=======================>......] - ETA: 2:40 - loss: 2.0974 - masked_accuracy: 0.5667\n",
            "Epoch 17: saving model to drive/MyDrive/Transformer/training/training_01/cp-0017.ckpt\n",
            "2751/3252 [========================>.....] - ETA: 2:22 - loss: 2.0969 - masked_accuracy: 0.5667\n",
            "Epoch 17: saving model to drive/MyDrive/Transformer/training/training_01/cp-0017.ckpt\n",
            "2815/3252 [========================>.....] - ETA: 2:04 - loss: 2.0969 - masked_accuracy: 0.5667\n",
            "Epoch 17: saving model to drive/MyDrive/Transformer/training/training_01/cp-0017.ckpt\n",
            "2879/3252 [=========================>....] - ETA: 1:45 - loss: 2.0973 - masked_accuracy: 0.5667\n",
            "Epoch 17: saving model to drive/MyDrive/Transformer/training/training_01/cp-0017.ckpt\n",
            "2943/3252 [==========================>...] - ETA: 1:27 - loss: 2.0971 - masked_accuracy: 0.5667\n",
            "Epoch 17: saving model to drive/MyDrive/Transformer/training/training_01/cp-0017.ckpt\n",
            "3007/3252 [==========================>...] - ETA: 1:09 - loss: 2.0973 - masked_accuracy: 0.5667\n",
            "Epoch 17: saving model to drive/MyDrive/Transformer/training/training_01/cp-0017.ckpt\n",
            "3071/3252 [===========================>..] - ETA: 51s - loss: 2.0974 - masked_accuracy: 0.5667\n",
            "Epoch 17: saving model to drive/MyDrive/Transformer/training/training_01/cp-0017.ckpt\n",
            "3135/3252 [===========================>..] - ETA: 33s - loss: 2.0972 - masked_accuracy: 0.5667\n",
            "Epoch 17: saving model to drive/MyDrive/Transformer/training/training_01/cp-0017.ckpt\n",
            "3199/3252 [============================>.] - ETA: 15s - loss: 2.0969 - masked_accuracy: 0.5668\n",
            "Epoch 17: saving model to drive/MyDrive/Transformer/training/training_01/cp-0017.ckpt\n",
            "3252/3252 [==============================] - 935s 287ms/step - loss: 2.0967 - masked_accuracy: 0.5668 - val_loss: 2.2266 - val_masked_accuracy: 0.5640\n",
            "Epoch 18/20\n",
            "  11/3252 [..............................] - ETA: 14:49 - loss: 2.0864 - masked_accuracy: 0.5682\n",
            "Epoch 18: saving model to drive/MyDrive/Transformer/training/training_01/cp-0018.ckpt\n",
            "  75/3252 [..............................] - ETA: 15:07 - loss: 2.0753 - masked_accuracy: 0.5671\n",
            "Epoch 18: saving model to drive/MyDrive/Transformer/training/training_01/cp-0018.ckpt\n",
            " 139/3252 [>.............................] - ETA: 14:56 - loss: 2.0819 - masked_accuracy: 0.5671\n",
            "Epoch 18: saving model to drive/MyDrive/Transformer/training/training_01/cp-0018.ckpt\n",
            " 203/3252 [>.............................] - ETA: 14:40 - loss: 2.0821 - masked_accuracy: 0.5676\n",
            "Epoch 18: saving model to drive/MyDrive/Transformer/training/training_01/cp-0018.ckpt\n",
            " 267/3252 [=>............................] - ETA: 14:19 - loss: 2.0846 - masked_accuracy: 0.5677\n",
            "Epoch 18: saving model to drive/MyDrive/Transformer/training/training_01/cp-0018.ckpt\n",
            " 331/3252 [==>...........................] - ETA: 13:59 - loss: 2.0872 - masked_accuracy: 0.5676\n",
            "Epoch 18: saving model to drive/MyDrive/Transformer/training/training_01/cp-0018.ckpt\n",
            " 395/3252 [==>...........................] - ETA: 13:41 - loss: 2.0889 - masked_accuracy: 0.5674\n",
            "Epoch 18: saving model to drive/MyDrive/Transformer/training/training_01/cp-0018.ckpt\n",
            " 459/3252 [===>..........................] - ETA: 13:24 - loss: 2.0877 - masked_accuracy: 0.5676\n",
            "Epoch 18: saving model to drive/MyDrive/Transformer/training/training_01/cp-0018.ckpt\n",
            " 523/3252 [===>..........................] - ETA: 13:03 - loss: 2.0894 - masked_accuracy: 0.5671\n",
            "Epoch 18: saving model to drive/MyDrive/Transformer/training/training_01/cp-0018.ckpt\n",
            " 587/3252 [====>.........................] - ETA: 12:47 - loss: 2.0896 - masked_accuracy: 0.5673\n",
            "Epoch 18: saving model to drive/MyDrive/Transformer/training/training_01/cp-0018.ckpt\n",
            " 651/3252 [=====>........................] - ETA: 12:28 - loss: 2.0899 - masked_accuracy: 0.5673\n",
            "Epoch 18: saving model to drive/MyDrive/Transformer/training/training_01/cp-0018.ckpt\n",
            " 715/3252 [=====>........................] - ETA: 12:07 - loss: 2.0887 - masked_accuracy: 0.5675\n",
            "Epoch 18: saving model to drive/MyDrive/Transformer/training/training_01/cp-0018.ckpt\n",
            " 779/3252 [======>.......................] - ETA: 11:48 - loss: 2.0856 - masked_accuracy: 0.5681\n",
            "Epoch 18: saving model to drive/MyDrive/Transformer/training/training_01/cp-0018.ckpt\n",
            " 843/3252 [======>.......................] - ETA: 11:30 - loss: 2.0846 - masked_accuracy: 0.5682\n",
            "Epoch 18: saving model to drive/MyDrive/Transformer/training/training_01/cp-0018.ckpt\n",
            " 907/3252 [=======>......................] - ETA: 11:11 - loss: 2.0841 - masked_accuracy: 0.5684\n",
            "Epoch 18: saving model to drive/MyDrive/Transformer/training/training_01/cp-0018.ckpt\n",
            " 971/3252 [=======>......................] - ETA: 10:53 - loss: 2.0830 - masked_accuracy: 0.5685\n",
            "Epoch 18: saving model to drive/MyDrive/Transformer/training/training_01/cp-0018.ckpt\n",
            "1035/3252 [========>.....................] - ETA: 10:35 - loss: 2.0831 - masked_accuracy: 0.5684\n",
            "Epoch 18: saving model to drive/MyDrive/Transformer/training/training_01/cp-0018.ckpt\n",
            "1099/3252 [=========>....................] - ETA: 10:15 - loss: 2.0822 - masked_accuracy: 0.5688\n",
            "Epoch 18: saving model to drive/MyDrive/Transformer/training/training_01/cp-0018.ckpt\n",
            "1163/3252 [=========>....................] - ETA: 9:57 - loss: 2.0814 - masked_accuracy: 0.5688\n",
            "Epoch 18: saving model to drive/MyDrive/Transformer/training/training_01/cp-0018.ckpt\n",
            "1227/3252 [==========>...................] - ETA: 9:38 - loss: 2.0812 - masked_accuracy: 0.5689\n",
            "Epoch 18: saving model to drive/MyDrive/Transformer/training/training_01/cp-0018.ckpt\n",
            "1291/3252 [==========>...................] - ETA: 9:19 - loss: 2.0818 - masked_accuracy: 0.5688\n",
            "Epoch 18: saving model to drive/MyDrive/Transformer/training/training_01/cp-0018.ckpt\n",
            "1355/3252 [===========>..................] - ETA: 9:01 - loss: 2.0823 - masked_accuracy: 0.5687\n",
            "Epoch 18: saving model to drive/MyDrive/Transformer/training/training_01/cp-0018.ckpt\n",
            "1419/3252 [============>.................] - ETA: 8:43 - loss: 2.0829 - masked_accuracy: 0.5685\n",
            "Epoch 18: saving model to drive/MyDrive/Transformer/training/training_01/cp-0018.ckpt\n",
            "1483/3252 [============>.................] - ETA: 8:25 - loss: 2.0826 - masked_accuracy: 0.5686\n",
            "Epoch 18: saving model to drive/MyDrive/Transformer/training/training_01/cp-0018.ckpt\n",
            "1547/3252 [=============>................] - ETA: 8:06 - loss: 2.0827 - masked_accuracy: 0.5685\n",
            "Epoch 18: saving model to drive/MyDrive/Transformer/training/training_01/cp-0018.ckpt\n",
            "1611/3252 [=============>................] - ETA: 7:48 - loss: 2.0836 - masked_accuracy: 0.5684\n",
            "Epoch 18: saving model to drive/MyDrive/Transformer/training/training_01/cp-0018.ckpt\n",
            "1675/3252 [==============>...............] - ETA: 7:30 - loss: 2.0837 - masked_accuracy: 0.5682\n",
            "Epoch 18: saving model to drive/MyDrive/Transformer/training/training_01/cp-0018.ckpt\n",
            "1739/3252 [===============>..............] - ETA: 7:12 - loss: 2.0837 - masked_accuracy: 0.5683\n",
            "Epoch 18: saving model to drive/MyDrive/Transformer/training/training_01/cp-0018.ckpt\n",
            "1803/3252 [===============>..............] - ETA: 6:53 - loss: 2.0833 - masked_accuracy: 0.5684\n",
            "Epoch 18: saving model to drive/MyDrive/Transformer/training/training_01/cp-0018.ckpt\n",
            "1867/3252 [================>.............] - ETA: 6:35 - loss: 2.0834 - masked_accuracy: 0.5684\n",
            "Epoch 18: saving model to drive/MyDrive/Transformer/training/training_01/cp-0018.ckpt\n",
            "1931/3252 [================>.............] - ETA: 6:16 - loss: 2.0834 - masked_accuracy: 0.5685\n",
            "Epoch 18: saving model to drive/MyDrive/Transformer/training/training_01/cp-0018.ckpt\n",
            "1995/3252 [=================>............] - ETA: 5:59 - loss: 2.0836 - masked_accuracy: 0.5685\n",
            "Epoch 18: saving model to drive/MyDrive/Transformer/training/training_01/cp-0018.ckpt\n",
            "2059/3252 [=================>............] - ETA: 5:40 - loss: 2.0826 - masked_accuracy: 0.5687\n",
            "Epoch 18: saving model to drive/MyDrive/Transformer/training/training_01/cp-0018.ckpt\n",
            "2123/3252 [==================>...........] - ETA: 5:22 - loss: 2.0835 - masked_accuracy: 0.5685\n",
            "Epoch 18: saving model to drive/MyDrive/Transformer/training/training_01/cp-0018.ckpt\n",
            "2187/3252 [===================>..........] - ETA: 5:04 - loss: 2.0829 - masked_accuracy: 0.5687\n",
            "Epoch 18: saving model to drive/MyDrive/Transformer/training/training_01/cp-0018.ckpt\n",
            "2251/3252 [===================>..........] - ETA: 4:45 - loss: 2.0826 - masked_accuracy: 0.5687\n",
            "Epoch 18: saving model to drive/MyDrive/Transformer/training/training_01/cp-0018.ckpt\n",
            "2315/3252 [====================>.........] - ETA: 4:27 - loss: 2.0829 - masked_accuracy: 0.5686\n",
            "Epoch 18: saving model to drive/MyDrive/Transformer/training/training_01/cp-0018.ckpt\n",
            "2379/3252 [====================>.........] - ETA: 4:09 - loss: 2.0824 - masked_accuracy: 0.5687\n",
            "Epoch 18: saving model to drive/MyDrive/Transformer/training/training_01/cp-0018.ckpt\n",
            "2443/3252 [=====================>........] - ETA: 3:50 - loss: 2.0820 - masked_accuracy: 0.5688\n",
            "Epoch 18: saving model to drive/MyDrive/Transformer/training/training_01/cp-0018.ckpt\n",
            "2507/3252 [======================>.......] - ETA: 3:32 - loss: 2.0817 - masked_accuracy: 0.5688\n",
            "Epoch 18: saving model to drive/MyDrive/Transformer/training/training_01/cp-0018.ckpt\n",
            "2571/3252 [======================>.......] - ETA: 3:14 - loss: 2.0819 - masked_accuracy: 0.5688\n",
            "Epoch 18: saving model to drive/MyDrive/Transformer/training/training_01/cp-0018.ckpt\n",
            "2635/3252 [=======================>......] - ETA: 2:55 - loss: 2.0817 - masked_accuracy: 0.5689\n",
            "Epoch 18: saving model to drive/MyDrive/Transformer/training/training_01/cp-0018.ckpt\n",
            "2699/3252 [=======================>......] - ETA: 2:37 - loss: 2.0815 - masked_accuracy: 0.5689\n",
            "Epoch 18: saving model to drive/MyDrive/Transformer/training/training_01/cp-0018.ckpt\n",
            "2763/3252 [========================>.....] - ETA: 2:19 - loss: 2.0817 - masked_accuracy: 0.5689\n",
            "Epoch 18: saving model to drive/MyDrive/Transformer/training/training_01/cp-0018.ckpt\n",
            "2827/3252 [=========================>....] - ETA: 2:01 - loss: 2.0820 - masked_accuracy: 0.5689\n",
            "Epoch 18: saving model to drive/MyDrive/Transformer/training/training_01/cp-0018.ckpt\n",
            "2891/3252 [=========================>....] - ETA: 1:42 - loss: 2.0815 - masked_accuracy: 0.5690\n",
            "Epoch 18: saving model to drive/MyDrive/Transformer/training/training_01/cp-0018.ckpt\n",
            "2955/3252 [==========================>...] - ETA: 1:24 - loss: 2.0813 - masked_accuracy: 0.5690\n",
            "Epoch 18: saving model to drive/MyDrive/Transformer/training/training_01/cp-0018.ckpt\n",
            "3019/3252 [==========================>...] - ETA: 1:06 - loss: 2.0814 - masked_accuracy: 0.5690\n",
            "Epoch 18: saving model to drive/MyDrive/Transformer/training/training_01/cp-0018.ckpt\n",
            "3083/3252 [===========================>..] - ETA: 48s - loss: 2.0814 - masked_accuracy: 0.5690\n",
            "Epoch 18: saving model to drive/MyDrive/Transformer/training/training_01/cp-0018.ckpt\n",
            "3147/3252 [============================>.] - ETA: 29s - loss: 2.0815 - masked_accuracy: 0.5690\n",
            "Epoch 18: saving model to drive/MyDrive/Transformer/training/training_01/cp-0018.ckpt\n",
            "3211/3252 [============================>.] - ETA: 11s - loss: 2.0816 - masked_accuracy: 0.5690\n",
            "Epoch 18: saving model to drive/MyDrive/Transformer/training/training_01/cp-0018.ckpt\n",
            "3252/3252 [==============================] - 937s 288ms/step - loss: 2.0813 - masked_accuracy: 0.5691 - val_loss: 2.2111 - val_masked_accuracy: 0.5634\n",
            "Epoch 19/20\n",
            "  23/3252 [..............................] - ETA: 14:34 - loss: 2.1218 - masked_accuracy: 0.5616\n",
            "Epoch 19: saving model to drive/MyDrive/Transformer/training/training_01/cp-0019.ckpt\n",
            "  87/3252 [..............................] - ETA: 14:52 - loss: 2.0818 - masked_accuracy: 0.5674\n",
            "Epoch 19: saving model to drive/MyDrive/Transformer/training/training_01/cp-0019.ckpt\n",
            " 151/3252 [>.............................] - ETA: 14:40 - loss: 2.0678 - masked_accuracy: 0.5699\n",
            "Epoch 19: saving model to drive/MyDrive/Transformer/training/training_01/cp-0019.ckpt\n",
            " 215/3252 [>.............................] - ETA: 14:22 - loss: 2.0746 - masked_accuracy: 0.5694\n",
            "Epoch 19: saving model to drive/MyDrive/Transformer/training/training_01/cp-0019.ckpt\n",
            " 279/3252 [=>............................] - ETA: 14:09 - loss: 2.0733 - masked_accuracy: 0.5699\n",
            "Epoch 19: saving model to drive/MyDrive/Transformer/training/training_01/cp-0019.ckpt\n",
            " 343/3252 [==>...........................] - ETA: 13:53 - loss: 2.0702 - masked_accuracy: 0.5706\n",
            "Epoch 19: saving model to drive/MyDrive/Transformer/training/training_01/cp-0019.ckpt\n",
            " 407/3252 [==>...........................] - ETA: 13:31 - loss: 2.0701 - masked_accuracy: 0.5705\n",
            "Epoch 19: saving model to drive/MyDrive/Transformer/training/training_01/cp-0019.ckpt\n",
            " 471/3252 [===>..........................] - ETA: 13:14 - loss: 2.0690 - masked_accuracy: 0.5706\n",
            "Epoch 19: saving model to drive/MyDrive/Transformer/training/training_01/cp-0019.ckpt\n",
            " 535/3252 [===>..........................] - ETA: 12:56 - loss: 2.0716 - masked_accuracy: 0.5702\n",
            "Epoch 19: saving model to drive/MyDrive/Transformer/training/training_01/cp-0019.ckpt\n",
            " 599/3252 [====>.........................] - ETA: 12:40 - loss: 2.0715 - masked_accuracy: 0.5703\n",
            "Epoch 19: saving model to drive/MyDrive/Transformer/training/training_01/cp-0019.ckpt\n",
            " 663/3252 [=====>........................] - ETA: 12:19 - loss: 2.0716 - masked_accuracy: 0.5704\n",
            "Epoch 19: saving model to drive/MyDrive/Transformer/training/training_01/cp-0019.ckpt\n",
            " 727/3252 [=====>........................] - ETA: 12:01 - loss: 2.0689 - masked_accuracy: 0.5706\n",
            "Epoch 19: saving model to drive/MyDrive/Transformer/training/training_01/cp-0019.ckpt\n",
            " 791/3252 [======>.......................] - ETA: 11:43 - loss: 2.0681 - masked_accuracy: 0.5708\n",
            "Epoch 19: saving model to drive/MyDrive/Transformer/training/training_01/cp-0019.ckpt\n",
            " 855/3252 [======>.......................] - ETA: 11:25 - loss: 2.0675 - masked_accuracy: 0.5710\n",
            "Epoch 19: saving model to drive/MyDrive/Transformer/training/training_01/cp-0019.ckpt\n",
            " 919/3252 [=======>......................] - ETA: 11:07 - loss: 2.0673 - masked_accuracy: 0.5711\n",
            "Epoch 19: saving model to drive/MyDrive/Transformer/training/training_01/cp-0019.ckpt\n",
            " 983/3252 [========>.....................] - ETA: 10:50 - loss: 2.0672 - masked_accuracy: 0.5710\n",
            "Epoch 19: saving model to drive/MyDrive/Transformer/training/training_01/cp-0019.ckpt\n",
            "1047/3252 [========>.....................] - ETA: 10:31 - loss: 2.0678 - masked_accuracy: 0.5709\n",
            "Epoch 19: saving model to drive/MyDrive/Transformer/training/training_01/cp-0019.ckpt\n",
            "1111/3252 [=========>....................] - ETA: 10:12 - loss: 2.0671 - masked_accuracy: 0.5710\n",
            "Epoch 19: saving model to drive/MyDrive/Transformer/training/training_01/cp-0019.ckpt\n",
            "1175/3252 [=========>....................] - ETA: 9:53 - loss: 2.0667 - masked_accuracy: 0.5712\n",
            "Epoch 19: saving model to drive/MyDrive/Transformer/training/training_01/cp-0019.ckpt\n",
            "1239/3252 [==========>...................] - ETA: 9:34 - loss: 2.0668 - masked_accuracy: 0.5712\n",
            "Epoch 19: saving model to drive/MyDrive/Transformer/training/training_01/cp-0019.ckpt\n",
            "1303/3252 [===========>..................] - ETA: 9:16 - loss: 2.0666 - masked_accuracy: 0.5712\n",
            "Epoch 19: saving model to drive/MyDrive/Transformer/training/training_01/cp-0019.ckpt\n",
            "1367/3252 [===========>..................] - ETA: 8:58 - loss: 2.0676 - masked_accuracy: 0.5711\n",
            "Epoch 19: saving model to drive/MyDrive/Transformer/training/training_01/cp-0019.ckpt\n",
            "1431/3252 [============>.................] - ETA: 8:39 - loss: 2.0682 - masked_accuracy: 0.5711\n",
            "Epoch 19: saving model to drive/MyDrive/Transformer/training/training_01/cp-0019.ckpt\n",
            "1495/3252 [============>.................] - ETA: 8:20 - loss: 2.0689 - masked_accuracy: 0.5710\n",
            "Epoch 19: saving model to drive/MyDrive/Transformer/training/training_01/cp-0019.ckpt\n",
            "1559/3252 [=============>................] - ETA: 8:02 - loss: 2.0693 - masked_accuracy: 0.5710\n",
            "Epoch 19: saving model to drive/MyDrive/Transformer/training/training_01/cp-0019.ckpt\n",
            "1623/3252 [=============>................] - ETA: 7:44 - loss: 2.0697 - masked_accuracy: 0.5708\n",
            "Epoch 19: saving model to drive/MyDrive/Transformer/training/training_01/cp-0019.ckpt\n",
            "1687/3252 [==============>...............] - ETA: 7:26 - loss: 2.0690 - masked_accuracy: 0.5709\n",
            "Epoch 19: saving model to drive/MyDrive/Transformer/training/training_01/cp-0019.ckpt\n",
            "1751/3252 [===============>..............] - ETA: 7:07 - loss: 2.0681 - masked_accuracy: 0.5711\n",
            "Epoch 19: saving model to drive/MyDrive/Transformer/training/training_01/cp-0019.ckpt\n",
            "1815/3252 [===============>..............] - ETA: 6:49 - loss: 2.0681 - masked_accuracy: 0.5711\n",
            "Epoch 19: saving model to drive/MyDrive/Transformer/training/training_01/cp-0019.ckpt\n",
            "1879/3252 [================>.............] - ETA: 6:31 - loss: 2.0684 - masked_accuracy: 0.5710\n",
            "Epoch 19: saving model to drive/MyDrive/Transformer/training/training_01/cp-0019.ckpt\n",
            "1943/3252 [================>.............] - ETA: 6:13 - loss: 2.0682 - masked_accuracy: 0.5710\n",
            "Epoch 19: saving model to drive/MyDrive/Transformer/training/training_01/cp-0019.ckpt\n",
            "2007/3252 [=================>............] - ETA: 5:55 - loss: 2.0681 - masked_accuracy: 0.5711\n",
            "Epoch 19: saving model to drive/MyDrive/Transformer/training/training_01/cp-0019.ckpt\n",
            "2071/3252 [==================>...........] - ETA: 5:37 - loss: 2.0679 - masked_accuracy: 0.5711\n",
            "Epoch 19: saving model to drive/MyDrive/Transformer/training/training_01/cp-0019.ckpt\n",
            "2135/3252 [==================>...........] - ETA: 5:19 - loss: 2.0679 - masked_accuracy: 0.5711\n",
            "Epoch 19: saving model to drive/MyDrive/Transformer/training/training_01/cp-0019.ckpt\n",
            "2199/3252 [===================>..........] - ETA: 5:00 - loss: 2.0676 - masked_accuracy: 0.5711\n",
            "Epoch 19: saving model to drive/MyDrive/Transformer/training/training_01/cp-0019.ckpt\n",
            "2263/3252 [===================>..........] - ETA: 4:42 - loss: 2.0673 - masked_accuracy: 0.5712\n",
            "Epoch 19: saving model to drive/MyDrive/Transformer/training/training_01/cp-0019.ckpt\n",
            "2327/3252 [====================>.........] - ETA: 4:24 - loss: 2.0665 - masked_accuracy: 0.5713\n",
            "Epoch 19: saving model to drive/MyDrive/Transformer/training/training_01/cp-0019.ckpt\n",
            "2391/3252 [=====================>........] - ETA: 4:05 - loss: 2.0668 - masked_accuracy: 0.5713\n",
            "Epoch 19: saving model to drive/MyDrive/Transformer/training/training_01/cp-0019.ckpt\n",
            "2455/3252 [=====================>........] - ETA: 3:47 - loss: 2.0672 - masked_accuracy: 0.5712\n",
            "Epoch 19: saving model to drive/MyDrive/Transformer/training/training_01/cp-0019.ckpt\n",
            "2519/3252 [======================>.......] - ETA: 3:29 - loss: 2.0666 - masked_accuracy: 0.5714\n",
            "Epoch 19: saving model to drive/MyDrive/Transformer/training/training_01/cp-0019.ckpt\n",
            "2583/3252 [======================>.......] - ETA: 3:10 - loss: 2.0669 - masked_accuracy: 0.5713\n",
            "Epoch 19: saving model to drive/MyDrive/Transformer/training/training_01/cp-0019.ckpt\n",
            "2647/3252 [=======================>......] - ETA: 2:52 - loss: 2.0664 - masked_accuracy: 0.5714\n",
            "Epoch 19: saving model to drive/MyDrive/Transformer/training/training_01/cp-0019.ckpt\n",
            "2711/3252 [========================>.....] - ETA: 2:34 - loss: 2.0660 - masked_accuracy: 0.5714\n",
            "Epoch 19: saving model to drive/MyDrive/Transformer/training/training_01/cp-0019.ckpt\n",
            "2775/3252 [========================>.....] - ETA: 2:16 - loss: 2.0658 - masked_accuracy: 0.5714\n",
            "Epoch 19: saving model to drive/MyDrive/Transformer/training/training_01/cp-0019.ckpt\n",
            "2839/3252 [=========================>....] - ETA: 1:57 - loss: 2.0660 - masked_accuracy: 0.5714\n",
            "Epoch 19: saving model to drive/MyDrive/Transformer/training/training_01/cp-0019.ckpt\n",
            "2903/3252 [=========================>....] - ETA: 1:39 - loss: 2.0661 - masked_accuracy: 0.5713\n",
            "Epoch 19: saving model to drive/MyDrive/Transformer/training/training_01/cp-0019.ckpt\n",
            "2967/3252 [==========================>...] - ETA: 1:21 - loss: 2.0659 - masked_accuracy: 0.5714\n",
            "Epoch 19: saving model to drive/MyDrive/Transformer/training/training_01/cp-0019.ckpt\n",
            "3031/3252 [==========================>...] - ETA: 1:03 - loss: 2.0661 - masked_accuracy: 0.5714\n",
            "Epoch 19: saving model to drive/MyDrive/Transformer/training/training_01/cp-0019.ckpt\n",
            "3095/3252 [===========================>..] - ETA: 44s - loss: 2.0666 - masked_accuracy: 0.5713\n",
            "Epoch 19: saving model to drive/MyDrive/Transformer/training/training_01/cp-0019.ckpt\n",
            "3159/3252 [============================>.] - ETA: 26s - loss: 2.0662 - masked_accuracy: 0.5714\n",
            "Epoch 19: saving model to drive/MyDrive/Transformer/training/training_01/cp-0019.ckpt\n",
            "3223/3252 [============================>.] - ETA: 8s - loss: 2.0663 - masked_accuracy: 0.5714\n",
            "Epoch 19: saving model to drive/MyDrive/Transformer/training/training_01/cp-0019.ckpt\n",
            "3252/3252 [==============================] - 939s 289ms/step - loss: 2.0663 - masked_accuracy: 0.5714 - val_loss: 2.2135 - val_masked_accuracy: 0.5641\n",
            "Epoch 20/20\n",
            "  35/3252 [..............................] - ETA: 13:56 - loss: 2.0352 - masked_accuracy: 0.5732\n",
            "Epoch 20: saving model to drive/MyDrive/Transformer/training/training_01/cp-0020.ckpt\n",
            "  99/3252 [..............................] - ETA: 14:34 - loss: 2.0543 - masked_accuracy: 0.5723\n",
            "Epoch 20: saving model to drive/MyDrive/Transformer/training/training_01/cp-0020.ckpt\n",
            " 163/3252 [>.............................] - ETA: 14:31 - loss: 2.0539 - masked_accuracy: 0.5723\n",
            "Epoch 20: saving model to drive/MyDrive/Transformer/training/training_01/cp-0020.ckpt\n",
            " 227/3252 [=>............................] - ETA: 14:06 - loss: 2.0511 - masked_accuracy: 0.5729\n",
            "Epoch 20: saving model to drive/MyDrive/Transformer/training/training_01/cp-0020.ckpt\n",
            " 291/3252 [=>............................] - ETA: 13:51 - loss: 2.0453 - masked_accuracy: 0.5742\n",
            "Epoch 20: saving model to drive/MyDrive/Transformer/training/training_01/cp-0020.ckpt\n",
            " 355/3252 [==>...........................] - ETA: 13:36 - loss: 2.0476 - masked_accuracy: 0.5742\n",
            "Epoch 20: saving model to drive/MyDrive/Transformer/training/training_01/cp-0020.ckpt\n",
            " 419/3252 [==>...........................] - ETA: 13:25 - loss: 2.0501 - masked_accuracy: 0.5739\n",
            "Epoch 20: saving model to drive/MyDrive/Transformer/training/training_01/cp-0020.ckpt\n",
            " 483/3252 [===>..........................] - ETA: 13:10 - loss: 2.0526 - masked_accuracy: 0.5737\n",
            "Epoch 20: saving model to drive/MyDrive/Transformer/training/training_01/cp-0020.ckpt\n",
            " 547/3252 [====>.........................] - ETA: 12:55 - loss: 2.0557 - masked_accuracy: 0.5731\n",
            "Epoch 20: saving model to drive/MyDrive/Transformer/training/training_01/cp-0020.ckpt\n",
            " 611/3252 [====>.........................] - ETA: 12:36 - loss: 2.0556 - masked_accuracy: 0.5731\n",
            "Epoch 20: saving model to drive/MyDrive/Transformer/training/training_01/cp-0020.ckpt\n",
            " 675/3252 [=====>........................] - ETA: 12:17 - loss: 2.0548 - masked_accuracy: 0.5731\n",
            "Epoch 20: saving model to drive/MyDrive/Transformer/training/training_01/cp-0020.ckpt\n",
            " 739/3252 [=====>........................] - ETA: 11:54 - loss: 2.0523 - masked_accuracy: 0.5737\n",
            "Epoch 20: saving model to drive/MyDrive/Transformer/training/training_01/cp-0020.ckpt\n",
            " 803/3252 [======>.......................] - ETA: 11:37 - loss: 2.0527 - masked_accuracy: 0.5737\n",
            "Epoch 20: saving model to drive/MyDrive/Transformer/training/training_01/cp-0020.ckpt\n",
            " 867/3252 [======>.......................] - ETA: 11:17 - loss: 2.0532 - masked_accuracy: 0.5736\n",
            "Epoch 20: saving model to drive/MyDrive/Transformer/training/training_01/cp-0020.ckpt\n",
            " 931/3252 [=======>......................] - ETA: 10:59 - loss: 2.0536 - masked_accuracy: 0.5734\n",
            "Epoch 20: saving model to drive/MyDrive/Transformer/training/training_01/cp-0020.ckpt\n",
            " 995/3252 [========>.....................] - ETA: 10:39 - loss: 2.0528 - masked_accuracy: 0.5734\n",
            "Epoch 20: saving model to drive/MyDrive/Transformer/training/training_01/cp-0020.ckpt\n",
            "1059/3252 [========>.....................] - ETA: 10:21 - loss: 2.0533 - masked_accuracy: 0.5733\n",
            "Epoch 20: saving model to drive/MyDrive/Transformer/training/training_01/cp-0020.ckpt\n",
            "1123/3252 [=========>....................] - ETA: 10:03 - loss: 2.0530 - masked_accuracy: 0.5733\n",
            "Epoch 20: saving model to drive/MyDrive/Transformer/training/training_01/cp-0020.ckpt\n",
            "1187/3252 [=========>....................] - ETA: 9:45 - loss: 2.0540 - masked_accuracy: 0.5734\n",
            "Epoch 20: saving model to drive/MyDrive/Transformer/training/training_01/cp-0020.ckpt\n",
            "1251/3252 [==========>...................] - ETA: 9:27 - loss: 2.0542 - masked_accuracy: 0.5734\n",
            "Epoch 20: saving model to drive/MyDrive/Transformer/training/training_01/cp-0020.ckpt\n",
            "1315/3252 [===========>..................] - ETA: 9:08 - loss: 2.0531 - masked_accuracy: 0.5735\n",
            "Epoch 20: saving model to drive/MyDrive/Transformer/training/training_01/cp-0020.ckpt\n",
            "1379/3252 [===========>..................] - ETA: 8:50 - loss: 2.0535 - masked_accuracy: 0.5735\n",
            "Epoch 20: saving model to drive/MyDrive/Transformer/training/training_01/cp-0020.ckpt\n",
            "1443/3252 [============>.................] - ETA: 8:32 - loss: 2.0538 - masked_accuracy: 0.5734\n",
            "Epoch 20: saving model to drive/MyDrive/Transformer/training/training_01/cp-0020.ckpt\n",
            "1507/3252 [============>.................] - ETA: 8:14 - loss: 2.0545 - masked_accuracy: 0.5732\n",
            "Epoch 20: saving model to drive/MyDrive/Transformer/training/training_01/cp-0020.ckpt\n",
            "1571/3252 [=============>................] - ETA: 7:56 - loss: 2.0545 - masked_accuracy: 0.5732\n",
            "Epoch 20: saving model to drive/MyDrive/Transformer/training/training_01/cp-0020.ckpt\n",
            "1635/3252 [==============>...............] - ETA: 7:38 - loss: 2.0542 - masked_accuracy: 0.5732\n",
            "Epoch 20: saving model to drive/MyDrive/Transformer/training/training_01/cp-0020.ckpt\n",
            "1699/3252 [==============>...............] - ETA: 7:20 - loss: 2.0544 - masked_accuracy: 0.5732\n",
            "Epoch 20: saving model to drive/MyDrive/Transformer/training/training_01/cp-0020.ckpt\n",
            "1763/3252 [===============>..............] - ETA: 7:02 - loss: 2.0547 - masked_accuracy: 0.5731\n",
            "Epoch 20: saving model to drive/MyDrive/Transformer/training/training_01/cp-0020.ckpt\n",
            "1827/3252 [===============>..............] - ETA: 6:44 - loss: 2.0544 - masked_accuracy: 0.5732\n",
            "Epoch 20: saving model to drive/MyDrive/Transformer/training/training_01/cp-0020.ckpt\n",
            "1891/3252 [================>.............] - ETA: 6:25 - loss: 2.0552 - masked_accuracy: 0.5730\n",
            "Epoch 20: saving model to drive/MyDrive/Transformer/training/training_01/cp-0020.ckpt\n",
            "1955/3252 [=================>............] - ETA: 6:08 - loss: 2.0551 - masked_accuracy: 0.5730\n",
            "Epoch 20: saving model to drive/MyDrive/Transformer/training/training_01/cp-0020.ckpt\n",
            "2019/3252 [=================>............] - ETA: 5:50 - loss: 2.0544 - masked_accuracy: 0.5731\n",
            "Epoch 20: saving model to drive/MyDrive/Transformer/training/training_01/cp-0020.ckpt\n",
            "2083/3252 [==================>...........] - ETA: 5:32 - loss: 2.0550 - masked_accuracy: 0.5730\n",
            "Epoch 20: saving model to drive/MyDrive/Transformer/training/training_01/cp-0020.ckpt\n",
            "2147/3252 [==================>...........] - ETA: 5:14 - loss: 2.0554 - masked_accuracy: 0.5730\n",
            "Epoch 20: saving model to drive/MyDrive/Transformer/training/training_01/cp-0020.ckpt\n",
            "2211/3252 [===================>..........] - ETA: 4:56 - loss: 2.0547 - masked_accuracy: 0.5731\n",
            "Epoch 20: saving model to drive/MyDrive/Transformer/training/training_01/cp-0020.ckpt\n",
            "2275/3252 [===================>..........] - ETA: 4:37 - loss: 2.0549 - masked_accuracy: 0.5731\n",
            "Epoch 20: saving model to drive/MyDrive/Transformer/training/training_01/cp-0020.ckpt\n",
            "2339/3252 [====================>.........] - ETA: 4:19 - loss: 2.0547 - masked_accuracy: 0.5731\n",
            "Epoch 20: saving model to drive/MyDrive/Transformer/training/training_01/cp-0020.ckpt\n",
            "2403/3252 [=====================>........] - ETA: 4:01 - loss: 2.0545 - masked_accuracy: 0.5731\n",
            "Epoch 20: saving model to drive/MyDrive/Transformer/training/training_01/cp-0020.ckpt\n",
            "2467/3252 [=====================>........] - ETA: 3:43 - loss: 2.0546 - masked_accuracy: 0.5732\n",
            "Epoch 20: saving model to drive/MyDrive/Transformer/training/training_01/cp-0020.ckpt\n",
            "2531/3252 [======================>.......] - ETA: 3:25 - loss: 2.0541 - masked_accuracy: 0.5732\n",
            "Epoch 20: saving model to drive/MyDrive/Transformer/training/training_01/cp-0020.ckpt\n",
            "2595/3252 [======================>.......] - ETA: 3:06 - loss: 2.0539 - masked_accuracy: 0.5732\n",
            "Epoch 20: saving model to drive/MyDrive/Transformer/training/training_01/cp-0020.ckpt\n",
            "2659/3252 [=======================>......] - ETA: 2:48 - loss: 2.0537 - masked_accuracy: 0.5733\n",
            "Epoch 20: saving model to drive/MyDrive/Transformer/training/training_01/cp-0020.ckpt\n",
            "2723/3252 [========================>.....] - ETA: 2:30 - loss: 2.0535 - masked_accuracy: 0.5733\n",
            "Epoch 20: saving model to drive/MyDrive/Transformer/training/training_01/cp-0020.ckpt\n",
            "2787/3252 [========================>.....] - ETA: 2:12 - loss: 2.0533 - masked_accuracy: 0.5734\n",
            "Epoch 20: saving model to drive/MyDrive/Transformer/training/training_01/cp-0020.ckpt\n",
            "2851/3252 [=========================>....] - ETA: 1:54 - loss: 2.0530 - masked_accuracy: 0.5734\n",
            "Epoch 20: saving model to drive/MyDrive/Transformer/training/training_01/cp-0020.ckpt\n",
            "2915/3252 [=========================>....] - ETA: 1:35 - loss: 2.0529 - masked_accuracy: 0.5735\n",
            "Epoch 20: saving model to drive/MyDrive/Transformer/training/training_01/cp-0020.ckpt\n",
            "2979/3252 [==========================>...] - ETA: 1:17 - loss: 2.0532 - masked_accuracy: 0.5734\n",
            "Epoch 20: saving model to drive/MyDrive/Transformer/training/training_01/cp-0020.ckpt\n",
            "3043/3252 [===========================>..] - ETA: 59s - loss: 2.0533 - masked_accuracy: 0.5734\n",
            "Epoch 20: saving model to drive/MyDrive/Transformer/training/training_01/cp-0020.ckpt\n",
            "3107/3252 [===========================>..] - ETA: 41s - loss: 2.0536 - masked_accuracy: 0.5734\n",
            "Epoch 20: saving model to drive/MyDrive/Transformer/training/training_01/cp-0020.ckpt\n",
            "3171/3252 [============================>.] - ETA: 23s - loss: 2.0536 - masked_accuracy: 0.5733\n",
            "Epoch 20: saving model to drive/MyDrive/Transformer/training/training_01/cp-0020.ckpt\n",
            "3235/3252 [============================>.] - ETA: 4s - loss: 2.0536 - masked_accuracy: 0.5733\n",
            "Epoch 20: saving model to drive/MyDrive/Transformer/training/training_01/cp-0020.ckpt\n",
            "3252/3252 [==============================] - 940s 289ms/step - loss: 2.0536 - masked_accuracy: 0.5733 - val_loss: 2.2071 - val_masked_accuracy: 0.5655\n"
          ]
        },
        {
          "output_type": "execute_result",
          "data": {
            "text/plain": [
              "<keras.callbacks.History at 0x7f34c2108150>"
            ]
          },
          "metadata": {},
          "execution_count": 71
        }
      ],
      "source": [
        "epochs = 20\n",
        "\n",
        "transformer.fit(train_batches, epochs=epochs, validation_data=val_batches, callbacks=[cp_callback])"
      ]
    },
    {
      "cell_type": "markdown",
      "metadata": {
        "id": "x8sUSIJdDKDx"
      },
      "source": [
        "## Run Inference\n",
        "The model can now be used to perform translation.\n",
        "\n",
        "Define the `Translator` class by subclassing `tf.Module`."
      ]
    },
    {
      "cell_type": "code",
      "execution_count": 53,
      "metadata": {
        "id": "nYFzQMDNCx9F"
      },
      "outputs": [],
      "source": [
        "class Translator(tf.Module):\n",
        "  def __init__(self, tokenizers, transformer):\n",
        "    self.tokenizers = tokenizers\n",
        "    self.transformer = transformer\n",
        "\n",
        "  def __call__(self, sentence, max_length=MAX_TOKENS):\n",
        "    assert isinstance(sentence, tf.Tensor)\n",
        "    if len(sentence.shape) == 0:\n",
        "      sentence = sentence[tf.newaxis]\n",
        "\n",
        "    sentence = self.tokenizers.ru.tokenize(sentence).to_tensor()\n",
        "    encoder_input = sentence\n",
        "\n",
        "    start_end = self.tokenizers.en.tokenize([''])[0]\n",
        "    start = start_end[0][tf.newaxis]\n",
        "    end = start_end[1][tf.newaxis]\n",
        "\n",
        "    output_array = tf.TensorArray(dtype=tf.int64, size=0, dynamic_size=True)\n",
        "    output_array = output_array.write(0, start)\n",
        "\n",
        "    for i in tf.range(max_length):\n",
        "      output = tf.transpose(output_array.stack())\n",
        "      predictions = self.transformer([encoder_input, output], training=False)\n",
        "      predictions = predictions[:, -1:, :] # (batch_size, 1, vocab_size)\n",
        "      predicted_id = tf.argmax(predictions, axis=-1)\n",
        "      output_array = output_array.write(i+1, predicted_id[0])\n",
        "\n",
        "      if predicted_id == end:\n",
        "        break\n",
        "    \n",
        "    output = tf.transpose(output_array.stack())\n",
        "    text = self.tokenizers.en.detokenize(output)[0]\n",
        "    tokens = self.tokenizers.en.lookup(output)[0]\n",
        "\n",
        "    self.transformer([encoder_input, output[:,:-1]], training=False)\n",
        "    attention_weights = self.transformer.decoder.last_attn_scores\n",
        "\n",
        "    return text, tokens, attention_weights"
      ]
    },
    {
      "cell_type": "markdown",
      "metadata": {
        "id": "uvFd9d1OJZiT"
      },
      "source": [
        "Create an instance of the `Translator` class and try it out."
      ]
    },
    {
      "cell_type": "code",
      "execution_count": 54,
      "metadata": {
        "id": "A7OAmBtNJfYZ"
      },
      "outputs": [],
      "source": [
        "translator = Translator(reloaded_tokenizers, transformer)"
      ]
    },
    {
      "cell_type": "code",
      "execution_count": 55,
      "metadata": {
        "id": "Aa3Oh78ZJwwH"
      },
      "outputs": [],
      "source": [
        "def print_translation(sentence, tokens, ground_truth):\n",
        "  print(f'{\"Input:\":15s}: {sentence}')\n",
        "  print(f'{\"Prediction\":15s}: {tokens.numpy().decode(\"utf-8\")}')\n",
        "  print(f'{\"Ground truth\":15s}: {ground_truth}')"
      ]
    },
    {
      "cell_type": "code",
      "execution_count": 57,
      "metadata": {
        "id": "R1yKU0NoLW4j",
        "colab": {
          "base_uri": "https://localhost:8080/"
        },
        "outputId": "c1e56d9b-b248-4ab9-9e30-d19d5848bfa8"
      },
      "outputs": [
        {
          "output_type": "stream",
          "name": "stdout",
          "text": [
            "Input:         : это проблема, которую мы должны решить.\n",
            "Prediction     : this is the problem we have to solve .\n",
            "Ground truth   : this is a problem we have to solve.\n"
          ]
        }
      ],
      "source": [
        "sentence = 'это проблема, которую мы должны решить.'\n",
        "ground_truth = 'this is a problem we have to solve.'\n",
        "\n",
        "translated_text, translated_tokens, attention_weights = translator(tf.constant(sentence))\n",
        "print_translation(sentence, translated_text, ground_truth)"
      ]
    },
    {
      "cell_type": "markdown",
      "metadata": {
        "id": "ETfo41JsPEbJ"
      },
      "source": [
        "## Attention Plots\n",
        "Create a function that plots the attention when a token is generated."
      ]
    },
    {
      "cell_type": "code",
      "execution_count": 58,
      "metadata": {
        "id": "71V5ZYedPOOM"
      },
      "outputs": [],
      "source": [
        "def plot_attention_head(in_tokens, translated_tokens, attention):\n",
        "  translated_tokens = translated_tokens[1:]\n",
        "\n",
        "  ax = plt.gca()\n",
        "  ax.matshow(attention)\n",
        "  ax.set_xticks(range(len(in_tokens)))\n",
        "  ax.set_yticks(range(len(translated_tokens)))\n",
        "\n",
        "  labels = [label.decode('utf-8') for label in in_tokens.numpy()]\n",
        "  ax.set_xticklabels(labels, rotation=90)\n",
        "\n",
        "  labels = [label.decode('utf-8') for label in translated_tokens.numpy()]\n",
        "  ax.set_yticklabels(labels)"
      ]
    },
    {
      "cell_type": "code",
      "execution_count": 59,
      "metadata": {
        "id": "fMhPyMd3PfDN",
        "colab": {
          "base_uri": "https://localhost:8080/"
        },
        "outputId": "4b94eadf-3ed0-4aa0-c993-6935fd1acb6c"
      },
      "outputs": [
        {
          "output_type": "execute_result",
          "data": {
            "text/plain": [
              "TensorShape([10, 10])"
            ]
          },
          "metadata": {},
          "execution_count": 59
        }
      ],
      "source": [
        "head = 0\n",
        "attention_heads = tf.squeeze(attention_weights, 0)\n",
        "attention = attention_heads[head]\n",
        "attention.shape"
      ]
    },
    {
      "cell_type": "markdown",
      "metadata": {
        "id": "hV2a5RgjPk-d"
      },
      "source": [
        "These are the input (Russian) tokens."
      ]
    },
    {
      "cell_type": "code",
      "execution_count": 60,
      "metadata": {
        "id": "jBCONB5HPp15",
        "colab": {
          "base_uri": "https://localhost:8080/"
        },
        "outputId": "feef2a0d-49ec-40eb-8ef7-d3f4d0aec8e2"
      },
      "outputs": [
        {
          "output_type": "execute_result",
          "data": {
            "text/plain": [
              "<tf.Tensor: shape=(10,), dtype=string, numpy=\n",
              "array([b'[START]', b'\\xd1\\x8d\\xd1\\x82\\xd0\\xbe',\n",
              "       b'\\xd0\\xbf\\xd1\\x80\\xd0\\xbe\\xd0\\xb1\\xd0\\xbb\\xd0\\xb5\\xd0\\xbc\\xd0\\xb0',\n",
              "       b',', b'\\xd0\\xba\\xd0\\xbe\\xd1\\x82\\xd0\\xbe\\xd1\\x80\\xd1\\x83\\xd1\\x8e',\n",
              "       b'\\xd0\\xbc\\xd1\\x8b',\n",
              "       b'\\xd0\\xb4\\xd0\\xbe\\xd0\\xbb\\xd0\\xb6\\xd0\\xbd\\xd1\\x8b',\n",
              "       b'\\xd1\\x80\\xd0\\xb5\\xd1\\x88\\xd0\\xb8\\xd1\\x82\\xd1\\x8c', b'.',\n",
              "       b'[END]'], dtype=object)>"
            ]
          },
          "metadata": {},
          "execution_count": 60
        }
      ],
      "source": [
        "in_tokens = tf.convert_to_tensor([sentence])\n",
        "in_tokens = reloaded_tokenizers.ru.tokenize(in_tokens).to_tensor()\n",
        "in_tokens = reloaded_tokenizers.ru.lookup(in_tokens)[0]\n",
        "in_tokens"
      ]
    },
    {
      "cell_type": "markdown",
      "metadata": {
        "id": "TV85zHFlPy4S"
      },
      "source": [
        "These are the output (English) tokens."
      ]
    },
    {
      "cell_type": "code",
      "execution_count": 61,
      "metadata": {
        "id": "TXrORt6vP5MT",
        "colab": {
          "base_uri": "https://localhost:8080/"
        },
        "outputId": "e0b7f84c-abe1-4a42-9f15-6b76a03d8974"
      },
      "outputs": [
        {
          "output_type": "execute_result",
          "data": {
            "text/plain": [
              "<tf.Tensor: shape=(11,), dtype=string, numpy=\n",
              "array([b'[START]', b'this', b'is', b'the', b'problem', b'we', b'have',\n",
              "       b'to', b'solve', b'.', b'[END]'], dtype=object)>"
            ]
          },
          "metadata": {},
          "execution_count": 61
        }
      ],
      "source": [
        "translated_tokens"
      ]
    },
    {
      "cell_type": "markdown",
      "metadata": {
        "id": "Lcg3A4zKQIrw"
      },
      "source": [
        "Plot the attention head heatmap."
      ]
    },
    {
      "cell_type": "code",
      "execution_count": 62,
      "metadata": {
        "id": "8BKwiD0EQCQ2",
        "colab": {
          "base_uri": "https://localhost:8080/",
          "height": 310
        },
        "outputId": "9f033d3e-f713-4250-b4e6-a4a13e7328bf"
      },
      "outputs": [
        {
          "output_type": "display_data",
          "data": {
            "text/plain": [
              "<Figure size 432x288 with 1 Axes>"
            ],
            "image/png": "[encoded data removed]"
          },
          "metadata": {
            "needs_background": "light"
          }
        }
      ],
      "source": [
        "plot_attention_head(in_tokens, translated_tokens, attention)"
      ]
    },
    {
      "cell_type": "markdown",
      "metadata": {
        "id": "EeRBZCSBQHhh"
      },
      "source": [
        "Add a function for plotting attention weights."
      ]
    },
    {
      "cell_type": "code",
      "execution_count": 65,
      "metadata": {
        "id": "4nbzr87sQPM9"
      },
      "outputs": [],
      "source": [
        "def plot_attention_weights(sentence, translated_tokens, attention_heads):\n",
        "  in_tokens = tf.convert_to_tensor([sentence])\n",
        "  in_tokens = reloaded_tokenizers.ru.tokenize(in_tokens).to_tensor()\n",
        "  in_tokens = reloaded_tokenizers.ru.lookup(in_tokens)[0]\n",
        "\n",
        "  fig = plt.figure(figsize=(16, 8))\n",
        "\n",
        "  for h, head in enumerate(attention_heads):\n",
        "    ax = fig.add_subplot(2, 4, h+1)\n",
        "\n",
        "    plot_attention_head(in_tokens, translated_tokens, head)\n",
        "\n",
        "    ax.set_xlabel(f'Head {h+1}')\n",
        "\n",
        "  plt.tight_layout()\n",
        "  plt.show()"
      ]
    },
    {
      "cell_type": "markdown",
      "metadata": {
        "id": "byUTeG6ZQaey"
      },
      "source": [
        "Plot attention weights for different heads."
      ]
    },
    {
      "cell_type": "code",
      "execution_count": 66,
      "metadata": {
        "id": "qYPz19RZQnct",
        "colab": {
          "base_uri": "https://localhost:8080/",
          "height": 454
        },
        "outputId": "1a9db068-b08b-47f4-a933-488c521db4eb"
      },
      "outputs": [
        {
          "output_type": "display_data",
          "data": {
            "text/plain": [
              "<Figure size 1152x576 with 8 Axes>"
            ],
            "image/png": "[encoded data removed]"
          },
          "metadata": {
            "needs_background": "light"
          }
        }
      ],
      "source": [
        "plot_attention_weights(sentence, translated_tokens, attention_weights[0])"
      ]
    },
    {
      "cell_type": "markdown",
      "metadata": {
        "id": "A0vLPhCNMC0I"
      },
      "source": [
        "## Model Export\n",
        "We can export the trained model as a `tf.saved_model`.\n",
        "\n",
        "Create a class called `ExportTranslator` by subclassing the `tf.Module` subclass with a `tf.function` on the `__call__` method."
      ]
    },
    {
      "cell_type": "code",
      "execution_count": 67,
      "metadata": {
        "id": "Q8fBD815MU81"
      },
      "outputs": [],
      "source": [
        "class ExportTranslator(tf.Module):\n",
        "  def __init__(self, translator):\n",
        "    self.translator = translator\n",
        "\n",
        "  @tf.function(input_signature=[tf.TensorSpec(shape=[], dtype=tf.string)])\n",
        "  def __call__(self, sentence):\n",
        "    result, tokens, attention_weights = self.translator(sentence)\n",
        "\n",
        "    return result"
      ]
    },
    {
      "cell_type": "markdown",
      "metadata": {
        "id": "gdwKVgH2NPob"
      },
      "source": [
        "Wrap `translator` in the newly created `ExportTranslator`."
      ]
    },
    {
      "cell_type": "code",
      "execution_count": 68,
      "metadata": {
        "id": "wEUp-NsWNasO"
      },
      "outputs": [],
      "source": [
        "translator = ExportTranslator(translator)"
      ]
    },
    {
      "cell_type": "markdown",
      "metadata": {
        "id": "l2DlTTqDNi2U"
      },
      "source": [
        "Try out the model."
      ]
    },
    {
      "cell_type": "code",
      "execution_count": 69,
      "metadata": {
        "id": "vRZlkvtANkLn",
        "colab": {
          "base_uri": "https://localhost:8080/"
        },
        "outputId": "a2cfd99e-88c6-4597-dae3-93a13200e02e"
      },
      "outputs": [
        {
          "output_type": "execute_result",
          "data": {
            "text/plain": [
              "b'this is the problem we have to solve .'"
            ]
          },
          "metadata": {},
          "execution_count": 69
        }
      ],
      "source": [
        "translator('это проблема, которую мы должны решить.').numpy()"
      ]
    },
    {
      "cell_type": "markdown",
      "metadata": {
        "id": "EQ9wcibmNwxN"
      },
      "source": [
        "Save the model."
      ]
    },
    {
      "cell_type": "code",
      "source": [
        "export_path = 'drive/MyDrive/Transformer/translator'"
      ],
      "metadata": {
        "id": "ILe_042DHb5f"
      },
      "execution_count": 71,
      "outputs": []
    },
    {
      "cell_type": "code",
      "execution_count": 72,
      "metadata": {
        "id": "6AXQwCghNyTs",
        "colab": {
          "base_uri": "https://localhost:8080/"
        },
        "outputId": "1ff009b2-b5cf-45be-ea81-b1df035bc533"
      },
      "outputs": [
        {
          "output_type": "stream",
          "name": "stderr",
          "text": [
            "WARNING:absl:Found untraced functions such as positional_embedding_4_layer_call_fn, positional_embedding_4_layer_call_and_return_conditional_losses, dropout_35_layer_call_fn, dropout_35_layer_call_and_return_conditional_losses, positional_embedding_5_layer_call_fn while saving (showing 5 of 316). These functions will not be directly callable after loading.\n"
          ]
        }
      ],
      "source": [
        "tf.saved_model.save(translator, export_dir=export_path)"
      ]
    },
    {
      "cell_type": "markdown",
      "metadata": {
        "id": "e5zSFkNeOERI"
      },
      "source": [
        "Reload the saved model."
      ]
    },
    {
      "cell_type": "code",
      "execution_count": 73,
      "metadata": {
        "id": "gtN-9MVuOGMZ"
      },
      "outputs": [],
      "source": [
        "reloaded_translator = tf.saved_model.load(export_path)"
      ]
    },
    {
      "cell_type": "markdown",
      "metadata": {
        "id": "up8Kl7TYOTOA"
      },
      "source": [
        "Use the reloaded model to translate the same sentence. This should yield the same result."
      ]
    },
    {
      "cell_type": "code",
      "execution_count": 74,
      "metadata": {
        "id": "Nndz_-u1OYeJ",
        "colab": {
          "base_uri": "https://localhost:8080/"
        },
        "outputId": "a3da6318-b0c4-470b-b6ea-8ce81015291c"
      },
      "outputs": [
        {
          "output_type": "execute_result",
          "data": {
            "text/plain": [
              "b'this is the problem we have to solve .'"
            ]
          },
          "metadata": {},
          "execution_count": 74
        }
      ],
      "source": [
        "reloaded_translator('это проблема, которую мы должны решить.').numpy()"
      ]
    }
  ],
  "metadata": {
    "accelerator": "GPU",
    "colab": {
      "collapsed_sections": [],
      "provenance": []
    },
    "gpuClass": "standard",
    "kernelspec": {
      "display_name": "Python 3",
      "name": "python3"
    },
    "language_info": {
      "name": "python"
    },
    "widgets": {
      "application/vnd.jupyter.widget-state+json": {
        "94201702c5b64c67a762f1cb8fe5ea26": {
          "model_module": "@jupyter-widgets/controls",
          "model_name": "HBoxModel",
          "model_module_version": "1.5.0",
          "state": {
            "_dom_classes": [],
            "_model_module": "@jupyter-widgets/controls",
            "_model_module_version": "1.5.0",
            "_model_name": "HBoxModel",
            "_view_count": null,
            "_view_module": "@jupyter-widgets/controls",
            "_view_module_version": "1.5.0",
            "_view_name": "HBoxView",
            "box_style": "",
            "children": [
              "IPY_MODEL_fc877531f9ac4ea984ad74a694e4fbb4",
              "IPY_MODEL_4d174f0239a942e596e3abfb75d2b34e",
              "IPY_MODEL_415ee98ab6ef4111bff3087b17a318c4"
            ],
            "layout": "IPY_MODEL_402fbdf4acbf48378e70d9922cf1b973"
          }
        },
        "fc877531f9ac4ea984ad74a694e4fbb4": {
          "model_module": "@jupyter-widgets/controls",
          "model_name": "HTMLModel",
          "model_module_version": "1.5.0",
          "state": {
            "_dom_classes": [],
            "_model_module": "@jupyter-widgets/controls",
            "_model_module_version": "1.5.0",
            "_model_name": "HTMLModel",
            "_view_count": null,
            "_view_module": "@jupyter-widgets/controls",
            "_view_module_version": "1.5.0",
            "_view_name": "HTMLView",
            "description": "",
            "description_tooltip": null,
            "layout": "IPY_MODEL_33fb3cabf4484645ae35788709daee67",
            "placeholder": "​",
            "style": "IPY_MODEL_7438db0464834292be170b8dc96b5cbc",
            "value": "Dl Completed...: 100%"
          }
        },
        "4d174f0239a942e596e3abfb75d2b34e": {
          "model_module": "@jupyter-widgets/controls",
          "model_name": "FloatProgressModel",
          "model_module_version": "1.5.0",
          "state": {
            "_dom_classes": [],
            "_model_module": "@jupyter-widgets/controls",
            "_model_module_version": "1.5.0",
            "_model_name": "FloatProgressModel",
            "_view_count": null,
            "_view_module": "@jupyter-widgets/controls",
            "_view_module_version": "1.5.0",
            "_view_name": "ProgressView",
            "bar_style": "success",
            "description": "",
            "description_tooltip": null,
            "layout": "IPY_MODEL_66584a1417a44500bb507317debae1d0",
            "max": 1,
            "min": 0,
            "orientation": "horizontal",
            "style": "IPY_MODEL_464a66fb1ab64922a4306a0e10033b3f",
            "value": 1
          }
        },
        "415ee98ab6ef4111bff3087b17a318c4": {
          "model_module": "@jupyter-widgets/controls",
          "model_name": "HTMLModel",
          "model_module_version": "1.5.0",
          "state": {
            "_dom_classes": [],
            "_model_module": "@jupyter-widgets/controls",
            "_model_module_version": "1.5.0",
            "_model_name": "HTMLModel",
            "_view_count": null,
            "_view_module": "@jupyter-widgets/controls",
            "_view_module_version": "1.5.0",
            "_view_name": "HTMLView",
            "description": "",
            "description_tooltip": null,
            "layout": "IPY_MODEL_67b31044fb96492fa78273dfe0c5ca05",
            "placeholder": "​",
            "style": "IPY_MODEL_d09d75085537417cbfbab6b4c894e988",
            "value": " 1/1 [01:30&lt;00:00, 83.41s/ url]"
          }
        },
        "402fbdf4acbf48378e70d9922cf1b973": {
          "model_module": "@jupyter-widgets/base",
          "model_name": "LayoutModel",
          "model_module_version": "1.2.0",
          "state": {
            "_model_module": "@jupyter-widgets/base",
            "_model_module_version": "1.2.0",
            "_model_name": "LayoutModel",
            "_view_count": null,
            "_view_module": "@jupyter-widgets/base",
            "_view_module_version": "1.2.0",
            "_view_name": "LayoutView",
            "align_content": null,
            "align_items": null,
            "align_self": null,
            "border": null,
            "bottom": null,
            "display": null,
            "flex": null,
            "flex_flow": null,
            "grid_area": null,
            "grid_auto_columns": null,
            "grid_auto_flow": null,
            "grid_auto_rows": null,
            "grid_column": null,
            "grid_gap": null,
            "grid_row": null,
            "grid_template_areas": null,
            "grid_template_columns": null,
            "grid_template_rows": null,
            "height": null,
            "justify_content": null,
            "justify_items": null,
            "left": null,
            "margin": null,
            "max_height": null,
            "max_width": null,
            "min_height": null,
            "min_width": null,
            "object_fit": null,
            "object_position": null,
            "order": null,
            "overflow": null,
            "overflow_x": null,
            "overflow_y": null,
            "padding": null,
            "right": null,
            "top": null,
            "visibility": null,
            "width": null
          }
        },
        "33fb3cabf4484645ae35788709daee67": {
          "model_module": "@jupyter-widgets/base",
          "model_name": "LayoutModel",
          "model_module_version": "1.2.0",
          "state": {
            "_model_module": "@jupyter-widgets/base",
            "_model_module_version": "1.2.0",
            "_model_name": "LayoutModel",
            "_view_count": null,
            "_view_module": "@jupyter-widgets/base",
            "_view_module_version": "1.2.0",
            "_view_name": "LayoutView",
            "align_content": null,
            "align_items": null,
            "align_self": null,
            "border": null,
            "bottom": null,
            "display": null,
            "flex": null,
            "flex_flow": null,
            "grid_area": null,
            "grid_auto_columns": null,
            "grid_auto_flow": null,
            "grid_auto_rows": null,
            "grid_column": null,
            "grid_gap": null,
            "grid_row": null,
            "grid_template_areas": null,
            "grid_template_columns": null,
            "grid_template_rows": null,
            "height": null,
            "justify_content": null,
            "justify_items": null,
            "left": null,
            "margin": null,
            "max_height": null,
            "max_width": null,
            "min_height": null,
            "min_width": null,
            "object_fit": null,
            "object_position": null,
            "order": null,
            "overflow": null,
            "overflow_x": null,
            "overflow_y": null,
            "padding": null,
            "right": null,
            "top": null,
            "visibility": null,
            "width": null
          }
        },
        "7438db0464834292be170b8dc96b5cbc": {
          "model_module": "@jupyter-widgets/controls",
          "model_name": "DescriptionStyleModel",
          "model_module_version": "1.5.0",
          "state": {
            "_model_module": "@jupyter-widgets/controls",
            "_model_module_version": "1.5.0",
            "_model_name": "DescriptionStyleModel",
            "_view_count": null,
            "_view_module": "@jupyter-widgets/base",
            "_view_module_version": "1.2.0",
            "_view_name": "StyleView",
            "description_width": ""
          }
        },
        "66584a1417a44500bb507317debae1d0": {
          "model_module": "@jupyter-widgets/base",
          "model_name": "LayoutModel",
          "model_module_version": "1.2.0",
          "state": {
            "_model_module": "@jupyter-widgets/base",
            "_model_module_version": "1.2.0",
            "_model_name": "LayoutModel",
            "_view_count": null,
            "_view_module": "@jupyter-widgets/base",
            "_view_module_version": "1.2.0",
            "_view_name": "LayoutView",
            "align_content": null,
            "align_items": null,
            "align_self": null,
            "border": null,
            "bottom": null,
            "display": null,
            "flex": null,
            "flex_flow": null,
            "grid_area": null,
            "grid_auto_columns": null,
            "grid_auto_flow": null,
            "grid_auto_rows": null,
            "grid_column": null,
            "grid_gap": null,
            "grid_row": null,
            "grid_template_areas": null,
            "grid_template_columns": null,
            "grid_template_rows": null,
            "height": null,
            "justify_content": null,
            "justify_items": null,
            "left": null,
            "margin": null,
            "max_height": null,
            "max_width": null,
            "min_height": null,
            "min_width": null,
            "object_fit": null,
            "object_position": null,
            "order": null,
            "overflow": null,
            "overflow_x": null,
            "overflow_y": null,
            "padding": null,
            "right": null,
            "top": null,
            "visibility": null,
            "width": "20px"
          }
        },
        "464a66fb1ab64922a4306a0e10033b3f": {
          "model_module": "@jupyter-widgets/controls",
          "model_name": "ProgressStyleModel",
          "model_module_version": "1.5.0",
          "state": {
            "_model_module": "@jupyter-widgets/controls",
            "_model_module_version": "1.5.0",
            "_model_name": "ProgressStyleModel",
            "_view_count": null,
            "_view_module": "@jupyter-widgets/base",
            "_view_module_version": "1.2.0",
            "_view_name": "StyleView",
            "bar_color": null,
            "description_width": ""
          }
        },
        "67b31044fb96492fa78273dfe0c5ca05": {
          "model_module": "@jupyter-widgets/base",
          "model_name": "LayoutModel",
          "model_module_version": "1.2.0",
          "state": {
            "_model_module": "@jupyter-widgets/base",
            "_model_module_version": "1.2.0",
            "_model_name": "LayoutModel",
            "_view_count": null,
            "_view_module": "@jupyter-widgets/base",
            "_view_module_version": "1.2.0",
            "_view_name": "LayoutView",
            "align_content": null,
            "align_items": null,
            "align_self": null,
            "border": null,
            "bottom": null,
            "display": null,
            "flex": null,
            "flex_flow": null,
            "grid_area": null,
            "grid_auto_columns": null,
            "grid_auto_flow": null,
            "grid_auto_rows": null,
            "grid_column": null,
            "grid_gap": null,
            "grid_row": null,
            "grid_template_areas": null,
            "grid_template_columns": null,
            "grid_template_rows": null,
            "height": null,
            "justify_content": null,
            "justify_items": null,
            "left": null,
            "margin": null,
            "max_height": null,
            "max_width": null,
            "min_height": null,
            "min_width": null,
            "object_fit": null,
            "object_position": null,
            "order": null,
            "overflow": null,
            "overflow_x": null,
            "overflow_y": null,
            "padding": null,
            "right": null,
            "top": null,
            "visibility": null,
            "width": null
          }
        },
        "d09d75085537417cbfbab6b4c894e988": {
          "model_module": "@jupyter-widgets/controls",
          "model_name": "DescriptionStyleModel",
          "model_module_version": "1.5.0",
          "state": {
            "_model_module": "@jupyter-widgets/controls",
            "_model_module_version": "1.5.0",
            "_model_name": "DescriptionStyleModel",
            "_view_count": null,
            "_view_module": "@jupyter-widgets/base",
            "_view_module_version": "1.2.0",
            "_view_name": "StyleView",
            "description_width": ""
          }
        },
        "41ee35f49d064643b195ab465387804a": {
          "model_module": "@jupyter-widgets/controls",
          "model_name": "HBoxModel",
          "model_module_version": "1.5.0",
          "state": {
            "_dom_classes": [],
            "_model_module": "@jupyter-widgets/controls",
            "_model_module_version": "1.5.0",
            "_model_name": "HBoxModel",
            "_view_count": null,
            "_view_module": "@jupyter-widgets/controls",
            "_view_module_version": "1.5.0",
            "_view_name": "HBoxView",
            "box_style": "",
            "children": [
              "IPY_MODEL_40e1c9b13e3a4a0e9dd1481143b9879e",
              "IPY_MODEL_0124d8c3926746b2a5f079892a42010e",
              "IPY_MODEL_05606b77aa5e4c6b8b1c016d8756d7a1"
            ],
            "layout": "IPY_MODEL_2f2159f66dbb46a1b2d8bac89cc56578"
          }
        },
        "40e1c9b13e3a4a0e9dd1481143b9879e": {
          "model_module": "@jupyter-widgets/controls",
          "model_name": "HTMLModel",
          "model_module_version": "1.5.0",
          "state": {
            "_dom_classes": [],
            "_model_module": "@jupyter-widgets/controls",
            "_model_module_version": "1.5.0",
            "_model_name": "HTMLModel",
            "_view_count": null,
            "_view_module": "@jupyter-widgets/controls",
            "_view_module_version": "1.5.0",
            "_view_name": "HTMLView",
            "description": "",
            "description_tooltip": null,
            "layout": "IPY_MODEL_82360c4df3554b768ce4e94e9d214d53",
            "placeholder": "​",
            "style": "IPY_MODEL_f8b77e5af611426ea9502c671f0a11a4",
            "value": "Dl Size...: 100%"
          }
        },
        "0124d8c3926746b2a5f079892a42010e": {
          "model_module": "@jupyter-widgets/controls",
          "model_name": "FloatProgressModel",
          "model_module_version": "1.5.0",
          "state": {
            "_dom_classes": [],
            "_model_module": "@jupyter-widgets/controls",
            "_model_module_version": "1.5.0",
            "_model_name": "FloatProgressModel",
            "_view_count": null,
            "_view_module": "@jupyter-widgets/controls",
            "_view_module_version": "1.5.0",
            "_view_name": "ProgressView",
            "bar_style": "success",
            "description": "",
            "description_tooltip": null,
            "layout": "IPY_MODEL_bf44716f78634dc6bcc4034a7d5a3744",
            "max": 1,
            "min": 0,
            "orientation": "horizontal",
            "style": "IPY_MODEL_f849dfb80824430abe74f95f34c6d159",
            "value": 1
          }
        },
        "05606b77aa5e4c6b8b1c016d8756d7a1": {
          "model_module": "@jupyter-widgets/controls",
          "model_name": "HTMLModel",
          "model_module_version": "1.5.0",
          "state": {
            "_dom_classes": [],
            "_model_module": "@jupyter-widgets/controls",
            "_model_module_version": "1.5.0",
            "_model_name": "HTMLModel",
            "_view_count": null,
            "_view_module": "@jupyter-widgets/controls",
            "_view_module_version": "1.5.0",
            "_view_name": "HTMLView",
            "description": "",
            "description_tooltip": null,
            "layout": "IPY_MODEL_351277b94f8541a5bcdcb69abf397d5a",
            "placeholder": "​",
            "style": "IPY_MODEL_8dfaf89fe1744dd898cca836f6cdf3fb",
            "value": " 124/124 [01:30&lt;00:00,  1.24s/ MiB]"
          }
        },
        "2f2159f66dbb46a1b2d8bac89cc56578": {
          "model_module": "@jupyter-widgets/base",
          "model_name": "LayoutModel",
          "model_module_version": "1.2.0",
          "state": {
            "_model_module": "@jupyter-widgets/base",
            "_model_module_version": "1.2.0",
            "_model_name": "LayoutModel",
            "_view_count": null,
            "_view_module": "@jupyter-widgets/base",
            "_view_module_version": "1.2.0",
            "_view_name": "LayoutView",
            "align_content": null,
            "align_items": null,
            "align_self": null,
            "border": null,
            "bottom": null,
            "display": null,
            "flex": null,
            "flex_flow": null,
            "grid_area": null,
            "grid_auto_columns": null,
            "grid_auto_flow": null,
            "grid_auto_rows": null,
            "grid_column": null,
            "grid_gap": null,
            "grid_row": null,
            "grid_template_areas": null,
            "grid_template_columns": null,
            "grid_template_rows": null,
            "height": null,
            "justify_content": null,
            "justify_items": null,
            "left": null,
            "margin": null,
            "max_height": null,
            "max_width": null,
            "min_height": null,
            "min_width": null,
            "object_fit": null,
            "object_position": null,
            "order": null,
            "overflow": null,
            "overflow_x": null,
            "overflow_y": null,
            "padding": null,
            "right": null,
            "top": null,
            "visibility": null,
            "width": null
          }
        },
        "82360c4df3554b768ce4e94e9d214d53": {
          "model_module": "@jupyter-widgets/base",
          "model_name": "LayoutModel",
          "model_module_version": "1.2.0",
          "state": {
            "_model_module": "@jupyter-widgets/base",
            "_model_module_version": "1.2.0",
            "_model_name": "LayoutModel",
            "_view_count": null,
            "_view_module": "@jupyter-widgets/base",
            "_view_module_version": "1.2.0",
            "_view_name": "LayoutView",
            "align_content": null,
            "align_items": null,
            "align_self": null,
            "border": null,
            "bottom": null,
            "display": null,
            "flex": null,
            "flex_flow": null,
            "grid_area": null,
            "grid_auto_columns": null,
            "grid_auto_flow": null,
            "grid_auto_rows": null,
            "grid_column": null,
            "grid_gap": null,
            "grid_row": null,
            "grid_template_areas": null,
            "grid_template_columns": null,
            "grid_template_rows": null,
            "height": null,
            "justify_content": null,
            "justify_items": null,
            "left": null,
            "margin": null,
            "max_height": null,
            "max_width": null,
            "min_height": null,
            "min_width": null,
            "object_fit": null,
            "object_position": null,
            "order": null,
            "overflow": null,
            "overflow_x": null,
            "overflow_y": null,
            "padding": null,
            "right": null,
            "top": null,
            "visibility": null,
            "width": null
          }
        },
        "f8b77e5af611426ea9502c671f0a11a4": {
          "model_module": "@jupyter-widgets/controls",
          "model_name": "DescriptionStyleModel",
          "model_module_version": "1.5.0",
          "state": {
            "_model_module": "@jupyter-widgets/controls",
            "_model_module_version": "1.5.0",
            "_model_name": "DescriptionStyleModel",
            "_view_count": null,
            "_view_module": "@jupyter-widgets/base",
            "_view_module_version": "1.2.0",
            "_view_name": "StyleView",
            "description_width": ""
          }
        },
        "bf44716f78634dc6bcc4034a7d5a3744": {
          "model_module": "@jupyter-widgets/base",
          "model_name": "LayoutModel",
          "model_module_version": "1.2.0",
          "state": {
            "_model_module": "@jupyter-widgets/base",
            "_model_module_version": "1.2.0",
            "_model_name": "LayoutModel",
            "_view_count": null,
            "_view_module": "@jupyter-widgets/base",
            "_view_module_version": "1.2.0",
            "_view_name": "LayoutView",
            "align_content": null,
            "align_items": null,
            "align_self": null,
            "border": null,
            "bottom": null,
            "display": null,
            "flex": null,
            "flex_flow": null,
            "grid_area": null,
            "grid_auto_columns": null,
            "grid_auto_flow": null,
            "grid_auto_rows": null,
            "grid_column": null,
            "grid_gap": null,
            "grid_row": null,
            "grid_template_areas": null,
            "grid_template_columns": null,
            "grid_template_rows": null,
            "height": null,
            "justify_content": null,
            "justify_items": null,
            "left": null,
            "margin": null,
            "max_height": null,
            "max_width": null,
            "min_height": null,
            "min_width": null,
            "object_fit": null,
            "object_position": null,
            "order": null,
            "overflow": null,
            "overflow_x": null,
            "overflow_y": null,
            "padding": null,
            "right": null,
            "top": null,
            "visibility": null,
            "width": "20px"
          }
        },
        "f849dfb80824430abe74f95f34c6d159": {
          "model_module": "@jupyter-widgets/controls",
          "model_name": "ProgressStyleModel",
          "model_module_version": "1.5.0",
          "state": {
            "_model_module": "@jupyter-widgets/controls",
            "_model_module_version": "1.5.0",
            "_model_name": "ProgressStyleModel",
            "_view_count": null,
            "_view_module": "@jupyter-widgets/base",
            "_view_module_version": "1.2.0",
            "_view_name": "StyleView",
            "bar_color": null,
            "description_width": ""
          }
        },
        "351277b94f8541a5bcdcb69abf397d5a": {
          "model_module": "@jupyter-widgets/base",
          "model_name": "LayoutModel",
          "model_module_version": "1.2.0",
          "state": {
            "_model_module": "@jupyter-widgets/base",
            "_model_module_version": "1.2.0",
            "_model_name": "LayoutModel",
            "_view_count": null,
            "_view_module": "@jupyter-widgets/base",
            "_view_module_version": "1.2.0",
            "_view_name": "LayoutView",
            "align_content": null,
            "align_items": null,
            "align_self": null,
            "border": null,
            "bottom": null,
            "display": null,
            "flex": null,
            "flex_flow": null,
            "grid_area": null,
            "grid_auto_columns": null,
            "grid_auto_flow": null,
            "grid_auto_rows": null,
            "grid_column": null,
            "grid_gap": null,
            "grid_row": null,
            "grid_template_areas": null,
            "grid_template_columns": null,
            "grid_template_rows": null,
            "height": null,
            "justify_content": null,
            "justify_items": null,
            "left": null,
            "margin": null,
            "max_height": null,
            "max_width": null,
            "min_height": null,
            "min_width": null,
            "object_fit": null,
            "object_position": null,
            "order": null,
            "overflow": null,
            "overflow_x": null,
            "overflow_y": null,
            "padding": null,
            "right": null,
            "top": null,
            "visibility": null,
            "width": null
          }
        },
        "8dfaf89fe1744dd898cca836f6cdf3fb": {
          "model_module": "@jupyter-widgets/controls",
          "model_name": "DescriptionStyleModel",
          "model_module_version": "1.5.0",
          "state": {
            "_model_module": "@jupyter-widgets/controls",
            "_model_module_version": "1.5.0",
            "_model_name": "DescriptionStyleModel",
            "_view_count": null,
            "_view_module": "@jupyter-widgets/base",
            "_view_module_version": "1.2.0",
            "_view_name": "StyleView",
            "description_width": ""
          }
        },
        "3449467f4da843a788240bf31bed93e2": {
          "model_module": "@jupyter-widgets/controls",
          "model_name": "HBoxModel",
          "model_module_version": "1.5.0",
          "state": {
            "_dom_classes": [],
            "_model_module": "@jupyter-widgets/controls",
            "_model_module_version": "1.5.0",
            "_model_name": "HBoxModel",
            "_view_count": null,
            "_view_module": "@jupyter-widgets/controls",
            "_view_module_version": "1.5.0",
            "_view_name": "HBoxView",
            "box_style": "",
            "children": [
              "IPY_MODEL_0c038971e74b4010b14ed14317a8c769",
              "IPY_MODEL_4d9eae5015d44839a5a3ced175a681ad",
              "IPY_MODEL_3b8d8945d7244f6dbb4b0caf68a60dba"
            ],
            "layout": "IPY_MODEL_6f1370dc722b4dd981c2736c70473297"
          }
        },
        "0c038971e74b4010b14ed14317a8c769": {
          "model_module": "@jupyter-widgets/controls",
          "model_name": "HTMLModel",
          "model_module_version": "1.5.0",
          "state": {
            "_dom_classes": [],
            "_model_module": "@jupyter-widgets/controls",
            "_model_module_version": "1.5.0",
            "_model_name": "HTMLModel",
            "_view_count": null,
            "_view_module": "@jupyter-widgets/controls",
            "_view_module_version": "1.5.0",
            "_view_name": "HTMLView",
            "description": "",
            "description_tooltip": null,
            "layout": "IPY_MODEL_8dce58a316a44c1ba6f3c1e5f886f2b7",
            "placeholder": "​",
            "style": "IPY_MODEL_7ce249ab3401440fa3e4acd4ebac183c",
            "value": "Extraction completed...: 100%"
          }
        },
        "4d9eae5015d44839a5a3ced175a681ad": {
          "model_module": "@jupyter-widgets/controls",
          "model_name": "FloatProgressModel",
          "model_module_version": "1.5.0",
          "state": {
            "_dom_classes": [],
            "_model_module": "@jupyter-widgets/controls",
            "_model_module_version": "1.5.0",
            "_model_name": "FloatProgressModel",
            "_view_count": null,
            "_view_module": "@jupyter-widgets/controls",
            "_view_module_version": "1.5.0",
            "_view_name": "ProgressView",
            "bar_style": "success",
            "description": "",
            "description_tooltip": null,
            "layout": "IPY_MODEL_eb6532abdfea41a2ad9fd4fcafec9ecb",
            "max": 1,
            "min": 0,
            "orientation": "horizontal",
            "style": "IPY_MODEL_517a70afc34549d7a778351e9869cd0c",
            "value": 1
          }
        },
        "3b8d8945d7244f6dbb4b0caf68a60dba": {
          "model_module": "@jupyter-widgets/controls",
          "model_name": "HTMLModel",
          "model_module_version": "1.5.0",
          "state": {
            "_dom_classes": [],
            "_model_module": "@jupyter-widgets/controls",
            "_model_module_version": "1.5.0",
            "_model_name": "HTMLModel",
            "_view_count": null,
            "_view_module": "@jupyter-widgets/controls",
            "_view_module_version": "1.5.0",
            "_view_name": "HTMLView",
            "description": "",
            "description_tooltip": null,
            "layout": "IPY_MODEL_55ba011433c1475f8c7ba05e0bb3fa6d",
            "placeholder": "​",
            "style": "IPY_MODEL_90981a83d36c4f7188ab96467abd0ad8",
            "value": " 1/1 [01:30&lt;00:00, 90.52s/ file]"
          }
        },
        "6f1370dc722b4dd981c2736c70473297": {
          "model_module": "@jupyter-widgets/base",
          "model_name": "LayoutModel",
          "model_module_version": "1.2.0",
          "state": {
            "_model_module": "@jupyter-widgets/base",
            "_model_module_version": "1.2.0",
            "_model_name": "LayoutModel",
            "_view_count": null,
            "_view_module": "@jupyter-widgets/base",
            "_view_module_version": "1.2.0",
            "_view_name": "LayoutView",
            "align_content": null,
            "align_items": null,
            "align_self": null,
            "border": null,
            "bottom": null,
            "display": null,
            "flex": null,
            "flex_flow": null,
            "grid_area": null,
            "grid_auto_columns": null,
            "grid_auto_flow": null,
            "grid_auto_rows": null,
            "grid_column": null,
            "grid_gap": null,
            "grid_row": null,
            "grid_template_areas": null,
            "grid_template_columns": null,
            "grid_template_rows": null,
            "height": null,
            "justify_content": null,
            "justify_items": null,
            "left": null,
            "margin": null,
            "max_height": null,
            "max_width": null,
            "min_height": null,
            "min_width": null,
            "object_fit": null,
            "object_position": null,
            "order": null,
            "overflow": null,
            "overflow_x": null,
            "overflow_y": null,
            "padding": null,
            "right": null,
            "top": null,
            "visibility": null,
            "width": null
          }
        },
        "8dce58a316a44c1ba6f3c1e5f886f2b7": {
          "model_module": "@jupyter-widgets/base",
          "model_name": "LayoutModel",
          "model_module_version": "1.2.0",
          "state": {
            "_model_module": "@jupyter-widgets/base",
            "_model_module_version": "1.2.0",
            "_model_name": "LayoutModel",
            "_view_count": null,
            "_view_module": "@jupyter-widgets/base",
            "_view_module_version": "1.2.0",
            "_view_name": "LayoutView",
            "align_content": null,
            "align_items": null,
            "align_self": null,
            "border": null,
            "bottom": null,
            "display": null,
            "flex": null,
            "flex_flow": null,
            "grid_area": null,
            "grid_auto_columns": null,
            "grid_auto_flow": null,
            "grid_auto_rows": null,
            "grid_column": null,
            "grid_gap": null,
            "grid_row": null,
            "grid_template_areas": null,
            "grid_template_columns": null,
            "grid_template_rows": null,
            "height": null,
            "justify_content": null,
            "justify_items": null,
            "left": null,
            "margin": null,
            "max_height": null,
            "max_width": null,
            "min_height": null,
            "min_width": null,
            "object_fit": null,
            "object_position": null,
            "order": null,
            "overflow": null,
            "overflow_x": null,
            "overflow_y": null,
            "padding": null,
            "right": null,
            "top": null,
            "visibility": null,
            "width": null
          }
        },
        "7ce249ab3401440fa3e4acd4ebac183c": {
          "model_module": "@jupyter-widgets/controls",
          "model_name": "DescriptionStyleModel",
          "model_module_version": "1.5.0",
          "state": {
            "_model_module": "@jupyter-widgets/controls",
            "_model_module_version": "1.5.0",
            "_model_name": "DescriptionStyleModel",
            "_view_count": null,
            "_view_module": "@jupyter-widgets/base",
            "_view_module_version": "1.2.0",
            "_view_name": "StyleView",
            "description_width": ""
          }
        },
        "eb6532abdfea41a2ad9fd4fcafec9ecb": {
          "model_module": "@jupyter-widgets/base",
          "model_name": "LayoutModel",
          "model_module_version": "1.2.0",
          "state": {
            "_model_module": "@jupyter-widgets/base",
            "_model_module_version": "1.2.0",
            "_model_name": "LayoutModel",
            "_view_count": null,
            "_view_module": "@jupyter-widgets/base",
            "_view_module_version": "1.2.0",
            "_view_name": "LayoutView",
            "align_content": null,
            "align_items": null,
            "align_self": null,
            "border": null,
            "bottom": null,
            "display": null,
            "flex": null,
            "flex_flow": null,
            "grid_area": null,
            "grid_auto_columns": null,
            "grid_auto_flow": null,
            "grid_auto_rows": null,
            "grid_column": null,
            "grid_gap": null,
            "grid_row": null,
            "grid_template_areas": null,
            "grid_template_columns": null,
            "grid_template_rows": null,
            "height": null,
            "justify_content": null,
            "justify_items": null,
            "left": null,
            "margin": null,
            "max_height": null,
            "max_width": null,
            "min_height": null,
            "min_width": null,
            "object_fit": null,
            "object_position": null,
            "order": null,
            "overflow": null,
            "overflow_x": null,
            "overflow_y": null,
            "padding": null,
            "right": null,
            "top": null,
            "visibility": null,
            "width": "20px"
          }
        },
        "517a70afc34549d7a778351e9869cd0c": {
          "model_module": "@jupyter-widgets/controls",
          "model_name": "ProgressStyleModel",
          "model_module_version": "1.5.0",
          "state": {
            "_model_module": "@jupyter-widgets/controls",
            "_model_module_version": "1.5.0",
            "_model_name": "ProgressStyleModel",
            "_view_count": null,
            "_view_module": "@jupyter-widgets/base",
            "_view_module_version": "1.2.0",
            "_view_name": "StyleView",
            "bar_color": null,
            "description_width": ""
          }
        },
        "55ba011433c1475f8c7ba05e0bb3fa6d": {
          "model_module": "@jupyter-widgets/base",
          "model_name": "LayoutModel",
          "model_module_version": "1.2.0",
          "state": {
            "_model_module": "@jupyter-widgets/base",
            "_model_module_version": "1.2.0",
            "_model_name": "LayoutModel",
            "_view_count": null,
            "_view_module": "@jupyter-widgets/base",
            "_view_module_version": "1.2.0",
            "_view_name": "LayoutView",
            "align_content": null,
            "align_items": null,
            "align_self": null,
            "border": null,
            "bottom": null,
            "display": null,
            "flex": null,
            "flex_flow": null,
            "grid_area": null,
            "grid_auto_columns": null,
            "grid_auto_flow": null,
            "grid_auto_rows": null,
            "grid_column": null,
            "grid_gap": null,
            "grid_row": null,
            "grid_template_areas": null,
            "grid_template_columns": null,
            "grid_template_rows": null,
            "height": null,
            "justify_content": null,
            "justify_items": null,
            "left": null,
            "margin": null,
            "max_height": null,
            "max_width": null,
            "min_height": null,
            "min_width": null,
            "object_fit": null,
            "object_position": null,
            "order": null,
            "overflow": null,
            "overflow_x": null,
            "overflow_y": null,
            "padding": null,
            "right": null,
            "top": null,
            "visibility": null,
            "width": null
          }
        },
        "90981a83d36c4f7188ab96467abd0ad8": {
          "model_module": "@jupyter-widgets/controls",
          "model_name": "DescriptionStyleModel",
          "model_module_version": "1.5.0",
          "state": {
            "_model_module": "@jupyter-widgets/controls",
            "_model_module_version": "1.5.0",
            "_model_name": "DescriptionStyleModel",
            "_view_count": null,
            "_view_module": "@jupyter-widgets/base",
            "_view_module_version": "1.2.0",
            "_view_name": "StyleView",
            "description_width": ""
          }
        },
        "4fc72c2e9b71466d9dc335562106c0bc": {
          "model_module": "@jupyter-widgets/controls",
          "model_name": "HBoxModel",
          "model_module_version": "1.5.0",
          "state": {
            "_dom_classes": [],
            "_model_module": "@jupyter-widgets/controls",
            "_model_module_version": "1.5.0",
            "_model_name": "HBoxModel",
            "_view_count": null,
            "_view_module": "@jupyter-widgets/controls",
            "_view_module_version": "1.5.0",
            "_view_name": "HBoxView",
            "box_style": "",
            "children": [
              "IPY_MODEL_c82e9163cc9e42d8b6102d04140ac927",
              "IPY_MODEL_31681ad1454b4d879c8c80b463a94f83",
              "IPY_MODEL_d23c5f8381464aa6af5834260b5e84cb"
            ],
            "layout": "IPY_MODEL_b30d971e2072400b8c296c6e22c863de"
          }
        },
        "c82e9163cc9e42d8b6102d04140ac927": {
          "model_module": "@jupyter-widgets/controls",
          "model_name": "HTMLModel",
          "model_module_version": "1.5.0",
          "state": {
            "_dom_classes": [],
            "_model_module": "@jupyter-widgets/controls",
            "_model_module_version": "1.5.0",
            "_model_name": "HTMLModel",
            "_view_count": null,
            "_view_module": "@jupyter-widgets/controls",
            "_view_module_version": "1.5.0",
            "_view_name": "HTMLView",
            "description": "",
            "description_tooltip": null,
            "layout": "IPY_MODEL_d5efafd7ce6048f089be700bed5d462a",
            "placeholder": "​",
            "style": "IPY_MODEL_9a3aaf93290440ce8f46365eb4c3ba0e",
            "value": "Generating splits...: 100%"
          }
        },
        "31681ad1454b4d879c8c80b463a94f83": {
          "model_module": "@jupyter-widgets/controls",
          "model_name": "FloatProgressModel",
          "model_module_version": "1.5.0",
          "state": {
            "_dom_classes": [],
            "_model_module": "@jupyter-widgets/controls",
            "_model_module_version": "1.5.0",
            "_model_name": "FloatProgressModel",
            "_view_count": null,
            "_view_module": "@jupyter-widgets/controls",
            "_view_module_version": "1.5.0",
            "_view_name": "ProgressView",
            "bar_style": "",
            "description": "",
            "description_tooltip": null,
            "layout": "IPY_MODEL_f7dec92424c5463ea0f913613d7b62d2",
            "max": 3,
            "min": 0,
            "orientation": "horizontal",
            "style": "IPY_MODEL_66cdc61465aa43d9a9e85cafa9b5338c",
            "value": 3
          }
        },
        "d23c5f8381464aa6af5834260b5e84cb": {
          "model_module": "@jupyter-widgets/controls",
          "model_name": "HTMLModel",
          "model_module_version": "1.5.0",
          "state": {
            "_dom_classes": [],
            "_model_module": "@jupyter-widgets/controls",
            "_model_module_version": "1.5.0",
            "_model_name": "HTMLModel",
            "_view_count": null,
            "_view_module": "@jupyter-widgets/controls",
            "_view_module_version": "1.5.0",
            "_view_name": "HTMLView",
            "description": "",
            "description_tooltip": null,
            "layout": "IPY_MODEL_c0ab95d3d2ad40d7a76c381fa76b1789",
            "placeholder": "​",
            "style": "IPY_MODEL_2fca3d367fc94f1b9750a80636eb4b13",
            "value": " 3/3 [00:25&lt;00:00,  5.90s/ splits]"
          }
        },
        "b30d971e2072400b8c296c6e22c863de": {
          "model_module": "@jupyter-widgets/base",
          "model_name": "LayoutModel",
          "model_module_version": "1.2.0",
          "state": {
            "_model_module": "@jupyter-widgets/base",
            "_model_module_version": "1.2.0",
            "_model_name": "LayoutModel",
            "_view_count": null,
            "_view_module": "@jupyter-widgets/base",
            "_view_module_version": "1.2.0",
            "_view_name": "LayoutView",
            "align_content": null,
            "align_items": null,
            "align_self": null,
            "border": null,
            "bottom": null,
            "display": null,
            "flex": null,
            "flex_flow": null,
            "grid_area": null,
            "grid_auto_columns": null,
            "grid_auto_flow": null,
            "grid_auto_rows": null,
            "grid_column": null,
            "grid_gap": null,
            "grid_row": null,
            "grid_template_areas": null,
            "grid_template_columns": null,
            "grid_template_rows": null,
            "height": null,
            "justify_content": null,
            "justify_items": null,
            "left": null,
            "margin": null,
            "max_height": null,
            "max_width": null,
            "min_height": null,
            "min_width": null,
            "object_fit": null,
            "object_position": null,
            "order": null,
            "overflow": null,
            "overflow_x": null,
            "overflow_y": null,
            "padding": null,
            "right": null,
            "top": null,
            "visibility": "hidden",
            "width": null
          }
        },
        "d5efafd7ce6048f089be700bed5d462a": {
          "model_module": "@jupyter-widgets/base",
          "model_name": "LayoutModel",
          "model_module_version": "1.2.0",
          "state": {
            "_model_module": "@jupyter-widgets/base",
            "_model_module_version": "1.2.0",
            "_model_name": "LayoutModel",
            "_view_count": null,
            "_view_module": "@jupyter-widgets/base",
            "_view_module_version": "1.2.0",
            "_view_name": "LayoutView",
            "align_content": null,
            "align_items": null,
            "align_self": null,
            "border": null,
            "bottom": null,
            "display": null,
            "flex": null,
            "flex_flow": null,
            "grid_area": null,
            "grid_auto_columns": null,
            "grid_auto_flow": null,
            "grid_auto_rows": null,
            "grid_column": null,
            "grid_gap": null,
            "grid_row": null,
            "grid_template_areas": null,
            "grid_template_columns": null,
            "grid_template_rows": null,
            "height": null,
            "justify_content": null,
            "justify_items": null,
            "left": null,
            "margin": null,
            "max_height": null,
            "max_width": null,
            "min_height": null,
            "min_width": null,
            "object_fit": null,
            "object_position": null,
            "order": null,
            "overflow": null,
            "overflow_x": null,
            "overflow_y": null,
            "padding": null,
            "right": null,
            "top": null,
            "visibility": null,
            "width": null
          }
        },
        "9a3aaf93290440ce8f46365eb4c3ba0e": {
          "model_module": "@jupyter-widgets/controls",
          "model_name": "DescriptionStyleModel",
          "model_module_version": "1.5.0",
          "state": {
            "_model_module": "@jupyter-widgets/controls",
            "_model_module_version": "1.5.0",
            "_model_name": "DescriptionStyleModel",
            "_view_count": null,
            "_view_module": "@jupyter-widgets/base",
            "_view_module_version": "1.2.0",
            "_view_name": "StyleView",
            "description_width": ""
          }
        },
        "f7dec92424c5463ea0f913613d7b62d2": {
          "model_module": "@jupyter-widgets/base",
          "model_name": "LayoutModel",
          "model_module_version": "1.2.0",
          "state": {
            "_model_module": "@jupyter-widgets/base",
            "_model_module_version": "1.2.0",
            "_model_name": "LayoutModel",
            "_view_count": null,
            "_view_module": "@jupyter-widgets/base",
            "_view_module_version": "1.2.0",
            "_view_name": "LayoutView",
            "align_content": null,
            "align_items": null,
            "align_self": null,
            "border": null,
            "bottom": null,
            "display": null,
            "flex": null,
            "flex_flow": null,
            "grid_area": null,
            "grid_auto_columns": null,
            "grid_auto_flow": null,
            "grid_auto_rows": null,
            "grid_column": null,
            "grid_gap": null,
            "grid_row": null,
            "grid_template_areas": null,
            "grid_template_columns": null,
            "grid_template_rows": null,
            "height": null,
            "justify_content": null,
            "justify_items": null,
            "left": null,
            "margin": null,
            "max_height": null,
            "max_width": null,
            "min_height": null,
            "min_width": null,
            "object_fit": null,
            "object_position": null,
            "order": null,
            "overflow": null,
            "overflow_x": null,
            "overflow_y": null,
            "padding": null,
            "right": null,
            "top": null,
            "visibility": null,
            "width": null
          }
        },
        "66cdc61465aa43d9a9e85cafa9b5338c": {
          "model_module": "@jupyter-widgets/controls",
          "model_name": "ProgressStyleModel",
          "model_module_version": "1.5.0",
          "state": {
            "_model_module": "@jupyter-widgets/controls",
            "_model_module_version": "1.5.0",
            "_model_name": "ProgressStyleModel",
            "_view_count": null,
            "_view_module": "@jupyter-widgets/base",
            "_view_module_version": "1.2.0",
            "_view_name": "StyleView",
            "bar_color": null,
            "description_width": ""
          }
        },
        "c0ab95d3d2ad40d7a76c381fa76b1789": {
          "model_module": "@jupyter-widgets/base",
          "model_name": "LayoutModel",
          "model_module_version": "1.2.0",
          "state": {
            "_model_module": "@jupyter-widgets/base",
            "_model_module_version": "1.2.0",
            "_model_name": "LayoutModel",
            "_view_count": null,
            "_view_module": "@jupyter-widgets/base",
            "_view_module_version": "1.2.0",
            "_view_name": "LayoutView",
            "align_content": null,
            "align_items": null,
            "align_self": null,
            "border": null,
            "bottom": null,
            "display": null,
            "flex": null,
            "flex_flow": null,
            "grid_area": null,
            "grid_auto_columns": null,
            "grid_auto_flow": null,
            "grid_auto_rows": null,
            "grid_column": null,
            "grid_gap": null,
            "grid_row": null,
            "grid_template_areas": null,
            "grid_template_columns": null,
            "grid_template_rows": null,
            "height": null,
            "justify_content": null,
            "justify_items": null,
            "left": null,
            "margin": null,
            "max_height": null,
            "max_width": null,
            "min_height": null,
            "min_width": null,
            "object_fit": null,
            "object_position": null,
            "order": null,
            "overflow": null,
            "overflow_x": null,
            "overflow_y": null,
            "padding": null,
            "right": null,
            "top": null,
            "visibility": null,
            "width": null
          }
        },
        "2fca3d367fc94f1b9750a80636eb4b13": {
          "model_module": "@jupyter-widgets/controls",
          "model_name": "DescriptionStyleModel",
          "model_module_version": "1.5.0",
          "state": {
            "_model_module": "@jupyter-widgets/controls",
            "_model_module_version": "1.5.0",
            "_model_name": "DescriptionStyleModel",
            "_view_count": null,
            "_view_module": "@jupyter-widgets/base",
            "_view_module_version": "1.2.0",
            "_view_name": "StyleView",
            "description_width": ""
          }
        },
        "d1b07964f66f47a68bd83b41a4ea028a": {
          "model_module": "@jupyter-widgets/controls",
          "model_name": "HBoxModel",
          "model_module_version": "1.5.0",
          "state": {
            "_dom_classes": [],
            "_model_module": "@jupyter-widgets/controls",
            "_model_module_version": "1.5.0",
            "_model_name": "HBoxModel",
            "_view_count": null,
            "_view_module": "@jupyter-widgets/controls",
            "_view_module_version": "1.5.0",
            "_view_name": "HBoxView",
            "box_style": "",
            "children": [
              "IPY_MODEL_2cb4701b4b9c492cbcf728bbb5605ee5",
              "IPY_MODEL_2d8c2d5b060e4e38b24ecd061f8a06b9",
              "IPY_MODEL_f9bd28bf3bf048b89b4ef8df75dc76b6"
            ],
            "layout": "IPY_MODEL_e79e904d5bd447bf827dae4f82d627e2"
          }
        },
        "2cb4701b4b9c492cbcf728bbb5605ee5": {
          "model_module": "@jupyter-widgets/controls",
          "model_name": "HTMLModel",
          "model_module_version": "1.5.0",
          "state": {
            "_dom_classes": [],
            "_model_module": "@jupyter-widgets/controls",
            "_model_module_version": "1.5.0",
            "_model_name": "HTMLModel",
            "_view_count": null,
            "_view_module": "@jupyter-widgets/controls",
            "_view_module_version": "1.5.0",
            "_view_name": "HTMLView",
            "description": "",
            "description_tooltip": null,
            "layout": "IPY_MODEL_38c184e2d58f4902ba9f0418622087f5",
            "placeholder": "​",
            "style": "IPY_MODEL_e8e40bb3c5944af0bb39c2069ea962c5",
            "value": "Generating train examples...: 100%"
          }
        },
        "2d8c2d5b060e4e38b24ecd061f8a06b9": {
          "model_module": "@jupyter-widgets/controls",
          "model_name": "FloatProgressModel",
          "model_module_version": "1.5.0",
          "state": {
            "_dom_classes": [],
            "_model_module": "@jupyter-widgets/controls",
            "_model_module_version": "1.5.0",
            "_model_name": "FloatProgressModel",
            "_view_count": null,
            "_view_module": "@jupyter-widgets/controls",
            "_view_module_version": "1.5.0",
            "_view_name": "ProgressView",
            "bar_style": "",
            "description": "",
            "description_tooltip": null,
            "layout": "IPY_MODEL_e3d065b4c8a34a9fa5214641b90d71c8",
            "max": 208106,
            "min": 0,
            "orientation": "horizontal",
            "style": "IPY_MODEL_cc523e38014649e6a1ab87a93b3c117b",
            "value": 208106
          }
        },
        "f9bd28bf3bf048b89b4ef8df75dc76b6": {
          "model_module": "@jupyter-widgets/controls",
          "model_name": "HTMLModel",
          "model_module_version": "1.5.0",
          "state": {
            "_dom_classes": [],
            "_model_module": "@jupyter-widgets/controls",
            "_model_module_version": "1.5.0",
            "_model_name": "HTMLModel",
            "_view_count": null,
            "_view_module": "@jupyter-widgets/controls",
            "_view_module_version": "1.5.0",
            "_view_name": "HTMLView",
            "description": "",
            "description_tooltip": null,
            "layout": "IPY_MODEL_c73414cb434548759c0ff9eb31bdd3da",
            "placeholder": "​",
            "style": "IPY_MODEL_bf60a271cc3e4ded8dc662f739453fb0",
            "value": " 207198/208106 [00:22&lt;00:00, 10142.45 examples/s]"
          }
        },
        "e79e904d5bd447bf827dae4f82d627e2": {
          "model_module": "@jupyter-widgets/base",
          "model_name": "LayoutModel",
          "model_module_version": "1.2.0",
          "state": {
            "_model_module": "@jupyter-widgets/base",
            "_model_module_version": "1.2.0",
            "_model_name": "LayoutModel",
            "_view_count": null,
            "_view_module": "@jupyter-widgets/base",
            "_view_module_version": "1.2.0",
            "_view_name": "LayoutView",
            "align_content": null,
            "align_items": null,
            "align_self": null,
            "border": null,
            "bottom": null,
            "display": null,
            "flex": null,
            "flex_flow": null,
            "grid_area": null,
            "grid_auto_columns": null,
            "grid_auto_flow": null,
            "grid_auto_rows": null,
            "grid_column": null,
            "grid_gap": null,
            "grid_row": null,
            "grid_template_areas": null,
            "grid_template_columns": null,
            "grid_template_rows": null,
            "height": null,
            "justify_content": null,
            "justify_items": null,
            "left": null,
            "margin": null,
            "max_height": null,
            "max_width": null,
            "min_height": null,
            "min_width": null,
            "object_fit": null,
            "object_position": null,
            "order": null,
            "overflow": null,
            "overflow_x": null,
            "overflow_y": null,
            "padding": null,
            "right": null,
            "top": null,
            "visibility": "hidden",
            "width": null
          }
        },
        "38c184e2d58f4902ba9f0418622087f5": {
          "model_module": "@jupyter-widgets/base",
          "model_name": "LayoutModel",
          "model_module_version": "1.2.0",
          "state": {
            "_model_module": "@jupyter-widgets/base",
            "_model_module_version": "1.2.0",
            "_model_name": "LayoutModel",
            "_view_count": null,
            "_view_module": "@jupyter-widgets/base",
            "_view_module_version": "1.2.0",
            "_view_name": "LayoutView",
            "align_content": null,
            "align_items": null,
            "align_self": null,
            "border": null,
            "bottom": null,
            "display": null,
            "flex": null,
            "flex_flow": null,
            "grid_area": null,
            "grid_auto_columns": null,
            "grid_auto_flow": null,
            "grid_auto_rows": null,
            "grid_column": null,
            "grid_gap": null,
            "grid_row": null,
            "grid_template_areas": null,
            "grid_template_columns": null,
            "grid_template_rows": null,
            "height": null,
            "justify_content": null,
            "justify_items": null,
            "left": null,
            "margin": null,
            "max_height": null,
            "max_width": null,
            "min_height": null,
            "min_width": null,
            "object_fit": null,
            "object_position": null,
            "order": null,
            "overflow": null,
            "overflow_x": null,
            "overflow_y": null,
            "padding": null,
            "right": null,
            "top": null,
            "visibility": null,
            "width": null
          }
        },
        "e8e40bb3c5944af0bb39c2069ea962c5": {
          "model_module": "@jupyter-widgets/controls",
          "model_name": "DescriptionStyleModel",
          "model_module_version": "1.5.0",
          "state": {
            "_model_module": "@jupyter-widgets/controls",
            "_model_module_version": "1.5.0",
            "_model_name": "DescriptionStyleModel",
            "_view_count": null,
            "_view_module": "@jupyter-widgets/base",
            "_view_module_version": "1.2.0",
            "_view_name": "StyleView",
            "description_width": ""
          }
        },
        "e3d065b4c8a34a9fa5214641b90d71c8": {
          "model_module": "@jupyter-widgets/base",
          "model_name": "LayoutModel",
          "model_module_version": "1.2.0",
          "state": {
            "_model_module": "@jupyter-widgets/base",
            "_model_module_version": "1.2.0",
            "_model_name": "LayoutModel",
            "_view_count": null,
            "_view_module": "@jupyter-widgets/base",
            "_view_module_version": "1.2.0",
            "_view_name": "LayoutView",
            "align_content": null,
            "align_items": null,
            "align_self": null,
            "border": null,
            "bottom": null,
            "display": null,
            "flex": null,
            "flex_flow": null,
            "grid_area": null,
            "grid_auto_columns": null,
            "grid_auto_flow": null,
            "grid_auto_rows": null,
            "grid_column": null,
            "grid_gap": null,
            "grid_row": null,
            "grid_template_areas": null,
            "grid_template_columns": null,
            "grid_template_rows": null,
            "height": null,
            "justify_content": null,
            "justify_items": null,
            "left": null,
            "margin": null,
            "max_height": null,
            "max_width": null,
            "min_height": null,
            "min_width": null,
            "object_fit": null,
            "object_position": null,
            "order": null,
            "overflow": null,
            "overflow_x": null,
            "overflow_y": null,
            "padding": null,
            "right": null,
            "top": null,
            "visibility": null,
            "width": null
          }
        },
        "cc523e38014649e6a1ab87a93b3c117b": {
          "model_module": "@jupyter-widgets/controls",
          "model_name": "ProgressStyleModel",
          "model_module_version": "1.5.0",
          "state": {
            "_model_module": "@jupyter-widgets/controls",
            "_model_module_version": "1.5.0",
            "_model_name": "ProgressStyleModel",
            "_view_count": null,
            "_view_module": "@jupyter-widgets/base",
            "_view_module_version": "1.2.0",
            "_view_name": "StyleView",
            "bar_color": null,
            "description_width": ""
          }
        },
        "c73414cb434548759c0ff9eb31bdd3da": {
          "model_module": "@jupyter-widgets/base",
          "model_name": "LayoutModel",
          "model_module_version": "1.2.0",
          "state": {
            "_model_module": "@jupyter-widgets/base",
            "_model_module_version": "1.2.0",
            "_model_name": "LayoutModel",
            "_view_count": null,
            "_view_module": "@jupyter-widgets/base",
            "_view_module_version": "1.2.0",
            "_view_name": "LayoutView",
            "align_content": null,
            "align_items": null,
            "align_self": null,
            "border": null,
            "bottom": null,
            "display": null,
            "flex": null,
            "flex_flow": null,
            "grid_area": null,
            "grid_auto_columns": null,
            "grid_auto_flow": null,
            "grid_auto_rows": null,
            "grid_column": null,
            "grid_gap": null,
            "grid_row": null,
            "grid_template_areas": null,
            "grid_template_columns": null,
            "grid_template_rows": null,
            "height": null,
            "justify_content": null,
            "justify_items": null,
            "left": null,
            "margin": null,
            "max_height": null,
            "max_width": null,
            "min_height": null,
            "min_width": null,
            "object_fit": null,
            "object_position": null,
            "order": null,
            "overflow": null,
            "overflow_x": null,
            "overflow_y": null,
            "padding": null,
            "right": null,
            "top": null,
            "visibility": null,
            "width": null
          }
        },
        "bf60a271cc3e4ded8dc662f739453fb0": {
          "model_module": "@jupyter-widgets/controls",
          "model_name": "DescriptionStyleModel",
          "model_module_version": "1.5.0",
          "state": {
            "_model_module": "@jupyter-widgets/controls",
            "_model_module_version": "1.5.0",
            "_model_name": "DescriptionStyleModel",
            "_view_count": null,
            "_view_module": "@jupyter-widgets/base",
            "_view_module_version": "1.2.0",
            "_view_name": "StyleView",
            "description_width": ""
          }
        },
        "a43b17d8903242209cc0a9384130da70": {
          "model_module": "@jupyter-widgets/controls",
          "model_name": "HBoxModel",
          "model_module_version": "1.5.0",
          "state": {
            "_dom_classes": [],
            "_model_module": "@jupyter-widgets/controls",
            "_model_module_version": "1.5.0",
            "_model_name": "HBoxModel",
            "_view_count": null,
            "_view_module": "@jupyter-widgets/controls",
            "_view_module_version": "1.5.0",
            "_view_name": "HBoxView",
            "box_style": "",
            "children": [
              "IPY_MODEL_c23963926f4446abaa4a1142d7372eac",
              "IPY_MODEL_f14dad62ee314b669bfbfa4bf461a531",
              "IPY_MODEL_cc0075964e1943b8a7c71c7e74f7fe24"
            ],
            "layout": "IPY_MODEL_f5f52b66917e49a19bb39291501a5180"
          }
        },
        "c23963926f4446abaa4a1142d7372eac": {
          "model_module": "@jupyter-widgets/controls",
          "model_name": "HTMLModel",
          "model_module_version": "1.5.0",
          "state": {
            "_dom_classes": [],
            "_model_module": "@jupyter-widgets/controls",
            "_model_module_version": "1.5.0",
            "_model_name": "HTMLModel",
            "_view_count": null,
            "_view_module": "@jupyter-widgets/controls",
            "_view_module_version": "1.5.0",
            "_view_name": "HTMLView",
            "description": "",
            "description_tooltip": null,
            "layout": "IPY_MODEL_7c543b5ed2ff4e4d94a2da6808ade2ea",
            "placeholder": "​",
            "style": "IPY_MODEL_b3a02893af5247adb74952a8fdde6732",
            "value": "Shuffling ~/tensorflow_datasets/ted_hrlr_translate/ru_to_en/1.0.0.incompletePH5Q7J/ted_hrlr_translate-train.tfrecord*...:  93%"
          }
        },
        "f14dad62ee314b669bfbfa4bf461a531": {
          "model_module": "@jupyter-widgets/controls",
          "model_name": "FloatProgressModel",
          "model_module_version": "1.5.0",
          "state": {
            "_dom_classes": [],
            "_model_module": "@jupyter-widgets/controls",
            "_model_module_version": "1.5.0",
            "_model_name": "FloatProgressModel",
            "_view_count": null,
            "_view_module": "@jupyter-widgets/controls",
            "_view_module_version": "1.5.0",
            "_view_name": "ProgressView",
            "bar_style": "",
            "description": "",
            "description_tooltip": null,
            "layout": "IPY_MODEL_957079bcdd9a43dfbc63a181b7f9d56c",
            "max": 208106,
            "min": 0,
            "orientation": "horizontal",
            "style": "IPY_MODEL_39f6aa857d994628ac0eea711222ece1",
            "value": 208106
          }
        },
        "cc0075964e1943b8a7c71c7e74f7fe24": {
          "model_module": "@jupyter-widgets/controls",
          "model_name": "HTMLModel",
          "model_module_version": "1.5.0",
          "state": {
            "_dom_classes": [],
            "_model_module": "@jupyter-widgets/controls",
            "_model_module_version": "1.5.0",
            "_model_name": "HTMLModel",
            "_view_count": null,
            "_view_module": "@jupyter-widgets/controls",
            "_view_module_version": "1.5.0",
            "_view_name": "HTMLView",
            "description": "",
            "description_tooltip": null,
            "layout": "IPY_MODEL_8fff7b3ea35a43d392399be6502c85e3",
            "placeholder": "​",
            "style": "IPY_MODEL_cde1320e13514dbfaf782d97a5ce6ee5",
            "value": " 194376/208106 [00:00&lt;00:00, 287641.46 examples/s]"
          }
        },
        "f5f52b66917e49a19bb39291501a5180": {
          "model_module": "@jupyter-widgets/base",
          "model_name": "LayoutModel",
          "model_module_version": "1.2.0",
          "state": {
            "_model_module": "@jupyter-widgets/base",
            "_model_module_version": "1.2.0",
            "_model_name": "LayoutModel",
            "_view_count": null,
            "_view_module": "@jupyter-widgets/base",
            "_view_module_version": "1.2.0",
            "_view_name": "LayoutView",
            "align_content": null,
            "align_items": null,
            "align_self": null,
            "border": null,
            "bottom": null,
            "display": null,
            "flex": null,
            "flex_flow": null,
            "grid_area": null,
            "grid_auto_columns": null,
            "grid_auto_flow": null,
            "grid_auto_rows": null,
            "grid_column": null,
            "grid_gap": null,
            "grid_row": null,
            "grid_template_areas": null,
            "grid_template_columns": null,
            "grid_template_rows": null,
            "height": null,
            "justify_content": null,
            "justify_items": null,
            "left": null,
            "margin": null,
            "max_height": null,
            "max_width": null,
            "min_height": null,
            "min_width": null,
            "object_fit": null,
            "object_position": null,
            "order": null,
            "overflow": null,
            "overflow_x": null,
            "overflow_y": null,
            "padding": null,
            "right": null,
            "top": null,
            "visibility": "hidden",
            "width": null
          }
        },
        "7c543b5ed2ff4e4d94a2da6808ade2ea": {
          "model_module": "@jupyter-widgets/base",
          "model_name": "LayoutModel",
          "model_module_version": "1.2.0",
          "state": {
            "_model_module": "@jupyter-widgets/base",
            "_model_module_version": "1.2.0",
            "_model_name": "LayoutModel",
            "_view_count": null,
            "_view_module": "@jupyter-widgets/base",
            "_view_module_version": "1.2.0",
            "_view_name": "LayoutView",
            "align_content": null,
            "align_items": null,
            "align_self": null,
            "border": null,
            "bottom": null,
            "display": null,
            "flex": null,
            "flex_flow": null,
            "grid_area": null,
            "grid_auto_columns": null,
            "grid_auto_flow": null,
            "grid_auto_rows": null,
            "grid_column": null,
            "grid_gap": null,
            "grid_row": null,
            "grid_template_areas": null,
            "grid_template_columns": null,
            "grid_template_rows": null,
            "height": null,
            "justify_content": null,
            "justify_items": null,
            "left": null,
            "margin": null,
            "max_height": null,
            "max_width": null,
            "min_height": null,
            "min_width": null,
            "object_fit": null,
            "object_position": null,
            "order": null,
            "overflow": null,
            "overflow_x": null,
            "overflow_y": null,
            "padding": null,
            "right": null,
            "top": null,
            "visibility": null,
            "width": null
          }
        },
        "b3a02893af5247adb74952a8fdde6732": {
          "model_module": "@jupyter-widgets/controls",
          "model_name": "DescriptionStyleModel",
          "model_module_version": "1.5.0",
          "state": {
            "_model_module": "@jupyter-widgets/controls",
            "_model_module_version": "1.5.0",
            "_model_name": "DescriptionStyleModel",
            "_view_count": null,
            "_view_module": "@jupyter-widgets/base",
            "_view_module_version": "1.2.0",
            "_view_name": "StyleView",
            "description_width": ""
          }
        },
        "957079bcdd9a43dfbc63a181b7f9d56c": {
          "model_module": "@jupyter-widgets/base",
          "model_name": "LayoutModel",
          "model_module_version": "1.2.0",
          "state": {
            "_model_module": "@jupyter-widgets/base",
            "_model_module_version": "1.2.0",
            "_model_name": "LayoutModel",
            "_view_count": null,
            "_view_module": "@jupyter-widgets/base",
            "_view_module_version": "1.2.0",
            "_view_name": "LayoutView",
            "align_content": null,
            "align_items": null,
            "align_self": null,
            "border": null,
            "bottom": null,
            "display": null,
            "flex": null,
            "flex_flow": null,
            "grid_area": null,
            "grid_auto_columns": null,
            "grid_auto_flow": null,
            "grid_auto_rows": null,
            "grid_column": null,
            "grid_gap": null,
            "grid_row": null,
            "grid_template_areas": null,
            "grid_template_columns": null,
            "grid_template_rows": null,
            "height": null,
            "justify_content": null,
            "justify_items": null,
            "left": null,
            "margin": null,
            "max_height": null,
            "max_width": null,
            "min_height": null,
            "min_width": null,
            "object_fit": null,
            "object_position": null,
            "order": null,
            "overflow": null,
            "overflow_x": null,
            "overflow_y": null,
            "padding": null,
            "right": null,
            "top": null,
            "visibility": null,
            "width": null
          }
        },
        "39f6aa857d994628ac0eea711222ece1": {
          "model_module": "@jupyter-widgets/controls",
          "model_name": "ProgressStyleModel",
          "model_module_version": "1.5.0",
          "state": {
            "_model_module": "@jupyter-widgets/controls",
            "_model_module_version": "1.5.0",
            "_model_name": "ProgressStyleModel",
            "_view_count": null,
            "_view_module": "@jupyter-widgets/base",
            "_view_module_version": "1.2.0",
            "_view_name": "StyleView",
            "bar_color": null,
            "description_width": ""
          }
        },
        "8fff7b3ea35a43d392399be6502c85e3": {
          "model_module": "@jupyter-widgets/base",
          "model_name": "LayoutModel",
          "model_module_version": "1.2.0",
          "state": {
            "_model_module": "@jupyter-widgets/base",
            "_model_module_version": "1.2.0",
            "_model_name": "LayoutModel",
            "_view_count": null,
            "_view_module": "@jupyter-widgets/base",
            "_view_module_version": "1.2.0",
            "_view_name": "LayoutView",
            "align_content": null,
            "align_items": null,
            "align_self": null,
            "border": null,
            "bottom": null,
            "display": null,
            "flex": null,
            "flex_flow": null,
            "grid_area": null,
            "grid_auto_columns": null,
            "grid_auto_flow": null,
            "grid_auto_rows": null,
            "grid_column": null,
            "grid_gap": null,
            "grid_row": null,
            "grid_template_areas": null,
            "grid_template_columns": null,
            "grid_template_rows": null,
            "height": null,
            "justify_content": null,
            "justify_items": null,
            "left": null,
            "margin": null,
            "max_height": null,
            "max_width": null,
            "min_height": null,
            "min_width": null,
            "object_fit": null,
            "object_position": null,
            "order": null,
            "overflow": null,
            "overflow_x": null,
            "overflow_y": null,
            "padding": null,
            "right": null,
            "top": null,
            "visibility": null,
            "width": null
          }
        },
        "cde1320e13514dbfaf782d97a5ce6ee5": {
          "model_module": "@jupyter-widgets/controls",
          "model_name": "DescriptionStyleModel",
          "model_module_version": "1.5.0",
          "state": {
            "_model_module": "@jupyter-widgets/controls",
            "_model_module_version": "1.5.0",
            "_model_name": "DescriptionStyleModel",
            "_view_count": null,
            "_view_module": "@jupyter-widgets/base",
            "_view_module_version": "1.2.0",
            "_view_name": "StyleView",
            "description_width": ""
          }
        },
        "80e6429b3f5345fdacda3475ee2d3fc3": {
          "model_module": "@jupyter-widgets/controls",
          "model_name": "HBoxModel",
          "model_module_version": "1.5.0",
          "state": {
            "_dom_classes": [],
            "_model_module": "@jupyter-widgets/controls",
            "_model_module_version": "1.5.0",
            "_model_name": "HBoxModel",
            "_view_count": null,
            "_view_module": "@jupyter-widgets/controls",
            "_view_module_version": "1.5.0",
            "_view_name": "HBoxView",
            "box_style": "",
            "children": [
              "IPY_MODEL_b1d7e87707304ef5806659e677cd13d5",
              "IPY_MODEL_b90ba0e33cdc4cb88e36931460ae44e4",
              "IPY_MODEL_5b289664a52f4b04b280e0e383c40476"
            ],
            "layout": "IPY_MODEL_21f5f390310e4af49e9dcaf8312c234b"
          }
        },
        "b1d7e87707304ef5806659e677cd13d5": {
          "model_module": "@jupyter-widgets/controls",
          "model_name": "HTMLModel",
          "model_module_version": "1.5.0",
          "state": {
            "_dom_classes": [],
            "_model_module": "@jupyter-widgets/controls",
            "_model_module_version": "1.5.0",
            "_model_name": "HTMLModel",
            "_view_count": null,
            "_view_module": "@jupyter-widgets/controls",
            "_view_module_version": "1.5.0",
            "_view_name": "HTMLView",
            "description": "",
            "description_tooltip": null,
            "layout": "IPY_MODEL_021b048d5e2349f9bdc0e55d58efe6f3",
            "placeholder": "​",
            "style": "IPY_MODEL_0c0ab81919be42f98b2bc5e7fe3fa2c9",
            "value": "Generating validation examples...:  91%"
          }
        },
        "b90ba0e33cdc4cb88e36931460ae44e4": {
          "model_module": "@jupyter-widgets/controls",
          "model_name": "FloatProgressModel",
          "model_module_version": "1.5.0",
          "state": {
            "_dom_classes": [],
            "_model_module": "@jupyter-widgets/controls",
            "_model_module_version": "1.5.0",
            "_model_name": "FloatProgressModel",
            "_view_count": null,
            "_view_module": "@jupyter-widgets/controls",
            "_view_module_version": "1.5.0",
            "_view_name": "ProgressView",
            "bar_style": "",
            "description": "",
            "description_tooltip": null,
            "layout": "IPY_MODEL_c9ad6d2bd4f14e768536f27d5f9b5bc6",
            "max": 4805,
            "min": 0,
            "orientation": "horizontal",
            "style": "IPY_MODEL_421a37ab04964b49846425b94c1508d4",
            "value": 4805
          }
        },
        "5b289664a52f4b04b280e0e383c40476": {
          "model_module": "@jupyter-widgets/controls",
          "model_name": "HTMLModel",
          "model_module_version": "1.5.0",
          "state": {
            "_dom_classes": [],
            "_model_module": "@jupyter-widgets/controls",
            "_model_module_version": "1.5.0",
            "_model_name": "HTMLModel",
            "_view_count": null,
            "_view_module": "@jupyter-widgets/controls",
            "_view_module_version": "1.5.0",
            "_view_name": "HTMLView",
            "description": "",
            "description_tooltip": null,
            "layout": "IPY_MODEL_2c43f80e8bac472887a32b4ecb78e629",
            "placeholder": "​",
            "style": "IPY_MODEL_4f2fbb02d455427c8265445f068488dc",
            "value": " 4391/4805 [00:00&lt;00:00, 8438.74 examples/s]"
          }
        },
        "21f5f390310e4af49e9dcaf8312c234b": {
          "model_module": "@jupyter-widgets/base",
          "model_name": "LayoutModel",
          "model_module_version": "1.2.0",
          "state": {
            "_model_module": "@jupyter-widgets/base",
            "_model_module_version": "1.2.0",
            "_model_name": "LayoutModel",
            "_view_count": null,
            "_view_module": "@jupyter-widgets/base",
            "_view_module_version": "1.2.0",
            "_view_name": "LayoutView",
            "align_content": null,
            "align_items": null,
            "align_self": null,
            "border": null,
            "bottom": null,
            "display": null,
            "flex": null,
            "flex_flow": null,
            "grid_area": null,
            "grid_auto_columns": null,
            "grid_auto_flow": null,
            "grid_auto_rows": null,
            "grid_column": null,
            "grid_gap": null,
            "grid_row": null,
            "grid_template_areas": null,
            "grid_template_columns": null,
            "grid_template_rows": null,
            "height": null,
            "justify_content": null,
            "justify_items": null,
            "left": null,
            "margin": null,
            "max_height": null,
            "max_width": null,
            "min_height": null,
            "min_width": null,
            "object_fit": null,
            "object_position": null,
            "order": null,
            "overflow": null,
            "overflow_x": null,
            "overflow_y": null,
            "padding": null,
            "right": null,
            "top": null,
            "visibility": "hidden",
            "width": null
          }
        },
        "021b048d5e2349f9bdc0e55d58efe6f3": {
          "model_module": "@jupyter-widgets/base",
          "model_name": "LayoutModel",
          "model_module_version": "1.2.0",
          "state": {
            "_model_module": "@jupyter-widgets/base",
            "_model_module_version": "1.2.0",
            "_model_name": "LayoutModel",
            "_view_count": null,
            "_view_module": "@jupyter-widgets/base",
            "_view_module_version": "1.2.0",
            "_view_name": "LayoutView",
            "align_content": null,
            "align_items": null,
            "align_self": null,
            "border": null,
            "bottom": null,
            "display": null,
            "flex": null,
            "flex_flow": null,
            "grid_area": null,
            "grid_auto_columns": null,
            "grid_auto_flow": null,
            "grid_auto_rows": null,
            "grid_column": null,
            "grid_gap": null,
            "grid_row": null,
            "grid_template_areas": null,
            "grid_template_columns": null,
            "grid_template_rows": null,
            "height": null,
            "justify_content": null,
            "justify_items": null,
            "left": null,
            "margin": null,
            "max_height": null,
            "max_width": null,
            "min_height": null,
            "min_width": null,
            "object_fit": null,
            "object_position": null,
            "order": null,
            "overflow": null,
            "overflow_x": null,
            "overflow_y": null,
            "padding": null,
            "right": null,
            "top": null,
            "visibility": null,
            "width": null
          }
        },
        "0c0ab81919be42f98b2bc5e7fe3fa2c9": {
          "model_module": "@jupyter-widgets/controls",
          "model_name": "DescriptionStyleModel",
          "model_module_version": "1.5.0",
          "state": {
            "_model_module": "@jupyter-widgets/controls",
            "_model_module_version": "1.5.0",
            "_model_name": "DescriptionStyleModel",
            "_view_count": null,
            "_view_module": "@jupyter-widgets/base",
            "_view_module_version": "1.2.0",
            "_view_name": "StyleView",
            "description_width": ""
          }
        },
        "c9ad6d2bd4f14e768536f27d5f9b5bc6": {
          "model_module": "@jupyter-widgets/base",
          "model_name": "LayoutModel",
          "model_module_version": "1.2.0",
          "state": {
            "_model_module": "@jupyter-widgets/base",
            "_model_module_version": "1.2.0",
            "_model_name": "LayoutModel",
            "_view_count": null,
            "_view_module": "@jupyter-widgets/base",
            "_view_module_version": "1.2.0",
            "_view_name": "LayoutView",
            "align_content": null,
            "align_items": null,
            "align_self": null,
            "border": null,
            "bottom": null,
            "display": null,
            "flex": null,
            "flex_flow": null,
            "grid_area": null,
            "grid_auto_columns": null,
            "grid_auto_flow": null,
            "grid_auto_rows": null,
            "grid_column": null,
            "grid_gap": null,
            "grid_row": null,
            "grid_template_areas": null,
            "grid_template_columns": null,
            "grid_template_rows": null,
            "height": null,
            "justify_content": null,
            "justify_items": null,
            "left": null,
            "margin": null,
            "max_height": null,
            "max_width": null,
            "min_height": null,
            "min_width": null,
            "object_fit": null,
            "object_position": null,
            "order": null,
            "overflow": null,
            "overflow_x": null,
            "overflow_y": null,
            "padding": null,
            "right": null,
            "top": null,
            "visibility": null,
            "width": null
          }
        },
        "421a37ab04964b49846425b94c1508d4": {
          "model_module": "@jupyter-widgets/controls",
          "model_name": "ProgressStyleModel",
          "model_module_version": "1.5.0",
          "state": {
            "_model_module": "@jupyter-widgets/controls",
            "_model_module_version": "1.5.0",
            "_model_name": "ProgressStyleModel",
            "_view_count": null,
            "_view_module": "@jupyter-widgets/base",
            "_view_module_version": "1.2.0",
            "_view_name": "StyleView",
            "bar_color": null,
            "description_width": ""
          }
        },
        "2c43f80e8bac472887a32b4ecb78e629": {
          "model_module": "@jupyter-widgets/base",
          "model_name": "LayoutModel",
          "model_module_version": "1.2.0",
          "state": {
            "_model_module": "@jupyter-widgets/base",
            "_model_module_version": "1.2.0",
            "_model_name": "LayoutModel",
            "_view_count": null,
            "_view_module": "@jupyter-widgets/base",
            "_view_module_version": "1.2.0",
            "_view_name": "LayoutView",
            "align_content": null,
            "align_items": null,
            "align_self": null,
            "border": null,
            "bottom": null,
            "display": null,
            "flex": null,
            "flex_flow": null,
            "grid_area": null,
            "grid_auto_columns": null,
            "grid_auto_flow": null,
            "grid_auto_rows": null,
            "grid_column": null,
            "grid_gap": null,
            "grid_row": null,
            "grid_template_areas": null,
            "grid_template_columns": null,
            "grid_template_rows": null,
            "height": null,
            "justify_content": null,
            "justify_items": null,
            "left": null,
            "margin": null,
            "max_height": null,
            "max_width": null,
            "min_height": null,
            "min_width": null,
            "object_fit": null,
            "object_position": null,
            "order": null,
            "overflow": null,
            "overflow_x": null,
            "overflow_y": null,
            "padding": null,
            "right": null,
            "top": null,
            "visibility": null,
            "width": null
          }
        },
        "4f2fbb02d455427c8265445f068488dc": {
          "model_module": "@jupyter-widgets/controls",
          "model_name": "DescriptionStyleModel",
          "model_module_version": "1.5.0",
          "state": {
            "_model_module": "@jupyter-widgets/controls",
            "_model_module_version": "1.5.0",
            "_model_name": "DescriptionStyleModel",
            "_view_count": null,
            "_view_module": "@jupyter-widgets/base",
            "_view_module_version": "1.2.0",
            "_view_name": "StyleView",
            "description_width": ""
          }
        },
        "b7602561774d4ba6ac6a1390bf9253f8": {
          "model_module": "@jupyter-widgets/controls",
          "model_name": "HBoxModel",
          "model_module_version": "1.5.0",
          "state": {
            "_dom_classes": [],
            "_model_module": "@jupyter-widgets/controls",
            "_model_module_version": "1.5.0",
            "_model_name": "HBoxModel",
            "_view_count": null,
            "_view_module": "@jupyter-widgets/controls",
            "_view_module_version": "1.5.0",
            "_view_name": "HBoxView",
            "box_style": "",
            "children": [
              "IPY_MODEL_5df331542c484a7b94ffce4f128493bb",
              "IPY_MODEL_b08035d3878d46a1904e159a603cbdcc",
              "IPY_MODEL_5bce383a3a444f6db6c0120f3b272698"
            ],
            "layout": "IPY_MODEL_f5b04208598240dd8fa23334ebee66a6"
          }
        },
        "5df331542c484a7b94ffce4f128493bb": {
          "model_module": "@jupyter-widgets/controls",
          "model_name": "HTMLModel",
          "model_module_version": "1.5.0",
          "state": {
            "_dom_classes": [],
            "_model_module": "@jupyter-widgets/controls",
            "_model_module_version": "1.5.0",
            "_model_name": "HTMLModel",
            "_view_count": null,
            "_view_module": "@jupyter-widgets/controls",
            "_view_module_version": "1.5.0",
            "_view_name": "HTMLView",
            "description": "",
            "description_tooltip": null,
            "layout": "IPY_MODEL_a89d4139239b45ee8f4734f4cd473b1b",
            "placeholder": "​",
            "style": "IPY_MODEL_91bd886c1b4541048d0b7bd6c4f299a3",
            "value": "Shuffling ~/tensorflow_datasets/ted_hrlr_translate/ru_to_en/1.0.0.incompletePH5Q7J/ted_hrlr_translate-validation.tfrecord*...:   0%"
          }
        },
        "b08035d3878d46a1904e159a603cbdcc": {
          "model_module": "@jupyter-widgets/controls",
          "model_name": "FloatProgressModel",
          "model_module_version": "1.5.0",
          "state": {
            "_dom_classes": [],
            "_model_module": "@jupyter-widgets/controls",
            "_model_module_version": "1.5.0",
            "_model_name": "FloatProgressModel",
            "_view_count": null,
            "_view_module": "@jupyter-widgets/controls",
            "_view_module_version": "1.5.0",
            "_view_name": "ProgressView",
            "bar_style": "",
            "description": "",
            "description_tooltip": null,
            "layout": "IPY_MODEL_b85ae563bf7840b1aa97f374964f4afd",
            "max": 4805,
            "min": 0,
            "orientation": "horizontal",
            "style": "IPY_MODEL_df400421a88047e385dd7efd06564fcf",
            "value": 4805
          }
        },
        "5bce383a3a444f6db6c0120f3b272698": {
          "model_module": "@jupyter-widgets/controls",
          "model_name": "HTMLModel",
          "model_module_version": "1.5.0",
          "state": {
            "_dom_classes": [],
            "_model_module": "@jupyter-widgets/controls",
            "_model_module_version": "1.5.0",
            "_model_name": "HTMLModel",
            "_view_count": null,
            "_view_module": "@jupyter-widgets/controls",
            "_view_module_version": "1.5.0",
            "_view_name": "HTMLView",
            "description": "",
            "description_tooltip": null,
            "layout": "IPY_MODEL_4ffa3405bcc040d3949455576bd9bcbb",
            "placeholder": "​",
            "style": "IPY_MODEL_70504ca654cc44bdacc4f8e2cd0b3fea",
            "value": " 0/4805 [00:00&lt;?, ? examples/s]"
          }
        },
        "f5b04208598240dd8fa23334ebee66a6": {
          "model_module": "@jupyter-widgets/base",
          "model_name": "LayoutModel",
          "model_module_version": "1.2.0",
          "state": {
            "_model_module": "@jupyter-widgets/base",
            "_model_module_version": "1.2.0",
            "_model_name": "LayoutModel",
            "_view_count": null,
            "_view_module": "@jupyter-widgets/base",
            "_view_module_version": "1.2.0",
            "_view_name": "LayoutView",
            "align_content": null,
            "align_items": null,
            "align_self": null,
            "border": null,
            "bottom": null,
            "display": null,
            "flex": null,
            "flex_flow": null,
            "grid_area": null,
            "grid_auto_columns": null,
            "grid_auto_flow": null,
            "grid_auto_rows": null,
            "grid_column": null,
            "grid_gap": null,
            "grid_row": null,
            "grid_template_areas": null,
            "grid_template_columns": null,
            "grid_template_rows": null,
            "height": null,
            "justify_content": null,
            "justify_items": null,
            "left": null,
            "margin": null,
            "max_height": null,
            "max_width": null,
            "min_height": null,
            "min_width": null,
            "object_fit": null,
            "object_position": null,
            "order": null,
            "overflow": null,
            "overflow_x": null,
            "overflow_y": null,
            "padding": null,
            "right": null,
            "top": null,
            "visibility": "hidden",
            "width": null
          }
        },
        "a89d4139239b45ee8f4734f4cd473b1b": {
          "model_module": "@jupyter-widgets/base",
          "model_name": "LayoutModel",
          "model_module_version": "1.2.0",
          "state": {
            "_model_module": "@jupyter-widgets/base",
            "_model_module_version": "1.2.0",
            "_model_name": "LayoutModel",
            "_view_count": null,
            "_view_module": "@jupyter-widgets/base",
            "_view_module_version": "1.2.0",
            "_view_name": "LayoutView",
            "align_content": null,
            "align_items": null,
            "align_self": null,
            "border": null,
            "bottom": null,
            "display": null,
            "flex": null,
            "flex_flow": null,
            "grid_area": null,
            "grid_auto_columns": null,
            "grid_auto_flow": null,
            "grid_auto_rows": null,
            "grid_column": null,
            "grid_gap": null,
            "grid_row": null,
            "grid_template_areas": null,
            "grid_template_columns": null,
            "grid_template_rows": null,
            "height": null,
            "justify_content": null,
            "justify_items": null,
            "left": null,
            "margin": null,
            "max_height": null,
            "max_width": null,
            "min_height": null,
            "min_width": null,
            "object_fit": null,
            "object_position": null,
            "order": null,
            "overflow": null,
            "overflow_x": null,
            "overflow_y": null,
            "padding": null,
            "right": null,
            "top": null,
            "visibility": null,
            "width": null
          }
        },
        "91bd886c1b4541048d0b7bd6c4f299a3": {
          "model_module": "@jupyter-widgets/controls",
          "model_name": "DescriptionStyleModel",
          "model_module_version": "1.5.0",
          "state": {
            "_model_module": "@jupyter-widgets/controls",
            "_model_module_version": "1.5.0",
            "_model_name": "DescriptionStyleModel",
            "_view_count": null,
            "_view_module": "@jupyter-widgets/base",
            "_view_module_version": "1.2.0",
            "_view_name": "StyleView",
            "description_width": ""
          }
        },
        "b85ae563bf7840b1aa97f374964f4afd": {
          "model_module": "@jupyter-widgets/base",
          "model_name": "LayoutModel",
          "model_module_version": "1.2.0",
          "state": {
            "_model_module": "@jupyter-widgets/base",
            "_model_module_version": "1.2.0",
            "_model_name": "LayoutModel",
            "_view_count": null,
            "_view_module": "@jupyter-widgets/base",
            "_view_module_version": "1.2.0",
            "_view_name": "LayoutView",
            "align_content": null,
            "align_items": null,
            "align_self": null,
            "border": null,
            "bottom": null,
            "display": null,
            "flex": null,
            "flex_flow": null,
            "grid_area": null,
            "grid_auto_columns": null,
            "grid_auto_flow": null,
            "grid_auto_rows": null,
            "grid_column": null,
            "grid_gap": null,
            "grid_row": null,
            "grid_template_areas": null,
            "grid_template_columns": null,
            "grid_template_rows": null,
            "height": null,
            "justify_content": null,
            "justify_items": null,
            "left": null,
            "margin": null,
            "max_height": null,
            "max_width": null,
            "min_height": null,
            "min_width": null,
            "object_fit": null,
            "object_position": null,
            "order": null,
            "overflow": null,
            "overflow_x": null,
            "overflow_y": null,
            "padding": null,
            "right": null,
            "top": null,
            "visibility": null,
            "width": null
          }
        },
        "df400421a88047e385dd7efd06564fcf": {
          "model_module": "@jupyter-widgets/controls",
          "model_name": "ProgressStyleModel",
          "model_module_version": "1.5.0",
          "state": {
            "_model_module": "@jupyter-widgets/controls",
            "_model_module_version": "1.5.0",
            "_model_name": "ProgressStyleModel",
            "_view_count": null,
            "_view_module": "@jupyter-widgets/base",
            "_view_module_version": "1.2.0",
            "_view_name": "StyleView",
            "bar_color": null,
            "description_width": ""
          }
        },
        "4ffa3405bcc040d3949455576bd9bcbb": {
          "model_module": "@jupyter-widgets/base",
          "model_name": "LayoutModel",
          "model_module_version": "1.2.0",
          "state": {
            "_model_module": "@jupyter-widgets/base",
            "_model_module_version": "1.2.0",
            "_model_name": "LayoutModel",
            "_view_count": null,
            "_view_module": "@jupyter-widgets/base",
            "_view_module_version": "1.2.0",
            "_view_name": "LayoutView",
            "align_content": null,
            "align_items": null,
            "align_self": null,
            "border": null,
            "bottom": null,
            "display": null,
            "flex": null,
            "flex_flow": null,
            "grid_area": null,
            "grid_auto_columns": null,
            "grid_auto_flow": null,
            "grid_auto_rows": null,
            "grid_column": null,
            "grid_gap": null,
            "grid_row": null,
            "grid_template_areas": null,
            "grid_template_columns": null,
            "grid_template_rows": null,
            "height": null,
            "justify_content": null,
            "justify_items": null,
            "left": null,
            "margin": null,
            "max_height": null,
            "max_width": null,
            "min_height": null,
            "min_width": null,
            "object_fit": null,
            "object_position": null,
            "order": null,
            "overflow": null,
            "overflow_x": null,
            "overflow_y": null,
            "padding": null,
            "right": null,
            "top": null,
            "visibility": null,
            "width": null
          }
        },
        "70504ca654cc44bdacc4f8e2cd0b3fea": {
          "model_module": "@jupyter-widgets/controls",
          "model_name": "DescriptionStyleModel",
          "model_module_version": "1.5.0",
          "state": {
            "_model_module": "@jupyter-widgets/controls",
            "_model_module_version": "1.5.0",
            "_model_name": "DescriptionStyleModel",
            "_view_count": null,
            "_view_module": "@jupyter-widgets/base",
            "_view_module_version": "1.2.0",
            "_view_name": "StyleView",
            "description_width": ""
          }
        },
        "cbbab0a4373a49acaa355291911b7620": {
          "model_module": "@jupyter-widgets/controls",
          "model_name": "HBoxModel",
          "model_module_version": "1.5.0",
          "state": {
            "_dom_classes": [],
            "_model_module": "@jupyter-widgets/controls",
            "_model_module_version": "1.5.0",
            "_model_name": "HBoxModel",
            "_view_count": null,
            "_view_module": "@jupyter-widgets/controls",
            "_view_module_version": "1.5.0",
            "_view_name": "HBoxView",
            "box_style": "",
            "children": [
              "IPY_MODEL_492a127b83454d7f89ce1cf487d552b4",
              "IPY_MODEL_e5ccefa41da0404f8cb75a003a27c1b8",
              "IPY_MODEL_d65cc5d845024da59f435377f7973aac"
            ],
            "layout": "IPY_MODEL_b0b88d924e8847f7833a6dd09df6ac83"
          }
        },
        "492a127b83454d7f89ce1cf487d552b4": {
          "model_module": "@jupyter-widgets/controls",
          "model_name": "HTMLModel",
          "model_module_version": "1.5.0",
          "state": {
            "_dom_classes": [],
            "_model_module": "@jupyter-widgets/controls",
            "_model_module_version": "1.5.0",
            "_model_name": "HTMLModel",
            "_view_count": null,
            "_view_module": "@jupyter-widgets/controls",
            "_view_module_version": "1.5.0",
            "_view_name": "HTMLView",
            "description": "",
            "description_tooltip": null,
            "layout": "IPY_MODEL_f0d6808c52b948a990020e72b243fb4e",
            "placeholder": "​",
            "style": "IPY_MODEL_481e9df5dd944c1f85c7cf04b9adc2a5",
            "value": "Generating test examples...:  98%"
          }
        },
        "e5ccefa41da0404f8cb75a003a27c1b8": {
          "model_module": "@jupyter-widgets/controls",
          "model_name": "FloatProgressModel",
          "model_module_version": "1.5.0",
          "state": {
            "_dom_classes": [],
            "_model_module": "@jupyter-widgets/controls",
            "_model_module_version": "1.5.0",
            "_model_name": "FloatProgressModel",
            "_view_count": null,
            "_view_module": "@jupyter-widgets/controls",
            "_view_module_version": "1.5.0",
            "_view_name": "ProgressView",
            "bar_style": "",
            "description": "",
            "description_tooltip": null,
            "layout": "IPY_MODEL_850b6a85053b4e879e70b4351af8195b",
            "max": 5476,
            "min": 0,
            "orientation": "horizontal",
            "style": "IPY_MODEL_db1f6fb4ace5422bb54048c6b10f15f2",
            "value": 5476
          }
        },
        "d65cc5d845024da59f435377f7973aac": {
          "model_module": "@jupyter-widgets/controls",
          "model_name": "HTMLModel",
          "model_module_version": "1.5.0",
          "state": {
            "_dom_classes": [],
            "_model_module": "@jupyter-widgets/controls",
            "_model_module_version": "1.5.0",
            "_model_name": "HTMLModel",
            "_view_count": null,
            "_view_module": "@jupyter-widgets/controls",
            "_view_module_version": "1.5.0",
            "_view_name": "HTMLView",
            "description": "",
            "description_tooltip": null,
            "layout": "IPY_MODEL_9491a51116d64233a1ebde22caa28b99",
            "placeholder": "​",
            "style": "IPY_MODEL_aeabe3f4c55e4b9ea547251015aafbbd",
            "value": " 5361/5476 [00:00&lt;00:00, 9808.27 examples/s]"
          }
        },
        "b0b88d924e8847f7833a6dd09df6ac83": {
          "model_module": "@jupyter-widgets/base",
          "model_name": "LayoutModel",
          "model_module_version": "1.2.0",
          "state": {
            "_model_module": "@jupyter-widgets/base",
            "_model_module_version": "1.2.0",
            "_model_name": "LayoutModel",
            "_view_count": null,
            "_view_module": "@jupyter-widgets/base",
            "_view_module_version": "1.2.0",
            "_view_name": "LayoutView",
            "align_content": null,
            "align_items": null,
            "align_self": null,
            "border": null,
            "bottom": null,
            "display": null,
            "flex": null,
            "flex_flow": null,
            "grid_area": null,
            "grid_auto_columns": null,
            "grid_auto_flow": null,
            "grid_auto_rows": null,
            "grid_column": null,
            "grid_gap": null,
            "grid_row": null,
            "grid_template_areas": null,
            "grid_template_columns": null,
            "grid_template_rows": null,
            "height": null,
            "justify_content": null,
            "justify_items": null,
            "left": null,
            "margin": null,
            "max_height": null,
            "max_width": null,
            "min_height": null,
            "min_width": null,
            "object_fit": null,
            "object_position": null,
            "order": null,
            "overflow": null,
            "overflow_x": null,
            "overflow_y": null,
            "padding": null,
            "right": null,
            "top": null,
            "visibility": "hidden",
            "width": null
          }
        },
        "f0d6808c52b948a990020e72b243fb4e": {
          "model_module": "@jupyter-widgets/base",
          "model_name": "LayoutModel",
          "model_module_version": "1.2.0",
          "state": {
            "_model_module": "@jupyter-widgets/base",
            "_model_module_version": "1.2.0",
            "_model_name": "LayoutModel",
            "_view_count": null,
            "_view_module": "@jupyter-widgets/base",
            "_view_module_version": "1.2.0",
            "_view_name": "LayoutView",
            "align_content": null,
            "align_items": null,
            "align_self": null,
            "border": null,
            "bottom": null,
            "display": null,
            "flex": null,
            "flex_flow": null,
            "grid_area": null,
            "grid_auto_columns": null,
            "grid_auto_flow": null,
            "grid_auto_rows": null,
            "grid_column": null,
            "grid_gap": null,
            "grid_row": null,
            "grid_template_areas": null,
            "grid_template_columns": null,
            "grid_template_rows": null,
            "height": null,
            "justify_content": null,
            "justify_items": null,
            "left": null,
            "margin": null,
            "max_height": null,
            "max_width": null,
            "min_height": null,
            "min_width": null,
            "object_fit": null,
            "object_position": null,
            "order": null,
            "overflow": null,
            "overflow_x": null,
            "overflow_y": null,
            "padding": null,
            "right": null,
            "top": null,
            "visibility": null,
            "width": null
          }
        },
        "481e9df5dd944c1f85c7cf04b9adc2a5": {
          "model_module": "@jupyter-widgets/controls",
          "model_name": "DescriptionStyleModel",
          "model_module_version": "1.5.0",
          "state": {
            "_model_module": "@jupyter-widgets/controls",
            "_model_module_version": "1.5.0",
            "_model_name": "DescriptionStyleModel",
            "_view_count": null,
            "_view_module": "@jupyter-widgets/base",
            "_view_module_version": "1.2.0",
            "_view_name": "StyleView",
            "description_width": ""
          }
        },
        "850b6a85053b4e879e70b4351af8195b": {
          "model_module": "@jupyter-widgets/base",
          "model_name": "LayoutModel",
          "model_module_version": "1.2.0",
          "state": {
            "_model_module": "@jupyter-widgets/base",
            "_model_module_version": "1.2.0",
            "_model_name": "LayoutModel",
            "_view_count": null,
            "_view_module": "@jupyter-widgets/base",
            "_view_module_version": "1.2.0",
            "_view_name": "LayoutView",
            "align_content": null,
            "align_items": null,
            "align_self": null,
            "border": null,
            "bottom": null,
            "display": null,
            "flex": null,
            "flex_flow": null,
            "grid_area": null,
            "grid_auto_columns": null,
            "grid_auto_flow": null,
            "grid_auto_rows": null,
            "grid_column": null,
            "grid_gap": null,
            "grid_row": null,
            "grid_template_areas": null,
            "grid_template_columns": null,
            "grid_template_rows": null,
            "height": null,
            "justify_content": null,
            "justify_items": null,
            "left": null,
            "margin": null,
            "max_height": null,
            "max_width": null,
            "min_height": null,
            "min_width": null,
            "object_fit": null,
            "object_position": null,
            "order": null,
            "overflow": null,
            "overflow_x": null,
            "overflow_y": null,
            "padding": null,
            "right": null,
            "top": null,
            "visibility": null,
            "width": null
          }
        },
        "db1f6fb4ace5422bb54048c6b10f15f2": {
          "model_module": "@jupyter-widgets/controls",
          "model_name": "ProgressStyleModel",
          "model_module_version": "1.5.0",
          "state": {
            "_model_module": "@jupyter-widgets/controls",
            "_model_module_version": "1.5.0",
            "_model_name": "ProgressStyleModel",
            "_view_count": null,
            "_view_module": "@jupyter-widgets/base",
            "_view_module_version": "1.2.0",
            "_view_name": "StyleView",
            "bar_color": null,
            "description_width": ""
          }
        },
        "9491a51116d64233a1ebde22caa28b99": {
          "model_module": "@jupyter-widgets/base",
          "model_name": "LayoutModel",
          "model_module_version": "1.2.0",
          "state": {
            "_model_module": "@jupyter-widgets/base",
            "_model_module_version": "1.2.0",
            "_model_name": "LayoutModel",
            "_view_count": null,
            "_view_module": "@jupyter-widgets/base",
            "_view_module_version": "1.2.0",
            "_view_name": "LayoutView",
            "align_content": null,
            "align_items": null,
            "align_self": null,
            "border": null,
            "bottom": null,
            "display": null,
            "flex": null,
            "flex_flow": null,
            "grid_area": null,
            "grid_auto_columns": null,
            "grid_auto_flow": null,
            "grid_auto_rows": null,
            "grid_column": null,
            "grid_gap": null,
            "grid_row": null,
            "grid_template_areas": null,
            "grid_template_columns": null,
            "grid_template_rows": null,
            "height": null,
            "justify_content": null,
            "justify_items": null,
            "left": null,
            "margin": null,
            "max_height": null,
            "max_width": null,
            "min_height": null,
            "min_width": null,
            "object_fit": null,
            "object_position": null,
            "order": null,
            "overflow": null,
            "overflow_x": null,
            "overflow_y": null,
            "padding": null,
            "right": null,
            "top": null,
            "visibility": null,
            "width": null
          }
        },
        "aeabe3f4c55e4b9ea547251015aafbbd": {
          "model_module": "@jupyter-widgets/controls",
          "model_name": "DescriptionStyleModel",
          "model_module_version": "1.5.0",
          "state": {
            "_model_module": "@jupyter-widgets/controls",
            "_model_module_version": "1.5.0",
            "_model_name": "DescriptionStyleModel",
            "_view_count": null,
            "_view_module": "@jupyter-widgets/base",
            "_view_module_version": "1.2.0",
            "_view_name": "StyleView",
            "description_width": ""
          }
        },
        "9e16ec9722224e66b30ab847f5ded6d4": {
          "model_module": "@jupyter-widgets/controls",
          "model_name": "HBoxModel",
          "model_module_version": "1.5.0",
          "state": {
            "_dom_classes": [],
            "_model_module": "@jupyter-widgets/controls",
            "_model_module_version": "1.5.0",
            "_model_name": "HBoxModel",
            "_view_count": null,
            "_view_module": "@jupyter-widgets/controls",
            "_view_module_version": "1.5.0",
            "_view_name": "HBoxView",
            "box_style": "",
            "children": [
              "IPY_MODEL_dc2c266b84d245f9beb2aec802c542e0",
              "IPY_MODEL_b402aa89067b44a5b888eb845c68296c",
              "IPY_MODEL_fc5ddab233294a369c3b12e5b18c267f"
            ],
            "layout": "IPY_MODEL_e56a88b3434f4beba4370f3792bccf39"
          }
        },
        "dc2c266b84d245f9beb2aec802c542e0": {
          "model_module": "@jupyter-widgets/controls",
          "model_name": "HTMLModel",
          "model_module_version": "1.5.0",
          "state": {
            "_dom_classes": [],
            "_model_module": "@jupyter-widgets/controls",
            "_model_module_version": "1.5.0",
            "_model_name": "HTMLModel",
            "_view_count": null,
            "_view_module": "@jupyter-widgets/controls",
            "_view_module_version": "1.5.0",
            "_view_name": "HTMLView",
            "description": "",
            "description_tooltip": null,
            "layout": "IPY_MODEL_cf34e8fa7e29406d840abc6fe13b70e9",
            "placeholder": "​",
            "style": "IPY_MODEL_cd8f874a553443829cdf42217dc6935d",
            "value": "Shuffling ~/tensorflow_datasets/ted_hrlr_translate/ru_to_en/1.0.0.incompletePH5Q7J/ted_hrlr_translate-test.tfrecord*...:   0%"
          }
        },
        "b402aa89067b44a5b888eb845c68296c": {
          "model_module": "@jupyter-widgets/controls",
          "model_name": "FloatProgressModel",
          "model_module_version": "1.5.0",
          "state": {
            "_dom_classes": [],
            "_model_module": "@jupyter-widgets/controls",
            "_model_module_version": "1.5.0",
            "_model_name": "FloatProgressModel",
            "_view_count": null,
            "_view_module": "@jupyter-widgets/controls",
            "_view_module_version": "1.5.0",
            "_view_name": "ProgressView",
            "bar_style": "",
            "description": "",
            "description_tooltip": null,
            "layout": "IPY_MODEL_60b7e1a6ba074f3bb98abb181a92ff18",
            "max": 5476,
            "min": 0,
            "orientation": "horizontal",
            "style": "IPY_MODEL_db0eb77d857f46c3b8d1fcc7871deedd",
            "value": 5476
          }
        },
        "fc5ddab233294a369c3b12e5b18c267f": {
          "model_module": "@jupyter-widgets/controls",
          "model_name": "HTMLModel",
          "model_module_version": "1.5.0",
          "state": {
            "_dom_classes": [],
            "_model_module": "@jupyter-widgets/controls",
            "_model_module_version": "1.5.0",
            "_model_name": "HTMLModel",
            "_view_count": null,
            "_view_module": "@jupyter-widgets/controls",
            "_view_module_version": "1.5.0",
            "_view_name": "HTMLView",
            "description": "",
            "description_tooltip": null,
            "layout": "IPY_MODEL_6b83e1f93929435695ac0044ece77bbb",
            "placeholder": "​",
            "style": "IPY_MODEL_320cbbcd99724bd48a3b82bbb3d681b0",
            "value": " 0/5476 [00:00&lt;?, ? examples/s]"
          }
        },
        "e56a88b3434f4beba4370f3792bccf39": {
          "model_module": "@jupyter-widgets/base",
          "model_name": "LayoutModel",
          "model_module_version": "1.2.0",
          "state": {
            "_model_module": "@jupyter-widgets/base",
            "_model_module_version": "1.2.0",
            "_model_name": "LayoutModel",
            "_view_count": null,
            "_view_module": "@jupyter-widgets/base",
            "_view_module_version": "1.2.0",
            "_view_name": "LayoutView",
            "align_content": null,
            "align_items": null,
            "align_self": null,
            "border": null,
            "bottom": null,
            "display": null,
            "flex": null,
            "flex_flow": null,
            "grid_area": null,
            "grid_auto_columns": null,
            "grid_auto_flow": null,
            "grid_auto_rows": null,
            "grid_column": null,
            "grid_gap": null,
            "grid_row": null,
            "grid_template_areas": null,
            "grid_template_columns": null,
            "grid_template_rows": null,
            "height": null,
            "justify_content": null,
            "justify_items": null,
            "left": null,
            "margin": null,
            "max_height": null,
            "max_width": null,
            "min_height": null,
            "min_width": null,
            "object_fit": null,
            "object_position": null,
            "order": null,
            "overflow": null,
            "overflow_x": null,
            "overflow_y": null,
            "padding": null,
            "right": null,
            "top": null,
            "visibility": "hidden",
            "width": null
          }
        },
        "cf34e8fa7e29406d840abc6fe13b70e9": {
          "model_module": "@jupyter-widgets/base",
          "model_name": "LayoutModel",
          "model_module_version": "1.2.0",
          "state": {
            "_model_module": "@jupyter-widgets/base",
            "_model_module_version": "1.2.0",
            "_model_name": "LayoutModel",
            "_view_count": null,
            "_view_module": "@jupyter-widgets/base",
            "_view_module_version": "1.2.0",
            "_view_name": "LayoutView",
            "align_content": null,
            "align_items": null,
            "align_self": null,
            "border": null,
            "bottom": null,
            "display": null,
            "flex": null,
            "flex_flow": null,
            "grid_area": null,
            "grid_auto_columns": null,
            "grid_auto_flow": null,
            "grid_auto_rows": null,
            "grid_column": null,
            "grid_gap": null,
            "grid_row": null,
            "grid_template_areas": null,
            "grid_template_columns": null,
            "grid_template_rows": null,
            "height": null,
            "justify_content": null,
            "justify_items": null,
            "left": null,
            "margin": null,
            "max_height": null,
            "max_width": null,
            "min_height": null,
            "min_width": null,
            "object_fit": null,
            "object_position": null,
            "order": null,
            "overflow": null,
            "overflow_x": null,
            "overflow_y": null,
            "padding": null,
            "right": null,
            "top": null,
            "visibility": null,
            "width": null
          }
        },
        "cd8f874a553443829cdf42217dc6935d": {
          "model_module": "@jupyter-widgets/controls",
          "model_name": "DescriptionStyleModel",
          "model_module_version": "1.5.0",
          "state": {
            "_model_module": "@jupyter-widgets/controls",
            "_model_module_version": "1.5.0",
            "_model_name": "DescriptionStyleModel",
            "_view_count": null,
            "_view_module": "@jupyter-widgets/base",
            "_view_module_version": "1.2.0",
            "_view_name": "StyleView",
            "description_width": ""
          }
        },
        "60b7e1a6ba074f3bb98abb181a92ff18": {
          "model_module": "@jupyter-widgets/base",
          "model_name": "LayoutModel",
          "model_module_version": "1.2.0",
          "state": {
            "_model_module": "@jupyter-widgets/base",
            "_model_module_version": "1.2.0",
            "_model_name": "LayoutModel",
            "_view_count": null,
            "_view_module": "@jupyter-widgets/base",
            "_view_module_version": "1.2.0",
            "_view_name": "LayoutView",
            "align_content": null,
            "align_items": null,
            "align_self": null,
            "border": null,
            "bottom": null,
            "display": null,
            "flex": null,
            "flex_flow": null,
            "grid_area": null,
            "grid_auto_columns": null,
            "grid_auto_flow": null,
            "grid_auto_rows": null,
            "grid_column": null,
            "grid_gap": null,
            "grid_row": null,
            "grid_template_areas": null,
            "grid_template_columns": null,
            "grid_template_rows": null,
            "height": null,
            "justify_content": null,
            "justify_items": null,
            "left": null,
            "margin": null,
            "max_height": null,
            "max_width": null,
            "min_height": null,
            "min_width": null,
            "object_fit": null,
            "object_position": null,
            "order": null,
            "overflow": null,
            "overflow_x": null,
            "overflow_y": null,
            "padding": null,
            "right": null,
            "top": null,
            "visibility": null,
            "width": null
          }
        },
        "db0eb77d857f46c3b8d1fcc7871deedd": {
          "model_module": "@jupyter-widgets/controls",
          "model_name": "ProgressStyleModel",
          "model_module_version": "1.5.0",
          "state": {
            "_model_module": "@jupyter-widgets/controls",
            "_model_module_version": "1.5.0",
            "_model_name": "ProgressStyleModel",
            "_view_count": null,
            "_view_module": "@jupyter-widgets/base",
            "_view_module_version": "1.2.0",
            "_view_name": "StyleView",
            "bar_color": null,
            "description_width": ""
          }
        },
        "6b83e1f93929435695ac0044ece77bbb": {
          "model_module": "@jupyter-widgets/base",
          "model_name": "LayoutModel",
          "model_module_version": "1.2.0",
          "state": {
            "_model_module": "@jupyter-widgets/base",
            "_model_module_version": "1.2.0",
            "_model_name": "LayoutModel",
            "_view_count": null,
            "_view_module": "@jupyter-widgets/base",
            "_view_module_version": "1.2.0",
            "_view_name": "LayoutView",
            "align_content": null,
            "align_items": null,
            "align_self": null,
            "border": null,
            "bottom": null,
            "display": null,
            "flex": null,
            "flex_flow": null,
            "grid_area": null,
            "grid_auto_columns": null,
            "grid_auto_flow": null,
            "grid_auto_rows": null,
            "grid_column": null,
            "grid_gap": null,
            "grid_row": null,
            "grid_template_areas": null,
            "grid_template_columns": null,
            "grid_template_rows": null,
            "height": null,
            "justify_content": null,
            "justify_items": null,
            "left": null,
            "margin": null,
            "max_height": null,
            "max_width": null,
            "min_height": null,
            "min_width": null,
            "object_fit": null,
            "object_position": null,
            "order": null,
            "overflow": null,
            "overflow_x": null,
            "overflow_y": null,
            "padding": null,
            "right": null,
            "top": null,
            "visibility": null,
            "width": null
          }
        },
        "320cbbcd99724bd48a3b82bbb3d681b0": {
          "model_module": "@jupyter-widgets/controls",
          "model_name": "DescriptionStyleModel",
          "model_module_version": "1.5.0",
          "state": {
            "_model_module": "@jupyter-widgets/controls",
            "_model_module_version": "1.5.0",
            "_model_name": "DescriptionStyleModel",
            "_view_count": null,
            "_view_module": "@jupyter-widgets/base",
            "_view_module_version": "1.2.0",
            "_view_name": "StyleView",
            "description_width": ""
          }
        }
      }
    }
  },
  "nbformat": 4,
  "nbformat_minor": 0
}